{
  "nbformat": 4,
  "nbformat_minor": 0,
  "metadata": {
    "colab": {
      "provenance": [],
      "collapsed_sections": [],
      "toc_visible": true
    },
    "kernelspec": {
      "name": "python3",
      "display_name": "Python 3"
    },
    "language_info": {
      "name": "python"
    }
  },
  "cells": [
    {
      "cell_type": "markdown",
      "source": [
        "# Выбор локации для скважины"
      ],
      "metadata": {
        "id": "iGO_jzewlnaS"
      }
    },
    {
      "cell_type": "markdown",
      "source": [
        "Мы работаем в добывающей компании «ГлавРосГосНефть». Нужно решить, где бурить новую скважину.\n",
        "\n",
        "Нам предоставлены пробы нефти в трёх регионах: в каждом 10 000 месторождений, где измерили качество нефти и объём её запасов. Нужно построить модель машинного обучения, которая поможет определить регион, где добыча принесёт наибольшую прибыль. Проанализируем возможную прибыль и риски техникой *Bootstrap.*\n",
        "\n",
        "Шаги для выбора локации:\n",
        "\n",
        "- В избранном регионе ищут месторождения, для каждого определяют значения признаков;\n",
        "- Строят модель и оценивают объём запасов;\n",
        "- Выбирают месторождения с самым высокими оценками значений. Количество месторождений зависит от бюджета компании и стоимости разработки одной скважины;\n",
        "- Прибыль равна суммарной прибыли отобранных месторождений."
      ],
      "metadata": {
        "id": "J5gKbs_Ql2fG"
      }
    },
    {
      "cell_type": "code",
      "source": [
        "!pip install optuna -q"
      ],
      "metadata": {
        "id": "kOp6bd2UmAU2"
      },
      "execution_count": 70,
      "outputs": []
    },
    {
      "cell_type": "code",
      "source": [
        "import pandas as pd\n",
        "import numpy as np\n",
        "import seaborn as sns\n",
        "import matplotlib.pyplot as plt\n",
        "\n",
        "from scipy import stats as st\n",
        "from matplotlib.collections import PathCollection  # для отображения легенды\n",
        "from matplotlib.legend_handler import HandlerPathCollection, HandlerLine2D # для отображения легенды\n",
        "from sklearn.linear_model import LinearRegression\n",
        "from sklearn.model_selection import train_test_split\n",
        "from sklearn.metrics import mean_squared_error, mean_absolute_error, mean_absolute_percentage_error, r2_score\n",
        "from sklearn.dummy import DummyRegressor\n",
        "from sklearn.model_selection import KFold\n",
        "from sklearn.preprocessing import StandardScaler\n",
        "%matplotlib inline\n",
        "\n",
        "import optuna\n",
        "from optuna.visualization.matplotlib import plot_param_importances\n",
        "from optuna.samplers import TPESampler"
      ],
      "metadata": {
        "id": "7NO1gpwImEE2"
      },
      "execution_count": 71,
      "outputs": []
    },
    {
      "cell_type": "code",
      "source": [
        "# установка параметров системы\n",
        "pd.options.display.max_columns = 100  # чтоб выводил все столбцы на экран\n",
        "pd.options.display.float_format = '{:,.2f}'.format # отображение количества знаков после запятой\n",
        "optuna.logging.set_verbosity(optuna.logging.ERROR) # убираем логи в optuna\n",
        "sns.set_style(\"darkgrid\")"
      ],
      "metadata": {
        "id": "1FBxPaDinzin"
      },
      "execution_count": 72,
      "outputs": []
    },
    {
      "cell_type": "code",
      "source": [
        "try:\n",
        "    df1 = pd.read_csv(\n",
        "        \"https://code.s3.yandex.net/datasets/geo_data_0.csv\"\n",
        "    )  # скачиваем датасет\n",
        "    df2 = pd.read_csv(\n",
        "        \"https://code.s3.yandex.net/datasets/geo_data_1.csv\"\n",
        "    )  # скачиваем датасет\n",
        "    df3 = pd.read_csv(\n",
        "        \"https://code.s3.yandex.net/datasets/geo_data_2.csv\"\n",
        "    )  # скачиваем датасет\n",
        "except:\n",
        "    print(\"ошибка связи с сетью\")\n",
        "try:\n",
        "  df1.shape # проверка на существование датасета\n",
        "except:\n",
        "  try:\n",
        "    df1 = pd.read_csv(\"/datasets/geo_data_0.csv\")  # если нет интернета\n",
        "    df2 = pd.read_csv(\"/datasets/geo_data_1.csv\")  # если нет интернета\n",
        "    df3 = pd.read_csv(\"/datasets/geo_data_2.csv\")  # если нет интернета\n",
        "  except:\n",
        "    print(\"ошибка чтения с диска\")\n"
      ],
      "metadata": {
        "id": "KQRjMa6Bn3gp"
      },
      "execution_count": 73,
      "outputs": []
    },
    {
      "cell_type": "markdown",
      "source": [
        "## Загрузка и подготовка данных"
      ],
      "metadata": {
        "id": "jKzP9NIFlrSQ"
      }
    },
    {
      "cell_type": "markdown",
      "source": [
        "### Первичное ознакомление"
      ],
      "metadata": {
        "id": "tkUgiU7v2C4q"
      }
    },
    {
      "cell_type": "markdown",
      "source": [
        "Получим общую информацию о таблице:"
      ],
      "metadata": {
        "id": "mgFYqpG1ub0Q"
      }
    },
    {
      "cell_type": "code",
      "source": [
        "df1.info()"
      ],
      "metadata": {
        "id": "7K76-p7NoVr_",
        "colab": {
          "base_uri": "https://localhost:8080/"
        },
        "outputId": "68aa6ce5-a57b-489a-921d-6e06eb3d4dc9"
      },
      "execution_count": 74,
      "outputs": [
        {
          "output_type": "stream",
          "name": "stdout",
          "text": [
            "<class 'pandas.core.frame.DataFrame'>\n",
            "RangeIndex: 100000 entries, 0 to 99999\n",
            "Data columns (total 5 columns):\n",
            " #   Column   Non-Null Count   Dtype  \n",
            "---  ------   --------------   -----  \n",
            " 0   id       100000 non-null  object \n",
            " 1   f0       100000 non-null  float64\n",
            " 2   f1       100000 non-null  float64\n",
            " 3   f2       100000 non-null  float64\n",
            " 4   product  100000 non-null  float64\n",
            "dtypes: float64(4), object(1)\n",
            "memory usage: 3.8+ MB\n"
          ]
        }
      ]
    },
    {
      "cell_type": "code",
      "source": [
        "df2.info()"
      ],
      "metadata": {
        "id": "JDD108-loYTd",
        "colab": {
          "base_uri": "https://localhost:8080/"
        },
        "outputId": "2d7368d3-34c1-4984-d5bd-ef4e78144f1e"
      },
      "execution_count": 75,
      "outputs": [
        {
          "output_type": "stream",
          "name": "stdout",
          "text": [
            "<class 'pandas.core.frame.DataFrame'>\n",
            "RangeIndex: 100000 entries, 0 to 99999\n",
            "Data columns (total 5 columns):\n",
            " #   Column   Non-Null Count   Dtype  \n",
            "---  ------   --------------   -----  \n",
            " 0   id       100000 non-null  object \n",
            " 1   f0       100000 non-null  float64\n",
            " 2   f1       100000 non-null  float64\n",
            " 3   f2       100000 non-null  float64\n",
            " 4   product  100000 non-null  float64\n",
            "dtypes: float64(4), object(1)\n",
            "memory usage: 3.8+ MB\n"
          ]
        }
      ]
    },
    {
      "cell_type": "code",
      "source": [
        "df3.info()"
      ],
      "metadata": {
        "id": "aeq-PryRoY6l",
        "colab": {
          "base_uri": "https://localhost:8080/"
        },
        "outputId": "17720c22-2cee-4264-8d18-3cc46240f5b2"
      },
      "execution_count": 76,
      "outputs": [
        {
          "output_type": "stream",
          "name": "stdout",
          "text": [
            "<class 'pandas.core.frame.DataFrame'>\n",
            "RangeIndex: 100000 entries, 0 to 99999\n",
            "Data columns (total 5 columns):\n",
            " #   Column   Non-Null Count   Dtype  \n",
            "---  ------   --------------   -----  \n",
            " 0   id       100000 non-null  object \n",
            " 1   f0       100000 non-null  float64\n",
            " 2   f1       100000 non-null  float64\n",
            " 3   f2       100000 non-null  float64\n",
            " 4   product  100000 non-null  float64\n",
            "dtypes: float64(4), object(1)\n",
            "memory usage: 3.8+ MB\n"
          ]
        }
      ]
    },
    {
      "cell_type": "markdown",
      "source": [
        "Согласно документации к данным:"
      ],
      "metadata": {
        "id": "2WPgeby7KTYh"
      }
    },
    {
      "cell_type": "markdown",
      "source": [
        "    f0, f1, f2 — три признака точек (неважно, что они означают, но сами признаки значимы);\n",
        "    product — объём запасов в скважине (тыс. баррелей)."
      ],
      "metadata": {
        "id": "X6ZBdlbVKMdi"
      }
    },
    {
      "cell_type": "markdown",
      "source": [
        "Выведем на экран первые пять строк таблиц:"
      ],
      "metadata": {
        "id": "_1mVLwfDurqC"
      }
    },
    {
      "cell_type": "code",
      "source": [
        "df1.head()"
      ],
      "metadata": {
        "id": "qQM8zt9LoQ1m",
        "colab": {
          "base_uri": "https://localhost:8080/",
          "height": 206
        },
        "outputId": "254953e6-7486-41c3-bc1b-7b06e11993f3"
      },
      "execution_count": 77,
      "outputs": [
        {
          "output_type": "execute_result",
          "data": {
            "text/plain": [
              "      id    f0    f1   f2  product\n",
              "0  txEyH  0.71 -0.50 1.22   105.28\n",
              "1  2acmU  1.33 -0.34 4.37    73.04\n",
              "2  409Wp  1.02  0.15 1.42    85.27\n",
              "3  iJLyR -0.03  0.14 2.98   168.62\n",
              "4  Xdl7t  1.99  0.16 4.75   154.04"
            ],
            "text/html": [
              "\n",
              "  <div id=\"df-512eaa0d-9659-48f0-81da-2ae56849d41e\">\n",
              "    <div class=\"colab-df-container\">\n",
              "      <div>\n",
              "<style scoped>\n",
              "    .dataframe tbody tr th:only-of-type {\n",
              "        vertical-align: middle;\n",
              "    }\n",
              "\n",
              "    .dataframe tbody tr th {\n",
              "        vertical-align: top;\n",
              "    }\n",
              "\n",
              "    .dataframe thead th {\n",
              "        text-align: right;\n",
              "    }\n",
              "</style>\n",
              "<table border=\"1\" class=\"dataframe\">\n",
              "  <thead>\n",
              "    <tr style=\"text-align: right;\">\n",
              "      <th></th>\n",
              "      <th>id</th>\n",
              "      <th>f0</th>\n",
              "      <th>f1</th>\n",
              "      <th>f2</th>\n",
              "      <th>product</th>\n",
              "    </tr>\n",
              "  </thead>\n",
              "  <tbody>\n",
              "    <tr>\n",
              "      <th>0</th>\n",
              "      <td>txEyH</td>\n",
              "      <td>0.71</td>\n",
              "      <td>-0.50</td>\n",
              "      <td>1.22</td>\n",
              "      <td>105.28</td>\n",
              "    </tr>\n",
              "    <tr>\n",
              "      <th>1</th>\n",
              "      <td>2acmU</td>\n",
              "      <td>1.33</td>\n",
              "      <td>-0.34</td>\n",
              "      <td>4.37</td>\n",
              "      <td>73.04</td>\n",
              "    </tr>\n",
              "    <tr>\n",
              "      <th>2</th>\n",
              "      <td>409Wp</td>\n",
              "      <td>1.02</td>\n",
              "      <td>0.15</td>\n",
              "      <td>1.42</td>\n",
              "      <td>85.27</td>\n",
              "    </tr>\n",
              "    <tr>\n",
              "      <th>3</th>\n",
              "      <td>iJLyR</td>\n",
              "      <td>-0.03</td>\n",
              "      <td>0.14</td>\n",
              "      <td>2.98</td>\n",
              "      <td>168.62</td>\n",
              "    </tr>\n",
              "    <tr>\n",
              "      <th>4</th>\n",
              "      <td>Xdl7t</td>\n",
              "      <td>1.99</td>\n",
              "      <td>0.16</td>\n",
              "      <td>4.75</td>\n",
              "      <td>154.04</td>\n",
              "    </tr>\n",
              "  </tbody>\n",
              "</table>\n",
              "</div>\n",
              "      <button class=\"colab-df-convert\" onclick=\"convertToInteractive('df-512eaa0d-9659-48f0-81da-2ae56849d41e')\"\n",
              "              title=\"Convert this dataframe to an interactive table.\"\n",
              "              style=\"display:none;\">\n",
              "        \n",
              "  <svg xmlns=\"http://www.w3.org/2000/svg\" height=\"24px\"viewBox=\"0 0 24 24\"\n",
              "       width=\"24px\">\n",
              "    <path d=\"M0 0h24v24H0V0z\" fill=\"none\"/>\n",
              "    <path d=\"M18.56 5.44l.94 2.06.94-2.06 2.06-.94-2.06-.94-.94-2.06-.94 2.06-2.06.94zm-11 1L8.5 8.5l.94-2.06 2.06-.94-2.06-.94L8.5 2.5l-.94 2.06-2.06.94zm10 10l.94 2.06.94-2.06 2.06-.94-2.06-.94-.94-2.06-.94 2.06-2.06.94z\"/><path d=\"M17.41 7.96l-1.37-1.37c-.4-.4-.92-.59-1.43-.59-.52 0-1.04.2-1.43.59L10.3 9.45l-7.72 7.72c-.78.78-.78 2.05 0 2.83L4 21.41c.39.39.9.59 1.41.59.51 0 1.02-.2 1.41-.59l7.78-7.78 2.81-2.81c.8-.78.8-2.07 0-2.86zM5.41 20L4 18.59l7.72-7.72 1.47 1.35L5.41 20z\"/>\n",
              "  </svg>\n",
              "      </button>\n",
              "      \n",
              "  <style>\n",
              "    .colab-df-container {\n",
              "      display:flex;\n",
              "      flex-wrap:wrap;\n",
              "      gap: 12px;\n",
              "    }\n",
              "\n",
              "    .colab-df-convert {\n",
              "      background-color: #E8F0FE;\n",
              "      border: none;\n",
              "      border-radius: 50%;\n",
              "      cursor: pointer;\n",
              "      display: none;\n",
              "      fill: #1967D2;\n",
              "      height: 32px;\n",
              "      padding: 0 0 0 0;\n",
              "      width: 32px;\n",
              "    }\n",
              "\n",
              "    .colab-df-convert:hover {\n",
              "      background-color: #E2EBFA;\n",
              "      box-shadow: 0px 1px 2px rgba(60, 64, 67, 0.3), 0px 1px 3px 1px rgba(60, 64, 67, 0.15);\n",
              "      fill: #174EA6;\n",
              "    }\n",
              "\n",
              "    [theme=dark] .colab-df-convert {\n",
              "      background-color: #3B4455;\n",
              "      fill: #D2E3FC;\n",
              "    }\n",
              "\n",
              "    [theme=dark] .colab-df-convert:hover {\n",
              "      background-color: #434B5C;\n",
              "      box-shadow: 0px 1px 3px 1px rgba(0, 0, 0, 0.15);\n",
              "      filter: drop-shadow(0px 1px 2px rgba(0, 0, 0, 0.3));\n",
              "      fill: #FFFFFF;\n",
              "    }\n",
              "  </style>\n",
              "\n",
              "      <script>\n",
              "        const buttonEl =\n",
              "          document.querySelector('#df-512eaa0d-9659-48f0-81da-2ae56849d41e button.colab-df-convert');\n",
              "        buttonEl.style.display =\n",
              "          google.colab.kernel.accessAllowed ? 'block' : 'none';\n",
              "\n",
              "        async function convertToInteractive(key) {\n",
              "          const element = document.querySelector('#df-512eaa0d-9659-48f0-81da-2ae56849d41e');\n",
              "          const dataTable =\n",
              "            await google.colab.kernel.invokeFunction('convertToInteractive',\n",
              "                                                     [key], {});\n",
              "          if (!dataTable) return;\n",
              "\n",
              "          const docLinkHtml = 'Like what you see? Visit the ' +\n",
              "            '<a target=\"_blank\" href=https://colab.research.google.com/notebooks/data_table.ipynb>data table notebook</a>'\n",
              "            + ' to learn more about interactive tables.';\n",
              "          element.innerHTML = '';\n",
              "          dataTable['output_type'] = 'display_data';\n",
              "          await google.colab.output.renderOutput(dataTable, element);\n",
              "          const docLink = document.createElement('div');\n",
              "          docLink.innerHTML = docLinkHtml;\n",
              "          element.appendChild(docLink);\n",
              "        }\n",
              "      </script>\n",
              "    </div>\n",
              "  </div>\n",
              "  "
            ]
          },
          "metadata": {},
          "execution_count": 77
        }
      ]
    },
    {
      "cell_type": "code",
      "source": [
        "df2.head()"
      ],
      "metadata": {
        "id": "s4VWO3bnoTB3",
        "colab": {
          "base_uri": "https://localhost:8080/",
          "height": 206
        },
        "outputId": "dd074497-62f5-467f-a39a-bbcefb6c1357"
      },
      "execution_count": 78,
      "outputs": [
        {
          "output_type": "execute_result",
          "data": {
            "text/plain": [
              "      id     f0     f1    f2  product\n",
              "0  kBEdx -15.00  -8.28 -0.01     3.18\n",
              "1  62mP7  14.27  -3.48  1.00    26.95\n",
              "2  vyE1P   6.26  -5.95  5.00   134.77\n",
              "3  KcrkZ -13.08 -11.51  5.00   137.95\n",
              "4  AHL4O  12.70  -8.15  5.00   134.77"
            ],
            "text/html": [
              "\n",
              "  <div id=\"df-d8cd42cb-5db9-4031-b0e5-56486b076633\">\n",
              "    <div class=\"colab-df-container\">\n",
              "      <div>\n",
              "<style scoped>\n",
              "    .dataframe tbody tr th:only-of-type {\n",
              "        vertical-align: middle;\n",
              "    }\n",
              "\n",
              "    .dataframe tbody tr th {\n",
              "        vertical-align: top;\n",
              "    }\n",
              "\n",
              "    .dataframe thead th {\n",
              "        text-align: right;\n",
              "    }\n",
              "</style>\n",
              "<table border=\"1\" class=\"dataframe\">\n",
              "  <thead>\n",
              "    <tr style=\"text-align: right;\">\n",
              "      <th></th>\n",
              "      <th>id</th>\n",
              "      <th>f0</th>\n",
              "      <th>f1</th>\n",
              "      <th>f2</th>\n",
              "      <th>product</th>\n",
              "    </tr>\n",
              "  </thead>\n",
              "  <tbody>\n",
              "    <tr>\n",
              "      <th>0</th>\n",
              "      <td>kBEdx</td>\n",
              "      <td>-15.00</td>\n",
              "      <td>-8.28</td>\n",
              "      <td>-0.01</td>\n",
              "      <td>3.18</td>\n",
              "    </tr>\n",
              "    <tr>\n",
              "      <th>1</th>\n",
              "      <td>62mP7</td>\n",
              "      <td>14.27</td>\n",
              "      <td>-3.48</td>\n",
              "      <td>1.00</td>\n",
              "      <td>26.95</td>\n",
              "    </tr>\n",
              "    <tr>\n",
              "      <th>2</th>\n",
              "      <td>vyE1P</td>\n",
              "      <td>6.26</td>\n",
              "      <td>-5.95</td>\n",
              "      <td>5.00</td>\n",
              "      <td>134.77</td>\n",
              "    </tr>\n",
              "    <tr>\n",
              "      <th>3</th>\n",
              "      <td>KcrkZ</td>\n",
              "      <td>-13.08</td>\n",
              "      <td>-11.51</td>\n",
              "      <td>5.00</td>\n",
              "      <td>137.95</td>\n",
              "    </tr>\n",
              "    <tr>\n",
              "      <th>4</th>\n",
              "      <td>AHL4O</td>\n",
              "      <td>12.70</td>\n",
              "      <td>-8.15</td>\n",
              "      <td>5.00</td>\n",
              "      <td>134.77</td>\n",
              "    </tr>\n",
              "  </tbody>\n",
              "</table>\n",
              "</div>\n",
              "      <button class=\"colab-df-convert\" onclick=\"convertToInteractive('df-d8cd42cb-5db9-4031-b0e5-56486b076633')\"\n",
              "              title=\"Convert this dataframe to an interactive table.\"\n",
              "              style=\"display:none;\">\n",
              "        \n",
              "  <svg xmlns=\"http://www.w3.org/2000/svg\" height=\"24px\"viewBox=\"0 0 24 24\"\n",
              "       width=\"24px\">\n",
              "    <path d=\"M0 0h24v24H0V0z\" fill=\"none\"/>\n",
              "    <path d=\"M18.56 5.44l.94 2.06.94-2.06 2.06-.94-2.06-.94-.94-2.06-.94 2.06-2.06.94zm-11 1L8.5 8.5l.94-2.06 2.06-.94-2.06-.94L8.5 2.5l-.94 2.06-2.06.94zm10 10l.94 2.06.94-2.06 2.06-.94-2.06-.94-.94-2.06-.94 2.06-2.06.94z\"/><path d=\"M17.41 7.96l-1.37-1.37c-.4-.4-.92-.59-1.43-.59-.52 0-1.04.2-1.43.59L10.3 9.45l-7.72 7.72c-.78.78-.78 2.05 0 2.83L4 21.41c.39.39.9.59 1.41.59.51 0 1.02-.2 1.41-.59l7.78-7.78 2.81-2.81c.8-.78.8-2.07 0-2.86zM5.41 20L4 18.59l7.72-7.72 1.47 1.35L5.41 20z\"/>\n",
              "  </svg>\n",
              "      </button>\n",
              "      \n",
              "  <style>\n",
              "    .colab-df-container {\n",
              "      display:flex;\n",
              "      flex-wrap:wrap;\n",
              "      gap: 12px;\n",
              "    }\n",
              "\n",
              "    .colab-df-convert {\n",
              "      background-color: #E8F0FE;\n",
              "      border: none;\n",
              "      border-radius: 50%;\n",
              "      cursor: pointer;\n",
              "      display: none;\n",
              "      fill: #1967D2;\n",
              "      height: 32px;\n",
              "      padding: 0 0 0 0;\n",
              "      width: 32px;\n",
              "    }\n",
              "\n",
              "    .colab-df-convert:hover {\n",
              "      background-color: #E2EBFA;\n",
              "      box-shadow: 0px 1px 2px rgba(60, 64, 67, 0.3), 0px 1px 3px 1px rgba(60, 64, 67, 0.15);\n",
              "      fill: #174EA6;\n",
              "    }\n",
              "\n",
              "    [theme=dark] .colab-df-convert {\n",
              "      background-color: #3B4455;\n",
              "      fill: #D2E3FC;\n",
              "    }\n",
              "\n",
              "    [theme=dark] .colab-df-convert:hover {\n",
              "      background-color: #434B5C;\n",
              "      box-shadow: 0px 1px 3px 1px rgba(0, 0, 0, 0.15);\n",
              "      filter: drop-shadow(0px 1px 2px rgba(0, 0, 0, 0.3));\n",
              "      fill: #FFFFFF;\n",
              "    }\n",
              "  </style>\n",
              "\n",
              "      <script>\n",
              "        const buttonEl =\n",
              "          document.querySelector('#df-d8cd42cb-5db9-4031-b0e5-56486b076633 button.colab-df-convert');\n",
              "        buttonEl.style.display =\n",
              "          google.colab.kernel.accessAllowed ? 'block' : 'none';\n",
              "\n",
              "        async function convertToInteractive(key) {\n",
              "          const element = document.querySelector('#df-d8cd42cb-5db9-4031-b0e5-56486b076633');\n",
              "          const dataTable =\n",
              "            await google.colab.kernel.invokeFunction('convertToInteractive',\n",
              "                                                     [key], {});\n",
              "          if (!dataTable) return;\n",
              "\n",
              "          const docLinkHtml = 'Like what you see? Visit the ' +\n",
              "            '<a target=\"_blank\" href=https://colab.research.google.com/notebooks/data_table.ipynb>data table notebook</a>'\n",
              "            + ' to learn more about interactive tables.';\n",
              "          element.innerHTML = '';\n",
              "          dataTable['output_type'] = 'display_data';\n",
              "          await google.colab.output.renderOutput(dataTable, element);\n",
              "          const docLink = document.createElement('div');\n",
              "          docLink.innerHTML = docLinkHtml;\n",
              "          element.appendChild(docLink);\n",
              "        }\n",
              "      </script>\n",
              "    </div>\n",
              "  </div>\n",
              "  "
            ]
          },
          "metadata": {},
          "execution_count": 78
        }
      ]
    },
    {
      "cell_type": "code",
      "source": [
        "df3.head()"
      ],
      "metadata": {
        "id": "TWChNdyBoUEn",
        "colab": {
          "base_uri": "https://localhost:8080/",
          "height": 206
        },
        "outputId": "20a37fdf-96d8-4a3a-f7b7-5b0fc4dac0f9"
      },
      "execution_count": 79,
      "outputs": [
        {
          "output_type": "execute_result",
          "data": {
            "text/plain": [
              "      id    f0    f1    f2  product\n",
              "0  fwXo0 -1.15  0.96 -0.83    27.76\n",
              "1  WJtFt  0.26  0.27 -2.53    56.07\n",
              "2  ovLUW  0.19  0.29 -5.59    62.87\n",
              "3  q6cA6  2.24 -0.55  0.93   114.57\n",
              "4  WPMUX -0.52  1.72  5.90   149.60"
            ],
            "text/html": [
              "\n",
              "  <div id=\"df-8b093bcb-8afb-4d0f-9a7a-cd69de585514\">\n",
              "    <div class=\"colab-df-container\">\n",
              "      <div>\n",
              "<style scoped>\n",
              "    .dataframe tbody tr th:only-of-type {\n",
              "        vertical-align: middle;\n",
              "    }\n",
              "\n",
              "    .dataframe tbody tr th {\n",
              "        vertical-align: top;\n",
              "    }\n",
              "\n",
              "    .dataframe thead th {\n",
              "        text-align: right;\n",
              "    }\n",
              "</style>\n",
              "<table border=\"1\" class=\"dataframe\">\n",
              "  <thead>\n",
              "    <tr style=\"text-align: right;\">\n",
              "      <th></th>\n",
              "      <th>id</th>\n",
              "      <th>f0</th>\n",
              "      <th>f1</th>\n",
              "      <th>f2</th>\n",
              "      <th>product</th>\n",
              "    </tr>\n",
              "  </thead>\n",
              "  <tbody>\n",
              "    <tr>\n",
              "      <th>0</th>\n",
              "      <td>fwXo0</td>\n",
              "      <td>-1.15</td>\n",
              "      <td>0.96</td>\n",
              "      <td>-0.83</td>\n",
              "      <td>27.76</td>\n",
              "    </tr>\n",
              "    <tr>\n",
              "      <th>1</th>\n",
              "      <td>WJtFt</td>\n",
              "      <td>0.26</td>\n",
              "      <td>0.27</td>\n",
              "      <td>-2.53</td>\n",
              "      <td>56.07</td>\n",
              "    </tr>\n",
              "    <tr>\n",
              "      <th>2</th>\n",
              "      <td>ovLUW</td>\n",
              "      <td>0.19</td>\n",
              "      <td>0.29</td>\n",
              "      <td>-5.59</td>\n",
              "      <td>62.87</td>\n",
              "    </tr>\n",
              "    <tr>\n",
              "      <th>3</th>\n",
              "      <td>q6cA6</td>\n",
              "      <td>2.24</td>\n",
              "      <td>-0.55</td>\n",
              "      <td>0.93</td>\n",
              "      <td>114.57</td>\n",
              "    </tr>\n",
              "    <tr>\n",
              "      <th>4</th>\n",
              "      <td>WPMUX</td>\n",
              "      <td>-0.52</td>\n",
              "      <td>1.72</td>\n",
              "      <td>5.90</td>\n",
              "      <td>149.60</td>\n",
              "    </tr>\n",
              "  </tbody>\n",
              "</table>\n",
              "</div>\n",
              "      <button class=\"colab-df-convert\" onclick=\"convertToInteractive('df-8b093bcb-8afb-4d0f-9a7a-cd69de585514')\"\n",
              "              title=\"Convert this dataframe to an interactive table.\"\n",
              "              style=\"display:none;\">\n",
              "        \n",
              "  <svg xmlns=\"http://www.w3.org/2000/svg\" height=\"24px\"viewBox=\"0 0 24 24\"\n",
              "       width=\"24px\">\n",
              "    <path d=\"M0 0h24v24H0V0z\" fill=\"none\"/>\n",
              "    <path d=\"M18.56 5.44l.94 2.06.94-2.06 2.06-.94-2.06-.94-.94-2.06-.94 2.06-2.06.94zm-11 1L8.5 8.5l.94-2.06 2.06-.94-2.06-.94L8.5 2.5l-.94 2.06-2.06.94zm10 10l.94 2.06.94-2.06 2.06-.94-2.06-.94-.94-2.06-.94 2.06-2.06.94z\"/><path d=\"M17.41 7.96l-1.37-1.37c-.4-.4-.92-.59-1.43-.59-.52 0-1.04.2-1.43.59L10.3 9.45l-7.72 7.72c-.78.78-.78 2.05 0 2.83L4 21.41c.39.39.9.59 1.41.59.51 0 1.02-.2 1.41-.59l7.78-7.78 2.81-2.81c.8-.78.8-2.07 0-2.86zM5.41 20L4 18.59l7.72-7.72 1.47 1.35L5.41 20z\"/>\n",
              "  </svg>\n",
              "      </button>\n",
              "      \n",
              "  <style>\n",
              "    .colab-df-container {\n",
              "      display:flex;\n",
              "      flex-wrap:wrap;\n",
              "      gap: 12px;\n",
              "    }\n",
              "\n",
              "    .colab-df-convert {\n",
              "      background-color: #E8F0FE;\n",
              "      border: none;\n",
              "      border-radius: 50%;\n",
              "      cursor: pointer;\n",
              "      display: none;\n",
              "      fill: #1967D2;\n",
              "      height: 32px;\n",
              "      padding: 0 0 0 0;\n",
              "      width: 32px;\n",
              "    }\n",
              "\n",
              "    .colab-df-convert:hover {\n",
              "      background-color: #E2EBFA;\n",
              "      box-shadow: 0px 1px 2px rgba(60, 64, 67, 0.3), 0px 1px 3px 1px rgba(60, 64, 67, 0.15);\n",
              "      fill: #174EA6;\n",
              "    }\n",
              "\n",
              "    [theme=dark] .colab-df-convert {\n",
              "      background-color: #3B4455;\n",
              "      fill: #D2E3FC;\n",
              "    }\n",
              "\n",
              "    [theme=dark] .colab-df-convert:hover {\n",
              "      background-color: #434B5C;\n",
              "      box-shadow: 0px 1px 3px 1px rgba(0, 0, 0, 0.15);\n",
              "      filter: drop-shadow(0px 1px 2px rgba(0, 0, 0, 0.3));\n",
              "      fill: #FFFFFF;\n",
              "    }\n",
              "  </style>\n",
              "\n",
              "      <script>\n",
              "        const buttonEl =\n",
              "          document.querySelector('#df-8b093bcb-8afb-4d0f-9a7a-cd69de585514 button.colab-df-convert');\n",
              "        buttonEl.style.display =\n",
              "          google.colab.kernel.accessAllowed ? 'block' : 'none';\n",
              "\n",
              "        async function convertToInteractive(key) {\n",
              "          const element = document.querySelector('#df-8b093bcb-8afb-4d0f-9a7a-cd69de585514');\n",
              "          const dataTable =\n",
              "            await google.colab.kernel.invokeFunction('convertToInteractive',\n",
              "                                                     [key], {});\n",
              "          if (!dataTable) return;\n",
              "\n",
              "          const docLinkHtml = 'Like what you see? Visit the ' +\n",
              "            '<a target=\"_blank\" href=https://colab.research.google.com/notebooks/data_table.ipynb>data table notebook</a>'\n",
              "            + ' to learn more about interactive tables.';\n",
              "          element.innerHTML = '';\n",
              "          dataTable['output_type'] = 'display_data';\n",
              "          await google.colab.output.renderOutput(dataTable, element);\n",
              "          const docLink = document.createElement('div');\n",
              "          docLink.innerHTML = docLinkHtml;\n",
              "          element.appendChild(docLink);\n",
              "        }\n",
              "      </script>\n",
              "    </div>\n",
              "  </div>\n",
              "  "
            ]
          },
          "metadata": {},
          "execution_count": 79
        }
      ]
    },
    {
      "cell_type": "markdown",
      "source": [
        "Данные синтетические: детали контрактов и характеристики месторождений не разглашаются. Что подразумевают под собой признаки f1,f2,f0 мы не можем узнать. Поэтому в своих действиях относительно анализа мы ограничены."
      ],
      "metadata": {
        "id": "x1dPNxJB49pT"
      }
    },
    {
      "cell_type": "markdown",
      "source": [
        "Создадим переменную, где будут храниться все таблицы с данными."
      ],
      "metadata": {
        "id": "rfkJ8kAEucaQ"
      }
    },
    {
      "cell_type": "code",
      "source": [
        "dfs = [df1,df2,df3]"
      ],
      "metadata": {
        "id": "2RO_p2kLvjow"
      },
      "execution_count": 80,
      "outputs": []
    },
    {
      "cell_type": "markdown",
      "source": [
        "Посмотрим на распределения значений внутри таблиц:"
      ],
      "metadata": {
        "id": "hrzVbiL0vn-o"
      }
    },
    {
      "cell_type": "code",
      "source": [
        "fig, ax = plt.subplots(figsize=(17,6))\n",
        "df1.hist(    bins=50, figsize=(20, 15), edgecolor=\"black\", linewidth=2, ax=ax)\n",
        "plt.suptitle(\"Распределение значений признаков первого региона\")\n",
        "plt.show()"
      ],
      "metadata": {
        "id": "WtejuhaExP2J",
        "colab": {
          "base_uri": "https://localhost:8080/",
          "height": 455
        },
        "outputId": "b2b4b307-7f4d-42a4-c7a9-74446264c060"
      },
      "execution_count": 81,
      "outputs": [
        {
          "output_type": "stream",
          "name": "stderr",
          "text": [
            "/usr/local/lib/python3.7/dist-packages/ipykernel_launcher.py:2: UserWarning: To output multiple subplots, the figure containing the passed axes is being cleared\n",
            "  \n"
          ]
        },
        {
          "output_type": "display_data",
          "data": {
            "text/plain": [
              "<Figure size 1224x432 with 4 Axes>"
            ],
            "image/png": "[encoded data removed]"
          },
          "metadata": {}
        }
      ]
    },
    {
      "cell_type": "code",
      "source": [
        "fig, ax = plt.subplots(figsize=(17,6))\n",
        "df2.hist(    bins=50, figsize=(20, 15), edgecolor=\"black\", linewidth=2, ax=ax)\n",
        "fig.suptitle(\"Распределение значений признаков второго региона\")\n",
        "plt.show()"
      ],
      "metadata": {
        "id": "dhZ-If49xHWw",
        "colab": {
          "base_uri": "https://localhost:8080/",
          "height": 455
        },
        "outputId": "635ee20e-d8f7-488c-c11e-2a628d6c63e9"
      },
      "execution_count": 82,
      "outputs": [
        {
          "output_type": "stream",
          "name": "stderr",
          "text": [
            "/usr/local/lib/python3.7/dist-packages/ipykernel_launcher.py:2: UserWarning: To output multiple subplots, the figure containing the passed axes is being cleared\n",
            "  \n"
          ]
        },
        {
          "output_type": "display_data",
          "data": {
            "text/plain": [
              "<Figure size 1224x432 with 4 Axes>"
            ],
            "image/png": "[encoded data removed]"
          },
          "metadata": {}
        }
      ]
    },
    {
      "cell_type": "code",
      "source": [
        "fig, ax = plt.subplots(figsize=(17,6))\n",
        "df3.hist(    bins=50, figsize=(20, 15), edgecolor=\"black\", linewidth=2, ax=ax)\n",
        "plt.suptitle(\"Распределение значений признаков третьего региона\")\n",
        "plt.show()"
      ],
      "metadata": {
        "id": "pZOc3AOOxIVg",
        "colab": {
          "base_uri": "https://localhost:8080/",
          "height": 455
        },
        "outputId": "27ab94ef-c9ca-4743-e6c5-017ca15b0211"
      },
      "execution_count": 83,
      "outputs": [
        {
          "output_type": "stream",
          "name": "stderr",
          "text": [
            "/usr/local/lib/python3.7/dist-packages/ipykernel_launcher.py:2: UserWarning: To output multiple subplots, the figure containing the passed axes is being cleared\n",
            "  \n"
          ]
        },
        {
          "output_type": "display_data",
          "data": {
            "text/plain": [
              "<Figure size 1224x432 with 4 Axes>"
            ],
            "image/png": "[encoded data removed]"
          },
          "metadata": {}
        }
      ]
    },
    {
      "cell_type": "markdown",
      "source": [
        "Заметно, что распределение значений объёма запасов в скважине во втором регионе сильно отличается от распределений запасов в двух остальных регионах."
      ],
      "metadata": {
        "id": "a0HznWHa0fTk"
      }
    },
    {
      "cell_type": "markdown",
      "source": [
        "Посмотрим характеристики значений:"
      ],
      "metadata": {
        "id": "M5B4PHJt1LLp"
      }
    },
    {
      "cell_type": "code",
      "source": [
        "for x in dfs:\n",
        "  display(x.describe())\n",
        "  print()"
      ],
      "metadata": {
        "id": "IgtL5EwgKvoh",
        "colab": {
          "base_uri": "https://localhost:8080/",
          "height": 919
        },
        "outputId": "5702a1f5-c73c-44d9-f647-1318d433630a"
      },
      "execution_count": 84,
      "outputs": [
        {
          "output_type": "display_data",
          "data": {
            "text/plain": [
              "              f0         f1         f2    product\n",
              "count 100,000.00 100,000.00 100,000.00 100,000.00\n",
              "mean        0.50       0.25       2.50      92.50\n",
              "std         0.87       0.50       3.25      44.29\n",
              "min        -1.41      -0.85     -12.09       0.00\n",
              "25%        -0.07      -0.20       0.29      56.50\n",
              "50%         0.50       0.25       2.52      91.85\n",
              "75%         1.07       0.70       4.72     128.56\n",
              "max         2.36       1.34      16.00     185.36"
            ],
            "text/html": [
              "\n",
              "  <div id=\"df-3067b592-e39b-4367-afc0-4592ab541742\">\n",
              "    <div class=\"colab-df-container\">\n",
              "      <div>\n",
              "<style scoped>\n",
              "    .dataframe tbody tr th:only-of-type {\n",
              "        vertical-align: middle;\n",
              "    }\n",
              "\n",
              "    .dataframe tbody tr th {\n",
              "        vertical-align: top;\n",
              "    }\n",
              "\n",
              "    .dataframe thead th {\n",
              "        text-align: right;\n",
              "    }\n",
              "</style>\n",
              "<table border=\"1\" class=\"dataframe\">\n",
              "  <thead>\n",
              "    <tr style=\"text-align: right;\">\n",
              "      <th></th>\n",
              "      <th>f0</th>\n",
              "      <th>f1</th>\n",
              "      <th>f2</th>\n",
              "      <th>product</th>\n",
              "    </tr>\n",
              "  </thead>\n",
              "  <tbody>\n",
              "    <tr>\n",
              "      <th>count</th>\n",
              "      <td>100,000.00</td>\n",
              "      <td>100,000.00</td>\n",
              "      <td>100,000.00</td>\n",
              "      <td>100,000.00</td>\n",
              "    </tr>\n",
              "    <tr>\n",
              "      <th>mean</th>\n",
              "      <td>0.50</td>\n",
              "      <td>0.25</td>\n",
              "      <td>2.50</td>\n",
              "      <td>92.50</td>\n",
              "    </tr>\n",
              "    <tr>\n",
              "      <th>std</th>\n",
              "      <td>0.87</td>\n",
              "      <td>0.50</td>\n",
              "      <td>3.25</td>\n",
              "      <td>44.29</td>\n",
              "    </tr>\n",
              "    <tr>\n",
              "      <th>min</th>\n",
              "      <td>-1.41</td>\n",
              "      <td>-0.85</td>\n",
              "      <td>-12.09</td>\n",
              "      <td>0.00</td>\n",
              "    </tr>\n",
              "    <tr>\n",
              "      <th>25%</th>\n",
              "      <td>-0.07</td>\n",
              "      <td>-0.20</td>\n",
              "      <td>0.29</td>\n",
              "      <td>56.50</td>\n",
              "    </tr>\n",
              "    <tr>\n",
              "      <th>50%</th>\n",
              "      <td>0.50</td>\n",
              "      <td>0.25</td>\n",
              "      <td>2.52</td>\n",
              "      <td>91.85</td>\n",
              "    </tr>\n",
              "    <tr>\n",
              "      <th>75%</th>\n",
              "      <td>1.07</td>\n",
              "      <td>0.70</td>\n",
              "      <td>4.72</td>\n",
              "      <td>128.56</td>\n",
              "    </tr>\n",
              "    <tr>\n",
              "      <th>max</th>\n",
              "      <td>2.36</td>\n",
              "      <td>1.34</td>\n",
              "      <td>16.00</td>\n",
              "      <td>185.36</td>\n",
              "    </tr>\n",
              "  </tbody>\n",
              "</table>\n",
              "</div>\n",
              "      <button class=\"colab-df-convert\" onclick=\"convertToInteractive('df-3067b592-e39b-4367-afc0-4592ab541742')\"\n",
              "              title=\"Convert this dataframe to an interactive table.\"\n",
              "              style=\"display:none;\">\n",
              "        \n",
              "  <svg xmlns=\"http://www.w3.org/2000/svg\" height=\"24px\"viewBox=\"0 0 24 24\"\n",
              "       width=\"24px\">\n",
              "    <path d=\"M0 0h24v24H0V0z\" fill=\"none\"/>\n",
              "    <path d=\"M18.56 5.44l.94 2.06.94-2.06 2.06-.94-2.06-.94-.94-2.06-.94 2.06-2.06.94zm-11 1L8.5 8.5l.94-2.06 2.06-.94-2.06-.94L8.5 2.5l-.94 2.06-2.06.94zm10 10l.94 2.06.94-2.06 2.06-.94-2.06-.94-.94-2.06-.94 2.06-2.06.94z\"/><path d=\"M17.41 7.96l-1.37-1.37c-.4-.4-.92-.59-1.43-.59-.52 0-1.04.2-1.43.59L10.3 9.45l-7.72 7.72c-.78.78-.78 2.05 0 2.83L4 21.41c.39.39.9.59 1.41.59.51 0 1.02-.2 1.41-.59l7.78-7.78 2.81-2.81c.8-.78.8-2.07 0-2.86zM5.41 20L4 18.59l7.72-7.72 1.47 1.35L5.41 20z\"/>\n",
              "  </svg>\n",
              "      </button>\n",
              "      \n",
              "  <style>\n",
              "    .colab-df-container {\n",
              "      display:flex;\n",
              "      flex-wrap:wrap;\n",
              "      gap: 12px;\n",
              "    }\n",
              "\n",
              "    .colab-df-convert {\n",
              "      background-color: #E8F0FE;\n",
              "      border: none;\n",
              "      border-radius: 50%;\n",
              "      cursor: pointer;\n",
              "      display: none;\n",
              "      fill: #1967D2;\n",
              "      height: 32px;\n",
              "      padding: 0 0 0 0;\n",
              "      width: 32px;\n",
              "    }\n",
              "\n",
              "    .colab-df-convert:hover {\n",
              "      background-color: #E2EBFA;\n",
              "      box-shadow: 0px 1px 2px rgba(60, 64, 67, 0.3), 0px 1px 3px 1px rgba(60, 64, 67, 0.15);\n",
              "      fill: #174EA6;\n",
              "    }\n",
              "\n",
              "    [theme=dark] .colab-df-convert {\n",
              "      background-color: #3B4455;\n",
              "      fill: #D2E3FC;\n",
              "    }\n",
              "\n",
              "    [theme=dark] .colab-df-convert:hover {\n",
              "      background-color: #434B5C;\n",
              "      box-shadow: 0px 1px 3px 1px rgba(0, 0, 0, 0.15);\n",
              "      filter: drop-shadow(0px 1px 2px rgba(0, 0, 0, 0.3));\n",
              "      fill: #FFFFFF;\n",
              "    }\n",
              "  </style>\n",
              "\n",
              "      <script>\n",
              "        const buttonEl =\n",
              "          document.querySelector('#df-3067b592-e39b-4367-afc0-4592ab541742 button.colab-df-convert');\n",
              "        buttonEl.style.display =\n",
              "          google.colab.kernel.accessAllowed ? 'block' : 'none';\n",
              "\n",
              "        async function convertToInteractive(key) {\n",
              "          const element = document.querySelector('#df-3067b592-e39b-4367-afc0-4592ab541742');\n",
              "          const dataTable =\n",
              "            await google.colab.kernel.invokeFunction('convertToInteractive',\n",
              "                                                     [key], {});\n",
              "          if (!dataTable) return;\n",
              "\n",
              "          const docLinkHtml = 'Like what you see? Visit the ' +\n",
              "            '<a target=\"_blank\" href=https://colab.research.google.com/notebooks/data_table.ipynb>data table notebook</a>'\n",
              "            + ' to learn more about interactive tables.';\n",
              "          element.innerHTML = '';\n",
              "          dataTable['output_type'] = 'display_data';\n",
              "          await google.colab.output.renderOutput(dataTable, element);\n",
              "          const docLink = document.createElement('div');\n",
              "          docLink.innerHTML = docLinkHtml;\n",
              "          element.appendChild(docLink);\n",
              "        }\n",
              "      </script>\n",
              "    </div>\n",
              "  </div>\n",
              "  "
            ]
          },
          "metadata": {}
        },
        {
          "output_type": "stream",
          "name": "stdout",
          "text": [
            "\n"
          ]
        },
        {
          "output_type": "display_data",
          "data": {
            "text/plain": [
              "              f0         f1         f2    product\n",
              "count 100,000.00 100,000.00 100,000.00 100,000.00\n",
              "mean        1.14      -4.80       2.49      68.83\n",
              "std         8.97       5.12       1.70      45.94\n",
              "min       -31.61     -26.36      -0.02       0.00\n",
              "25%        -6.30      -8.27       1.00      26.95\n",
              "50%         1.15      -4.81       2.01      57.09\n",
              "75%         8.62      -1.33       4.00     107.81\n",
              "max        29.42      18.73       5.02     137.95"
            ],
            "text/html": [
              "\n",
              "  <div id=\"df-e692a087-4f4f-4d1c-bc8c-bd37d5a1be5c\">\n",
              "    <div class=\"colab-df-container\">\n",
              "      <div>\n",
              "<style scoped>\n",
              "    .dataframe tbody tr th:only-of-type {\n",
              "        vertical-align: middle;\n",
              "    }\n",
              "\n",
              "    .dataframe tbody tr th {\n",
              "        vertical-align: top;\n",
              "    }\n",
              "\n",
              "    .dataframe thead th {\n",
              "        text-align: right;\n",
              "    }\n",
              "</style>\n",
              "<table border=\"1\" class=\"dataframe\">\n",
              "  <thead>\n",
              "    <tr style=\"text-align: right;\">\n",
              "      <th></th>\n",
              "      <th>f0</th>\n",
              "      <th>f1</th>\n",
              "      <th>f2</th>\n",
              "      <th>product</th>\n",
              "    </tr>\n",
              "  </thead>\n",
              "  <tbody>\n",
              "    <tr>\n",
              "      <th>count</th>\n",
              "      <td>100,000.00</td>\n",
              "      <td>100,000.00</td>\n",
              "      <td>100,000.00</td>\n",
              "      <td>100,000.00</td>\n",
              "    </tr>\n",
              "    <tr>\n",
              "      <th>mean</th>\n",
              "      <td>1.14</td>\n",
              "      <td>-4.80</td>\n",
              "      <td>2.49</td>\n",
              "      <td>68.83</td>\n",
              "    </tr>\n",
              "    <tr>\n",
              "      <th>std</th>\n",
              "      <td>8.97</td>\n",
              "      <td>5.12</td>\n",
              "      <td>1.70</td>\n",
              "      <td>45.94</td>\n",
              "    </tr>\n",
              "    <tr>\n",
              "      <th>min</th>\n",
              "      <td>-31.61</td>\n",
              "      <td>-26.36</td>\n",
              "      <td>-0.02</td>\n",
              "      <td>0.00</td>\n",
              "    </tr>\n",
              "    <tr>\n",
              "      <th>25%</th>\n",
              "      <td>-6.30</td>\n",
              "      <td>-8.27</td>\n",
              "      <td>1.00</td>\n",
              "      <td>26.95</td>\n",
              "    </tr>\n",
              "    <tr>\n",
              "      <th>50%</th>\n",
              "      <td>1.15</td>\n",
              "      <td>-4.81</td>\n",
              "      <td>2.01</td>\n",
              "      <td>57.09</td>\n",
              "    </tr>\n",
              "    <tr>\n",
              "      <th>75%</th>\n",
              "      <td>8.62</td>\n",
              "      <td>-1.33</td>\n",
              "      <td>4.00</td>\n",
              "      <td>107.81</td>\n",
              "    </tr>\n",
              "    <tr>\n",
              "      <th>max</th>\n",
              "      <td>29.42</td>\n",
              "      <td>18.73</td>\n",
              "      <td>5.02</td>\n",
              "      <td>137.95</td>\n",
              "    </tr>\n",
              "  </tbody>\n",
              "</table>\n",
              "</div>\n",
              "      <button class=\"colab-df-convert\" onclick=\"convertToInteractive('df-e692a087-4f4f-4d1c-bc8c-bd37d5a1be5c')\"\n",
              "              title=\"Convert this dataframe to an interactive table.\"\n",
              "              style=\"display:none;\">\n",
              "        \n",
              "  <svg xmlns=\"http://www.w3.org/2000/svg\" height=\"24px\"viewBox=\"0 0 24 24\"\n",
              "       width=\"24px\">\n",
              "    <path d=\"M0 0h24v24H0V0z\" fill=\"none\"/>\n",
              "    <path d=\"M18.56 5.44l.94 2.06.94-2.06 2.06-.94-2.06-.94-.94-2.06-.94 2.06-2.06.94zm-11 1L8.5 8.5l.94-2.06 2.06-.94-2.06-.94L8.5 2.5l-.94 2.06-2.06.94zm10 10l.94 2.06.94-2.06 2.06-.94-2.06-.94-.94-2.06-.94 2.06-2.06.94z\"/><path d=\"M17.41 7.96l-1.37-1.37c-.4-.4-.92-.59-1.43-.59-.52 0-1.04.2-1.43.59L10.3 9.45l-7.72 7.72c-.78.78-.78 2.05 0 2.83L4 21.41c.39.39.9.59 1.41.59.51 0 1.02-.2 1.41-.59l7.78-7.78 2.81-2.81c.8-.78.8-2.07 0-2.86zM5.41 20L4 18.59l7.72-7.72 1.47 1.35L5.41 20z\"/>\n",
              "  </svg>\n",
              "      </button>\n",
              "      \n",
              "  <style>\n",
              "    .colab-df-container {\n",
              "      display:flex;\n",
              "      flex-wrap:wrap;\n",
              "      gap: 12px;\n",
              "    }\n",
              "\n",
              "    .colab-df-convert {\n",
              "      background-color: #E8F0FE;\n",
              "      border: none;\n",
              "      border-radius: 50%;\n",
              "      cursor: pointer;\n",
              "      display: none;\n",
              "      fill: #1967D2;\n",
              "      height: 32px;\n",
              "      padding: 0 0 0 0;\n",
              "      width: 32px;\n",
              "    }\n",
              "\n",
              "    .colab-df-convert:hover {\n",
              "      background-color: #E2EBFA;\n",
              "      box-shadow: 0px 1px 2px rgba(60, 64, 67, 0.3), 0px 1px 3px 1px rgba(60, 64, 67, 0.15);\n",
              "      fill: #174EA6;\n",
              "    }\n",
              "\n",
              "    [theme=dark] .colab-df-convert {\n",
              "      background-color: #3B4455;\n",
              "      fill: #D2E3FC;\n",
              "    }\n",
              "\n",
              "    [theme=dark] .colab-df-convert:hover {\n",
              "      background-color: #434B5C;\n",
              "      box-shadow: 0px 1px 3px 1px rgba(0, 0, 0, 0.15);\n",
              "      filter: drop-shadow(0px 1px 2px rgba(0, 0, 0, 0.3));\n",
              "      fill: #FFFFFF;\n",
              "    }\n",
              "  </style>\n",
              "\n",
              "      <script>\n",
              "        const buttonEl =\n",
              "          document.querySelector('#df-e692a087-4f4f-4d1c-bc8c-bd37d5a1be5c button.colab-df-convert');\n",
              "        buttonEl.style.display =\n",
              "          google.colab.kernel.accessAllowed ? 'block' : 'none';\n",
              "\n",
              "        async function convertToInteractive(key) {\n",
              "          const element = document.querySelector('#df-e692a087-4f4f-4d1c-bc8c-bd37d5a1be5c');\n",
              "          const dataTable =\n",
              "            await google.colab.kernel.invokeFunction('convertToInteractive',\n",
              "                                                     [key], {});\n",
              "          if (!dataTable) return;\n",
              "\n",
              "          const docLinkHtml = 'Like what you see? Visit the ' +\n",
              "            '<a target=\"_blank\" href=https://colab.research.google.com/notebooks/data_table.ipynb>data table notebook</a>'\n",
              "            + ' to learn more about interactive tables.';\n",
              "          element.innerHTML = '';\n",
              "          dataTable['output_type'] = 'display_data';\n",
              "          await google.colab.output.renderOutput(dataTable, element);\n",
              "          const docLink = document.createElement('div');\n",
              "          docLink.innerHTML = docLinkHtml;\n",
              "          element.appendChild(docLink);\n",
              "        }\n",
              "      </script>\n",
              "    </div>\n",
              "  </div>\n",
              "  "
            ]
          },
          "metadata": {}
        },
        {
          "output_type": "stream",
          "name": "stdout",
          "text": [
            "\n"
          ]
        },
        {
          "output_type": "display_data",
          "data": {
            "text/plain": [
              "              f0         f1         f2    product\n",
              "count 100,000.00 100,000.00 100,000.00 100,000.00\n",
              "mean        0.00      -0.00       2.50      95.00\n",
              "std         1.73       1.73       3.47      44.75\n",
              "min        -8.76      -7.08     -11.97       0.00\n",
              "25%        -1.16      -1.17       0.13      59.45\n",
              "50%         0.01      -0.01       2.48      94.93\n",
              "75%         1.16       1.16       4.86     130.60\n",
              "max         7.24       7.84      16.74     190.03"
            ],
            "text/html": [
              "\n",
              "  <div id=\"df-f2382bc0-0b06-4a90-b8f3-c87e6178e759\">\n",
              "    <div class=\"colab-df-container\">\n",
              "      <div>\n",
              "<style scoped>\n",
              "    .dataframe tbody tr th:only-of-type {\n",
              "        vertical-align: middle;\n",
              "    }\n",
              "\n",
              "    .dataframe tbody tr th {\n",
              "        vertical-align: top;\n",
              "    }\n",
              "\n",
              "    .dataframe thead th {\n",
              "        text-align: right;\n",
              "    }\n",
              "</style>\n",
              "<table border=\"1\" class=\"dataframe\">\n",
              "  <thead>\n",
              "    <tr style=\"text-align: right;\">\n",
              "      <th></th>\n",
              "      <th>f0</th>\n",
              "      <th>f1</th>\n",
              "      <th>f2</th>\n",
              "      <th>product</th>\n",
              "    </tr>\n",
              "  </thead>\n",
              "  <tbody>\n",
              "    <tr>\n",
              "      <th>count</th>\n",
              "      <td>100,000.00</td>\n",
              "      <td>100,000.00</td>\n",
              "      <td>100,000.00</td>\n",
              "      <td>100,000.00</td>\n",
              "    </tr>\n",
              "    <tr>\n",
              "      <th>mean</th>\n",
              "      <td>0.00</td>\n",
              "      <td>-0.00</td>\n",
              "      <td>2.50</td>\n",
              "      <td>95.00</td>\n",
              "    </tr>\n",
              "    <tr>\n",
              "      <th>std</th>\n",
              "      <td>1.73</td>\n",
              "      <td>1.73</td>\n",
              "      <td>3.47</td>\n",
              "      <td>44.75</td>\n",
              "    </tr>\n",
              "    <tr>\n",
              "      <th>min</th>\n",
              "      <td>-8.76</td>\n",
              "      <td>-7.08</td>\n",
              "      <td>-11.97</td>\n",
              "      <td>0.00</td>\n",
              "    </tr>\n",
              "    <tr>\n",
              "      <th>25%</th>\n",
              "      <td>-1.16</td>\n",
              "      <td>-1.17</td>\n",
              "      <td>0.13</td>\n",
              "      <td>59.45</td>\n",
              "    </tr>\n",
              "    <tr>\n",
              "      <th>50%</th>\n",
              "      <td>0.01</td>\n",
              "      <td>-0.01</td>\n",
              "      <td>2.48</td>\n",
              "      <td>94.93</td>\n",
              "    </tr>\n",
              "    <tr>\n",
              "      <th>75%</th>\n",
              "      <td>1.16</td>\n",
              "      <td>1.16</td>\n",
              "      <td>4.86</td>\n",
              "      <td>130.60</td>\n",
              "    </tr>\n",
              "    <tr>\n",
              "      <th>max</th>\n",
              "      <td>7.24</td>\n",
              "      <td>7.84</td>\n",
              "      <td>16.74</td>\n",
              "      <td>190.03</td>\n",
              "    </tr>\n",
              "  </tbody>\n",
              "</table>\n",
              "</div>\n",
              "      <button class=\"colab-df-convert\" onclick=\"convertToInteractive('df-f2382bc0-0b06-4a90-b8f3-c87e6178e759')\"\n",
              "              title=\"Convert this dataframe to an interactive table.\"\n",
              "              style=\"display:none;\">\n",
              "        \n",
              "  <svg xmlns=\"http://www.w3.org/2000/svg\" height=\"24px\"viewBox=\"0 0 24 24\"\n",
              "       width=\"24px\">\n",
              "    <path d=\"M0 0h24v24H0V0z\" fill=\"none\"/>\n",
              "    <path d=\"M18.56 5.44l.94 2.06.94-2.06 2.06-.94-2.06-.94-.94-2.06-.94 2.06-2.06.94zm-11 1L8.5 8.5l.94-2.06 2.06-.94-2.06-.94L8.5 2.5l-.94 2.06-2.06.94zm10 10l.94 2.06.94-2.06 2.06-.94-2.06-.94-.94-2.06-.94 2.06-2.06.94z\"/><path d=\"M17.41 7.96l-1.37-1.37c-.4-.4-.92-.59-1.43-.59-.52 0-1.04.2-1.43.59L10.3 9.45l-7.72 7.72c-.78.78-.78 2.05 0 2.83L4 21.41c.39.39.9.59 1.41.59.51 0 1.02-.2 1.41-.59l7.78-7.78 2.81-2.81c.8-.78.8-2.07 0-2.86zM5.41 20L4 18.59l7.72-7.72 1.47 1.35L5.41 20z\"/>\n",
              "  </svg>\n",
              "      </button>\n",
              "      \n",
              "  <style>\n",
              "    .colab-df-container {\n",
              "      display:flex;\n",
              "      flex-wrap:wrap;\n",
              "      gap: 12px;\n",
              "    }\n",
              "\n",
              "    .colab-df-convert {\n",
              "      background-color: #E8F0FE;\n",
              "      border: none;\n",
              "      border-radius: 50%;\n",
              "      cursor: pointer;\n",
              "      display: none;\n",
              "      fill: #1967D2;\n",
              "      height: 32px;\n",
              "      padding: 0 0 0 0;\n",
              "      width: 32px;\n",
              "    }\n",
              "\n",
              "    .colab-df-convert:hover {\n",
              "      background-color: #E2EBFA;\n",
              "      box-shadow: 0px 1px 2px rgba(60, 64, 67, 0.3), 0px 1px 3px 1px rgba(60, 64, 67, 0.15);\n",
              "      fill: #174EA6;\n",
              "    }\n",
              "\n",
              "    [theme=dark] .colab-df-convert {\n",
              "      background-color: #3B4455;\n",
              "      fill: #D2E3FC;\n",
              "    }\n",
              "\n",
              "    [theme=dark] .colab-df-convert:hover {\n",
              "      background-color: #434B5C;\n",
              "      box-shadow: 0px 1px 3px 1px rgba(0, 0, 0, 0.15);\n",
              "      filter: drop-shadow(0px 1px 2px rgba(0, 0, 0, 0.3));\n",
              "      fill: #FFFFFF;\n",
              "    }\n",
              "  </style>\n",
              "\n",
              "      <script>\n",
              "        const buttonEl =\n",
              "          document.querySelector('#df-f2382bc0-0b06-4a90-b8f3-c87e6178e759 button.colab-df-convert');\n",
              "        buttonEl.style.display =\n",
              "          google.colab.kernel.accessAllowed ? 'block' : 'none';\n",
              "\n",
              "        async function convertToInteractive(key) {\n",
              "          const element = document.querySelector('#df-f2382bc0-0b06-4a90-b8f3-c87e6178e759');\n",
              "          const dataTable =\n",
              "            await google.colab.kernel.invokeFunction('convertToInteractive',\n",
              "                                                     [key], {});\n",
              "          if (!dataTable) return;\n",
              "\n",
              "          const docLinkHtml = 'Like what you see? Visit the ' +\n",
              "            '<a target=\"_blank\" href=https://colab.research.google.com/notebooks/data_table.ipynb>data table notebook</a>'\n",
              "            + ' to learn more about interactive tables.';\n",
              "          element.innerHTML = '';\n",
              "          dataTable['output_type'] = 'display_data';\n",
              "          await google.colab.output.renderOutput(dataTable, element);\n",
              "          const docLink = document.createElement('div');\n",
              "          docLink.innerHTML = docLinkHtml;\n",
              "          element.appendChild(docLink);\n",
              "        }\n",
              "      </script>\n",
              "    </div>\n",
              "  </div>\n",
              "  "
            ]
          },
          "metadata": {}
        },
        {
          "output_type": "stream",
          "name": "stdout",
          "text": [
            "\n"
          ]
        }
      ]
    },
    {
      "cell_type": "markdown",
      "source": [
        "Среднее значение объёма запасов в скважине в третьем регионе наиболее высокое. Среднее значение признака f2 почти одинаково во всех регионах."
      ],
      "metadata": {
        "id": "O4XiChd61KWK"
      }
    },
    {
      "cell_type": "markdown",
      "source": [
        "### Проверка явных дубликатов"
      ],
      "metadata": {
        "id": "EfhSk8M7nyfu"
      }
    },
    {
      "cell_type": "code",
      "source": [
        "for x in dfs:\n",
        "  print(x.duplicated().sum())"
      ],
      "metadata": {
        "id": "BCBoECiInzL-",
        "colab": {
          "base_uri": "https://localhost:8080/"
        },
        "outputId": "58b49ded-ce0f-4787-f06b-61449158cbb5"
      },
      "execution_count": 85,
      "outputs": [
        {
          "output_type": "stream",
          "name": "stdout",
          "text": [
            "0\n",
            "0\n",
            "0\n"
          ]
        }
      ]
    },
    {
      "cell_type": "markdown",
      "source": [
        "Явные дубликаты не обнаружены."
      ],
      "metadata": {
        "id": "b9LCc5bYxHav"
      }
    },
    {
      "cell_type": "markdown",
      "source": [
        "Проверим корреляцию признаков таблицы:"
      ],
      "metadata": {
        "id": "udthPgm66t87"
      }
    },
    {
      "cell_type": "code",
      "source": [
        "fig, ax = plt.subplots(figsize=(10,7))\n",
        "sns.heatmap(data=df1.corr().round(2), annot=True,ax=ax, vmax=1, vmin=0, cmap=\"Greens\")\n",
        "plt.show()"
      ],
      "metadata": {
        "id": "NoTdZW9ZsvqQ",
        "colab": {
          "base_uri": "https://localhost:8080/",
          "height": 435
        },
        "outputId": "41e4c801-5c89-46f8-91af-7d92a22131bd"
      },
      "execution_count": 86,
      "outputs": [
        {
          "output_type": "display_data",
          "data": {
            "text/plain": [
              "<Figure size 720x504 with 2 Axes>"
            ],
            "image/png": "[encoded data removed]"
          },
          "metadata": {}
        }
      ]
    },
    {
      "cell_type": "code",
      "source": [
        "fig, ax = plt.subplots(figsize=(10,7))\n",
        "sns.heatmap(data=df2.corr().round(2), annot=True,ax=ax, vmax=1, vmin=0, cmap=\"Greens\")\n",
        "plt.show()"
      ],
      "metadata": {
        "id": "Y5-ygbGFsxFP",
        "colab": {
          "base_uri": "https://localhost:8080/",
          "height": 435
        },
        "outputId": "6d25baf5-bda5-43a0-f112-04c18905c588"
      },
      "execution_count": 87,
      "outputs": [
        {
          "output_type": "display_data",
          "data": {
            "text/plain": [
              "<Figure size 720x504 with 2 Axes>"
            ],
            "image/png": "[encoded data removed]"
          },
          "metadata": {}
        }
      ]
    },
    {
      "cell_type": "code",
      "source": [
        "fig, ax = plt.subplots(figsize=(10,7))\n",
        "sns.heatmap(data=df3.corr().round(2), annot=True,ax=ax, vmax=1, vmin=0, cmap=\"Greens\")\n",
        "plt.show()"
      ],
      "metadata": {
        "id": "sZvZoW7Ts-YO",
        "colab": {
          "base_uri": "https://localhost:8080/",
          "height": 435
        },
        "outputId": "bf09a2c2-2931-453f-d00c-7ebf29461871"
      },
      "execution_count": 88,
      "outputs": [
        {
          "output_type": "display_data",
          "data": {
            "text/plain": [
              "<Figure size 720x504 with 2 Axes>"
            ],
            "image/png": "[encoded data removed]"
          },
          "metadata": {}
        }
      ]
    },
    {
      "cell_type": "markdown",
      "source": [
        "В первом и третьем регионе заметна корреляция средней выраженности между признаком f2 и целевым признаком, а во втором регионе коэффициент Пирсона равен 1, что означает, что эти признаки полностью взаимосвязаны. Так как мы имеем сильные отличия корреляций в регионах, это больше похоже на странность. <a id='corr'></a>    "
      ],
      "metadata": {
        "id": "c1In9GRw-s0Z"
      }
    },
    {
      "cell_type": "markdown",
      "source": [
        "### Проверка неявных дубликатов"
      ],
      "metadata": {
        "id": "VH0X_6DDrY86"
      }
    },
    {
      "cell_type": "code",
      "source": [
        "df1['product'].duplicated().sum()"
      ],
      "metadata": {
        "id": "Y-pJBjmjrum5",
        "colab": {
          "base_uri": "https://localhost:8080/"
        },
        "outputId": "c7c77029-3e76-48c1-e681-0ebb819e1b56"
      },
      "execution_count": 89,
      "outputs": [
        {
          "output_type": "execute_result",
          "data": {
            "text/plain": [
              "0"
            ]
          },
          "metadata": {},
          "execution_count": 89
        }
      ]
    },
    {
      "cell_type": "code",
      "source": [
        "for x in range(len(dfs)):\n",
        "  for i in df1.columns:\n",
        "    print(f'В датасете {x+1} признак {i} имеет {dfs[x][i].duplicated().sum()} дубликатов')"
      ],
      "metadata": {
        "id": "39pm9PzOrfDf",
        "colab": {
          "base_uri": "https://localhost:8080/"
        },
        "outputId": "80b215d5-64f4-4fb1-c382-04ef659e225e"
      },
      "execution_count": 90,
      "outputs": [
        {
          "output_type": "stream",
          "name": "stdout",
          "text": [
            "В датасете 1 признак id имеет 10 дубликатов\n",
            "В датасете 1 признак f0 имеет 0 дубликатов\n",
            "В датасете 1 признак f1 имеет 0 дубликатов\n",
            "В датасете 1 признак f2 имеет 0 дубликатов\n",
            "В датасете 1 признак product имеет 0 дубликатов\n",
            "В датасете 2 признак id имеет 4 дубликатов\n",
            "В датасете 2 признак f0 имеет 0 дубликатов\n",
            "В датасете 2 признак f1 имеет 0 дубликатов\n",
            "В датасете 2 признак f2 имеет 0 дубликатов\n",
            "В датасете 2 признак product имеет 99988 дубликатов\n",
            "В датасете 3 признак id имеет 4 дубликатов\n",
            "В датасете 3 признак f0 имеет 0 дубликатов\n",
            "В датасете 3 признак f1 имеет 0 дубликатов\n",
            "В датасете 3 признак f2 имеет 0 дубликатов\n",
            "В датасете 3 признак product имеет 0 дубликатов\n"
          ]
        }
      ]
    },
    {
      "cell_type": "markdown",
      "source": [
        "Удивительно много(10%) дубликатов значений столбца `product` во второй таблице. Для определения причин появления их необходимо провести разъяснительную беседу с ответственными за выгрузку данных или принять за факт, что данные синтетические и списать странности на это."
      ],
      "metadata": {
        "id": "uoQ_YK8ZzKtu"
      }
    },
    {
      "cell_type": "markdown",
      "source": [
        "Удалим строки в которых есть дубликаты идентификатора скважины, чтобы при дальнейшем моделировании выручки не взять данные из одной скважины более одного раза. Усредним признаки по этим скважинам:"
      ],
      "metadata": {
        "id": "snExHJge82QS"
      }
    },
    {
      "cell_type": "code",
      "source": [
        "for x in dfs:\n",
        "  x = x.groupby(['id'],sort=False, as_index=False).agg('mean')"
      ],
      "metadata": {
        "id": "IvVaNvFw__MG"
      },
      "execution_count": 91,
      "outputs": []
    },
    {
      "cell_type": "markdown",
      "source": [
        "### Работа с пропусками"
      ],
      "metadata": {
        "id": "tqhKJNoavedI"
      }
    },
    {
      "cell_type": "markdown",
      "source": [
        "Посмотрим, есть ли пропуски в данных:"
      ],
      "metadata": {
        "id": "39GbtwZG7WpT"
      }
    },
    {
      "cell_type": "code",
      "source": [
        "for x in dfs:\n",
        "  print(x.isna().sum())\n",
        "  print()"
      ],
      "metadata": {
        "id": "qb1ypUfj2bUa",
        "colab": {
          "base_uri": "https://localhost:8080/"
        },
        "outputId": "2c3aba12-8eee-4a8b-dfc1-5e1e3785de87"
      },
      "execution_count": 92,
      "outputs": [
        {
          "output_type": "stream",
          "name": "stdout",
          "text": [
            "id         0\n",
            "f0         0\n",
            "f1         0\n",
            "f2         0\n",
            "product    0\n",
            "dtype: int64\n",
            "\n",
            "id         0\n",
            "f0         0\n",
            "f1         0\n",
            "f2         0\n",
            "product    0\n",
            "dtype: int64\n",
            "\n",
            "id         0\n",
            "f0         0\n",
            "f1         0\n",
            "f2         0\n",
            "product    0\n",
            "dtype: int64\n",
            "\n"
          ]
        }
      ]
    },
    {
      "cell_type": "markdown",
      "source": [
        "Пропуски не обнаружены."
      ],
      "metadata": {
        "id": "vOqmcLYE7XFs"
      }
    },
    {
      "cell_type": "markdown",
      "source": [
        "### Изменение типа данных\n"
      ],
      "metadata": {
        "id": "a4891eH3v3Tp"
      }
    },
    {
      "cell_type": "markdown",
      "source": [
        "Проверим тип данных в таблицах:"
      ],
      "metadata": {
        "id": "-W0mIn_Y2L1x"
      }
    },
    {
      "cell_type": "code",
      "source": [
        "for x in dfs:\n",
        "  display(x.dtypes)\n",
        "  print()"
      ],
      "metadata": {
        "id": "BLdcLC6V2Pcx",
        "colab": {
          "base_uri": "https://localhost:8080/",
          "height": 382
        },
        "outputId": "7c88276f-dda0-4b0a-d4a7-695e9ebd0787"
      },
      "execution_count": 93,
      "outputs": [
        {
          "output_type": "display_data",
          "data": {
            "text/plain": [
              "id          object\n",
              "f0         float64\n",
              "f1         float64\n",
              "f2         float64\n",
              "product    float64\n",
              "dtype: object"
            ]
          },
          "metadata": {}
        },
        {
          "output_type": "stream",
          "name": "stdout",
          "text": [
            "\n"
          ]
        },
        {
          "output_type": "display_data",
          "data": {
            "text/plain": [
              "id          object\n",
              "f0         float64\n",
              "f1         float64\n",
              "f2         float64\n",
              "product    float64\n",
              "dtype: object"
            ]
          },
          "metadata": {}
        },
        {
          "output_type": "stream",
          "name": "stdout",
          "text": [
            "\n"
          ]
        },
        {
          "output_type": "display_data",
          "data": {
            "text/plain": [
              "id          object\n",
              "f0         float64\n",
              "f1         float64\n",
              "f2         float64\n",
              "product    float64\n",
              "dtype: object"
            ]
          },
          "metadata": {}
        },
        {
          "output_type": "stream",
          "name": "stdout",
          "text": [
            "\n"
          ]
        }
      ]
    },
    {
      "cell_type": "markdown",
      "source": [
        "Уменьшим битность данных, для ускорения работы с таблицами:"
      ],
      "metadata": {
        "id": "wVoQtglf2clY"
      }
    },
    {
      "cell_type": "code",
      "source": [
        "for x in dfs:\n",
        "  for i in x.select_dtypes(include=[\"float64\"]).columns.tolist():\n",
        "    x[i] = x[i].astype(np.float32)\n",
        "  print(x.dtypes)\n",
        "  print()"
      ],
      "metadata": {
        "id": "1HpTkgjY2YhJ",
        "colab": {
          "base_uri": "https://localhost:8080/"
        },
        "outputId": "6cc82430-ba5d-4252-f458-42d7cb7ef24d"
      },
      "execution_count": 94,
      "outputs": [
        {
          "output_type": "stream",
          "name": "stdout",
          "text": [
            "id          object\n",
            "f0         float32\n",
            "f1         float32\n",
            "f2         float32\n",
            "product    float32\n",
            "dtype: object\n",
            "\n",
            "id          object\n",
            "f0         float32\n",
            "f1         float32\n",
            "f2         float32\n",
            "product    float32\n",
            "dtype: object\n",
            "\n",
            "id          object\n",
            "f0         float32\n",
            "f1         float32\n",
            "f2         float32\n",
            "product    float32\n",
            "dtype: object\n",
            "\n"
          ]
        }
      ]
    },
    {
      "cell_type": "markdown",
      "source": [
        "### Очистка неиспользуемых данных"
      ],
      "metadata": {
        "id": "ZPWrjE6axS3w"
      }
    },
    {
      "cell_type": "markdown",
      "source": [
        "Удалим столбец в таблицах не несущий смысла:"
      ],
      "metadata": {
        "id": "C8k4xdg27v17"
      }
    },
    {
      "cell_type": "code",
      "source": [
        "for x in dfs:\n",
        "  del x[\"id\"]"
      ],
      "metadata": {
        "id": "5GoCNWcnxTkY"
      },
      "execution_count": 95,
      "outputs": []
    },
    {
      "cell_type": "markdown",
      "source": [
        "**Вывод**\n",
        "\n",
        "По итогу, мы имеем три таблицы с тремя признаками точек для потенциальной разработки скважин и с вероятно истинными значениями объемами нефти в них.\n",
        "На этих данных мы будем обучать наши модели.\n",
        "\n",
        "В таблицах было немного повторений по `id` скважинам. Это связано с тем, что данные брались несколько раз из одних и тех же скважин. Были удалены задвоения проб с этих скважин.\n",
        "От столбца `id` мы избавились. При обучении моделей он будет бесполезен.\n",
        "\n",
        "Чтобы ускорить работу с таблицей, мы уменьшили битность для числовых данных. \n",
        "\n",
        "Данные по второму региону имеют странное распределение значений, отличное от других регионов. Очень сильную корреляцию признаков и неестественное задублирование значений.\n",
        "Для определения причин появления их необходимо провести разъяснительную беседу с ответственными за выгрузку данных или списать все странности на то, что данные синтетические.\n",
        "Сделаем предположение, что с данными всё в порядке и проведем обучение моделей.\n",
        "\n"
      ],
      "metadata": {
        "id": "tcIRvZawL-j7"
      }
    },
    {
      "cell_type": "markdown",
      "source": [
        "## Обучение и проверка модели"
      ],
      "metadata": {
        "id": "CmhU7z6tltRf"
      }
    },
    {
      "cell_type": "markdown",
      "source": [
        "Объявим переменные:"
      ],
      "metadata": {
        "id": "M-j4sQL8x6MA"
      }
    },
    {
      "cell_type": "code",
      "source": [
        "folds = 5  # количество выборок при к-в\n",
        "trials = 6  # количество итераций для оптимизации\n",
        "rstate = 12345\n",
        "sampler = TPESampler(\n",
        "    seed=10\n",
        ")  # фиксируем псевдослучайность для оптимизатора чтобы получить воспроизводимый эксперимент.\n",
        "algorithms = [\n",
        "    LinearRegression()]  # применяемые модели\n",
        "algorithms_names = [\n",
        "    \"LinearRegression\"    ]  # названия моделей"
      ],
      "metadata": {
        "id": "qZsAb-Jpx6Ag"
      },
      "execution_count": 96,
      "outputs": []
    },
    {
      "cell_type": "markdown",
      "metadata": {
        "id": "QsfSVF58Zgr4"
      },
      "source": [
        "Создадим функцию, которая переберет гиперпараметры для модели:"
      ]
    },
    {
      "cell_type": "code",
      "source": [
        "# целевая функция\n",
        "def objective(trial, x, m):\n",
        "  if m == LinearRegression:  # сделал условие, чтобы потом добавить и другие модели для оптимизации\n",
        "    param_grid = {\n",
        "        \"fit_intercept\": trial.suggest_categorical(\"fit_intercept\", [False, True]),\n",
        "        \"positive\": trial.suggest_categorical(       \"positive\", [False, True]        ),\n",
        "        \"copy_X\": trial.suggest_categorical(       \"copy_X\", [False, True]        ),\n",
        "\n",
        "    }\n",
        "    cv = KFold(n_splits=folds, shuffle=True, random_state=rstate)\n",
        "    features = x.drop(columns='product', axis=1) # отбираем фичи\n",
        "    target = x['product']  #  назначем целевой признак\n",
        "    X_train, X_test, y_train, y_test = train_test_split(features,target,  train_size=0.75, random_state=rstate) # разбиваем выборки на тренировочные и проверочные данные\n",
        "    scaler = StandardScaler()\n",
        "    scaler.fit(X_train)\n",
        "    X_train = pd.DataFrame(scaler.transform(X_train)) # масштабируем признаки\n",
        "    X_test = pd.DataFrame(scaler.transform(X_test)) # масштабируем признаки\n",
        "    cv_predicts = []\n",
        "    for idx, (train_idx, test_idx) in enumerate(cv.split(X_train, y_train)): # блок кроссвалидации\n",
        "        X_trainCV, X_testCV = X_train.iloc[train_idx], X_train.iloc[test_idx]\n",
        "        y_trainCV, y_testCV = y_train.iloc[train_idx], y_train.iloc[test_idx]\n",
        "        model = m( **param_grid)\n",
        "        model.fit(X_trainCV, y_trainCV)\n",
        "        preds = model.predict(X_testCV)\n",
        "        cv_predicts.append(mean_squared_error(y_testCV, preds, squared=False))\n",
        "\n",
        "    return np.mean(cv_predicts)"
      ],
      "metadata": {
        "id": "u7Rg4bjOIi5-"
      },
      "execution_count": 97,
      "outputs": []
    },
    {
      "cell_type": "markdown",
      "source": [
        "Далее сделаем функцию, которая сохранит результаты оптимальной модели:"
      ],
      "metadata": {
        "id": "Ljep_WadJ-Vl"
      }
    },
    {
      "cell_type": "code",
      "execution_count": 98,
      "metadata": {
        "id": "mzSvyW7L2cgm"
      },
      "outputs": [],
      "source": [
        "def lets_predict(x):\n",
        "\n",
        "  for n in range(len(algorithms)):  \n",
        "    \n",
        "    study = optuna.create_study(    direction=\"minimize\", study_name=\"LinearReg\", sampler=sampler)  # устанавливаем задачу получения минимального значения метрики от созданной функции.\n",
        "    func = lambda trial: objective( trial, x, LinearRegression)  # закидываем на вход датасет и модель\n",
        "    study.optimize(    func, n_trials=6, show_progress_bar=False)  # запускаем оптимизатор\n",
        "    #  разбиваем на выборки датасет\n",
        "    features = x.drop(columns='product', axis=1) # отбираем фичи\n",
        "    target = x['product']  #  назначем целевой признак\n",
        "    X_train, X_test, y_train, y_test = train_test_split(features,target,  train_size=0.75, random_state=rstate) # разбиваем выборки на тренировочные и проверочные данные\n",
        "    scaler = StandardScaler()\n",
        "    scaler.fit(X_train)\n",
        "    X_train = pd.DataFrame(scaler.transform(X_train)) # масштабируем признаки\n",
        "    X_test = pd.DataFrame(scaler.transform(X_test)) # масштабируем признаки\n",
        "\n",
        "    model = LinearRegression( **study.best_params) #  создаем модель с лучшими подобранными оптимизатором параметрами\n",
        "    model.fit(X_train, y_train)        #  обучаем модель\n",
        "    preds = model.predict(X_train)\n",
        "    df_report = pd.DataFrame( index = pd.MultiIndex.from_product([algorithms_names, [\"train\", \"test\"]], names=[\"model\", \"data\"]))  # создаем таблицу для заноса метрик\n",
        "    #  заносим в таблицу метрики для трен данных\n",
        "    df_report.loc[(algorithms_names[n],'train'), \"mae\"] = mean_absolute_error(y_train, preds)\n",
        "    df_report.loc[(algorithms_names[n],'train'), \"r2\"] = r2_score(y_train, preds)\n",
        "    df_report.loc[(algorithms_names[n],'train'), \"rmse\"] = mean_squared_error(y_train, preds, squared=False)\n",
        "    df_report.loc[(algorithms_names[n],'train'), \"mean_pred\"] = np.mean(preds)\n",
        "    df_report.loc[(algorithms_names[n],'train'), \"mean_true\"] = np.mean(y_train)\n",
        "    preds = model.predict(X_test)\n",
        "    #  заносим в таблицу метрики для проверочных данных\n",
        "    df_report.loc[(algorithms_names[n],'test'), \"mae\"] = mean_absolute_error(y_test, preds)\n",
        "    df_report.loc[(algorithms_names[n],'test'), \"r2\"] = r2_score(y_test, preds)\n",
        "    df_report.loc[(algorithms_names[n],'test'), \"rmse\"] = mean_squared_error(y_test, preds, squared=False)\n",
        "    df_report.loc[(algorithms_names[n],'test'), \"mean_pred\"] = np.mean(preds)\n",
        "    df_report.loc[(algorithms_names[n],'test'), \"mean_true\"] = np.mean(y_test)\n",
        "    df_preds = pd.DataFrame()  # создаем таблицу для предсказаний и настоящих значений\n",
        "    df_preds['true_value'] = y_test\n",
        "    df_preds['predicted'] = preds\n",
        "\n",
        "  return df_report, model, df_preds"
      ]
    },
    {
      "cell_type": "markdown",
      "source": [
        "### 1-ый регион"
      ],
      "metadata": {
        "id": "fDzyPkJXBUex"
      }
    },
    {
      "cell_type": "markdown",
      "source": [
        "Выполним функцию на данных первого региона:"
      ],
      "metadata": {
        "id": "Fq6_NC8vEPLo"
      }
    },
    {
      "cell_type": "code",
      "source": [
        "t = lets_predict(df1)\n",
        "df_report1 = t[0].copy()\n",
        "model1 = t[1]\n",
        "df_predictions1 = t[2].copy()"
      ],
      "metadata": {
        "id": "NlvG1CFbz0UC"
      },
      "execution_count": 99,
      "outputs": []
    },
    {
      "cell_type": "code",
      "source": [
        "df_report1"
      ],
      "metadata": {
        "id": "FA1Rb6-q52dQ",
        "colab": {
          "base_uri": "https://localhost:8080/",
          "height": 143
        },
        "outputId": "b069f4ee-e1cd-46cc-c5cf-f86b78100afc"
      },
      "execution_count": 100,
      "outputs": [
        {
          "output_type": "execute_result",
          "data": {
            "text/plain": [
              "                         mae   r2  rmse  mean_pred  mean_true\n",
              "model            data                                        \n",
              "LinearRegression train 31.08 0.27 37.73      92.64      92.64\n",
              "                 test  30.92 0.28 37.58      92.59      92.08"
            ],
            "text/html": [
              "\n",
              "  <div id=\"df-d0bdfe20-160e-49db-9e1e-5f6b9f582401\">\n",
              "    <div class=\"colab-df-container\">\n",
              "      <div>\n",
              "<style scoped>\n",
              "    .dataframe tbody tr th:only-of-type {\n",
              "        vertical-align: middle;\n",
              "    }\n",
              "\n",
              "    .dataframe tbody tr th {\n",
              "        vertical-align: top;\n",
              "    }\n",
              "\n",
              "    .dataframe thead th {\n",
              "        text-align: right;\n",
              "    }\n",
              "</style>\n",
              "<table border=\"1\" class=\"dataframe\">\n",
              "  <thead>\n",
              "    <tr style=\"text-align: right;\">\n",
              "      <th></th>\n",
              "      <th></th>\n",
              "      <th>mae</th>\n",
              "      <th>r2</th>\n",
              "      <th>rmse</th>\n",
              "      <th>mean_pred</th>\n",
              "      <th>mean_true</th>\n",
              "    </tr>\n",
              "    <tr>\n",
              "      <th>model</th>\n",
              "      <th>data</th>\n",
              "      <th></th>\n",
              "      <th></th>\n",
              "      <th></th>\n",
              "      <th></th>\n",
              "      <th></th>\n",
              "    </tr>\n",
              "  </thead>\n",
              "  <tbody>\n",
              "    <tr>\n",
              "      <th rowspan=\"2\" valign=\"top\">LinearRegression</th>\n",
              "      <th>train</th>\n",
              "      <td>31.08</td>\n",
              "      <td>0.27</td>\n",
              "      <td>37.73</td>\n",
              "      <td>92.64</td>\n",
              "      <td>92.64</td>\n",
              "    </tr>\n",
              "    <tr>\n",
              "      <th>test</th>\n",
              "      <td>30.92</td>\n",
              "      <td>0.28</td>\n",
              "      <td>37.58</td>\n",
              "      <td>92.59</td>\n",
              "      <td>92.08</td>\n",
              "    </tr>\n",
              "  </tbody>\n",
              "</table>\n",
              "</div>\n",
              "      <button class=\"colab-df-convert\" onclick=\"convertToInteractive('df-d0bdfe20-160e-49db-9e1e-5f6b9f582401')\"\n",
              "              title=\"Convert this dataframe to an interactive table.\"\n",
              "              style=\"display:none;\">\n",
              "        \n",
              "  <svg xmlns=\"http://www.w3.org/2000/svg\" height=\"24px\"viewBox=\"0 0 24 24\"\n",
              "       width=\"24px\">\n",
              "    <path d=\"M0 0h24v24H0V0z\" fill=\"none\"/>\n",
              "    <path d=\"M18.56 5.44l.94 2.06.94-2.06 2.06-.94-2.06-.94-.94-2.06-.94 2.06-2.06.94zm-11 1L8.5 8.5l.94-2.06 2.06-.94-2.06-.94L8.5 2.5l-.94 2.06-2.06.94zm10 10l.94 2.06.94-2.06 2.06-.94-2.06-.94-.94-2.06-.94 2.06-2.06.94z\"/><path d=\"M17.41 7.96l-1.37-1.37c-.4-.4-.92-.59-1.43-.59-.52 0-1.04.2-1.43.59L10.3 9.45l-7.72 7.72c-.78.78-.78 2.05 0 2.83L4 21.41c.39.39.9.59 1.41.59.51 0 1.02-.2 1.41-.59l7.78-7.78 2.81-2.81c.8-.78.8-2.07 0-2.86zM5.41 20L4 18.59l7.72-7.72 1.47 1.35L5.41 20z\"/>\n",
              "  </svg>\n",
              "      </button>\n",
              "      \n",
              "  <style>\n",
              "    .colab-df-container {\n",
              "      display:flex;\n",
              "      flex-wrap:wrap;\n",
              "      gap: 12px;\n",
              "    }\n",
              "\n",
              "    .colab-df-convert {\n",
              "      background-color: #E8F0FE;\n",
              "      border: none;\n",
              "      border-radius: 50%;\n",
              "      cursor: pointer;\n",
              "      display: none;\n",
              "      fill: #1967D2;\n",
              "      height: 32px;\n",
              "      padding: 0 0 0 0;\n",
              "      width: 32px;\n",
              "    }\n",
              "\n",
              "    .colab-df-convert:hover {\n",
              "      background-color: #E2EBFA;\n",
              "      box-shadow: 0px 1px 2px rgba(60, 64, 67, 0.3), 0px 1px 3px 1px rgba(60, 64, 67, 0.15);\n",
              "      fill: #174EA6;\n",
              "    }\n",
              "\n",
              "    [theme=dark] .colab-df-convert {\n",
              "      background-color: #3B4455;\n",
              "      fill: #D2E3FC;\n",
              "    }\n",
              "\n",
              "    [theme=dark] .colab-df-convert:hover {\n",
              "      background-color: #434B5C;\n",
              "      box-shadow: 0px 1px 3px 1px rgba(0, 0, 0, 0.15);\n",
              "      filter: drop-shadow(0px 1px 2px rgba(0, 0, 0, 0.3));\n",
              "      fill: #FFFFFF;\n",
              "    }\n",
              "  </style>\n",
              "\n",
              "      <script>\n",
              "        const buttonEl =\n",
              "          document.querySelector('#df-d0bdfe20-160e-49db-9e1e-5f6b9f582401 button.colab-df-convert');\n",
              "        buttonEl.style.display =\n",
              "          google.colab.kernel.accessAllowed ? 'block' : 'none';\n",
              "\n",
              "        async function convertToInteractive(key) {\n",
              "          const element = document.querySelector('#df-d0bdfe20-160e-49db-9e1e-5f6b9f582401');\n",
              "          const dataTable =\n",
              "            await google.colab.kernel.invokeFunction('convertToInteractive',\n",
              "                                                     [key], {});\n",
              "          if (!dataTable) return;\n",
              "\n",
              "          const docLinkHtml = 'Like what you see? Visit the ' +\n",
              "            '<a target=\"_blank\" href=https://colab.research.google.com/notebooks/data_table.ipynb>data table notebook</a>'\n",
              "            + ' to learn more about interactive tables.';\n",
              "          element.innerHTML = '';\n",
              "          dataTable['output_type'] = 'display_data';\n",
              "          await google.colab.output.renderOutput(dataTable, element);\n",
              "          const docLink = document.createElement('div');\n",
              "          docLink.innerHTML = docLinkHtml;\n",
              "          element.appendChild(docLink);\n",
              "        }\n",
              "      </script>\n",
              "    </div>\n",
              "  </div>\n",
              "  "
            ]
          },
          "metadata": {},
          "execution_count": 100
        }
      ]
    },
    {
      "cell_type": "markdown",
      "metadata": {
        "id": "70il6MsVkBvl"
      },
      "source": [
        "Посмотрим соотношение распределений истинных и предсказанных значений на проверочной выборке:"
      ]
    },
    {
      "cell_type": "code",
      "source": [
        "ax = sns.displot(df_predictions1, color='blue', kde=True)\n",
        "plt.title(\"Соотношение распределений истинных и предсказанных моделью значений на первом регионе\")\n",
        "plt.ylabel(\"Количество значений\")\n",
        "plt.xlabel(\"Значение\")\n",
        "ax.fig.set_size_inches(15,7)"
      ],
      "metadata": {
        "id": "_J2sadwcBh5l",
        "colab": {
          "base_uri": "https://localhost:8080/",
          "height": 530
        },
        "outputId": "df0becea-a827-46f3-8af0-837b65c6314b"
      },
      "execution_count": 101,
      "outputs": [
        {
          "output_type": "display_data",
          "data": {
            "text/plain": [
              "<Figure size 1080x504 with 1 Axes>"
            ],
            "image/png": "[encoded data removed]"
          },
          "metadata": {}
        }
      ]
    },
    {
      "cell_type": "markdown",
      "source": [
        "### 2-ой регион"
      ],
      "metadata": {
        "id": "Sqg1c4BBBPuj"
      }
    },
    {
      "cell_type": "markdown",
      "source": [
        "Выполним функцию на данных второго региона:"
      ],
      "metadata": {
        "id": "MilKks5KE0Rc"
      }
    },
    {
      "cell_type": "code",
      "source": [
        "t = None\n",
        "t = lets_predict(df2)\n",
        "df_report2 = t[0].copy()\n",
        "model2 = t[1]\n",
        "df_predictions2 = t[2].copy()"
      ],
      "metadata": {
        "id": "oieK9CfvU8BC"
      },
      "execution_count": 102,
      "outputs": []
    },
    {
      "cell_type": "code",
      "source": [
        "df_report2"
      ],
      "metadata": {
        "id": "ju7Kll1RgDqa",
        "colab": {
          "base_uri": "https://localhost:8080/",
          "height": 143
        },
        "outputId": "bade572f-8e12-4e10-aaca-526f819716e1"
      },
      "execution_count": 103,
      "outputs": [
        {
          "output_type": "execute_result",
          "data": {
            "text/plain": [
              "                        mae   r2  rmse  mean_pred  mean_true\n",
              "model            data                                       \n",
              "LinearRegression train 0.72 1.00  0.89      68.86      68.86\n",
              "                 test  0.72 1.00  0.89      68.73      68.72"
            ],
            "text/html": [
              "\n",
              "  <div id=\"df-73c3bc8b-bf51-4fc0-b6d2-58cf2463ef82\">\n",
              "    <div class=\"colab-df-container\">\n",
              "      <div>\n",
              "<style scoped>\n",
              "    .dataframe tbody tr th:only-of-type {\n",
              "        vertical-align: middle;\n",
              "    }\n",
              "\n",
              "    .dataframe tbody tr th {\n",
              "        vertical-align: top;\n",
              "    }\n",
              "\n",
              "    .dataframe thead th {\n",
              "        text-align: right;\n",
              "    }\n",
              "</style>\n",
              "<table border=\"1\" class=\"dataframe\">\n",
              "  <thead>\n",
              "    <tr style=\"text-align: right;\">\n",
              "      <th></th>\n",
              "      <th></th>\n",
              "      <th>mae</th>\n",
              "      <th>r2</th>\n",
              "      <th>rmse</th>\n",
              "      <th>mean_pred</th>\n",
              "      <th>mean_true</th>\n",
              "    </tr>\n",
              "    <tr>\n",
              "      <th>model</th>\n",
              "      <th>data</th>\n",
              "      <th></th>\n",
              "      <th></th>\n",
              "      <th></th>\n",
              "      <th></th>\n",
              "      <th></th>\n",
              "    </tr>\n",
              "  </thead>\n",
              "  <tbody>\n",
              "    <tr>\n",
              "      <th rowspan=\"2\" valign=\"top\">LinearRegression</th>\n",
              "      <th>train</th>\n",
              "      <td>0.72</td>\n",
              "      <td>1.00</td>\n",
              "      <td>0.89</td>\n",
              "      <td>68.86</td>\n",
              "      <td>68.86</td>\n",
              "    </tr>\n",
              "    <tr>\n",
              "      <th>test</th>\n",
              "      <td>0.72</td>\n",
              "      <td>1.00</td>\n",
              "      <td>0.89</td>\n",
              "      <td>68.73</td>\n",
              "      <td>68.72</td>\n",
              "    </tr>\n",
              "  </tbody>\n",
              "</table>\n",
              "</div>\n",
              "      <button class=\"colab-df-convert\" onclick=\"convertToInteractive('df-73c3bc8b-bf51-4fc0-b6d2-58cf2463ef82')\"\n",
              "              title=\"Convert this dataframe to an interactive table.\"\n",
              "              style=\"display:none;\">\n",
              "        \n",
              "  <svg xmlns=\"http://www.w3.org/2000/svg\" height=\"24px\"viewBox=\"0 0 24 24\"\n",
              "       width=\"24px\">\n",
              "    <path d=\"M0 0h24v24H0V0z\" fill=\"none\"/>\n",
              "    <path d=\"M18.56 5.44l.94 2.06.94-2.06 2.06-.94-2.06-.94-.94-2.06-.94 2.06-2.06.94zm-11 1L8.5 8.5l.94-2.06 2.06-.94-2.06-.94L8.5 2.5l-.94 2.06-2.06.94zm10 10l.94 2.06.94-2.06 2.06-.94-2.06-.94-.94-2.06-.94 2.06-2.06.94z\"/><path d=\"M17.41 7.96l-1.37-1.37c-.4-.4-.92-.59-1.43-.59-.52 0-1.04.2-1.43.59L10.3 9.45l-7.72 7.72c-.78.78-.78 2.05 0 2.83L4 21.41c.39.39.9.59 1.41.59.51 0 1.02-.2 1.41-.59l7.78-7.78 2.81-2.81c.8-.78.8-2.07 0-2.86zM5.41 20L4 18.59l7.72-7.72 1.47 1.35L5.41 20z\"/>\n",
              "  </svg>\n",
              "      </button>\n",
              "      \n",
              "  <style>\n",
              "    .colab-df-container {\n",
              "      display:flex;\n",
              "      flex-wrap:wrap;\n",
              "      gap: 12px;\n",
              "    }\n",
              "\n",
              "    .colab-df-convert {\n",
              "      background-color: #E8F0FE;\n",
              "      border: none;\n",
              "      border-radius: 50%;\n",
              "      cursor: pointer;\n",
              "      display: none;\n",
              "      fill: #1967D2;\n",
              "      height: 32px;\n",
              "      padding: 0 0 0 0;\n",
              "      width: 32px;\n",
              "    }\n",
              "\n",
              "    .colab-df-convert:hover {\n",
              "      background-color: #E2EBFA;\n",
              "      box-shadow: 0px 1px 2px rgba(60, 64, 67, 0.3), 0px 1px 3px 1px rgba(60, 64, 67, 0.15);\n",
              "      fill: #174EA6;\n",
              "    }\n",
              "\n",
              "    [theme=dark] .colab-df-convert {\n",
              "      background-color: #3B4455;\n",
              "      fill: #D2E3FC;\n",
              "    }\n",
              "\n",
              "    [theme=dark] .colab-df-convert:hover {\n",
              "      background-color: #434B5C;\n",
              "      box-shadow: 0px 1px 3px 1px rgba(0, 0, 0, 0.15);\n",
              "      filter: drop-shadow(0px 1px 2px rgba(0, 0, 0, 0.3));\n",
              "      fill: #FFFFFF;\n",
              "    }\n",
              "  </style>\n",
              "\n",
              "      <script>\n",
              "        const buttonEl =\n",
              "          document.querySelector('#df-73c3bc8b-bf51-4fc0-b6d2-58cf2463ef82 button.colab-df-convert');\n",
              "        buttonEl.style.display =\n",
              "          google.colab.kernel.accessAllowed ? 'block' : 'none';\n",
              "\n",
              "        async function convertToInteractive(key) {\n",
              "          const element = document.querySelector('#df-73c3bc8b-bf51-4fc0-b6d2-58cf2463ef82');\n",
              "          const dataTable =\n",
              "            await google.colab.kernel.invokeFunction('convertToInteractive',\n",
              "                                                     [key], {});\n",
              "          if (!dataTable) return;\n",
              "\n",
              "          const docLinkHtml = 'Like what you see? Visit the ' +\n",
              "            '<a target=\"_blank\" href=https://colab.research.google.com/notebooks/data_table.ipynb>data table notebook</a>'\n",
              "            + ' to learn more about interactive tables.';\n",
              "          element.innerHTML = '';\n",
              "          dataTable['output_type'] = 'display_data';\n",
              "          await google.colab.output.renderOutput(dataTable, element);\n",
              "          const docLink = document.createElement('div');\n",
              "          docLink.innerHTML = docLinkHtml;\n",
              "          element.appendChild(docLink);\n",
              "        }\n",
              "      </script>\n",
              "    </div>\n",
              "  </div>\n",
              "  "
            ]
          },
          "metadata": {},
          "execution_count": 103
        }
      ]
    },
    {
      "cell_type": "code",
      "source": [
        "fig, ax = plt.subplots(figsize=(15,7))\n",
        "plt.title(\"Соотношение распределений истинных и предсказанных моделью значений на втором регионе\")\n",
        "plt.ylabel(\"Количество значений\")\n",
        "plt.xlabel(\"Значение\")\n",
        "ax = sns.histplot(df_predictions2, color='blue', bins=250)"
      ],
      "metadata": {
        "id": "x1fRF5OkDUwM",
        "colab": {
          "base_uri": "https://localhost:8080/",
          "height": 464
        },
        "outputId": "d3e0af6e-7995-477a-80b8-20c0be35c3d9"
      },
      "execution_count": 104,
      "outputs": [
        {
          "output_type": "display_data",
          "data": {
            "text/plain": [
              "<Figure size 1080x504 with 1 Axes>"
            ],
            "image/png": "[encoded data removed]"
          },
          "metadata": {}
        }
      ]
    },
    {
      "cell_type": "markdown",
      "source": [
        "Модель предсказывает с минимальными ошибками. Но распределение изначальных данных вызывает подозрение."
      ],
      "metadata": {
        "id": "ttFo_c1FZ87D"
      }
    },
    {
      "cell_type": "markdown",
      "source": [
        "### 3-ий регион"
      ],
      "metadata": {
        "id": "efBl1acOBbY5"
      }
    },
    {
      "cell_type": "markdown",
      "source": [
        "Выполним функцию на данных третьего региона:"
      ],
      "metadata": {
        "id": "rG9fGrOXePBm"
      }
    },
    {
      "cell_type": "code",
      "source": [
        "t = lets_predict(df3)\n",
        "df_report3 = t[0].copy()\n",
        "model3 = t[1]\n",
        "df_predictions3 = t[2].copy()"
      ],
      "metadata": {
        "id": "pO-VC-UfVG5a"
      },
      "execution_count": 105,
      "outputs": []
    },
    {
      "cell_type": "code",
      "source": [
        "df_report3"
      ],
      "metadata": {
        "id": "o0W9Rpv9VB6J",
        "colab": {
          "base_uri": "https://localhost:8080/",
          "height": 143
        },
        "outputId": "04309bf1-5525-4650-face-86e421bb8a45"
      },
      "execution_count": 106,
      "outputs": [
        {
          "output_type": "execute_result",
          "data": {
            "text/plain": [
              "                         mae   r2  rmse  mean_pred  mean_true\n",
              "model            data                                        \n",
              "LinearRegression train 32.84 0.20 40.06      95.04      95.04\n",
              "                 test  32.79 0.21 40.03      94.97      94.88"
            ],
            "text/html": [
              "\n",
              "  <div id=\"df-e3618995-15d2-4290-af0f-7438c089d834\">\n",
              "    <div class=\"colab-df-container\">\n",
              "      <div>\n",
              "<style scoped>\n",
              "    .dataframe tbody tr th:only-of-type {\n",
              "        vertical-align: middle;\n",
              "    }\n",
              "\n",
              "    .dataframe tbody tr th {\n",
              "        vertical-align: top;\n",
              "    }\n",
              "\n",
              "    .dataframe thead th {\n",
              "        text-align: right;\n",
              "    }\n",
              "</style>\n",
              "<table border=\"1\" class=\"dataframe\">\n",
              "  <thead>\n",
              "    <tr style=\"text-align: right;\">\n",
              "      <th></th>\n",
              "      <th></th>\n",
              "      <th>mae</th>\n",
              "      <th>r2</th>\n",
              "      <th>rmse</th>\n",
              "      <th>mean_pred</th>\n",
              "      <th>mean_true</th>\n",
              "    </tr>\n",
              "    <tr>\n",
              "      <th>model</th>\n",
              "      <th>data</th>\n",
              "      <th></th>\n",
              "      <th></th>\n",
              "      <th></th>\n",
              "      <th></th>\n",
              "      <th></th>\n",
              "    </tr>\n",
              "  </thead>\n",
              "  <tbody>\n",
              "    <tr>\n",
              "      <th rowspan=\"2\" valign=\"top\">LinearRegression</th>\n",
              "      <th>train</th>\n",
              "      <td>32.84</td>\n",
              "      <td>0.20</td>\n",
              "      <td>40.06</td>\n",
              "      <td>95.04</td>\n",
              "      <td>95.04</td>\n",
              "    </tr>\n",
              "    <tr>\n",
              "      <th>test</th>\n",
              "      <td>32.79</td>\n",
              "      <td>0.21</td>\n",
              "      <td>40.03</td>\n",
              "      <td>94.97</td>\n",
              "      <td>94.88</td>\n",
              "    </tr>\n",
              "  </tbody>\n",
              "</table>\n",
              "</div>\n",
              "      <button class=\"colab-df-convert\" onclick=\"convertToInteractive('df-e3618995-15d2-4290-af0f-7438c089d834')\"\n",
              "              title=\"Convert this dataframe to an interactive table.\"\n",
              "              style=\"display:none;\">\n",
              "        \n",
              "  <svg xmlns=\"http://www.w3.org/2000/svg\" height=\"24px\"viewBox=\"0 0 24 24\"\n",
              "       width=\"24px\">\n",
              "    <path d=\"M0 0h24v24H0V0z\" fill=\"none\"/>\n",
              "    <path d=\"M18.56 5.44l.94 2.06.94-2.06 2.06-.94-2.06-.94-.94-2.06-.94 2.06-2.06.94zm-11 1L8.5 8.5l.94-2.06 2.06-.94-2.06-.94L8.5 2.5l-.94 2.06-2.06.94zm10 10l.94 2.06.94-2.06 2.06-.94-2.06-.94-.94-2.06-.94 2.06-2.06.94z\"/><path d=\"M17.41 7.96l-1.37-1.37c-.4-.4-.92-.59-1.43-.59-.52 0-1.04.2-1.43.59L10.3 9.45l-7.72 7.72c-.78.78-.78 2.05 0 2.83L4 21.41c.39.39.9.59 1.41.59.51 0 1.02-.2 1.41-.59l7.78-7.78 2.81-2.81c.8-.78.8-2.07 0-2.86zM5.41 20L4 18.59l7.72-7.72 1.47 1.35L5.41 20z\"/>\n",
              "  </svg>\n",
              "      </button>\n",
              "      \n",
              "  <style>\n",
              "    .colab-df-container {\n",
              "      display:flex;\n",
              "      flex-wrap:wrap;\n",
              "      gap: 12px;\n",
              "    }\n",
              "\n",
              "    .colab-df-convert {\n",
              "      background-color: #E8F0FE;\n",
              "      border: none;\n",
              "      border-radius: 50%;\n",
              "      cursor: pointer;\n",
              "      display: none;\n",
              "      fill: #1967D2;\n",
              "      height: 32px;\n",
              "      padding: 0 0 0 0;\n",
              "      width: 32px;\n",
              "    }\n",
              "\n",
              "    .colab-df-convert:hover {\n",
              "      background-color: #E2EBFA;\n",
              "      box-shadow: 0px 1px 2px rgba(60, 64, 67, 0.3), 0px 1px 3px 1px rgba(60, 64, 67, 0.15);\n",
              "      fill: #174EA6;\n",
              "    }\n",
              "\n",
              "    [theme=dark] .colab-df-convert {\n",
              "      background-color: #3B4455;\n",
              "      fill: #D2E3FC;\n",
              "    }\n",
              "\n",
              "    [theme=dark] .colab-df-convert:hover {\n",
              "      background-color: #434B5C;\n",
              "      box-shadow: 0px 1px 3px 1px rgba(0, 0, 0, 0.15);\n",
              "      filter: drop-shadow(0px 1px 2px rgba(0, 0, 0, 0.3));\n",
              "      fill: #FFFFFF;\n",
              "    }\n",
              "  </style>\n",
              "\n",
              "      <script>\n",
              "        const buttonEl =\n",
              "          document.querySelector('#df-e3618995-15d2-4290-af0f-7438c089d834 button.colab-df-convert');\n",
              "        buttonEl.style.display =\n",
              "          google.colab.kernel.accessAllowed ? 'block' : 'none';\n",
              "\n",
              "        async function convertToInteractive(key) {\n",
              "          const element = document.querySelector('#df-e3618995-15d2-4290-af0f-7438c089d834');\n",
              "          const dataTable =\n",
              "            await google.colab.kernel.invokeFunction('convertToInteractive',\n",
              "                                                     [key], {});\n",
              "          if (!dataTable) return;\n",
              "\n",
              "          const docLinkHtml = 'Like what you see? Visit the ' +\n",
              "            '<a target=\"_blank\" href=https://colab.research.google.com/notebooks/data_table.ipynb>data table notebook</a>'\n",
              "            + ' to learn more about interactive tables.';\n",
              "          element.innerHTML = '';\n",
              "          dataTable['output_type'] = 'display_data';\n",
              "          await google.colab.output.renderOutput(dataTable, element);\n",
              "          const docLink = document.createElement('div');\n",
              "          docLink.innerHTML = docLinkHtml;\n",
              "          element.appendChild(docLink);\n",
              "        }\n",
              "      </script>\n",
              "    </div>\n",
              "  </div>\n",
              "  "
            ]
          },
          "metadata": {},
          "execution_count": 106
        }
      ]
    },
    {
      "cell_type": "code",
      "source": [
        "ax = sns.displot(df_predictions3, color='blue', kde=True)\n",
        "plt.title(\"Соотношение распределений истинных и предсказанных моделью значений на третьем регионе\")\n",
        "plt.ylabel(\"Количество значений\")\n",
        "plt.xlabel(\"Значение\")\n",
        "ax.fig.set_size_inches(15,7)\n"
      ],
      "metadata": {
        "id": "CQZLwURbSrEy",
        "colab": {
          "base_uri": "https://localhost:8080/",
          "height": 530
        },
        "outputId": "1822e680-0f32-4a6c-8b46-f5f681680d30"
      },
      "execution_count": 107,
      "outputs": [
        {
          "output_type": "display_data",
          "data": {
            "text/plain": [
              "<Figure size 1080x504 with 1 Axes>"
            ],
            "image/png": "[encoded data removed]"
          },
          "metadata": {}
        }
      ]
    },
    {
      "cell_type": "markdown",
      "source": [
        "**Вывод**\n",
        "\n",
        "Мы построили три модели линейной регрессии.\n",
        "\n",
        "Наилучший результат оказался на данных со второго региона. Что так произойдет, было понятно еще на этапе изучения [корреляции признаков](#corr).   \n",
        "\n",
        "Это вызывает подозрения в данных. Примем это как факт и будем двигаться дальше по исследованию.\n",
        "\n",
        "Стоит сказать, что все модели предсказывают лучше константной модели возвращающее среднее значение по целевому признаку, а значит, они рабочие.\n",
        "\n",
        "Хоть у первого и третьего регионов модели дают приличные средние абсолютные отклонения относительно истинных значений, среднее от предсказанных значений в тестовых выборках очень близко к среднему истинному по этим выборкам. \n",
        "\n",
        "Сравнивая распределения значений предсказанных значений, можно сказать, что в первом и третьем регионе  имеется меньший разброс значений относительно среднего, нежели истинные значения целевого признака.\n",
        "\n",
        "\n"
      ],
      "metadata": {
        "id": "-sRbKDvtelWh"
      }
    },
    {
      "cell_type": "markdown",
      "source": [
        "## Подготовка к расчёту прибыли"
      ],
      "metadata": {
        "id": "vAlKgTi6lv2V"
      }
    },
    {
      "cell_type": "markdown",
      "source": [
        "Сохраним константные переменные, данные нам по условиям задачи:"
      ],
      "metadata": {
        "id": "c1vVUU7TfFAx"
      }
    },
    {
      "cell_type": "code",
      "source": [
        "INC_PER_BBL = 450*1000\n",
        "BUDGET = 10**10\n",
        "NUM_OF_WELLS = 500\n",
        "NUM_OF_BEST_WELLS = 200"
      ],
      "metadata": {
        "id": "ZAefY3OPfIJ7"
      },
      "execution_count": 108,
      "outputs": []
    },
    {
      "cell_type": "code",
      "source": [
        "constants = pd.DataFrame()  # создаем таблицу\n",
        "constants.loc['Бюджет', \"value\"] = BUDGET\n",
        "constants.loc['Доход с единицы продукта', \"value\"] = INC_PER_BBL\n",
        "constants.loc['Количество скважин исследуемых при разведке региона', \"value\"] = NUM_OF_WELLS\n",
        "constants.loc['Количество скважин для разработки', \"value\"] = NUM_OF_BEST_WELLS\n",
        "constants"
      ],
      "metadata": {
        "id": "jyfXEFk16q2J",
        "colab": {
          "base_uri": "https://localhost:8080/",
          "height": 175
        },
        "outputId": "ec0e4b29-f00c-467e-bad9-041d45ff596f"
      },
      "execution_count": 109,
      "outputs": [
        {
          "output_type": "execute_result",
          "data": {
            "text/plain": [
              "                                                               value\n",
              "Бюджет                                             10,000,000,000.00\n",
              "Доход с единицы продукта                                  450,000.00\n",
              "Количество скважин исследуемых при разведке рег...            500.00\n",
              "Количество скважин для разработки                             200.00"
            ],
            "text/html": [
              "\n",
              "  <div id=\"df-89dc4812-cc79-4277-a045-1da01388dcca\">\n",
              "    <div class=\"colab-df-container\">\n",
              "      <div>\n",
              "<style scoped>\n",
              "    .dataframe tbody tr th:only-of-type {\n",
              "        vertical-align: middle;\n",
              "    }\n",
              "\n",
              "    .dataframe tbody tr th {\n",
              "        vertical-align: top;\n",
              "    }\n",
              "\n",
              "    .dataframe thead th {\n",
              "        text-align: right;\n",
              "    }\n",
              "</style>\n",
              "<table border=\"1\" class=\"dataframe\">\n",
              "  <thead>\n",
              "    <tr style=\"text-align: right;\">\n",
              "      <th></th>\n",
              "      <th>value</th>\n",
              "    </tr>\n",
              "  </thead>\n",
              "  <tbody>\n",
              "    <tr>\n",
              "      <th>Бюджет</th>\n",
              "      <td>10,000,000,000.00</td>\n",
              "    </tr>\n",
              "    <tr>\n",
              "      <th>Доход с единицы продукта</th>\n",
              "      <td>450,000.00</td>\n",
              "    </tr>\n",
              "    <tr>\n",
              "      <th>Количество скважин исследуемых при разведке региона</th>\n",
              "      <td>500.00</td>\n",
              "    </tr>\n",
              "    <tr>\n",
              "      <th>Количество скважин для разработки</th>\n",
              "      <td>200.00</td>\n",
              "    </tr>\n",
              "  </tbody>\n",
              "</table>\n",
              "</div>\n",
              "      <button class=\"colab-df-convert\" onclick=\"convertToInteractive('df-89dc4812-cc79-4277-a045-1da01388dcca')\"\n",
              "              title=\"Convert this dataframe to an interactive table.\"\n",
              "              style=\"display:none;\">\n",
              "        \n",
              "  <svg xmlns=\"http://www.w3.org/2000/svg\" height=\"24px\"viewBox=\"0 0 24 24\"\n",
              "       width=\"24px\">\n",
              "    <path d=\"M0 0h24v24H0V0z\" fill=\"none\"/>\n",
              "    <path d=\"M18.56 5.44l.94 2.06.94-2.06 2.06-.94-2.06-.94-.94-2.06-.94 2.06-2.06.94zm-11 1L8.5 8.5l.94-2.06 2.06-.94-2.06-.94L8.5 2.5l-.94 2.06-2.06.94zm10 10l.94 2.06.94-2.06 2.06-.94-2.06-.94-.94-2.06-.94 2.06-2.06.94z\"/><path d=\"M17.41 7.96l-1.37-1.37c-.4-.4-.92-.59-1.43-.59-.52 0-1.04.2-1.43.59L10.3 9.45l-7.72 7.72c-.78.78-.78 2.05 0 2.83L4 21.41c.39.39.9.59 1.41.59.51 0 1.02-.2 1.41-.59l7.78-7.78 2.81-2.81c.8-.78.8-2.07 0-2.86zM5.41 20L4 18.59l7.72-7.72 1.47 1.35L5.41 20z\"/>\n",
              "  </svg>\n",
              "      </button>\n",
              "      \n",
              "  <style>\n",
              "    .colab-df-container {\n",
              "      display:flex;\n",
              "      flex-wrap:wrap;\n",
              "      gap: 12px;\n",
              "    }\n",
              "\n",
              "    .colab-df-convert {\n",
              "      background-color: #E8F0FE;\n",
              "      border: none;\n",
              "      border-radius: 50%;\n",
              "      cursor: pointer;\n",
              "      display: none;\n",
              "      fill: #1967D2;\n",
              "      height: 32px;\n",
              "      padding: 0 0 0 0;\n",
              "      width: 32px;\n",
              "    }\n",
              "\n",
              "    .colab-df-convert:hover {\n",
              "      background-color: #E2EBFA;\n",
              "      box-shadow: 0px 1px 2px rgba(60, 64, 67, 0.3), 0px 1px 3px 1px rgba(60, 64, 67, 0.15);\n",
              "      fill: #174EA6;\n",
              "    }\n",
              "\n",
              "    [theme=dark] .colab-df-convert {\n",
              "      background-color: #3B4455;\n",
              "      fill: #D2E3FC;\n",
              "    }\n",
              "\n",
              "    [theme=dark] .colab-df-convert:hover {\n",
              "      background-color: #434B5C;\n",
              "      box-shadow: 0px 1px 3px 1px rgba(0, 0, 0, 0.15);\n",
              "      filter: drop-shadow(0px 1px 2px rgba(0, 0, 0, 0.3));\n",
              "      fill: #FFFFFF;\n",
              "    }\n",
              "  </style>\n",
              "\n",
              "      <script>\n",
              "        const buttonEl =\n",
              "          document.querySelector('#df-89dc4812-cc79-4277-a045-1da01388dcca button.colab-df-convert');\n",
              "        buttonEl.style.display =\n",
              "          google.colab.kernel.accessAllowed ? 'block' : 'none';\n",
              "\n",
              "        async function convertToInteractive(key) {\n",
              "          const element = document.querySelector('#df-89dc4812-cc79-4277-a045-1da01388dcca');\n",
              "          const dataTable =\n",
              "            await google.colab.kernel.invokeFunction('convertToInteractive',\n",
              "                                                     [key], {});\n",
              "          if (!dataTable) return;\n",
              "\n",
              "          const docLinkHtml = 'Like what you see? Visit the ' +\n",
              "            '<a target=\"_blank\" href=https://colab.research.google.com/notebooks/data_table.ipynb>data table notebook</a>'\n",
              "            + ' to learn more about interactive tables.';\n",
              "          element.innerHTML = '';\n",
              "          dataTable['output_type'] = 'display_data';\n",
              "          await google.colab.output.renderOutput(dataTable, element);\n",
              "          const docLink = document.createElement('div');\n",
              "          docLink.innerHTML = docLinkHtml;\n",
              "          element.appendChild(docLink);\n",
              "        }\n",
              "      </script>\n",
              "    </div>\n",
              "  </div>\n",
              "  "
            ]
          },
          "metadata": {},
          "execution_count": 109
        }
      ]
    },
    {
      "cell_type": "markdown",
      "source": [
        "Давайте рассчитаем достаточный объём сырья для безубыточной разработки новой скважины. "
      ],
      "metadata": {
        "id": "cBKajpeBAlzU"
      }
    },
    {
      "cell_type": "code",
      "source": [
        "breakeven_value = (BUDGET/INC_PER_BBL)/NUM_OF_BEST_WELLS\n",
        "round(breakeven_value, 2) "
      ],
      "metadata": {
        "id": "hNUqd7iEAnsE",
        "colab": {
          "base_uri": "https://localhost:8080/"
        },
        "outputId": "8960e616-8715-4762-dab1-ed0aa4a6e100"
      },
      "execution_count": 110,
      "outputs": [
        {
          "output_type": "execute_result",
          "data": {
            "text/plain": [
              "111.11"
            ]
          },
          "metadata": {},
          "execution_count": 110
        }
      ]
    },
    {
      "cell_type": "markdown",
      "source": [
        "Сравним полученный объём сырья со средним запасом в каждом регионе:"
      ],
      "metadata": {
        "id": "sh_0hpKVUk0s"
      }
    },
    {
      "cell_type": "code",
      "source": [
        "for x in range(len(dfs)):\n",
        "  if dfs[x]['product'].mean()>breakeven_value:\n",
        "    print(f'Средний запас нефти в скважинах региона {x+1} больше значения безубыточной разработки новой скважины')\n",
        "  else:\n",
        "    print(f'Средний запас нефти в скважинах региона {x+1} меньше значения безубыточной разработки новой скважины')"
      ],
      "metadata": {
        "id": "kC-Ge9tzm8dq",
        "colab": {
          "base_uri": "https://localhost:8080/"
        },
        "outputId": "b3d38a1a-a415-4eac-9da4-c47dc7731da6"
      },
      "execution_count": 111,
      "outputs": [
        {
          "output_type": "stream",
          "name": "stdout",
          "text": [
            "Средний запас нефти в скважинах региона 1 меньше значения безубыточной разработки новой скважины\n",
            "Средний запас нефти в скважинах региона 2 меньше значения безубыточной разработки новой скважины\n",
            "Средний запас нефти в скважинах региона 3 меньше значения безубыточной разработки новой скважины\n"
          ]
        }
      ]
    },
    {
      "cell_type": "markdown",
      "source": [
        "По всем регионам среднее значение запасов ниже допустимого безубыточного. Посмотрим долю скважин в каждом регионе, которая выше этого значения:"
      ],
      "metadata": {
        "id": "oiHemtQ9VAHa"
      }
    },
    {
      "cell_type": "code",
      "source": [
        "print('Доля безубыточных скважин в 1 регионе:', round((df1.query('product >= @breakeven_value').shape[0])*100 / (df1.shape[0]),1),'%')\n",
        "print('Доля безубыточных скважин во 2 регионе:', round((df2.query('product >= @breakeven_value').shape[0])*100 / (df2.shape[0]),1),'%')\n",
        "print('Доля безубыточных скважин в 3 регионе:', round((df3.query('product >= @breakeven_value').shape[0])*100 / (df3.shape[0]),1),'%')"
      ],
      "metadata": {
        "id": "R0N74MgLGUDM",
        "colab": {
          "base_uri": "https://localhost:8080/"
        },
        "outputId": "8790c0dc-53c8-4de3-af4c-d6d9fdd9e4b1"
      },
      "execution_count": 112,
      "outputs": [
        {
          "output_type": "stream",
          "name": "stdout",
          "text": [
            "Доля безубыточных скважин в 1 регионе: 36.6 %\n",
            "Доля безубыточных скважин во 2 регионе: 16.5 %\n",
            "Доля безубыточных скважин в 3 регионе: 38.2 %\n"
          ]
        }
      ]
    },
    {
      "cell_type": "markdown",
      "source": [
        "В регионах есть хорошая доля безубыточных скважины. Осталось понять, сможет ли модель помочь нам обнаружить эти самые точки."
      ],
      "metadata": {
        "id": "BLxcV8-zF9wG"
      }
    },
    {
      "cell_type": "markdown",
      "source": [
        "**Вывод**\n",
        "\n",
        "Мы сохранили все ключевые значения для расчётов в отдельных переменных таблицы. Проверили долю безубыточных скважин в регионе.\n",
        "Большая доля безубыточных скважин находиться в третьем регионе.\n",
        "Далее попробуем найти такой регион, в котором риски получить убыток наименьшие."
      ],
      "metadata": {
        "id": "SUSiPlR1Bqam"
      }
    },
    {
      "cell_type": "markdown",
      "source": [
        "## Расчёт прибыли и рисков "
      ],
      "metadata": {
        "id": "SVxnhOEelyFm"
      }
    },
    {
      "cell_type": "markdown",
      "source": [
        "Напишем функцию для расчёта прибыли по выбранным скважинам и предсказаниям модели:\n",
        "\n",
        "1. Выберем 500 скважин случайным образом. Из них отберем 200 скважин с лучшими предсказаниями.\n",
        "2. Просуммируем истинные значения нефти в этих скважинах.\n",
        "3. Рассчитаем прибыль для полученных результатов сырья.\n",
        "4. Посчитаем риски получения убытков и среднее вероятное значение прибыли через процедуру Bootstrap.\n",
        "\n",
        "\n"
      ],
      "metadata": {
        "id": "fTowZO3PfCYu"
      }
    },
    {
      "cell_type": "code",
      "source": [
        "def bootstrap_income(df):\n",
        "    profits = []\n",
        "    state = np.random.RandomState(rstate) \n",
        "    \n",
        "    for i in range(1000):\n",
        "           \n",
        "        top_wells = df.sample(NUM_OF_WELLS, random_state=state).sort_values(by ='predicted', ascending=False)[:NUM_OF_BEST_WELLS]  # выбираем 500 случаных скважин. 200 лучших по предсказаниям оставляем\n",
        "        true_sum_of_top_wells = df['true_value'][top_wells.index].sum() # смотрим истинное значение нефти по индексам предсказанных скважин\n",
        "        profit = (((true_sum_of_top_wells * INC_PER_BBL) - BUDGET)/ (10**9)) # высчитываем профит с этих 200 скважин\n",
        "        profits.append(profit) # добавляем профиты в список\n",
        "        \n",
        "    profits = pd.Series(profits)\n",
        "    risks_counts = 0\n",
        "    for value in profits: # считаем количество случаев убытка\n",
        "        if value < 0:\n",
        "            risks_counts += 1\n",
        "        \n",
        "    risk = risks_counts / len(profits)\n",
        "       \n",
        "    print('Средняя прибыль с региона: {:.2f}'.format(profits.mean()))\n",
        "    print(f'95% доверительный интервал: ({round(profits.quantile(0.025),2)} : {round(profits.quantile(0.975),3)})')\n",
        "    print('Риск получить убыток: {:.2%}'.format(risk))\n",
        "    return profits  "
      ],
      "metadata": {
        "id": "EnFkC4uM0pyo"
      },
      "execution_count": 113,
      "outputs": []
    },
    {
      "cell_type": "markdown",
      "source": [
        "Применим функцию к данным первого региона:"
      ],
      "metadata": {
        "id": "7Eqa5SwDN6pz"
      }
    },
    {
      "cell_type": "code",
      "source": [
        "t1 = bootstrap_income(df_predictions1)"
      ],
      "metadata": {
        "id": "ls8X5NHkz__U",
        "colab": {
          "base_uri": "https://localhost:8080/"
        },
        "outputId": "18ec7efa-fbe6-4bbf-f21b-e21f1f906c10"
      },
      "execution_count": 114,
      "outputs": [
        {
          "output_type": "stream",
          "name": "stdout",
          "text": [
            "Средняя прибыль с региона: 0.38\n",
            "95% доверительный интервал: (-0.13 : 0.88)\n",
            "Риск получить убыток: 7.20%\n"
          ]
        }
      ]
    },
    {
      "cell_type": "markdown",
      "source": [
        "Наиболее вероятная прибыль с первого региона это 0.38 млрд рублей. Риск получить убыток составляет 7.2%"
      ],
      "metadata": {
        "id": "Blp_M10PA-mf"
      }
    },
    {
      "cell_type": "markdown",
      "source": [
        "Применим функцию к данным второго региона:"
      ],
      "metadata": {
        "id": "byTQgb9gN_Bo"
      }
    },
    {
      "cell_type": "code",
      "source": [
        "t2 = bootstrap_income(df_predictions2)"
      ],
      "metadata": {
        "id": "TIE25mOr3YTA",
        "colab": {
          "base_uri": "https://localhost:8080/"
        },
        "outputId": "91787f80-e54d-4420-b01f-d03afe4d594f"
      },
      "execution_count": 115,
      "outputs": [
        {
          "output_type": "stream",
          "name": "stdout",
          "text": [
            "Средняя прибыль с региона: 0.45\n",
            "95% доверительный интервал: (0.07 : 0.893)\n",
            "Риск получить убыток: 1.40%\n"
          ]
        }
      ]
    },
    {
      "cell_type": "markdown",
      "source": [
        "Вероятная средняя прибыль со второго региона - 0.45 млрд рублей. При этом риск получить убыток составляет 1.4%"
      ],
      "metadata": {
        "id": "NpVHrp-kBBjV"
      }
    },
    {
      "cell_type": "markdown",
      "source": [
        "Применим функцию к данным третьего региона:"
      ],
      "metadata": {
        "id": "X_QzRb_GOA_p"
      }
    },
    {
      "cell_type": "code",
      "source": [
        "t3 = bootstrap_income(df_predictions3)"
      ],
      "metadata": {
        "id": "4tFN-x3t6v0P",
        "colab": {
          "base_uri": "https://localhost:8080/"
        },
        "outputId": "989e6bb0-9bf1-4b56-9bbe-e25a7b0dadbd"
      },
      "execution_count": 116,
      "outputs": [
        {
          "output_type": "stream",
          "name": "stdout",
          "text": [
            "Средняя прибыль с региона: 0.40\n",
            "95% доверительный интервал: (-0.14 : 0.963)\n",
            "Риск получить убыток: 7.10%\n"
          ]
        }
      ]
    },
    {
      "cell_type": "markdown",
      "source": [
        "В третьем регионе средняя прибыль равна 0.4 млрд рублей. Риски стать убыточным составляют 7.1%"
      ],
      "metadata": {
        "id": "aIRBPTsBBElc"
      }
    },
    {
      "cell_type": "markdown",
      "source": [
        "Посмотрим распределение прибылей по каждому региону:"
      ],
      "metadata": {
        "id": "jRMNmTGuMO-U"
      }
    },
    {
      "cell_type": "code",
      "source": [
        "fig, ax = plt.subplots(figsize=(15,8))\n",
        "ax = sns.kdeplot(t1, color='red', label=\"1ый регион\")\n",
        "sns.kdeplot(t2, color='blue', label=\"2ой регион\")\n",
        "sns.kdeplot(t3, color='green', label=\"3ий регион\")\n",
        "\n",
        "def update(handle, orig):\n",
        "    handle.update_from(orig)\n",
        "    handle.set_alpha(1)\n",
        "\n",
        "plt.legend(\n",
        "    handler_map={\n",
        "        PathCollection: HandlerPathCollection(update_func=update),\n",
        "        plt.Line2D: HandlerLine2D(update_func=update),\n",
        "    }\n",
        ")  # видимость в легенде восстанавливаем\n",
        "\n",
        "plt.ylabel(\"Плотность распределения\")\n",
        "plt.xlabel(\"Значение прибыли, в млрд. руб.\")\n",
        "plt.title(\"Соотношение распределений значений прибыли в каждом регионе\")\n",
        "plt.show()"
      ],
      "metadata": {
        "id": "Od7F0C-C7bWJ",
        "colab": {
          "base_uri": "https://localhost:8080/",
          "height": 518
        },
        "outputId": "87812a28-45e8-4d61-91d3-8a494df5455d"
      },
      "execution_count": 117,
      "outputs": [
        {
          "output_type": "display_data",
          "data": {
            "text/plain": [
              "<Figure size 1080x576 with 1 Axes>"
            ],
            "image/png": "[encoded data removed]"
          },
          "metadata": {}
        }
      ]
    },
    {
      "cell_type": "markdown",
      "source": [
        "**Вывод**\n",
        "\n",
        "По итогу расчетов вышло, что наибольшая средняя выручка может быть получена во втором регионе - 0.45 млрд.руб. Там же - самые низкие риски получения убытков, почти в 5 раз ниже, чем в 1ом и 3ем регионе."
      ],
      "metadata": {
        "id": "yy6eQsCHOzUX"
      }
    },
    {
      "cell_type": "markdown",
      "source": [
        "## Вывод"
      ],
      "metadata": {
        "id": "Bl-_-6o_U_yX"
      }
    },
    {
      "cell_type": "markdown",
      "source": [
        "Мы обучили модель линейной регрессии на данных проб нефти из трёх регионов. С помощью обученной модели мы выбирали самые лучшие по предсказаниям скважины и моделировали ситуацию, при которой, знали, сколько нефти будет добыто в конечном итоге. \n",
        "\n",
        "С помощью процедуры Bootstrap оценили риски получения убытков для трех регионов, и только второй регион прошел по требованиям заданного риск-порога в 2.5%. Средняя вероятная прибыль в этом регионе при моделировании равна 0.45 млрд. руб. Однако данные проб с этого региона вызывают подозрения и требуют дополнительного разбирательства с ответственными за выгрузку и сбор этих данных или за их синтез. После уточнения данных, потребуется переобучение модели и изучение новых результатов для принятия окончательного решения по выбору региона для разработок.\n",
        "\n",
        "Если же принять за факт, что с данными всё в порядке, то пригодным для разработки стоит признать только второй регион.\n",
        "\n",
        "Из рекомендаций: попробовать другие алгоритмы машинного обучения, что, вероятно, может умешить риск убытков в регионах."
      ],
      "metadata": {
        "id": "GV7vCiEFVZXv"
      }
    }
  ]
}