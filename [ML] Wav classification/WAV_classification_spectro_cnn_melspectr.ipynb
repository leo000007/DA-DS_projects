{
  "cells": [
    {
      "cell_type": "markdown",
      "id": "cardiovascular-study",
      "metadata": {
        "id": "cardiovascular-study"
      },
      "source": [
        "# Классификация звуковых файлов"
      ]
    },
    {
      "cell_type": "markdown",
      "source": [
        "В данной задаче нужно по звуковым файлам в формате wav предсказать пол человека, речь которого записана на каждом из файлов (0 – мужчина, 1 – женщина).\n",
        "\n",
        "Для того, чтобы получить OK по этой задаче, нужно получить точность более 98 процентов на тестовом наборе данных."
      ],
      "metadata": {
        "id": "9Pevwrb_IWfq"
      },
      "id": "9Pevwrb_IWfq"
    },
    {
      "cell_type": "code",
      "execution_count": null,
      "id": "7d0ab0a0-3bf8-4ff8-9c5a-c01862ccc4d5",
      "metadata": {
        "id": "7d0ab0a0-3bf8-4ff8-9c5a-c01862ccc4d5"
      },
      "outputs": [],
      "source": [
        "!pip install librosa -q \n",
        "!pip install tensorflow -q"
      ]
    },
    {
      "cell_type": "code",
      "execution_count": null,
      "id": "56fe3048-eb48-4ffd-95e1-7fd282e4254e",
      "metadata": {
        "id": "56fe3048-eb48-4ffd-95e1-7fd282e4254e"
      },
      "outputs": [],
      "source": [
        "import numpy as np\n",
        "import pandas as pd\n",
        "import os\n",
        "import random\n",
        "import soundfile as sf\n",
        "import matplotlib.pyplot as plt\n",
        "\n",
        "from os import listdir\n",
        "from os.path import isfile, join\n",
        "from scipy.io import wavfile as wav\n",
        "from sklearn.model_selection import train_test_split\n",
        "from sklearn.preprocessing import LabelEncoder\n",
        "from tqdm import tqdm\n",
        "\n",
        "import tensorflow as tf\n",
        "from tensorflow import keras\n",
        "from tensorflow.keras.utils import to_categorical\n",
        "from tensorflow.keras.models import Sequential, Model\n",
        "from tensorflow.keras.layers import Dense,Dropout,Activation,Flatten, MaxPooling2D, Conv2D, Input, BatchNormalization\n",
        "from sklearn import metrics\n",
        "from tensorflow.keras import models, layers\n",
        "#from keras.layers import Activation, Dense, Dropout, Input\n",
        "#from keras.models import Sequential\n",
        "\n",
        "from tensorflow.keras import optimizers\n",
        "from tensorflow.keras.optimizers import Adam, schedules\n",
        "from keras import backend as K\n",
        "from tensorflow.keras.callbacks import ModelCheckpoint\n",
        "from datetime import datetime \n",
        "\n",
        "import librosa\n",
        "from librosa import get_samplerate"
      ]
    },
    {
      "cell_type": "markdown",
      "source": [
        "## Подготовка данных"
      ],
      "metadata": {
        "id": "3FU40dQ3IzZy"
      },
      "id": "3FU40dQ3IzZy"
    },
    {
      "cell_type": "markdown",
      "source": [
        " Загрузим таблицу с названиями файлов и их лейблами:"
      ],
      "metadata": {
        "id": "2DVccN1gIroq"
      },
      "id": "2DVccN1gIroq"
    },
    {
      "cell_type": "code",
      "execution_count": null,
      "id": "liberal-journalist",
      "metadata": {
        "id": "liberal-journalist",
        "outputId": "7b8fb24c-90df-4d92-8bde-f263fce1b4ed"
      },
      "outputs": [
        {
          "data": {
            "text/html": [
              "<div>\n",
              "<style scoped>\n",
              "    .dataframe tbody tr th:only-of-type {\n",
              "        vertical-align: middle;\n",
              "    }\n",
              "\n",
              "    .dataframe tbody tr th {\n",
              "        vertical-align: top;\n",
              "    }\n",
              "\n",
              "    .dataframe thead th {\n",
              "        text-align: right;\n",
              "    }\n",
              "</style>\n",
              "<table border=\"1\" class=\"dataframe\">\n",
              "  <thead>\n",
              "    <tr style=\"text-align: right;\">\n",
              "      <th></th>\n",
              "      <th>5d1f7e43366513a1d0a6ec5640c3dc24\\t1</th>\n",
              "    </tr>\n",
              "  </thead>\n",
              "  <tbody>\n",
              "    <tr>\n",
              "      <th>0</th>\n",
              "      <td>9a701a4536a05b6610a590a9fe702ed8\\t1</td>\n",
              "    </tr>\n",
              "    <tr>\n",
              "      <th>1</th>\n",
              "      <td>cad0b8547008d1524c1a0e5fd51f9908\\t1</td>\n",
              "    </tr>\n",
              "    <tr>\n",
              "      <th>2</th>\n",
              "      <td>4bbe607e7dc95460e2cc1a6ee5f4dfa6\\t0</td>\n",
              "    </tr>\n",
              "    <tr>\n",
              "      <th>3</th>\n",
              "      <td>30fb32cba90b34af26f3f14f5d636805\\t0</td>\n",
              "    </tr>\n",
              "    <tr>\n",
              "      <th>4</th>\n",
              "      <td>fa33445afe71a6dc18e4881c053da5be\\t0</td>\n",
              "    </tr>\n",
              "  </tbody>\n",
              "</table>\n",
              "</div>"
            ],
            "text/plain": [
              "   5d1f7e43366513a1d0a6ec5640c3dc24\\t1\n",
              "0  9a701a4536a05b6610a590a9fe702ed8\\t1\n",
              "1  cad0b8547008d1524c1a0e5fd51f9908\\t1\n",
              "2  4bbe607e7dc95460e2cc1a6ee5f4dfa6\\t0\n",
              "3  30fb32cba90b34af26f3f14f5d636805\\t0\n",
              "4  fa33445afe71a6dc18e4881c053da5be\\t0"
            ]
          },
          "execution_count": 76,
          "metadata": {},
          "output_type": "execute_result"
        }
      ],
      "source": [
        "audio_dataset_path='D:/Dropbox/Projects/Leo/train/'\n",
        "test_audio_dataset_path ='D:/Dropbox/Projects/Leo/test/'\n",
        "metadata=pd.read_csv('D:/Dropbox/Projects/Leo/targets.tsv')        \n",
        "metadata.head()"
      ]
    },
    {
      "cell_type": "code",
      "execution_count": null,
      "id": "2281a6bf-650a-49ee-bf5c-953ae568141c",
      "metadata": {
        "id": "2281a6bf-650a-49ee-bf5c-953ae568141c",
        "outputId": "b81e2ac6-d958-447b-d6dd-e8bd6213643d"
      },
      "outputs": [
        {
          "name": "stdout",
          "output_type": "stream",
          "text": [
            "<class 'pandas.core.frame.DataFrame'>\n",
            "RangeIndex: 13935 entries, 0 to 13934\n",
            "Data columns (total 1 columns):\n",
            " #   Column                              Non-Null Count  Dtype \n",
            "---  ------                              --------------  ----- \n",
            " 0   5d1f7e43366513a1d0a6ec5640c3dc24\t1  13935 non-null  object\n",
            "dtypes: object(1)\n",
            "memory usage: 109.0+ KB\n"
          ]
        }
      ],
      "source": [
        "metadata.info()"
      ]
    },
    {
      "cell_type": "code",
      "execution_count": null,
      "id": "fcd04a5d-d333-447c-9f9e-996ce7ff94e8",
      "metadata": {
        "id": "fcd04a5d-d333-447c-9f9e-996ce7ff94e8",
        "outputId": "e55daf43-e894-47f2-c431-ffbed0577718"
      },
      "outputs": [
        {
          "data": {
            "text/html": [
              "<div>\n",
              "<style scoped>\n",
              "    .dataframe tbody tr th:only-of-type {\n",
              "        vertical-align: middle;\n",
              "    }\n",
              "\n",
              "    .dataframe tbody tr th {\n",
              "        vertical-align: top;\n",
              "    }\n",
              "\n",
              "    .dataframe thead th {\n",
              "        text-align: right;\n",
              "    }\n",
              "</style>\n",
              "<table border=\"1\" class=\"dataframe\">\n",
              "  <thead>\n",
              "    <tr style=\"text-align: right;\">\n",
              "      <th></th>\n",
              "      <th>5d1f7e43366513a1d0a6ec5640c3dc24\\t1</th>\n",
              "      <th>target</th>\n",
              "      <th>name</th>\n",
              "    </tr>\n",
              "  </thead>\n",
              "  <tbody>\n",
              "    <tr>\n",
              "      <th>0</th>\n",
              "      <td>9a701a4536a05b6610a590a9fe702ed8\\t1</td>\n",
              "      <td>1</td>\n",
              "      <td>9a701a4536a05b6610a590a9fe702ed8</td>\n",
              "    </tr>\n",
              "    <tr>\n",
              "      <th>1</th>\n",
              "      <td>cad0b8547008d1524c1a0e5fd51f9908\\t1</td>\n",
              "      <td>1</td>\n",
              "      <td>cad0b8547008d1524c1a0e5fd51f9908</td>\n",
              "    </tr>\n",
              "    <tr>\n",
              "      <th>2</th>\n",
              "      <td>4bbe607e7dc95460e2cc1a6ee5f4dfa6\\t0</td>\n",
              "      <td>0</td>\n",
              "      <td>4bbe607e7dc95460e2cc1a6ee5f4dfa6</td>\n",
              "    </tr>\n",
              "    <tr>\n",
              "      <th>3</th>\n",
              "      <td>30fb32cba90b34af26f3f14f5d636805\\t0</td>\n",
              "      <td>0</td>\n",
              "      <td>30fb32cba90b34af26f3f14f5d636805</td>\n",
              "    </tr>\n",
              "    <tr>\n",
              "      <th>4</th>\n",
              "      <td>fa33445afe71a6dc18e4881c053da5be\\t0</td>\n",
              "      <td>0</td>\n",
              "      <td>fa33445afe71a6dc18e4881c053da5be</td>\n",
              "    </tr>\n",
              "  </tbody>\n",
              "</table>\n",
              "</div>"
            ],
            "text/plain": [
              "   5d1f7e43366513a1d0a6ec5640c3dc24\\t1 target  \\\n",
              "0  9a701a4536a05b6610a590a9fe702ed8\\t1      1   \n",
              "1  cad0b8547008d1524c1a0e5fd51f9908\\t1      1   \n",
              "2  4bbe607e7dc95460e2cc1a6ee5f4dfa6\\t0      0   \n",
              "3  30fb32cba90b34af26f3f14f5d636805\\t0      0   \n",
              "4  fa33445afe71a6dc18e4881c053da5be\\t0      0   \n",
              "\n",
              "                               name  \n",
              "0  9a701a4536a05b6610a590a9fe702ed8  \n",
              "1  cad0b8547008d1524c1a0e5fd51f9908  \n",
              "2  4bbe607e7dc95460e2cc1a6ee5f4dfa6  \n",
              "3  30fb32cba90b34af26f3f14f5d636805  \n",
              "4  fa33445afe71a6dc18e4881c053da5be  "
            ]
          },
          "execution_count": 63,
          "metadata": {},
          "output_type": "execute_result"
        }
      ],
      "source": [
        "metadata['target'] = metadata['5d1f7e43366513a1d0a6ec5640c3dc24\\t1'].apply(lambda x: x[-1:])\n",
        "metadata['name'] = metadata['5d1f7e43366513a1d0a6ec5640c3dc24\\t1'].apply(lambda x: x[:-2])\n",
        "metadata.head()"
      ]
    },
    {
      "cell_type": "markdown",
      "source": [
        "Создадим функции по извлечению признаков из файлов, а именно, спектрограммы:"
      ],
      "metadata": {
        "id": "rKGZoEY-ZTym"
      },
      "id": "rKGZoEY-ZTym"
    },
    {
      "cell_type": "code",
      "execution_count": null,
      "id": "58f25900-3c0a-4145-ab46-fb5305ddbd7c",
      "metadata": {
        "id": "58f25900-3c0a-4145-ab46-fb5305ddbd7c"
      },
      "outputs": [],
      "source": [
        "def get_melspectrogram_db(file_path, sr=None, n_fft=2048, hop_length=512, n_mels=128, fmin=20, fmax=8300, top_db=80):\n",
        "    wav,sr = librosa.load(file_path,sr=sr)\n",
        "    if wav.shape[0]<5*sr:\n",
        "        wav=np.pad(wav,int(np.ceil((5*sr-wav.shape[0])/2)),mode='reflect')\n",
        "    else:\n",
        "        wav=wav[:5*sr]\n",
        "    spec=librosa.feature.melspectrogram(y=wav, sr=sr, n_fft=n_fft,\n",
        "              hop_length=hop_length,n_mels=n_mels,fmin=fmin,fmax=fmax)\n",
        "    return spec"
      ]
    },
    {
      "cell_type": "code",
      "source": [
        "def get_melspectrogram_db_aug(file, sr=None, n_fft=2048, hop_length=512, n_mels=128, fmin=20, fmax=8300, top_db=80):\n",
        "    wav = file\n",
        "    if wav.shape[0]<5*sr:\n",
        "        wav=np.pad(wav,int(np.ceil((5*sr-wav.shape[0])/2)),mode='reflect')\n",
        "    else:\n",
        "        wav=wav[:5*sr]\n",
        "    spec=librosa.feature.melspectrogram(y=wav, sr=sr, n_fft=n_fft,\n",
        "              hop_length=hop_length,n_mels=n_mels,fmin=fmin,fmax=fmax)\n",
        "    return spec"
      ],
      "metadata": {
        "id": "XlZaDkiaZLmH"
      },
      "id": "XlZaDkiaZLmH",
      "execution_count": null,
      "outputs": []
    },
    {
      "cell_type": "markdown",
      "source": [
        "Добавим функции аугментации звуковых файлов (добавление шума, изменение скорости файла, громкости):"
      ],
      "metadata": {
        "id": "QsjNtfRVJUDq"
      },
      "id": "QsjNtfRVJUDq"
    },
    {
      "cell_type": "code",
      "execution_count": null,
      "id": "8965e42c-95f5-4c90-bb2e-bea6e48fb1a9",
      "metadata": {
        "id": "8965e42c-95f5-4c90-bb2e-bea6e48fb1a9"
      },
      "outputs": [],
      "source": [
        "def add_white_noise(signal, noise_percentage_factor):\n",
        "    noise = np.random.normal(0, signal.std(), signal.size)\n",
        "    augmented_signal = signal + noise * noise_percentage_factor\n",
        "    return augmented_signal\n",
        "\n",
        "\n",
        "def time_stretch(signal, time_stretch_rate):\n",
        "    \"\"\"Time stretching implemented with librosa:\n",
        "    https://librosa.org/doc/main/generated/librosa.effects.pitch_shift.html?highlight=pitch%20shift#librosa.effects.pitch_shift\n",
        "    \"\"\"\n",
        "    return librosa.effects.time_stretch(signal, rate=time_stretch_rate)\n",
        "\n",
        "\n",
        "def pitch_scale(signal, sr, num_semitones):\n",
        "    \"\"\"Pitch scaling implemented with librosa:\n",
        "    https://librosa.org/doc/main/generated/librosa.effects.pitch_shift.html?highlight=pitch%20shift#librosa.effects.pitch_shift\n",
        "    \"\"\"\n",
        "    return librosa.effects.pitch_shift(signal, sr, num_semitones)\n",
        "\n",
        "\n",
        "def random_gain(signal, min_factor=0.1, max_factor=0.12):\n",
        "    gain_rate = random.uniform(min_factor, max_factor)\n",
        "    augmented_signal = signal * gain_rate\n",
        "    return augmented_signal\n",
        "\n",
        "\n",
        "def invert_polarity(signal):\n",
        "    return signal * -1"
      ]
    },
    {
      "cell_type": "markdown",
      "source": [
        "Чтобы признаки каждого файла не отличались от другого по размеру приведем их к одному стандарту следующей функцией:"
      ],
      "metadata": {
        "id": "MDBzb1Y4JDBS"
      },
      "id": "MDBzb1Y4JDBS"
    },
    {
      "cell_type": "code",
      "execution_count": null,
      "id": "93fb470f-bc1b-4785-aa69-f4b82340ece7",
      "metadata": {
        "id": "93fb470f-bc1b-4785-aa69-f4b82340ece7"
      },
      "outputs": [],
      "source": [
        "def padding(array, xx, yy):\n",
        "    \"\"\"\n",
        "    :param array: numpy array\n",
        "    :param xx: desired height\n",
        "    :param yy: desirex width\n",
        "    :return: padded array\n",
        "    \"\"\"\n",
        "    h = array.shape[0]\n",
        "    w = array.shape[1]\n",
        "    a = max((xx - h) // 2,0)\n",
        "    aa = max(0,xx - a - h)\n",
        "    b = max(0,(yy - w) // 2)\n",
        "    bb = max(yy - b - w,0)\n",
        "    return np.pad(array, pad_width=((a, aa), (b, bb)), mode='constant')"
      ]
    },
    {
      "cell_type": "markdown",
      "source": [
        "Добавим список применяемой аугментации:"
      ],
      "metadata": {
        "id": "VbaLGEALXYZP"
      },
      "id": "VbaLGEALXYZP"
    },
    {
      "cell_type": "code",
      "execution_count": null,
      "id": "3ebbe460-5ee8-4a95-a209-849268eddd1f",
      "metadata": {
        "id": "3ebbe460-5ee8-4a95-a209-849268eddd1f"
      },
      "outputs": [],
      "source": [
        "wav_operations = [invert_polarity(), add_white_noise(0.3), \n",
        "                  add_white_noise(0.5), add_white_noise(0.1), \n",
        "                  time_stretch(1.1), time_stretch(0.9), time_stretch(0.8), random_gain()]"
      ]
    },
    {
      "cell_type": "markdown",
      "source": [
        "Извлекаем признаки из тренировочных файлов:"
      ],
      "metadata": {
        "id": "p3i7WF6GZiIv"
      },
      "id": "p3i7WF6GZiIv"
    },
    {
      "cell_type": "code",
      "execution_count": null,
      "id": "02a3e08c-c936-4999-b97c-e8c4b2bf68a7",
      "metadata": {
        "scrolled": true,
        "id": "02a3e08c-c936-4999-b97c-e8c4b2bf68a7",
        "outputId": "9ea6ab9f-0280-48e2-a5c8-c8d6c5dd9a1b"
      },
      "outputs": [
        {
          "name": "stderr",
          "output_type": "stream",
          "text": [
            "13935it [05:28, 42.41it/s]\n"
          ]
        }
      ],
      "source": [
        "spec_data = []\n",
        "labels = [] \n",
        "max_size=350 # длина фич\n",
        "\n",
        "extracted_features=[]\n",
        "for index_num,row in tqdm(metadata.iterrows()):\n",
        "    file_name = os.path.join(os.path.abspath(audio_dataset_path), str( row[\"name\"]+'.wav'), )\n",
        "\n",
        "    label = row[\"target\"]\n",
        "\n",
        "    spec = get_melspectrogram_db(file_name)\n",
        "    spec_data.append(padding(spec,128, max_size))\n",
        "    labels.append(label)\n",
        "    \n",
        "    signal, sr = librosa.load(file_name, res_type='kaiser_fast')\n",
        "    \n",
        "    for f in wav_operations:\n",
        "        augmented_signal = f(signal)\n",
        "        sr = get_samplerate(augmented_signal)\n",
        "        spec = get_melspectrogram_db_aug(augmented_signal, sr=sr)\n",
        "        spec_data.append(padding(spec,128, max_size))\n",
        "        labels.append(label)"
      ]
    },
    {
      "cell_type": "markdown",
      "source": [
        "Подгружаем названия всех файлов в тестовой папке в лист:"
      ],
      "metadata": {
        "id": "zdKosdxnZnyI"
      },
      "id": "zdKosdxnZnyI"
    },
    {
      "cell_type": "code",
      "execution_count": null,
      "id": "acad2086",
      "metadata": {
        "id": "acad2086"
      },
      "outputs": [],
      "source": [
        "only_test_files = [f for f in listdir(test_audio_dataset_path) if isfile(join(test_audio_dataset_path, f))]"
      ]
    },
    {
      "cell_type": "markdown",
      "source": [
        "Подготовим признаки для тестовой выборки:"
      ],
      "metadata": {
        "id": "IACf2lpJWsL3"
      },
      "id": "IACf2lpJWsL3"
    },
    {
      "cell_type": "code",
      "execution_count": null,
      "id": "6fa3cd1f",
      "metadata": {
        "id": "6fa3cd1f",
        "outputId": "e6d46295-7eab-49f5-efce-c49d89aef768"
      },
      "outputs": [
        {
          "name": "stderr",
          "output_type": "stream",
          "text": [
            "100%|█████████████████████████████████████████████████████████████████████████████| 3413/3413 [00:34<00:00, 100.32it/s]\n"
          ]
        }
      ],
      "source": [
        "test_data = []\n",
        "labels = [] \n",
        "max_size=350 \n",
        "\n",
        "extracted_features=[]\n",
        "for file in tqdm(only_test_files):\n",
        "    file_name = os.path.join(os.path.abspath(test_audio_dataset_path), file, )\n",
        "    spec = get_melspectrogram_db(file_name)\n",
        "    test_data.append(padding(spec,128, max_size))"
      ]
    },
    {
      "cell_type": "markdown",
      "source": [
        "Понижаем битность фич:"
      ],
      "metadata": {
        "id": "7rjrri0cZ7du"
      },
      "id": "7rjrri0cZ7du"
    },
    {
      "cell_type": "code",
      "execution_count": null,
      "id": "78fcfd10-3c04-4225-b459-f5d57d78c03f",
      "metadata": {
        "id": "78fcfd10-3c04-4225-b459-f5d57d78c03f"
      },
      "outputs": [],
      "source": [
        "spec_data = np.array(spec_data)\n",
        "spec_data = np.float32( spec_data )"
      ]
    },
    {
      "cell_type": "code",
      "execution_count": null,
      "id": "ce20ca5c-28c3-4d73-8bac-8f57c1867c2a",
      "metadata": {
        "id": "ce20ca5c-28c3-4d73-8bac-8f57c1867c2a"
      },
      "outputs": [],
      "source": [
        "test_data = np.array(test_data)\n",
        "test_data = np.float32( test_data )"
      ]
    },
    {
      "cell_type": "markdown",
      "source": [
        "Разделяем признаки на тестовые и валидационные для модели:"
      ],
      "metadata": {
        "id": "6qqTQJwQV4zg"
      },
      "id": "6qqTQJwQV4zg"
    },
    {
      "cell_type": "code",
      "execution_count": null,
      "id": "17ecdccb-e74c-470a-8c98-c37526de5271",
      "metadata": {
        "id": "17ecdccb-e74c-470a-8c98-c37526de5271"
      },
      "outputs": [],
      "source": [
        "X_train, X_val = train_test_split( spec_data, test_size=0.2,\n",
        "                                   shuffle=False)"
      ]
    },
    {
      "cell_type": "markdown",
      "source": [
        "Целевой признак аналогично:"
      ],
      "metadata": {
        "id": "1PG6wdsJadUQ"
      },
      "id": "1PG6wdsJadUQ"
    },
    {
      "cell_type": "code",
      "execution_count": null,
      "id": "845cd8df-f7d3-44df-90b2-28ee216ee930",
      "metadata": {
        "id": "845cd8df-f7d3-44df-90b2-28ee216ee930"
      },
      "outputs": [],
      "source": [
        "y=np.array(labels)\n",
        "labelencoder=LabelEncoder()\n",
        "y=to_categorical(labelencoder.fit_transform(y))\n",
        "y_train, y_val = train_test_split( y, test_size=0.2,\n",
        "                                 shuffle=False      )"
      ]
    },
    {
      "cell_type": "markdown",
      "id": "dd0c7708-11f6-490b-b0dd-f12151b9cc2f",
      "metadata": {
        "id": "dd0c7708-11f6-490b-b0dd-f12151b9cc2f"
      },
      "source": [
        "___________________________________________________________"
      ]
    },
    {
      "cell_type": "markdown",
      "id": "express-vessel",
      "metadata": {
        "tags": [],
        "id": "express-vessel"
      },
      "source": [
        "## Создание  модели"
      ]
    },
    {
      "cell_type": "code",
      "execution_count": null,
      "id": "0111f6ea-8095-42af-b599-8d5e7258ceb9",
      "metadata": {
        "id": "0111f6ea-8095-42af-b599-8d5e7258ceb9"
      },
      "outputs": [],
      "source": [
        "num_labels=y_val.shape[1]"
      ]
    },
    {
      "cell_type": "code",
      "execution_count": null,
      "id": "0d9e02e1-949c-4500-a9e0-541723362638",
      "metadata": {
        "id": "0d9e02e1-949c-4500-a9e0-541723362638"
      },
      "outputs": [],
      "source": [
        "dropout_ratio = 0.4\n",
        "l2_ratio=0.0007\n",
        "input_shape=(X_train.shape[1],X_train.shape[2],1)\n",
        "CNNmodel = models.Sequential()\n",
        "CNNmodel.add(layers.Conv2D(16, (3, 3), activation='relu', input_shape=input_shape,\n",
        "                          kernel_regularizer=tf.keras.regularizers.L2(l2_ratio)))\n",
        "CNNmodel.add(layers.MaxPooling2D((2, 2)))\n",
        "CNNmodel.add(layers.Dropout(dropout_ratio))\n",
        "CNNmodel.add(layers.Conv2D(16, (3, 3), activation='relu',\n",
        "                          kernel_regularizer=tf.keras.regularizers.L2(l2_ratio)))\n",
        "CNNmodel.add(layers.MaxPooling2D((2, 2)))\n",
        "CNNmodel.add(layers.Dropout(dropout_ratio))\n",
        "CNNmodel.add(layers.Conv2D(32, (3, 3), activation='relu',\n",
        "                          kernel_regularizer=tf.keras.regularizers.L2(l2_ratio)\n",
        "                          ))\n",
        "CNNmodel.add(layers.Flatten())\n",
        "CNNmodel.add(layers.Dense(32, activation='relu',\n",
        "                          kernel_regularizer=tf.keras.regularizers.L2(l2_ratio)\n",
        "                         ))\n",
        "CNNmodel.add(layers.Dropout(dropout_ratio))\n",
        "CNNmodel.add(layers.Dense(16, activation='relu', \n",
        "                          kernel_regularizer=tf.keras.regularizers.L2(l2_ratio)\n",
        "                         ))\n",
        "CNNmodel.add(layers.Dense(num_labels, activation='softmax'))"
      ]
    },
    {
      "cell_type": "code",
      "execution_count": null,
      "id": "52242a96-c55b-42f1-a05a-063d82a85ac1",
      "metadata": {
        "id": "52242a96-c55b-42f1-a05a-063d82a85ac1"
      },
      "outputs": [],
      "source": [
        "model = CNNmodel"
      ]
    },
    {
      "cell_type": "code",
      "execution_count": null,
      "id": "2aa77b82-0c72-4bd7-b792-9c614d88dc15",
      "metadata": {
        "id": "2aa77b82-0c72-4bd7-b792-9c614d88dc15",
        "outputId": "f4c491da-b4cb-45f4-fdf0-ec0720367b13"
      },
      "outputs": [
        {
          "name": "stdout",
          "output_type": "stream",
          "text": [
            "Model: \"sequential_1\"\n",
            "_________________________________________________________________\n",
            " Layer (type)                Output Shape              Param #   \n",
            "=================================================================\n",
            " conv2d_3 (Conv2D)           (None, 126, 348, 16)      160       \n",
            "                                                                 \n",
            " max_pooling2d_2 (MaxPooling  (None, 63, 174, 16)      0         \n",
            " 2D)                                                             \n",
            "                                                                 \n",
            " dropout_3 (Dropout)         (None, 63, 174, 16)       0         \n",
            "                                                                 \n",
            " conv2d_4 (Conv2D)           (None, 61, 172, 16)       2320      \n",
            "                                                                 \n",
            " max_pooling2d_3 (MaxPooling  (None, 30, 86, 16)       0         \n",
            " 2D)                                                             \n",
            "                                                                 \n",
            " dropout_4 (Dropout)         (None, 30, 86, 16)        0         \n",
            "                                                                 \n",
            " conv2d_5 (Conv2D)           (None, 28, 84, 32)        4640      \n",
            "                                                                 \n",
            " flatten_1 (Flatten)         (None, 75264)             0         \n",
            "                                                                 \n",
            " dense_3 (Dense)             (None, 32)                2408480   \n",
            "                                                                 \n",
            " dropout_5 (Dropout)         (None, 32)                0         \n",
            "                                                                 \n",
            " dense_4 (Dense)             (None, 16)                528       \n",
            "                                                                 \n",
            " dense_5 (Dense)             (None, 2)                 34        \n",
            "                                                                 \n",
            "=================================================================\n",
            "Total params: 2,416,162\n",
            "Trainable params: 2,416,162\n",
            "Non-trainable params: 0\n",
            "_________________________________________________________________\n"
          ]
        }
      ],
      "source": [
        "model.summary()"
      ]
    },
    {
      "cell_type": "markdown",
      "source": [
        "Сформируем веса классов:"
      ],
      "metadata": {
        "id": "8vEFFJ0tUq04"
      },
      "id": "8vEFFJ0tUq04"
    },
    {
      "cell_type": "code",
      "execution_count": null,
      "id": "6de35e43-7fb8-4736-8764-a55d70c7a2e2",
      "metadata": {
        "id": "6de35e43-7fb8-4736-8764-a55d70c7a2e2",
        "outputId": "821debca-a424-41a2-c10f-fc1cb741fac4"
      },
      "outputs": [
        {
          "data": {
            "text/plain": [
              "{0: 0.9143700787401575, 1: 1.1033254156769596}"
            ]
          },
          "execution_count": 48,
          "metadata": {},
          "output_type": "execute_result"
        }
      ],
      "source": [
        "neg, pos = np.bincount(metadata['target'])\n",
        "total = neg + pos\n",
        "weight_for_0 = (1 / neg) * (total / 2.0)\n",
        "weight_for_1 = (1 / pos) * (total / 2.0)\n",
        "\n",
        "class_weights = {0: weight_for_0, 1: weight_for_1}\n",
        "class_weights"
      ]
    },
    {
      "cell_type": "markdown",
      "source": [
        "Загружаем веса:"
      ],
      "metadata": {
        "id": "QKJNY9J0UmFh"
      },
      "id": "QKJNY9J0UmFh"
    },
    {
      "cell_type": "code",
      "execution_count": null,
      "id": "d21cfa2b-d8dd-4dcf-b929-d4b40d6adc51",
      "metadata": {
        "id": "d21cfa2b-d8dd-4dcf-b929-d4b40d6adc51",
        "outputId": "64d1efab-6641-405d-dd61-f51c3d5270df"
      },
      "outputs": [
        {
          "name": "stdout",
          "output_type": "stream",
          "text": [
            "success\n"
          ]
        }
      ],
      "source": [
        "try:\n",
        "  model.load_weights('./my_model_weights_wav_yandex_cnn_gfhogf4j.h5')\n",
        "  print('success')\n",
        "except:\n",
        "  pass"
      ]
    },
    {
      "cell_type": "code",
      "execution_count": null,
      "id": "06913a9b-aaa0-466c-864d-5de92d67fffa",
      "metadata": {
        "id": "06913a9b-aaa0-466c-864d-5de92d67fffa"
      },
      "outputs": [],
      "source": [
        "def get_lr_metric(optimizer):\n",
        "    def lr(y_true, y_pred):\n",
        "        return optimizer._decayed_lr(tf.float32) \n",
        "    return lr\n",
        "\n",
        "optimizer = keras.optimizers.Adam(learning_rate=3.1250e-06)\n",
        "\n",
        "lr_metric = get_lr_metric(optimizer)\n",
        "model.compile(loss='categorical_crossentropy',\n",
        "              optimizer=optimizer,\n",
        "              # metrics=['accuracy']\n",
        "              metrics=['accuracy', lr_metric]\n",
        "             )\n",
        "\n",
        "EarlyStopping = tf.keras.callbacks.EarlyStopping(monitor='val_loss',\n",
        "                                                 patience = 6, mode = 'min', restore_best_weights = True)\n",
        "callback = tf.keras.callbacks.ReduceLROnPlateau(monitor='loss', factor=0.5,\n",
        "                              patience=2, min_lr=0)"
      ]
    },
    {
      "cell_type": "markdown",
      "source": [
        "Обучаем модель:"
      ],
      "metadata": {
        "id": "gA4obitObQx-"
      },
      "id": "gA4obitObQx-"
    },
    {
      "cell_type": "code",
      "source": [
        "start = datetime.now()\n",
        "\n",
        "hist = model.fit(X_train, y_train, batch_size=128, \n",
        "                 validation_data=(X_val, y_val),\n",
        "                 callbacks=[callback,EarlyStopping], verbose=1, epochs=3000,  \n",
        "           class_weight=class_weights\n",
        "            )\n",
        "\n",
        "duration = datetime.now() - start\n",
        "print('Время обучения:', duration)"
      ],
      "metadata": {
        "id": "C9Z-cOI6TzdW"
      },
      "id": "C9Z-cOI6TzdW",
      "execution_count": null,
      "outputs": []
    },
    {
      "cell_type": "code",
      "execution_count": null,
      "id": "d28b8a58-bf18-4831-a58e-911f319cffe2",
      "metadata": {
        "id": "d28b8a58-bf18-4831-a58e-911f319cffe2"
      },
      "outputs": [],
      "source": [
        "model.save_weights('./my_model_weights_wav_yandex_cnn_gfhogf4j.h5')"
      ]
    },
    {
      "cell_type": "markdown",
      "source": [
        "Проверяем нашу модель на валидационной выборке:"
      ],
      "metadata": {
        "id": "RzY2vEVlatpH"
      },
      "id": "RzY2vEVlatpH"
    },
    {
      "cell_type": "code",
      "execution_count": null,
      "id": "8cd665ed-6e31-483d-b639-164c729b95cb",
      "metadata": {
        "tags": [],
        "id": "8cd665ed-6e31-483d-b639-164c729b95cb"
      },
      "outputs": [],
      "source": [
        "test_accuracy = model.evaluate(X_val,y_val,verbose=0)\n",
        "print(test_accuracy[1])"
      ]
    },
    {
      "cell_type": "markdown",
      "id": "b1b89bd1",
      "metadata": {
        "id": "b1b89bd1"
      },
      "source": [
        "Делаем предсказания на тестовых данных от Яндекса:"
      ]
    },
    {
      "cell_type": "code",
      "execution_count": null,
      "id": "6f38e3d8",
      "metadata": {
        "scrolled": false,
        "id": "6f38e3d8",
        "outputId": "7c0bd853-147d-4cb0-fd9b-8a54b6d3b5ab"
      },
      "outputs": [
        {
          "name": "stdout",
          "output_type": "stream",
          "text": [
            "107/107 [==============================] - 4s 40ms/step\n"
          ]
        }
      ],
      "source": [
        "predicts_test = model.predict(test_data)"
      ]
    },
    {
      "cell_type": "code",
      "execution_count": null,
      "id": "b4db5b52",
      "metadata": {
        "scrolled": false,
        "id": "b4db5b52"
      },
      "outputs": [],
      "source": [
        "predicts_test = (predicts_test[:,1]>0.5)*1"
      ]
    },
    {
      "cell_type": "markdown",
      "source": [
        "Формируем словарь предсказаний для дальнейшей записи его в файл:"
      ],
      "metadata": {
        "id": "vJXoYPgSbGb_"
      },
      "id": "vJXoYPgSbGb_"
    },
    {
      "cell_type": "code",
      "execution_count": null,
      "id": "3a8f6a6a",
      "metadata": {
        "id": "3a8f6a6a"
      },
      "outputs": [],
      "source": [
        "test_ids = [x[:-4] for x in only_test_files]"
      ]
    },
    {
      "cell_type": "code",
      "execution_count": null,
      "id": "1545d959",
      "metadata": {
        "id": "1545d959"
      },
      "outputs": [],
      "source": [
        "d = {}\n",
        "for x in range(len(test_ids)):\n",
        "    d[test_ids[x]] = predicts_test[x]"
      ]
    },
    {
      "cell_type": "markdown",
      "id": "1b791715",
      "metadata": {
        "id": "1b791715"
      },
      "source": [
        "Формируем tsv файл:"
      ]
    },
    {
      "cell_type": "code",
      "execution_count": null,
      "id": "bf48c1de",
      "metadata": {
        "id": "bf48c1de"
      },
      "outputs": [],
      "source": [
        "import csv        \n",
        "        \n",
        "with open(\"records.tsv\", \"w\") as record_file:\n",
        "    for x,y in d.items():\n",
        "        record_file.write(\"%s %s\\n\" % (x,y))"
      ]
    }
  ],
  "metadata": {
    "kernelspec": {
      "display_name": "Python 3 (ipykernel)",
      "language": "python",
      "name": "python3"
    },
    "language_info": {
      "codemirror_mode": {
        "name": "ipython",
        "version": 3
      },
      "file_extension": ".py",
      "mimetype": "text/x-python",
      "name": "python",
      "nbconvert_exporter": "python",
      "pygments_lexer": "ipython3",
      "version": "3.9.12"
    },
    "colab": {
      "provenance": [],
      "collapsed_sections": [],
      "toc_visible": true
    }
  },
  "nbformat": 4,
  "nbformat_minor": 5
}