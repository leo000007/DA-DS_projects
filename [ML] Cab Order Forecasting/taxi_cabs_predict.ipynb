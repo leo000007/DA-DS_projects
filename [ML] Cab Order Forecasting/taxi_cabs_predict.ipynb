{
  "cells": [
    {
      "cell_type": "markdown",
      "metadata": {
        "id": "OambJcngSkkk"
      },
      "source": [
        "## Прогноз количества заказов такси"
      ]
    },
    {
      "cell_type": "markdown",
      "metadata": {
        "id": "LcOR4BE3Skkm"
      },
      "source": [
        "Компания «Чётенькое такси» собрала исторические данные о заказах такси в аэропортах. Чтобы привлекать больше водителей в период пиковой нагрузки, нужно спрогнозировать количество заказов такси на следующий час. Постройте модель для такого предсказания.\n",
        "Значение метрики RMSE на тестовой выборке должно быть не больше 48."
      ]
    },
    {
      "cell_type": "code",
      "execution_count": 1,
      "metadata": {
        "id": "4M8JPSfIxSe9",
        "trusted": false
      },
      "outputs": [],
      "source": [
        "!pip install lightgbm -q\n",
        "!pip install catboost -q\n",
        "!pip install optuna -q\n",
        "!pip install shutup -q"
      ]
    },
    {
      "cell_type": "code",
      "execution_count": 2,
      "metadata": {
        "id": "OSZ1pbNgmB1C",
        "trusted": false
      },
      "outputs": [],
      "source": [
        "from copy import deepcopy\n",
        "import pandas as pd\n",
        "import numpy as np\n",
        "\n",
        "from catboost import CatBoostRegressor\n",
        "import optuna\n",
        "from datetime import datetime\n",
        "from io import BytesIO\n",
        "from lightgbm import LGBMRegressor\n",
        "import lightgbm as lgb\n",
        "\n",
        "%matplotlib inline\n",
        "import matplotlib.pyplot as plt\n",
        "from optuna.samplers import TPESampler\n",
        "import seaborn as sns\n",
        "from sklearn.model_selection import train_test_split\n",
        "from sklearn.model_selection import KFold\n",
        "from sklearn.preprocessing import StandardScaler, OrdinalEncoder\n",
        "import requests\n",
        "import time\n",
        "from sklearn.linear_model import (\n",
        "    LinearRegression,\n",
        "    Lasso,\n",
        "    Ridge,\n",
        "    ElasticNet,\n",
        "    BayesianRidge,\n",
        ")\n",
        "from sklearn.metrics import (\n",
        "    mean_squared_error,\n",
        "    mean_absolute_error,\n",
        "    r2_score,\n",
        ")\n",
        "from sklearn import preprocessing\n",
        "from statsmodels.tsa.seasonal import seasonal_decompose\n",
        "import warnings\n",
        "from sklearn.model_selection import TimeSeriesSplit\n",
        "import shutup"
      ]
    },
    {
      "cell_type": "code",
      "execution_count": 3,
      "metadata": {
        "id": "9l5PWvb_V2Zl",
        "trusted": false
      },
      "outputs": [],
      "source": [
        "# установка параметров системы\n",
        "pd.options.display.max_columns = 100  # чтоб выводил все столбцы на экран\n",
        "pd.options.display.float_format = (\n",
        "    \"{:,.3f}\".format\n",
        ")  # отображение количества знаков после запятой\n",
        "optuna.logging.set_verbosity(optuna.logging.WARNING)\n",
        "shutup.please()"
      ]
    },
    {
      "cell_type": "code",
      "execution_count": 4,
      "metadata": {
        "colab": {
          "base_uri": "https://localhost:8080/"
        },
        "id": "wpF__BW9V334",
        "outputId": "9dc9c155-a00f-4b38-c8ed-c930115713e1",
        "trusted": false
      },
      "outputs": [
        {
          "output_type": "stream",
          "name": "stdout",
          "text": [
            "ошибка чтения с диска\n"
          ]
        }
      ],
      "source": [
        "try:\n",
        "    df = pd.read_csv(\n",
        "        \"/datasets/taxi.csv\", index_col=[0], parse_dates=[0]\n",
        "    )  # если нет интернета\n",
        "except:\n",
        "    print(\"ошибка чтения с диска\")\n",
        "try:\n",
        "    df.shape  # проверка на существование датасета\n",
        "except:\n",
        "    try:\n",
        "        df = pd.read_csv(\n",
        "            \"https://code.s3.yandex.net/datasets/taxi.csv\",\n",
        "            index_col=[0],\n",
        "            parse_dates=[0],\n",
        "        )  # если нет интернета\n",
        "    except:\n",
        "        print(\"ошибка связи с сетью\")\n",
        "        try:  # если ЯП удалит файл у себя\n",
        "            spreadsheet_id = \"1e-5P0ubndFCQ6ax_U6pgecnV9rLjrouUUqgBjrAgKHw\"\n",
        "            file_name = (\n",
        "                \"https://docs.google.com/spreadsheets/d/{}/export?format=csv\".format(\n",
        "                    spreadsheet_id\n",
        "                )\n",
        "            )\n",
        "            r = requests.get(file_name)\n",
        "            df = pd.read_csv(BytesIO(r.content))\n",
        "        except:\n",
        "            pass\n",
        "\n",
        "df_raw = df.copy()  # сохраним нетронутые сеты на всякий случай\n",
        "start_time_project = time.time()"
      ]
    },
    {
      "cell_type": "markdown",
      "metadata": {
        "id": "MUFtMOefSkkm"
      },
      "source": [
        "## Подготовка данных"
      ]
    },
    {
      "cell_type": "markdown",
      "metadata": {
        "id": "xKO81L0peovK"
      },
      "source": [
        "### Первичное ознакомление"
      ]
    },
    {
      "cell_type": "markdown",
      "metadata": {
        "id": "pnmnkeDA7iQc"
      },
      "source": [
        "Получим общую информацию о таблицах:"
      ]
    },
    {
      "cell_type": "code",
      "execution_count": 5,
      "metadata": {
        "colab": {
          "base_uri": "https://localhost:8080/"
        },
        "id": "MtjQN81QCTfp",
        "outputId": "3cf90858-cc88-47b0-b7b6-07974acadd15",
        "trusted": false
      },
      "outputs": [
        {
          "output_type": "stream",
          "name": "stdout",
          "text": [
            "<class 'pandas.core.frame.DataFrame'>\n",
            "DatetimeIndex: 26496 entries, 2018-03-01 00:00:00 to 2018-08-31 23:50:00\n",
            "Data columns (total 1 columns):\n",
            " #   Column      Non-Null Count  Dtype\n",
            "---  ------      --------------  -----\n",
            " 0   num_orders  26496 non-null  int64\n",
            "dtypes: int64(1)\n",
            "memory usage: 414.0 KB\n"
          ]
        }
      ],
      "source": [
        "df.info()"
      ]
    },
    {
      "cell_type": "markdown",
      "metadata": {
        "id": "fHLPSG1VaUoV"
      },
      "source": [
        "Что ж, пропусков нет. И то хорошо."
      ]
    },
    {
      "cell_type": "markdown",
      "metadata": {
        "id": "X86U4TAhCglX"
      },
      "source": [
        "Выведем на экран первые пять строк таблицы:"
      ]
    },
    {
      "cell_type": "code",
      "execution_count": 6,
      "metadata": {
        "colab": {
          "base_uri": "https://localhost:8080/",
          "height": 238
        },
        "id": "7Ap84CWlzceR",
        "outputId": "ec720194-c56e-4413-9965-ccf82bc1adb3",
        "trusted": false
      },
      "outputs": [
        {
          "output_type": "execute_result",
          "data": {
            "text/plain": [
              "                     num_orders\n",
              "datetime                       \n",
              "2018-03-01 00:00:00           9\n",
              "2018-03-01 00:10:00          14\n",
              "2018-03-01 00:20:00          28\n",
              "2018-03-01 00:30:00          20\n",
              "2018-03-01 00:40:00          32"
            ],
            "text/html": [
              "\n",
              "  <div id=\"df-ae137577-616e-4375-80d6-1b5e7e81c0ef\">\n",
              "    <div class=\"colab-df-container\">\n",
              "      <div>\n",
              "<style scoped>\n",
              "    .dataframe tbody tr th:only-of-type {\n",
              "        vertical-align: middle;\n",
              "    }\n",
              "\n",
              "    .dataframe tbody tr th {\n",
              "        vertical-align: top;\n",
              "    }\n",
              "\n",
              "    .dataframe thead th {\n",
              "        text-align: right;\n",
              "    }\n",
              "</style>\n",
              "<table border=\"1\" class=\"dataframe\">\n",
              "  <thead>\n",
              "    <tr style=\"text-align: right;\">\n",
              "      <th></th>\n",
              "      <th>num_orders</th>\n",
              "    </tr>\n",
              "    <tr>\n",
              "      <th>datetime</th>\n",
              "      <th></th>\n",
              "    </tr>\n",
              "  </thead>\n",
              "  <tbody>\n",
              "    <tr>\n",
              "      <th>2018-03-01 00:00:00</th>\n",
              "      <td>9</td>\n",
              "    </tr>\n",
              "    <tr>\n",
              "      <th>2018-03-01 00:10:00</th>\n",
              "      <td>14</td>\n",
              "    </tr>\n",
              "    <tr>\n",
              "      <th>2018-03-01 00:20:00</th>\n",
              "      <td>28</td>\n",
              "    </tr>\n",
              "    <tr>\n",
              "      <th>2018-03-01 00:30:00</th>\n",
              "      <td>20</td>\n",
              "    </tr>\n",
              "    <tr>\n",
              "      <th>2018-03-01 00:40:00</th>\n",
              "      <td>32</td>\n",
              "    </tr>\n",
              "  </tbody>\n",
              "</table>\n",
              "</div>\n",
              "      <button class=\"colab-df-convert\" onclick=\"convertToInteractive('df-ae137577-616e-4375-80d6-1b5e7e81c0ef')\"\n",
              "              title=\"Convert this dataframe to an interactive table.\"\n",
              "              style=\"display:none;\">\n",
              "        \n",
              "  <svg xmlns=\"http://www.w3.org/2000/svg\" height=\"24px\"viewBox=\"0 0 24 24\"\n",
              "       width=\"24px\">\n",
              "    <path d=\"M0 0h24v24H0V0z\" fill=\"none\"/>\n",
              "    <path d=\"M18.56 5.44l.94 2.06.94-2.06 2.06-.94-2.06-.94-.94-2.06-.94 2.06-2.06.94zm-11 1L8.5 8.5l.94-2.06 2.06-.94-2.06-.94L8.5 2.5l-.94 2.06-2.06.94zm10 10l.94 2.06.94-2.06 2.06-.94-2.06-.94-.94-2.06-.94 2.06-2.06.94z\"/><path d=\"M17.41 7.96l-1.37-1.37c-.4-.4-.92-.59-1.43-.59-.52 0-1.04.2-1.43.59L10.3 9.45l-7.72 7.72c-.78.78-.78 2.05 0 2.83L4 21.41c.39.39.9.59 1.41.59.51 0 1.02-.2 1.41-.59l7.78-7.78 2.81-2.81c.8-.78.8-2.07 0-2.86zM5.41 20L4 18.59l7.72-7.72 1.47 1.35L5.41 20z\"/>\n",
              "  </svg>\n",
              "      </button>\n",
              "      \n",
              "  <style>\n",
              "    .colab-df-container {\n",
              "      display:flex;\n",
              "      flex-wrap:wrap;\n",
              "      gap: 12px;\n",
              "    }\n",
              "\n",
              "    .colab-df-convert {\n",
              "      background-color: #E8F0FE;\n",
              "      border: none;\n",
              "      border-radius: 50%;\n",
              "      cursor: pointer;\n",
              "      display: none;\n",
              "      fill: #1967D2;\n",
              "      height: 32px;\n",
              "      padding: 0 0 0 0;\n",
              "      width: 32px;\n",
              "    }\n",
              "\n",
              "    .colab-df-convert:hover {\n",
              "      background-color: #E2EBFA;\n",
              "      box-shadow: 0px 1px 2px rgba(60, 64, 67, 0.3), 0px 1px 3px 1px rgba(60, 64, 67, 0.15);\n",
              "      fill: #174EA6;\n",
              "    }\n",
              "\n",
              "    [theme=dark] .colab-df-convert {\n",
              "      background-color: #3B4455;\n",
              "      fill: #D2E3FC;\n",
              "    }\n",
              "\n",
              "    [theme=dark] .colab-df-convert:hover {\n",
              "      background-color: #434B5C;\n",
              "      box-shadow: 0px 1px 3px 1px rgba(0, 0, 0, 0.15);\n",
              "      filter: drop-shadow(0px 1px 2px rgba(0, 0, 0, 0.3));\n",
              "      fill: #FFFFFF;\n",
              "    }\n",
              "  </style>\n",
              "\n",
              "      <script>\n",
              "        const buttonEl =\n",
              "          document.querySelector('#df-ae137577-616e-4375-80d6-1b5e7e81c0ef button.colab-df-convert');\n",
              "        buttonEl.style.display =\n",
              "          google.colab.kernel.accessAllowed ? 'block' : 'none';\n",
              "\n",
              "        async function convertToInteractive(key) {\n",
              "          const element = document.querySelector('#df-ae137577-616e-4375-80d6-1b5e7e81c0ef');\n",
              "          const dataTable =\n",
              "            await google.colab.kernel.invokeFunction('convertToInteractive',\n",
              "                                                     [key], {});\n",
              "          if (!dataTable) return;\n",
              "\n",
              "          const docLinkHtml = 'Like what you see? Visit the ' +\n",
              "            '<a target=\"_blank\" href=https://colab.research.google.com/notebooks/data_table.ipynb>data table notebook</a>'\n",
              "            + ' to learn more about interactive tables.';\n",
              "          element.innerHTML = '';\n",
              "          dataTable['output_type'] = 'display_data';\n",
              "          await google.colab.output.renderOutput(dataTable, element);\n",
              "          const docLink = document.createElement('div');\n",
              "          docLink.innerHTML = docLinkHtml;\n",
              "          element.appendChild(docLink);\n",
              "        }\n",
              "      </script>\n",
              "    </div>\n",
              "  </div>\n",
              "  "
            ]
          },
          "metadata": {},
          "execution_count": 6
        }
      ],
      "source": [
        "df.head()"
      ]
    },
    {
      "cell_type": "markdown",
      "metadata": {
        "id": "aNH3hlpSaG_W"
      },
      "source": [
        "На руках у нас количество заказов такси за последние 10 минут. Ресемплируем данные, чтобы посмотреть количество заказов за 1 час:"
      ]
    },
    {
      "cell_type": "code",
      "execution_count": 7,
      "metadata": {
        "id": "hg-68FUIZsaW",
        "trusted": false
      },
      "outputs": [],
      "source": [
        "df.index = pd.to_datetime(df.index)\n",
        "df = df.sort_index()\n",
        "df = df.resample(\"1H\").sum()"
      ]
    },
    {
      "cell_type": "code",
      "execution_count": 8,
      "metadata": {
        "colab": {
          "base_uri": "https://localhost:8080/",
          "height": 238
        },
        "id": "qU4J4FJQbe6X",
        "outputId": "c56ed9df-e904-4c08-d97b-e1e3a56b5a5b",
        "trusted": false
      },
      "outputs": [
        {
          "output_type": "execute_result",
          "data": {
            "text/plain": [
              "                     num_orders\n",
              "datetime                       \n",
              "2018-03-01 00:00:00         124\n",
              "2018-03-01 01:00:00          85\n",
              "2018-03-01 02:00:00          71\n",
              "2018-03-01 03:00:00          66\n",
              "2018-03-01 04:00:00          43"
            ],
            "text/html": [
              "\n",
              "  <div id=\"df-53eef7ef-a6c8-4fe7-986b-bf5e5ab8a61f\">\n",
              "    <div class=\"colab-df-container\">\n",
              "      <div>\n",
              "<style scoped>\n",
              "    .dataframe tbody tr th:only-of-type {\n",
              "        vertical-align: middle;\n",
              "    }\n",
              "\n",
              "    .dataframe tbody tr th {\n",
              "        vertical-align: top;\n",
              "    }\n",
              "\n",
              "    .dataframe thead th {\n",
              "        text-align: right;\n",
              "    }\n",
              "</style>\n",
              "<table border=\"1\" class=\"dataframe\">\n",
              "  <thead>\n",
              "    <tr style=\"text-align: right;\">\n",
              "      <th></th>\n",
              "      <th>num_orders</th>\n",
              "    </tr>\n",
              "    <tr>\n",
              "      <th>datetime</th>\n",
              "      <th></th>\n",
              "    </tr>\n",
              "  </thead>\n",
              "  <tbody>\n",
              "    <tr>\n",
              "      <th>2018-03-01 00:00:00</th>\n",
              "      <td>124</td>\n",
              "    </tr>\n",
              "    <tr>\n",
              "      <th>2018-03-01 01:00:00</th>\n",
              "      <td>85</td>\n",
              "    </tr>\n",
              "    <tr>\n",
              "      <th>2018-03-01 02:00:00</th>\n",
              "      <td>71</td>\n",
              "    </tr>\n",
              "    <tr>\n",
              "      <th>2018-03-01 03:00:00</th>\n",
              "      <td>66</td>\n",
              "    </tr>\n",
              "    <tr>\n",
              "      <th>2018-03-01 04:00:00</th>\n",
              "      <td>43</td>\n",
              "    </tr>\n",
              "  </tbody>\n",
              "</table>\n",
              "</div>\n",
              "      <button class=\"colab-df-convert\" onclick=\"convertToInteractive('df-53eef7ef-a6c8-4fe7-986b-bf5e5ab8a61f')\"\n",
              "              title=\"Convert this dataframe to an interactive table.\"\n",
              "              style=\"display:none;\">\n",
              "        \n",
              "  <svg xmlns=\"http://www.w3.org/2000/svg\" height=\"24px\"viewBox=\"0 0 24 24\"\n",
              "       width=\"24px\">\n",
              "    <path d=\"M0 0h24v24H0V0z\" fill=\"none\"/>\n",
              "    <path d=\"M18.56 5.44l.94 2.06.94-2.06 2.06-.94-2.06-.94-.94-2.06-.94 2.06-2.06.94zm-11 1L8.5 8.5l.94-2.06 2.06-.94-2.06-.94L8.5 2.5l-.94 2.06-2.06.94zm10 10l.94 2.06.94-2.06 2.06-.94-2.06-.94-.94-2.06-.94 2.06-2.06.94z\"/><path d=\"M17.41 7.96l-1.37-1.37c-.4-.4-.92-.59-1.43-.59-.52 0-1.04.2-1.43.59L10.3 9.45l-7.72 7.72c-.78.78-.78 2.05 0 2.83L4 21.41c.39.39.9.59 1.41.59.51 0 1.02-.2 1.41-.59l7.78-7.78 2.81-2.81c.8-.78.8-2.07 0-2.86zM5.41 20L4 18.59l7.72-7.72 1.47 1.35L5.41 20z\"/>\n",
              "  </svg>\n",
              "      </button>\n",
              "      \n",
              "  <style>\n",
              "    .colab-df-container {\n",
              "      display:flex;\n",
              "      flex-wrap:wrap;\n",
              "      gap: 12px;\n",
              "    }\n",
              "\n",
              "    .colab-df-convert {\n",
              "      background-color: #E8F0FE;\n",
              "      border: none;\n",
              "      border-radius: 50%;\n",
              "      cursor: pointer;\n",
              "      display: none;\n",
              "      fill: #1967D2;\n",
              "      height: 32px;\n",
              "      padding: 0 0 0 0;\n",
              "      width: 32px;\n",
              "    }\n",
              "\n",
              "    .colab-df-convert:hover {\n",
              "      background-color: #E2EBFA;\n",
              "      box-shadow: 0px 1px 2px rgba(60, 64, 67, 0.3), 0px 1px 3px 1px rgba(60, 64, 67, 0.15);\n",
              "      fill: #174EA6;\n",
              "    }\n",
              "\n",
              "    [theme=dark] .colab-df-convert {\n",
              "      background-color: #3B4455;\n",
              "      fill: #D2E3FC;\n",
              "    }\n",
              "\n",
              "    [theme=dark] .colab-df-convert:hover {\n",
              "      background-color: #434B5C;\n",
              "      box-shadow: 0px 1px 3px 1px rgba(0, 0, 0, 0.15);\n",
              "      filter: drop-shadow(0px 1px 2px rgba(0, 0, 0, 0.3));\n",
              "      fill: #FFFFFF;\n",
              "    }\n",
              "  </style>\n",
              "\n",
              "      <script>\n",
              "        const buttonEl =\n",
              "          document.querySelector('#df-53eef7ef-a6c8-4fe7-986b-bf5e5ab8a61f button.colab-df-convert');\n",
              "        buttonEl.style.display =\n",
              "          google.colab.kernel.accessAllowed ? 'block' : 'none';\n",
              "\n",
              "        async function convertToInteractive(key) {\n",
              "          const element = document.querySelector('#df-53eef7ef-a6c8-4fe7-986b-bf5e5ab8a61f');\n",
              "          const dataTable =\n",
              "            await google.colab.kernel.invokeFunction('convertToInteractive',\n",
              "                                                     [key], {});\n",
              "          if (!dataTable) return;\n",
              "\n",
              "          const docLinkHtml = 'Like what you see? Visit the ' +\n",
              "            '<a target=\"_blank\" href=https://colab.research.google.com/notebooks/data_table.ipynb>data table notebook</a>'\n",
              "            + ' to learn more about interactive tables.';\n",
              "          element.innerHTML = '';\n",
              "          dataTable['output_type'] = 'display_data';\n",
              "          await google.colab.output.renderOutput(dataTable, element);\n",
              "          const docLink = document.createElement('div');\n",
              "          docLink.innerHTML = docLinkHtml;\n",
              "          element.appendChild(docLink);\n",
              "        }\n",
              "      </script>\n",
              "    </div>\n",
              "  </div>\n",
              "  "
            ]
          },
          "metadata": {},
          "execution_count": 8
        }
      ],
      "source": [
        "df.head()"
      ]
    },
    {
      "cell_type": "code",
      "execution_count": 9,
      "metadata": {
        "colab": {
          "base_uri": "https://localhost:8080/",
          "height": 470
        },
        "id": "A1kl5zzdb5kI",
        "outputId": "664f8908-5de5-4a4e-b569-42c0a564f0d8",
        "trusted": false
      },
      "outputs": [
        {
          "output_type": "display_data",
          "data": {
            "text/plain": [
              "<Figure size 1440x504 with 1 Axes>"
            ],
            "image/png": "[encoded data removed]"
          },
          "metadata": {
            "needs_background": "light"
          }
        }
      ],
      "source": [
        "fig, ax = plt.subplots(figsize=(20, 7))\n",
        "df.plot(ax=ax)\n",
        "plt.title(\"Количество заказов такси за один час в аэропортах с марта по август 2018\")\n",
        "plt.xlabel(\"Дата\")\n",
        "plt.show()"
      ]
    },
    {
      "cell_type": "code",
      "execution_count": 10,
      "metadata": {
        "colab": {
          "base_uri": "https://localhost:8080/",
          "height": 470
        },
        "id": "u8qo41dOjaIk",
        "outputId": "35ee8338-a6bd-4474-c79e-9d52403f4d83",
        "trusted": false
      },
      "outputs": [
        {
          "output_type": "display_data",
          "data": {
            "text/plain": [
              "<Figure size 1440x504 with 1 Axes>"
            ],
            "image/png": "[encoded data removed]"
          },
          "metadata": {
            "needs_background": "light"
          }
        }
      ],
      "source": [
        "dfd = df.resample(\"1D\").sum()\n",
        "fig, ax = plt.subplots(figsize=(20, 7))\n",
        "dfd.plot(ax=ax)\n",
        "plt.title(\"Количество заказов такси за один день в аэропортах с марта по август 2018\")\n",
        "plt.xlabel(\"Дата\")\n",
        "plt.show()"
      ]
    },
    {
      "cell_type": "markdown",
      "metadata": {
        "id": "Yk6JgB2L3uzo"
      },
      "source": [
        "Наш временной ряд имеет явно не стационарный характер."
      ]
    },
    {
      "cell_type": "markdown",
      "metadata": {
        "id": "0_3xRUXqz8Mp"
      },
      "source": [
        "### Изучение распределений"
      ]
    },
    {
      "cell_type": "code",
      "execution_count": 11,
      "metadata": {
        "colab": {
          "base_uri": "https://localhost:8080/",
          "height": 417
        },
        "id": "_Yz14MxX0Dqg",
        "outputId": "7a2e05e8-c15e-41b1-c842-02a9ced30f91",
        "trusted": false
      },
      "outputs": [
        {
          "output_type": "display_data",
          "data": {
            "text/plain": [
              "<Figure size 1008x432 with 1 Axes>"
            ],
            "image/png": "[encoded data removed]"
          },
          "metadata": {
            "needs_background": "light"
          }
        }
      ],
      "source": [
        "fig, ax = plt.subplots(figsize=(14, 6))\n",
        "df.hist(bins=50, edgecolor=\"black\", linewidth=2, ax=ax)\n",
        "plt.suptitle(\"Распределение значений заказов за один час\")\n",
        "plt.show()"
      ]
    },
    {
      "cell_type": "code",
      "execution_count": 12,
      "metadata": {
        "colab": {
          "base_uri": "https://localhost:8080/",
          "height": 81
        },
        "id": "ivX7wFqc33Mo",
        "outputId": "2cd58f6c-2613-47bf-ac43-0bafea2aa7ea",
        "trusted": false
      },
      "outputs": [
        {
          "output_type": "execute_result",
          "data": {
            "text/plain": [
              "               count   mean    std   min    25%    50%     75%     max\n",
              "num_orders 4,416.000 84.423 45.024 0.000 54.000 78.000 107.000 462.000"
            ],
            "text/html": [
              "\n",
              "  <div id=\"df-34ea7465-4ebe-4ce3-9bb5-5a3684bf8d16\">\n",
              "    <div class=\"colab-df-container\">\n",
              "      <div>\n",
              "<style scoped>\n",
              "    .dataframe tbody tr th:only-of-type {\n",
              "        vertical-align: middle;\n",
              "    }\n",
              "\n",
              "    .dataframe tbody tr th {\n",
              "        vertical-align: top;\n",
              "    }\n",
              "\n",
              "    .dataframe thead th {\n",
              "        text-align: right;\n",
              "    }\n",
              "</style>\n",
              "<table border=\"1\" class=\"dataframe\">\n",
              "  <thead>\n",
              "    <tr style=\"text-align: right;\">\n",
              "      <th></th>\n",
              "      <th>count</th>\n",
              "      <th>mean</th>\n",
              "      <th>std</th>\n",
              "      <th>min</th>\n",
              "      <th>25%</th>\n",
              "      <th>50%</th>\n",
              "      <th>75%</th>\n",
              "      <th>max</th>\n",
              "    </tr>\n",
              "  </thead>\n",
              "  <tbody>\n",
              "    <tr>\n",
              "      <th>num_orders</th>\n",
              "      <td>4,416.000</td>\n",
              "      <td>84.423</td>\n",
              "      <td>45.024</td>\n",
              "      <td>0.000</td>\n",
              "      <td>54.000</td>\n",
              "      <td>78.000</td>\n",
              "      <td>107.000</td>\n",
              "      <td>462.000</td>\n",
              "    </tr>\n",
              "  </tbody>\n",
              "</table>\n",
              "</div>\n",
              "      <button class=\"colab-df-convert\" onclick=\"convertToInteractive('df-34ea7465-4ebe-4ce3-9bb5-5a3684bf8d16')\"\n",
              "              title=\"Convert this dataframe to an interactive table.\"\n",
              "              style=\"display:none;\">\n",
              "        \n",
              "  <svg xmlns=\"http://www.w3.org/2000/svg\" height=\"24px\"viewBox=\"0 0 24 24\"\n",
              "       width=\"24px\">\n",
              "    <path d=\"M0 0h24v24H0V0z\" fill=\"none\"/>\n",
              "    <path d=\"M18.56 5.44l.94 2.06.94-2.06 2.06-.94-2.06-.94-.94-2.06-.94 2.06-2.06.94zm-11 1L8.5 8.5l.94-2.06 2.06-.94-2.06-.94L8.5 2.5l-.94 2.06-2.06.94zm10 10l.94 2.06.94-2.06 2.06-.94-2.06-.94-.94-2.06-.94 2.06-2.06.94z\"/><path d=\"M17.41 7.96l-1.37-1.37c-.4-.4-.92-.59-1.43-.59-.52 0-1.04.2-1.43.59L10.3 9.45l-7.72 7.72c-.78.78-.78 2.05 0 2.83L4 21.41c.39.39.9.59 1.41.59.51 0 1.02-.2 1.41-.59l7.78-7.78 2.81-2.81c.8-.78.8-2.07 0-2.86zM5.41 20L4 18.59l7.72-7.72 1.47 1.35L5.41 20z\"/>\n",
              "  </svg>\n",
              "      </button>\n",
              "      \n",
              "  <style>\n",
              "    .colab-df-container {\n",
              "      display:flex;\n",
              "      flex-wrap:wrap;\n",
              "      gap: 12px;\n",
              "    }\n",
              "\n",
              "    .colab-df-convert {\n",
              "      background-color: #E8F0FE;\n",
              "      border: none;\n",
              "      border-radius: 50%;\n",
              "      cursor: pointer;\n",
              "      display: none;\n",
              "      fill: #1967D2;\n",
              "      height: 32px;\n",
              "      padding: 0 0 0 0;\n",
              "      width: 32px;\n",
              "    }\n",
              "\n",
              "    .colab-df-convert:hover {\n",
              "      background-color: #E2EBFA;\n",
              "      box-shadow: 0px 1px 2px rgba(60, 64, 67, 0.3), 0px 1px 3px 1px rgba(60, 64, 67, 0.15);\n",
              "      fill: #174EA6;\n",
              "    }\n",
              "\n",
              "    [theme=dark] .colab-df-convert {\n",
              "      background-color: #3B4455;\n",
              "      fill: #D2E3FC;\n",
              "    }\n",
              "\n",
              "    [theme=dark] .colab-df-convert:hover {\n",
              "      background-color: #434B5C;\n",
              "      box-shadow: 0px 1px 3px 1px rgba(0, 0, 0, 0.15);\n",
              "      filter: drop-shadow(0px 1px 2px rgba(0, 0, 0, 0.3));\n",
              "      fill: #FFFFFF;\n",
              "    }\n",
              "  </style>\n",
              "\n",
              "      <script>\n",
              "        const buttonEl =\n",
              "          document.querySelector('#df-34ea7465-4ebe-4ce3-9bb5-5a3684bf8d16 button.colab-df-convert');\n",
              "        buttonEl.style.display =\n",
              "          google.colab.kernel.accessAllowed ? 'block' : 'none';\n",
              "\n",
              "        async function convertToInteractive(key) {\n",
              "          const element = document.querySelector('#df-34ea7465-4ebe-4ce3-9bb5-5a3684bf8d16');\n",
              "          const dataTable =\n",
              "            await google.colab.kernel.invokeFunction('convertToInteractive',\n",
              "                                                     [key], {});\n",
              "          if (!dataTable) return;\n",
              "\n",
              "          const docLinkHtml = 'Like what you see? Visit the ' +\n",
              "            '<a target=\"_blank\" href=https://colab.research.google.com/notebooks/data_table.ipynb>data table notebook</a>'\n",
              "            + ' to learn more about interactive tables.';\n",
              "          element.innerHTML = '';\n",
              "          dataTable['output_type'] = 'display_data';\n",
              "          await google.colab.output.renderOutput(dataTable, element);\n",
              "          const docLink = document.createElement('div');\n",
              "          docLink.innerHTML = docLinkHtml;\n",
              "          element.appendChild(docLink);\n",
              "        }\n",
              "      </script>\n",
              "    </div>\n",
              "  </div>\n",
              "  "
            ]
          },
          "metadata": {},
          "execution_count": 12
        }
      ],
      "source": [
        "df.describe().T"
      ]
    },
    {
      "cell_type": "code",
      "execution_count": 13,
      "metadata": {
        "colab": {
          "base_uri": "https://localhost:8080/"
        },
        "id": "IAeq9bTEdZzc",
        "outputId": "0c489f75-dc93-4d32-fb15-8f29ebc04a45",
        "trusted": false
      },
      "outputs": [
        {
          "output_type": "execute_result",
          "data": {
            "text/plain": [
              "count                   4416\n",
              "mean     2018-05-31 23:30:00\n",
              "min      2018-03-01 00:00:00\n",
              "25%      2018-04-15 23:45:00\n",
              "50%      2018-05-31 23:30:00\n",
              "75%      2018-07-16 23:15:00\n",
              "max      2018-08-31 23:00:00\n",
              "Name: date, dtype: object"
            ]
          },
          "metadata": {},
          "execution_count": 13
        }
      ],
      "source": [
        "df[\"date\"] = df.index\n",
        "df[\"date\"].describe(datetime_is_numeric=True)"
      ]
    },
    {
      "cell_type": "markdown",
      "metadata": {
        "id": "sz4pVPUmdh7n"
      },
      "source": [
        "Мы имеем данные с 1 марта по 31 августа включительно."
      ]
    },
    {
      "cell_type": "markdown",
      "metadata": {
        "id": "QNpdUN8CcOdv"
      },
      "source": [
        "Проверим, нет ли разрывов времени в наших данных:"
      ]
    },
    {
      "cell_type": "code",
      "execution_count": 14,
      "metadata": {
        "colab": {
          "base_uri": "https://localhost:8080/"
        },
        "id": "seQL0eq06fZ3",
        "outputId": "bec93f02-a58a-46d9-c9e1-1832722cc351",
        "trusted": false
      },
      "outputs": [
        {
          "output_type": "stream",
          "name": "stdout",
          "text": [
            "0\n"
          ]
        }
      ],
      "source": [
        "df[\"date\"] = df.index\n",
        "df[\"over_1h\"] = (df[\"date\"].diff()).dt.seconds > 3600\n",
        "print(df[\"over_1h\"].sum())\n",
        "del df[\"over_1h\"]"
      ]
    },
    {
      "cell_type": "markdown",
      "metadata": {
        "id": "yW8q0Hw2dVU4"
      },
      "source": [
        "Разрывов во времени нет."
      ]
    },
    {
      "cell_type": "markdown",
      "metadata": {
        "id": "aHwMO29WFoNL"
      },
      "source": [
        "### Проверка явных дубликатов"
      ]
    },
    {
      "cell_type": "markdown",
      "metadata": {
        "id": "gKPnthhWGzGd"
      },
      "source": [
        "Проверим, есть ли дубликаты в данных:"
      ]
    },
    {
      "cell_type": "code",
      "execution_count": 15,
      "metadata": {
        "colab": {
          "base_uri": "https://localhost:8080/"
        },
        "id": "RJMGIgaYFrX7",
        "outputId": "06f2a9cc-90e0-4c3b-bf60-40d360aaca01",
        "trusted": false
      },
      "outputs": [
        {
          "output_type": "stream",
          "name": "stdout",
          "text": [
            "0\n"
          ]
        }
      ],
      "source": [
        "print(df.duplicated().sum())"
      ]
    },
    {
      "cell_type": "markdown",
      "metadata": {
        "id": "alRZ4PE-d3cR"
      },
      "source": [
        "Дубликаты не обнаружены"
      ]
    },
    {
      "cell_type": "markdown",
      "metadata": {
        "id": "rnpSS-zuevdp"
      },
      "source": [
        "### Создание новых признаков"
      ]
    },
    {
      "cell_type": "markdown",
      "metadata": {
        "id": "z0oidK6b404z"
      },
      "source": [
        "Добавим признак сезонности в наш датасет."
      ]
    },
    {
      "cell_type": "code",
      "execution_count": 16,
      "metadata": {
        "colab": {
          "base_uri": "https://localhost:8080/",
          "height": 482
        },
        "id": "zaZo3sdHsdiH",
        "outputId": "eacd4247-61da-492e-987e-ef14d6c9ebed",
        "trusted": false
      },
      "outputs": [
        {
          "output_type": "display_data",
          "data": {
            "text/plain": [
              "<Figure size 1008x504 with 1 Axes>"
            ],
            "image/png": "[encoded data removed]"
          },
          "metadata": {
            "needs_background": "light"
          }
        }
      ],
      "source": [
        "decomposed = seasonal_decompose(df[\"num_orders\"])\n",
        "plt.figure(figsize=(14, 7))\n",
        "\n",
        "decomposed.seasonal[\"2018-03\":\"2018-03-08\"].plot(ax=plt.gca())\n",
        "plt.title(\"Сезонность\")\n",
        "plt.show()"
      ]
    },
    {
      "cell_type": "markdown",
      "metadata": {
        "id": "kaw1NzPi5DXs"
      },
      "source": [
        "На графике видно, что один и тот же паттерн в количестве заказов повторяется изо дня в день."
      ]
    },
    {
      "cell_type": "markdown",
      "metadata": {
        "id": "eCIWydAT5Mlr"
      },
      "source": [
        "Добавим и другие признаки."
      ]
    },
    {
      "cell_type": "code",
      "execution_count": 17,
      "metadata": {
        "id": "3YSyx6GQfVW4",
        "trusted": false
      },
      "outputs": [],
      "source": [
        "df[\"seasonality\"] = decomposed.seasonal.shift(1)\n",
        "df[\"month\"] = df.index.month\n",
        "df[\"day\"] = df.index.day\n",
        "df[\"dayofweek\"] = df.index.dayofweek\n",
        "df[\"weekday_hour\"] = df[\"dayofweek\"].astype(str) + df.index.hour.astype(str)\n",
        "# считаем разность между значением час назад и значением которое было два часа назад\n",
        "df[\"diffs\"] = df[\"num_orders\"].shift(1) - df[\"num_orders\"].shift(2)"
      ]
    },
    {
      "cell_type": "markdown",
      "metadata": {
        "id": "zspibG1TrCu_"
      },
      "source": [
        "Добавим выходные:"
      ]
    },
    {
      "cell_type": "code",
      "execution_count": 18,
      "metadata": {
        "id": "WDWrDvpRrEaF",
        "trusted": false
      },
      "outputs": [],
      "source": [
        "df[\"weekend\"] = ((df[\"dayofweek\"] == 5) | (df[\"dayofweek\"] == 6)) * 1"
      ]
    },
    {
      "cell_type": "code",
      "execution_count": 19,
      "metadata": {
        "id": "fMP4sU7weDPm",
        "trusted": false
      },
      "outputs": [],
      "source": [
        "del df[\"date\"]  # удалим созданный столбец"
      ]
    },
    {
      "cell_type": "markdown",
      "metadata": {
        "id": "p4iAGnyieUQn"
      },
      "source": [
        "## Обучение моделей"
      ]
    },
    {
      "cell_type": "markdown",
      "metadata": {
        "id": "TtYbLPl4fgFe"
      },
      "source": [
        "### Объявляем переменные"
      ]
    },
    {
      "cell_type": "code",
      "execution_count": 20,
      "metadata": {
        "id": "kq4jqNwoiu2N",
        "trusted": false
      },
      "outputs": [],
      "source": [
        "n = 4  # количество выборок при к-в -1\n",
        "rstate = 12345  # фиксируем значение псевдослучайности\n",
        "trials = 25  # число итерации при оптимизации optuna\n",
        "sampler = TPESampler(seed=10)  # фиксируем генератор пвсевдослучайности для optuna\n",
        "trgt = \"num_orders\"  #   название столбца-таргета"
      ]
    },
    {
      "cell_type": "markdown",
      "metadata": {
        "id": "iXFB9eOBIMYo"
      },
      "source": [
        "Создадим список, где явно обозначим для моделей, какие столбцы являются категориальными признаками:"
      ]
    },
    {
      "cell_type": "code",
      "execution_count": 21,
      "metadata": {
        "id": "Oem3hv8slbiM",
        "trusted": false
      },
      "outputs": [],
      "source": [
        "cat_features = [\"day\", \"dayofweek\", \"month\", \"weekday_hour\"]"
      ]
    },
    {
      "cell_type": "markdown",
      "source": [
        "Добавим функцию просчета метрики sMAPE (англ. Symmetric Mean Absolute Percentage Error, «симметричное среднее абсолютное процентное отклонение»):"
      ],
      "metadata": {
        "id": "4W-xH3BHnmSf"
      }
    },
    {
      "cell_type": "code",
      "source": [
        "def smape(y_true, y_pred):\n",
        "    y_true_s = np.array(y_true) +1e-30\n",
        "    y_pred_s = np.array(y_pred) +1e-30\n",
        "    y_true_s = y_true_s.reshape(-1,1) \n",
        "    y_pred_s = y_pred_s.reshape(-1,1)       # делаю решейп, так как какие-то модели могут выдавать не тот формат данных, что нужно\n",
        "    smape = sum(abs(y_true_s - y_pred_s) / ((abs(y_true_s) + abs(y_pred_s))/2) )*100 / len(y_true_s)\n",
        "    return abs(smape)[0]"
      ],
      "metadata": {
        "id": "sHz_kMzRdA15"
      },
      "execution_count": 22,
      "outputs": []
    },
    {
      "cell_type": "markdown",
      "metadata": {
        "id": "micHuibxn4fK"
      },
      "source": [
        "### Сравнение моделей"
      ]
    },
    {
      "cell_type": "markdown",
      "metadata": {
        "id": "Aun914sxgRFk"
      },
      "source": [
        "Так как наш временной ряд не такой уж и стационарный, исключим из нашего исследования модели связанные с деревьями. Будем использовать только линейные модели, которые лучше всего подходят для таких задач с экстраполяцией."
      ]
    },
    {
      "cell_type": "markdown",
      "metadata": {
        "id": "94VS72zX5sA1"
      },
      "source": [
        "Создадим таблицу, куда будем сохранять наши результаты:"
      ]
    },
    {
      "cell_type": "code",
      "execution_count": 23,
      "metadata": {
        "id": "a9AoZW4g43ix",
        "trusted": false
      },
      "outputs": [],
      "source": [
        "df_report = pd.DataFrame(columns={\"model\"}, data=[0])\n",
        "df_report[\"model\"] = \"bayesian_ridge\"\n",
        "df_report = df_report.set_index(\"model\")"
      ]
    },
    {
      "cell_type": "markdown",
      "metadata": {
        "id": "Rd4LISGR2gFR"
      },
      "source": [
        "И создадим функцию для занесения результатов кросс-валидации в таблицу:"
      ]
    },
    {
      "cell_type": "code",
      "execution_count": 24,
      "metadata": {
        "id": "RPFaX4Nc2lYI",
        "trusted": false
      },
      "outputs": [],
      "source": [
        "def table_results(X, y, model, modelname):\n",
        "    rmse = []\n",
        "    mae = []\n",
        "    smapes = []\n",
        "    r2 = []\n",
        "    n = 6\n",
        "    cv_predicts = []\n",
        "    cv = TimeSeriesSplit(n_splits=n)\n",
        "    for idx, (train_idx, test_idx) in enumerate(cv.split(X, y)):\n",
        "        X_trainCV, X_testCV = X.iloc[train_idx], X.iloc[test_idx]\n",
        "        y_trainCV, y_testCV = y.iloc[train_idx], y.iloc[test_idx]\n",
        "        start = time.time()\n",
        "        model_ = deepcopy(model)\n",
        "        model_.fit(X_trainCV, y_trainCV)\n",
        "        end = time.time()\n",
        "        fit_time = end - start\n",
        "        start = time.time()\n",
        "        preds = model_.predict(X_testCV)\n",
        "        end = time.time()\n",
        "        pred_time = end - start\n",
        "        rmse.append(mean_squared_error(y_testCV, preds, squared=False))\n",
        "        mae.append(mean_absolute_error(y_testCV, preds))\n",
        "        smapes.append(smape(y_testCV, preds))\n",
        "        r2.append(r2_score(y_testCV, preds))\n",
        "\n",
        "    df_report.loc[modelname, \"rmse\"] = round(np.mean(rmse), 2)\n",
        "    df_report.loc[modelname, \"mae\"] = round(np.mean(mae), 2)\n",
        "    df_report.loc[modelname, \"smape\"] = round(np.mean(smapes), 2)\n",
        "    df_report.loc[modelname, \"r2\"] = round(np.mean(r2), 2)\n",
        "    df_report.loc[modelname, \"fit_time\"] = fit_time\n",
        "    df_report.loc[modelname, \"pred_time\"] = pred_time\n",
        "    return df_report"
      ]
    },
    {
      "cell_type": "markdown",
      "metadata": {
        "id": "xrgOqQMt6P0m"
      },
      "source": [
        "Также создадим функцию для создания новых признаков. Для каждой модели будет свой набор признаков, на которых она будет обучаться."
      ]
    },
    {
      "cell_type": "code",
      "execution_count": 25,
      "metadata": {
        "id": "4VZZPq0UOKL9",
        "trusted": false
      },
      "outputs": [],
      "source": [
        "def make_features(\n",
        "    data,\n",
        "    mkft_max_lag,\n",
        "    mkft_max_lag24,\n",
        "    mkft_rolling_mean_size,\n",
        "    mkft_rolling_mean_size2,\n",
        "    mkft_rolling_mean_size3,\n",
        "    mkft_labeled=True,\n",
        "    mkft_categorized=True,\n",
        "):  # функция добавления фич\n",
        "\n",
        "    for lag in range(1, mkft_max_lag + 1):\n",
        "        data[\"lag_{}\".format(lag)] = data[trgt].shift(\n",
        "            lag\n",
        "        )  # создаем сдвиги  с интервалом в час\n",
        "    for lag in range(1, mkft_max_lag24 + 1):\n",
        "        data[\"lag24_{}\".format(lag)] = data[trgt].shift(\n",
        "            lag * 24\n",
        "        )  # создаем сдвиги с интервалом в день\n",
        "    data[\"rolling_mean\"] = (\n",
        "        data[trgt].shift().rolling(mkft_rolling_mean_size).mean()\n",
        "    )  # обычная MA\n",
        "    data[\"rolling_mean2\"] = (\n",
        "        data[trgt].shift().rolling(mkft_rolling_mean_size2).mean()\n",
        "    )  # чуть больше MA\n",
        "    data[\"diff_p_m\"] = (\n",
        "        data[trgt].shift() - data[\"rolling_mean2\"]\n",
        "    )  # разница между текущим значением и MA\n",
        "    data[\"diff_m_m\"] = (\n",
        "        data[\"rolling_mean\"] - data[\"rolling_mean2\"]\n",
        "    )  # разница между скользящими\n",
        "    data[\"rolling_mean3\"] = (\n",
        "        data[\"diff_p_m\"].rolling(mkft_rolling_mean_size).mean()\n",
        "    )  # MA на разнице между текущим значением и MA\n",
        "    data[\"mean\"] = (\n",
        "        data[\"diffs\"].rolling(mkft_rolling_mean_size3).mean()\n",
        "    )  # MA на разнице между текущим значением и предыдущим\n",
        "    data[\"std\"] = (\n",
        "        data[\"diffs\"].rolling(mkft_rolling_mean_size3).std()\n",
        "    )  # разброс разброса\n",
        "    data = data.dropna()\n",
        "    features = data.drop([trgt], axis=1).copy()\n",
        "    target = data[trgt].copy()\n",
        "    if mkft_labeled:\n",
        "        le = preprocessing.LabelEncoder()\n",
        "        features[cat_features] = features[cat_features].apply(le.fit_transform)\n",
        "    if mkft_categorized:\n",
        "        for c in cat_features:\n",
        "            try:\n",
        "                features[c] = features[c].astype(\"category\")\n",
        "            except:\n",
        "                pass\n",
        "    return features, target"
      ]
    },
    {
      "cell_type": "markdown",
      "metadata": {
        "id": "fas4tAB727n7"
      },
      "source": [
        "#### Bayesian Ridge"
      ]
    },
    {
      "cell_type": "markdown",
      "metadata": {
        "id": "r4pKN_0zXkao"
      },
      "source": [
        "Итак, для всех моделей одинаковый пайплайн: находим через Optuna оптимальные параметры датасета и модели одновременно, применяем настройки к модели и датасету, помещаем модель в кросс-валидацию, считаем метрики, заносим в таблицу."
      ]
    },
    {
      "cell_type": "markdown",
      "metadata": {
        "id": "yqHGs2pDgNvN"
      },
      "source": [
        "Создадим функцию, где укажем какие параметры будем оптимизировать через библиотеку Optuna и зададим rmse как целевой показатель."
      ]
    },
    {
      "cell_type": "code",
      "execution_count": 26,
      "metadata": {
        "id": "LQKy9AFyxucN",
        "trusted": false
      },
      "outputs": [],
      "source": [
        "def objective(trial, df, trgt=\"num_orders\"):\n",
        "    param_grid = {\n",
        "        # \"alpha\": trial.suggest_float(\"alpha\", 0, 1),\n",
        "        \"n_iter\": trial.suggest_int(\"n_iter\", 1, 800),\n",
        "    }\n",
        "    params = {\n",
        "        \"mkft_max_lag\": trial.suggest_int(\"mkft_max_lag\", 1, 31),\n",
        "        \"mkft_max_lag24\": trial.suggest_int(\"mkft_max_lag24\", 1, 31),\n",
        "        \"mkft_rolling_mean_size\": trial.suggest_int(\"mkft_rolling_mean_size\", 2, 31),\n",
        "        \"mkft_rolling_mean_size2\": trial.suggest_int(\n",
        "            \"mkft_rolling_mean_size2\", 50, 250, step=50\n",
        "        ),\n",
        "        \"mkft_rolling_mean_size3\": trial.suggest_int(\n",
        "            \"mkft_rolling_mean_size3\", 5, 250, step=1\n",
        "        ),\n",
        "        \"mkft_labeled\": trial.suggest_categorical(\"mkft_labeled\", [True, False]),\n",
        "        \"mkft_categorized\": trial.suggest_categorical(\n",
        "            \"mkft_categorized\", [True, False]\n",
        "        ),\n",
        "    }\n",
        "    data = df.copy()\n",
        "    features, target = make_features(data, **params)\n",
        "\n",
        "    X_train, X_res, y_train, y_res = train_test_split(\n",
        "        features, target, test_size=0.1, shuffle=False\n",
        "    )\n",
        "    X = X_train\n",
        "    y = y_train\n",
        "\n",
        "    cv_predicts = []\n",
        "    cv = TimeSeriesSplit(n_splits=n)\n",
        "    for idx, (train_idx, test_idx) in enumerate(cv.split(X, y)):\n",
        "        X_trainCV, X_testCV = X.iloc[train_idx], X.iloc[test_idx]\n",
        "        y_trainCV, y_testCV = y.iloc[train_idx], y.iloc[test_idx]\n",
        "\n",
        "        model = BayesianRidge(**param_grid)\n",
        "        model.fit(X_trainCV, y_trainCV)\n",
        "        preds = model.predict(X_testCV)\n",
        "        cv_predicts.append(mean_squared_error(y_testCV, preds, squared=False))\n",
        "\n",
        "    return np.mean(cv_predicts)"
      ]
    },
    {
      "cell_type": "markdown",
      "metadata": {
        "id": "WCarrkS2gV8-"
      },
      "source": [
        "Подадим функцию в оптимизатор и получим наилучшие параметры модели путем нахождения наименьшего показателя rmse на кросс-валидации."
      ]
    },
    {
      "cell_type": "code",
      "execution_count": 27,
      "metadata": {
        "colab": {
          "base_uri": "https://localhost:8080/",
          "height": 49,
          "referenced_widgets": [
            "69e27af9cd0c4eee849026f6e5a77145",
            "4f8006b8280a4485885e0b110771004c",
            "6c20f17577ba4ad590f1e5a5768e0315",
            "46235f25e8fc44dd93506a20d5a8c364",
            "da3ca203d0254c0285ac301c82636615",
            "39c72c4b3f304321a97c814de26519fc",
            "58aa0a2a53d548f0950d500d61078156",
            "b51569e9d45a461d9269ece3c1e9fa04",
            "2118a637e7bc43ff8f8c600a94a8b82d",
            "973575a0d28145eea431cbb412d69f15",
            "3d86bbd17f194d45b31ee00d3f9a26ee"
          ]
        },
        "id": "zfXTI3_ixucO",
        "outputId": "f149da4d-865e-4c83-923c-bc4d8b1bb67b",
        "trusted": false
      },
      "outputs": [
        {
          "output_type": "display_data",
          "data": {
            "text/plain": [
              "  0%|          | 0/75 [00:00<?, ?it/s]"
            ],
            "application/vnd.jupyter.widget-view+json": {
              "version_major": 2,
              "version_minor": 0,
              "model_id": "69e27af9cd0c4eee849026f6e5a77145"
            }
          },
          "metadata": {}
        }
      ],
      "source": [
        "study = optuna.create_study(\n",
        "    direction=\"minimize\", study_name=\"BayesianRidge\", sampler=sampler\n",
        ")\n",
        "func = lambda trial: objective(trial, df)\n",
        "study.optimize(func, n_trials=75, show_progress_bar=True)"
      ]
    },
    {
      "cell_type": "code",
      "execution_count": 28,
      "metadata": {
        "colab": {
          "base_uri": "https://localhost:8080/"
        },
        "id": "yWPiulnLxucP",
        "outputId": "c4fcdf9c-932d-41c6-88ab-60310ef66fd8",
        "trusted": false
      },
      "outputs": [
        {
          "output_type": "stream",
          "name": "stdout",
          "text": [
            "Лучший показатель rmse при кросс-валидации: 22.05860\n",
            "\n",
            "Лучшие параметры:\n",
            "n_iter: 758\n",
            "mkft_max_lag: 25\n",
            "mkft_max_lag24: 14\n",
            "mkft_rolling_mean_size: 2\n",
            "mkft_rolling_mean_size2: 200\n",
            "mkft_rolling_mean_size3: 220\n",
            "mkft_labeled: False\n",
            "mkft_categorized: False\n"
          ]
        }
      ],
      "source": [
        "print(f\"Лучший показатель rmse при кросс-валидации: {study.best_value:.5f}\")\n",
        "print(\"\")\n",
        "print(f\"Лучшие параметры:\")\n",
        "\n",
        "for key, value in study.best_params.items():\n",
        "    print(f\"{key}: {value}\")\n",
        "    best_tresh = value"
      ]
    },
    {
      "cell_type": "code",
      "execution_count": 29,
      "metadata": {
        "id": "q9c9Po2UxucQ",
        "trusted": false
      },
      "outputs": [],
      "source": [
        "def_params_bridge = {\n",
        "    k: v for k, v in study.best_params.items() if \"mkft_\" in str(k)\n",
        "}  # отбираем настройки для функции создания фич\n",
        "model_params_bridge = {\n",
        "    k: v for k, v in study.best_params.items() if \"mkft_\" not in str(k)\n",
        "}  # отбираем настройки для самой модели"
      ]
    },
    {
      "cell_type": "markdown",
      "metadata": {
        "id": "LFN-xf6sxucR"
      },
      "source": [
        "Повторно закидываем модель в обучение через к-в, чтобы посчитать все метрики:"
      ]
    },
    {
      "cell_type": "code",
      "execution_count": 30,
      "metadata": {
        "colab": {
          "base_uri": "https://localhost:8080/",
          "height": 112
        },
        "id": "SJ1YZ2MyxucR",
        "outputId": "0bec169d-2910-4b80-f7b8-113b811dcd6d",
        "trusted": false
      },
      "outputs": [
        {
          "output_type": "execute_result",
          "data": {
            "text/plain": [
              "                 rmse    mae  smape    r2  fit_time  pred_time\n",
              "model                                                         \n",
              "bayesian_ridge 21.710 16.380 21.710 0.630     0.055      0.009"
            ],
            "text/html": [
              "\n",
              "  <div id=\"df-f8f45a26-edf3-47c8-95a9-b6f5fa7ac5f8\">\n",
              "    <div class=\"colab-df-container\">\n",
              "      <div>\n",
              "<style scoped>\n",
              "    .dataframe tbody tr th:only-of-type {\n",
              "        vertical-align: middle;\n",
              "    }\n",
              "\n",
              "    .dataframe tbody tr th {\n",
              "        vertical-align: top;\n",
              "    }\n",
              "\n",
              "    .dataframe thead th {\n",
              "        text-align: right;\n",
              "    }\n",
              "</style>\n",
              "<table border=\"1\" class=\"dataframe\">\n",
              "  <thead>\n",
              "    <tr style=\"text-align: right;\">\n",
              "      <th></th>\n",
              "      <th>rmse</th>\n",
              "      <th>mae</th>\n",
              "      <th>smape</th>\n",
              "      <th>r2</th>\n",
              "      <th>fit_time</th>\n",
              "      <th>pred_time</th>\n",
              "    </tr>\n",
              "    <tr>\n",
              "      <th>model</th>\n",
              "      <th></th>\n",
              "      <th></th>\n",
              "      <th></th>\n",
              "      <th></th>\n",
              "      <th></th>\n",
              "      <th></th>\n",
              "    </tr>\n",
              "  </thead>\n",
              "  <tbody>\n",
              "    <tr>\n",
              "      <th>bayesian_ridge</th>\n",
              "      <td>21.710</td>\n",
              "      <td>16.380</td>\n",
              "      <td>21.710</td>\n",
              "      <td>0.630</td>\n",
              "      <td>0.055</td>\n",
              "      <td>0.009</td>\n",
              "    </tr>\n",
              "  </tbody>\n",
              "</table>\n",
              "</div>\n",
              "      <button class=\"colab-df-convert\" onclick=\"convertToInteractive('df-f8f45a26-edf3-47c8-95a9-b6f5fa7ac5f8')\"\n",
              "              title=\"Convert this dataframe to an interactive table.\"\n",
              "              style=\"display:none;\">\n",
              "        \n",
              "  <svg xmlns=\"http://www.w3.org/2000/svg\" height=\"24px\"viewBox=\"0 0 24 24\"\n",
              "       width=\"24px\">\n",
              "    <path d=\"M0 0h24v24H0V0z\" fill=\"none\"/>\n",
              "    <path d=\"M18.56 5.44l.94 2.06.94-2.06 2.06-.94-2.06-.94-.94-2.06-.94 2.06-2.06.94zm-11 1L8.5 8.5l.94-2.06 2.06-.94-2.06-.94L8.5 2.5l-.94 2.06-2.06.94zm10 10l.94 2.06.94-2.06 2.06-.94-2.06-.94-.94-2.06-.94 2.06-2.06.94z\"/><path d=\"M17.41 7.96l-1.37-1.37c-.4-.4-.92-.59-1.43-.59-.52 0-1.04.2-1.43.59L10.3 9.45l-7.72 7.72c-.78.78-.78 2.05 0 2.83L4 21.41c.39.39.9.59 1.41.59.51 0 1.02-.2 1.41-.59l7.78-7.78 2.81-2.81c.8-.78.8-2.07 0-2.86zM5.41 20L4 18.59l7.72-7.72 1.47 1.35L5.41 20z\"/>\n",
              "  </svg>\n",
              "      </button>\n",
              "      \n",
              "  <style>\n",
              "    .colab-df-container {\n",
              "      display:flex;\n",
              "      flex-wrap:wrap;\n",
              "      gap: 12px;\n",
              "    }\n",
              "\n",
              "    .colab-df-convert {\n",
              "      background-color: #E8F0FE;\n",
              "      border: none;\n",
              "      border-radius: 50%;\n",
              "      cursor: pointer;\n",
              "      display: none;\n",
              "      fill: #1967D2;\n",
              "      height: 32px;\n",
              "      padding: 0 0 0 0;\n",
              "      width: 32px;\n",
              "    }\n",
              "\n",
              "    .colab-df-convert:hover {\n",
              "      background-color: #E2EBFA;\n",
              "      box-shadow: 0px 1px 2px rgba(60, 64, 67, 0.3), 0px 1px 3px 1px rgba(60, 64, 67, 0.15);\n",
              "      fill: #174EA6;\n",
              "    }\n",
              "\n",
              "    [theme=dark] .colab-df-convert {\n",
              "      background-color: #3B4455;\n",
              "      fill: #D2E3FC;\n",
              "    }\n",
              "\n",
              "    [theme=dark] .colab-df-convert:hover {\n",
              "      background-color: #434B5C;\n",
              "      box-shadow: 0px 1px 3px 1px rgba(0, 0, 0, 0.15);\n",
              "      filter: drop-shadow(0px 1px 2px rgba(0, 0, 0, 0.3));\n",
              "      fill: #FFFFFF;\n",
              "    }\n",
              "  </style>\n",
              "\n",
              "      <script>\n",
              "        const buttonEl =\n",
              "          document.querySelector('#df-f8f45a26-edf3-47c8-95a9-b6f5fa7ac5f8 button.colab-df-convert');\n",
              "        buttonEl.style.display =\n",
              "          google.colab.kernel.accessAllowed ? 'block' : 'none';\n",
              "\n",
              "        async function convertToInteractive(key) {\n",
              "          const element = document.querySelector('#df-f8f45a26-edf3-47c8-95a9-b6f5fa7ac5f8');\n",
              "          const dataTable =\n",
              "            await google.colab.kernel.invokeFunction('convertToInteractive',\n",
              "                                                     [key], {});\n",
              "          if (!dataTable) return;\n",
              "\n",
              "          const docLinkHtml = 'Like what you see? Visit the ' +\n",
              "            '<a target=\"_blank\" href=https://colab.research.google.com/notebooks/data_table.ipynb>data table notebook</a>'\n",
              "            + ' to learn more about interactive tables.';\n",
              "          element.innerHTML = '';\n",
              "          dataTable['output_type'] = 'display_data';\n",
              "          await google.colab.output.renderOutput(dataTable, element);\n",
              "          const docLink = document.createElement('div');\n",
              "          docLink.innerHTML = docLinkHtml;\n",
              "          element.appendChild(docLink);\n",
              "        }\n",
              "      </script>\n",
              "    </div>\n",
              "  </div>\n",
              "  "
            ]
          },
          "metadata": {},
          "execution_count": 30
        }
      ],
      "source": [
        "data = df.copy()\n",
        "features, target = make_features(data, **def_params_bridge)\n",
        "\n",
        "X_train, X_res, y_train, y_res = train_test_split(\n",
        "    features, target, train_size=0.9, shuffle=False\n",
        ")\n",
        "\n",
        "bridge_optuna = BayesianRidge(**model_params_bridge)\n",
        "model = bridge_optuna\n",
        "df_report = table_results(X_train, y_train, model, \"bayesian_ridge\")\n",
        "df_report"
      ]
    },
    {
      "cell_type": "markdown",
      "metadata": {
        "id": "YjDoHyf-A8c4"
      },
      "source": [
        "#### Ridge"
      ]
    },
    {
      "cell_type": "markdown",
      "metadata": {
        "id": "cXPtnjDku8Vb"
      },
      "source": [
        "Делаем все то же самое что и с предыдущей моделью."
      ]
    },
    {
      "cell_type": "code",
      "execution_count": 31,
      "metadata": {
        "id": "koVJFQkiA_QY",
        "trusted": false
      },
      "outputs": [],
      "source": [
        "def objective(\n",
        "    trial,\n",
        "    df,\n",
        "    trgt=\"num_orders\",\n",
        "):\n",
        "    param_grid = {\n",
        "        \"alpha\": trial.suggest_float(\"alpha\", 0.01, 1),\n",
        "    }\n",
        "    params = {\n",
        "        \"mkft_max_lag\": trial.suggest_int(\"mkft_max_lag\", 1, 31),\n",
        "        \"mkft_max_lag24\": trial.suggest_int(\"mkft_max_lag24\", 1, 31),\n",
        "        \"mkft_rolling_mean_size\": trial.suggest_int(\"mkft_rolling_mean_size\", 2, 31),\n",
        "        \"mkft_rolling_mean_size2\": trial.suggest_int(\n",
        "            \"mkft_rolling_mean_size2\", 50, 250, step=50\n",
        "        ),\n",
        "        \"mkft_rolling_mean_size3\": trial.suggest_int(\n",
        "            \"mkft_rolling_mean_size3\", 5, 250, step=1\n",
        "        ),\n",
        "        \"mkft_labeled\": trial.suggest_categorical(\"mkft_labeled\", [True, False]),\n",
        "        \"mkft_categorized\": trial.suggest_categorical(\n",
        "            \"mkft_categorized\", [True, False]\n",
        "        ),\n",
        "    }\n",
        "    data = df.copy()\n",
        "    features, target = make_features(data, **params)\n",
        "\n",
        "    X_train, X_res, y_train, y_res = train_test_split(\n",
        "        features, target, test_size=0.1, shuffle=False\n",
        "    )\n",
        "    X = X_train\n",
        "    y = y_train\n",
        "\n",
        "    cv_predicts = []\n",
        "    cv = TimeSeriesSplit(n_splits=n)\n",
        "    for idx, (train_idx, test_idx) in enumerate(cv.split(X, y)):\n",
        "        X_trainCV, X_testCV = X.iloc[train_idx], X.iloc[test_idx]\n",
        "        y_trainCV, y_testCV = y.iloc[train_idx], y.iloc[test_idx]\n",
        "\n",
        "        model = Ridge(\n",
        "            **param_grid,\n",
        "            random_state=rstate,\n",
        "        )\n",
        "        model.fit(\n",
        "            X_trainCV,\n",
        "            y_trainCV,\n",
        "        )\n",
        "        preds = model.predict(X_testCV)\n",
        "        cv_predicts.append(mean_squared_error(y_testCV, preds, squared=False))\n",
        "\n",
        "    return np.mean(cv_predicts)"
      ]
    },
    {
      "cell_type": "code",
      "execution_count": 32,
      "metadata": {
        "colab": {
          "base_uri": "https://localhost:8080/",
          "height": 49,
          "referenced_widgets": [
            "28838f3706724b76829ef2f539a196ca",
            "e0ceb88e3bf64d46a386cdfaff076cae",
            "a5a162ee515b48a3b0e464711684d048",
            "104dd72147664feeb89bcd1bc6a0ca21",
            "d64319a80c7a4e26942296d9a1229e94",
            "44254d630848418686e8a7598a200cae",
            "36e4c01920aa480fba30d4ca73a1f053",
            "5818062fbdfe478b92fdbc862da54673",
            "8fca81101af24968b504db4c36a37dbb",
            "910aea1a2c524066b1e6bf64d91cb80e",
            "830334ae2d8b4eb087ae4939f150248d"
          ]
        },
        "id": "B_KZwLKaBVne",
        "outputId": "b875c9cd-ec7f-4e70-d64f-12ad3b3cdb14",
        "trusted": false
      },
      "outputs": [
        {
          "output_type": "display_data",
          "data": {
            "text/plain": [
              "  0%|          | 0/100 [00:00<?, ?it/s]"
            ],
            "application/vnd.jupyter.widget-view+json": {
              "version_major": 2,
              "version_minor": 0,
              "model_id": "28838f3706724b76829ef2f539a196ca"
            }
          },
          "metadata": {}
        }
      ],
      "source": [
        "study = optuna.create_study(direction=\"minimize\", study_name=\"Ridge\", sampler=sampler)\n",
        "func = lambda trial: objective(trial, df)\n",
        "study.optimize(func, n_trials=100, show_progress_bar=True)"
      ]
    },
    {
      "cell_type": "code",
      "execution_count": 33,
      "metadata": {
        "colab": {
          "base_uri": "https://localhost:8080/"
        },
        "id": "7WypzdNaBVnf",
        "outputId": "47932606-17b6-42b7-f36e-b0dae37fab5c",
        "trusted": false
      },
      "outputs": [
        {
          "output_type": "stream",
          "name": "stdout",
          "text": [
            "Лучший показатель rmse при кросс-валидации: 22.25948\n",
            "\n",
            "Лучшие параметры:\n",
            "alpha: 0.4406998789153239\n",
            "mkft_max_lag: 7\n",
            "mkft_max_lag24: 22\n",
            "mkft_rolling_mean_size: 16\n",
            "mkft_rolling_mean_size2: 200\n",
            "mkft_rolling_mean_size3: 11\n",
            "mkft_labeled: True\n",
            "mkft_categorized: False\n"
          ]
        }
      ],
      "source": [
        "print(f\"Лучший показатель rmse при кросс-валидации: {study.best_value:.5f}\")\n",
        "print(\"\")\n",
        "print(f\"Лучшие параметры:\")\n",
        "\n",
        "for key, value in study.best_params.items():\n",
        "    print(f\"{key}: {value}\")\n",
        "    best_tresh = value"
      ]
    },
    {
      "cell_type": "code",
      "execution_count": 34,
      "metadata": {
        "id": "gd00DmEdBVng",
        "trusted": false
      },
      "outputs": [],
      "source": [
        "def_params_ridge = {\n",
        "    k: v for k, v in study.best_params.items() if \"mkft_\" in str(k)\n",
        "}  # отбираем настройки для функции создания фич\n",
        "model_params_ridge = {\n",
        "    k: v for k, v in study.best_params.items() if \"mkft_\" not in str(k)\n",
        "}  # отбираем настройки для самой модели"
      ]
    },
    {
      "cell_type": "code",
      "execution_count": 35,
      "metadata": {
        "colab": {
          "base_uri": "https://localhost:8080/",
          "height": 143
        },
        "id": "Xp-Ubfw0BVni",
        "outputId": "172517bf-7239-4d24-bb91-9e3a964b52b7",
        "trusted": false
      },
      "outputs": [
        {
          "output_type": "execute_result",
          "data": {
            "text/plain": [
              "                 rmse    mae  smape    r2  fit_time  pred_time\n",
              "model                                                         \n",
              "bayesian_ridge 21.710 16.380 21.710 0.630     0.055      0.009\n",
              "ridge          22.380 16.780 22.190 0.610     0.003      0.002"
            ],
            "text/html": [
              "\n",
              "  <div id=\"df-faa3adfc-25dd-447b-9d60-7ad71b235827\">\n",
              "    <div class=\"colab-df-container\">\n",
              "      <div>\n",
              "<style scoped>\n",
              "    .dataframe tbody tr th:only-of-type {\n",
              "        vertical-align: middle;\n",
              "    }\n",
              "\n",
              "    .dataframe tbody tr th {\n",
              "        vertical-align: top;\n",
              "    }\n",
              "\n",
              "    .dataframe thead th {\n",
              "        text-align: right;\n",
              "    }\n",
              "</style>\n",
              "<table border=\"1\" class=\"dataframe\">\n",
              "  <thead>\n",
              "    <tr style=\"text-align: right;\">\n",
              "      <th></th>\n",
              "      <th>rmse</th>\n",
              "      <th>mae</th>\n",
              "      <th>smape</th>\n",
              "      <th>r2</th>\n",
              "      <th>fit_time</th>\n",
              "      <th>pred_time</th>\n",
              "    </tr>\n",
              "    <tr>\n",
              "      <th>model</th>\n",
              "      <th></th>\n",
              "      <th></th>\n",
              "      <th></th>\n",
              "      <th></th>\n",
              "      <th></th>\n",
              "      <th></th>\n",
              "    </tr>\n",
              "  </thead>\n",
              "  <tbody>\n",
              "    <tr>\n",
              "      <th>bayesian_ridge</th>\n",
              "      <td>21.710</td>\n",
              "      <td>16.380</td>\n",
              "      <td>21.710</td>\n",
              "      <td>0.630</td>\n",
              "      <td>0.055</td>\n",
              "      <td>0.009</td>\n",
              "    </tr>\n",
              "    <tr>\n",
              "      <th>ridge</th>\n",
              "      <td>22.380</td>\n",
              "      <td>16.780</td>\n",
              "      <td>22.190</td>\n",
              "      <td>0.610</td>\n",
              "      <td>0.003</td>\n",
              "      <td>0.002</td>\n",
              "    </tr>\n",
              "  </tbody>\n",
              "</table>\n",
              "</div>\n",
              "      <button class=\"colab-df-convert\" onclick=\"convertToInteractive('df-faa3adfc-25dd-447b-9d60-7ad71b235827')\"\n",
              "              title=\"Convert this dataframe to an interactive table.\"\n",
              "              style=\"display:none;\">\n",
              "        \n",
              "  <svg xmlns=\"http://www.w3.org/2000/svg\" height=\"24px\"viewBox=\"0 0 24 24\"\n",
              "       width=\"24px\">\n",
              "    <path d=\"M0 0h24v24H0V0z\" fill=\"none\"/>\n",
              "    <path d=\"M18.56 5.44l.94 2.06.94-2.06 2.06-.94-2.06-.94-.94-2.06-.94 2.06-2.06.94zm-11 1L8.5 8.5l.94-2.06 2.06-.94-2.06-.94L8.5 2.5l-.94 2.06-2.06.94zm10 10l.94 2.06.94-2.06 2.06-.94-2.06-.94-.94-2.06-.94 2.06-2.06.94z\"/><path d=\"M17.41 7.96l-1.37-1.37c-.4-.4-.92-.59-1.43-.59-.52 0-1.04.2-1.43.59L10.3 9.45l-7.72 7.72c-.78.78-.78 2.05 0 2.83L4 21.41c.39.39.9.59 1.41.59.51 0 1.02-.2 1.41-.59l7.78-7.78 2.81-2.81c.8-.78.8-2.07 0-2.86zM5.41 20L4 18.59l7.72-7.72 1.47 1.35L5.41 20z\"/>\n",
              "  </svg>\n",
              "      </button>\n",
              "      \n",
              "  <style>\n",
              "    .colab-df-container {\n",
              "      display:flex;\n",
              "      flex-wrap:wrap;\n",
              "      gap: 12px;\n",
              "    }\n",
              "\n",
              "    .colab-df-convert {\n",
              "      background-color: #E8F0FE;\n",
              "      border: none;\n",
              "      border-radius: 50%;\n",
              "      cursor: pointer;\n",
              "      display: none;\n",
              "      fill: #1967D2;\n",
              "      height: 32px;\n",
              "      padding: 0 0 0 0;\n",
              "      width: 32px;\n",
              "    }\n",
              "\n",
              "    .colab-df-convert:hover {\n",
              "      background-color: #E2EBFA;\n",
              "      box-shadow: 0px 1px 2px rgba(60, 64, 67, 0.3), 0px 1px 3px 1px rgba(60, 64, 67, 0.15);\n",
              "      fill: #174EA6;\n",
              "    }\n",
              "\n",
              "    [theme=dark] .colab-df-convert {\n",
              "      background-color: #3B4455;\n",
              "      fill: #D2E3FC;\n",
              "    }\n",
              "\n",
              "    [theme=dark] .colab-df-convert:hover {\n",
              "      background-color: #434B5C;\n",
              "      box-shadow: 0px 1px 3px 1px rgba(0, 0, 0, 0.15);\n",
              "      filter: drop-shadow(0px 1px 2px rgba(0, 0, 0, 0.3));\n",
              "      fill: #FFFFFF;\n",
              "    }\n",
              "  </style>\n",
              "\n",
              "      <script>\n",
              "        const buttonEl =\n",
              "          document.querySelector('#df-faa3adfc-25dd-447b-9d60-7ad71b235827 button.colab-df-convert');\n",
              "        buttonEl.style.display =\n",
              "          google.colab.kernel.accessAllowed ? 'block' : 'none';\n",
              "\n",
              "        async function convertToInteractive(key) {\n",
              "          const element = document.querySelector('#df-faa3adfc-25dd-447b-9d60-7ad71b235827');\n",
              "          const dataTable =\n",
              "            await google.colab.kernel.invokeFunction('convertToInteractive',\n",
              "                                                     [key], {});\n",
              "          if (!dataTable) return;\n",
              "\n",
              "          const docLinkHtml = 'Like what you see? Visit the ' +\n",
              "            '<a target=\"_blank\" href=https://colab.research.google.com/notebooks/data_table.ipynb>data table notebook</a>'\n",
              "            + ' to learn more about interactive tables.';\n",
              "          element.innerHTML = '';\n",
              "          dataTable['output_type'] = 'display_data';\n",
              "          await google.colab.output.renderOutput(dataTable, element);\n",
              "          const docLink = document.createElement('div');\n",
              "          docLink.innerHTML = docLinkHtml;\n",
              "          element.appendChild(docLink);\n",
              "        }\n",
              "      </script>\n",
              "    </div>\n",
              "  </div>\n",
              "  "
            ]
          },
          "metadata": {},
          "execution_count": 35
        }
      ],
      "source": [
        "data = df.copy()\n",
        "features, target = make_features(data, **def_params_ridge)\n",
        "\n",
        "\n",
        "X_train, X_res, y_train, y_res = train_test_split(\n",
        "    features, target, train_size=0.9, shuffle=False\n",
        ")\n",
        "\n",
        "ridge_optuna = Ridge(random_state=rstate, **model_params_ridge)\n",
        "model = ridge_optuna\n",
        "df_report = table_results(X_train, y_train, model, \"ridge\")\n",
        "df_report.sort_values(by=\"rmse\")"
      ]
    },
    {
      "cell_type": "markdown",
      "metadata": {
        "id": "ee_5890dyuSB"
      },
      "source": [
        "#### Elastic Net"
      ]
    },
    {
      "cell_type": "markdown",
      "metadata": {
        "id": "d5aYRzuDhH0O"
      },
      "source": [
        "Делаем все то же самое что и с предыдущей моделью."
      ]
    },
    {
      "cell_type": "code",
      "execution_count": 36,
      "metadata": {
        "id": "D7hc-0bnyw1B",
        "trusted": false
      },
      "outputs": [],
      "source": [
        "def objective(trial, df, trgt=\"num_orders\"):\n",
        "    param_grid = {\n",
        "        \"alpha\": trial.suggest_float(\"alpha\", 0, 1),\n",
        "        \"l1_ratio\": trial.suggest_float(\"l1_ratio\", 0, 1),\n",
        "        \"max_iter\": trial.suggest_int(\"max_iter\", 1, 1500),\n",
        "    }\n",
        "    params = {\n",
        "        \"mkft_max_lag\": trial.suggest_int(\"mkft_max_lag\", 1, 31),\n",
        "        \"mkft_max_lag24\": trial.suggest_int(\"mkft_max_lag24\", 1, 31),\n",
        "        \"mkft_rolling_mean_size\": trial.suggest_int(\"mkft_rolling_mean_size\", 2, 31),\n",
        "        \"mkft_rolling_mean_size2\": trial.suggest_int(\n",
        "            \"mkft_rolling_mean_size2\", 50, 250, step=50\n",
        "        ),\n",
        "        \"mkft_rolling_mean_size3\": trial.suggest_int(\n",
        "            \"mkft_rolling_mean_size3\", 5, 250, step=1\n",
        "        ),\n",
        "        \"mkft_labeled\": trial.suggest_categorical(\"mkft_labeled\", [True, False]),\n",
        "        \"mkft_categorized\": trial.suggest_categorical(\n",
        "            \"mkft_categorized\", [True, False]\n",
        "        ),\n",
        "    }\n",
        "    data = df.copy()\n",
        "    features, target = make_features(data, **params)\n",
        "\n",
        "    X_train, X_res, y_train, y_res = train_test_split(\n",
        "        features, target, test_size=0.1, shuffle=False\n",
        "    )\n",
        "    X = X_train\n",
        "    y = y_train\n",
        "\n",
        "    cv_predicts = []\n",
        "    cv = TimeSeriesSplit(n_splits=n)\n",
        "    for idx, (train_idx, test_idx) in enumerate(cv.split(X, y)):\n",
        "        X_trainCV, X_testCV = X.iloc[train_idx], X.iloc[test_idx]\n",
        "        y_trainCV, y_testCV = y.iloc[train_idx], y.iloc[test_idx]\n",
        "\n",
        "        model = ElasticNet(\n",
        "            **param_grid,\n",
        "            random_state=rstate,\n",
        "        )\n",
        "        model.fit(\n",
        "            X_trainCV,\n",
        "            y_trainCV,\n",
        "        )\n",
        "        preds = model.predict(X_testCV)\n",
        "        cv_predicts.append(mean_squared_error(y_testCV, preds, squared=False))\n",
        "\n",
        "    return np.mean(cv_predicts)"
      ]
    },
    {
      "cell_type": "code",
      "execution_count": 37,
      "metadata": {
        "colab": {
          "base_uri": "https://localhost:8080/",
          "height": 49,
          "referenced_widgets": [
            "16b2f7f2ef4c47d3b100461c70d1bd46",
            "2cf1b4d9371b421ca0d47c85db8d1306",
            "2e947b76a8424172a1214b68560bfb31",
            "b7517c7ccea44a01ac4f25d9076bca38",
            "0a2f862418ec4e5385435a60599adb38",
            "d747d0acda4b435ebdfbabd79ef25116",
            "d918557741da4bc29d539159cdd9e2d7",
            "f86618ac47694dc08c54b10466235cbc",
            "dd7b40452af0463cae2e047ead7dec07",
            "634bd814d58c495b987c3d6af84a833a",
            "6eb998dc779944469933bd7a4a47deee"
          ]
        },
        "id": "YQzSFeEwyw1C",
        "outputId": "c99fc91e-9b22-44bb-8577-a8b5089a5189",
        "trusted": false
      },
      "outputs": [
        {
          "output_type": "display_data",
          "data": {
            "text/plain": [
              "  0%|          | 0/120 [00:00<?, ?it/s]"
            ],
            "application/vnd.jupyter.widget-view+json": {
              "version_major": 2,
              "version_minor": 0,
              "model_id": "16b2f7f2ef4c47d3b100461c70d1bd46"
            }
          },
          "metadata": {}
        }
      ],
      "source": [
        "study = optuna.create_study(\n",
        "    direction=\"minimize\", study_name=\"ElasticNet\", sampler=sampler\n",
        ")\n",
        "func = lambda trial: objective(trial, df)\n",
        "study.optimize(func, n_trials=120, show_progress_bar=True)"
      ]
    },
    {
      "cell_type": "code",
      "execution_count": 38,
      "metadata": {
        "colab": {
          "base_uri": "https://localhost:8080/"
        },
        "id": "6ryLNfsnyw1D",
        "outputId": "96ab2afb-07f3-4034-89be-5f8e2b631fbb",
        "trusted": false
      },
      "outputs": [
        {
          "output_type": "stream",
          "name": "stdout",
          "text": [
            "Лучший показатель rmse при кросс-валидации: 22.17933\n",
            "\n",
            "Лучшие параметры:\n",
            "alpha: 0.497424885663163\n",
            "l1_ratio: 0.8007813147909082\n",
            "max_iter: 1187\n",
            "mkft_max_lag: 27\n",
            "mkft_max_lag24: 8\n",
            "mkft_rolling_mean_size: 5\n",
            "mkft_rolling_mean_size2: 50\n",
            "mkft_rolling_mean_size3: 200\n",
            "mkft_labeled: False\n",
            "mkft_categorized: True\n"
          ]
        }
      ],
      "source": [
        "print(f\"Лучший показатель rmse при кросс-валидации: {study.best_value:.5f}\")\n",
        "print(\"\")\n",
        "print(f\"Лучшие параметры:\")\n",
        "\n",
        "for key, value in study.best_params.items():\n",
        "    print(f\"{key}: {value}\")\n",
        "    best_tresh = value"
      ]
    },
    {
      "cell_type": "code",
      "execution_count": 39,
      "metadata": {
        "id": "gXL6gAyRyw1D",
        "trusted": false
      },
      "outputs": [],
      "source": [
        "def_params_en = {\n",
        "    k: v for k, v in study.best_params.items() if \"mkft_\" in str(k)\n",
        "}  # отбираем настройки для функции создания фич\n",
        "model_params_en = {\n",
        "    k: v for k, v in study.best_params.items() if \"mkft_\" not in str(k)\n",
        "}  # отбираем настройки для самой модели"
      ]
    },
    {
      "cell_type": "code",
      "execution_count": 40,
      "metadata": {
        "id": "7Bgf-0zpyw1E",
        "trusted": false
      },
      "outputs": [],
      "source": [
        "data = df.copy()\n",
        "features, target = make_features(data, **def_params_en)\n",
        "\n",
        "X_train, X_res, y_train, y_res = train_test_split(\n",
        "    features, target, train_size=0.9, shuffle=False\n",
        ")\n",
        "\n",
        "en_optuna = ElasticNet(random_state=rstate, **model_params_en)"
      ]
    },
    {
      "cell_type": "code",
      "execution_count": 41,
      "metadata": {
        "colab": {
          "base_uri": "https://localhost:8080/",
          "height": 175
        },
        "id": "xxCqUk-Zyw1F",
        "outputId": "8468785c-b720-4f27-ced7-72b0e42f8d66",
        "trusted": false
      },
      "outputs": [
        {
          "output_type": "execute_result",
          "data": {
            "text/plain": [
              "                 rmse    mae  smape    r2  fit_time  pred_time\n",
              "model                                                         \n",
              "bayesian_ridge 21.710 16.380 21.710 0.630     0.055      0.009\n",
              "ridge          22.380 16.780 22.190 0.610     0.003      0.002\n",
              "elastic_net    21.920 16.570 22.630 0.610     0.099      0.005"
            ],
            "text/html": [
              "\n",
              "  <div id=\"df-f12f1545-2b7f-4a3f-9d9f-f5636e92592b\">\n",
              "    <div class=\"colab-df-container\">\n",
              "      <div>\n",
              "<style scoped>\n",
              "    .dataframe tbody tr th:only-of-type {\n",
              "        vertical-align: middle;\n",
              "    }\n",
              "\n",
              "    .dataframe tbody tr th {\n",
              "        vertical-align: top;\n",
              "    }\n",
              "\n",
              "    .dataframe thead th {\n",
              "        text-align: right;\n",
              "    }\n",
              "</style>\n",
              "<table border=\"1\" class=\"dataframe\">\n",
              "  <thead>\n",
              "    <tr style=\"text-align: right;\">\n",
              "      <th></th>\n",
              "      <th>rmse</th>\n",
              "      <th>mae</th>\n",
              "      <th>smape</th>\n",
              "      <th>r2</th>\n",
              "      <th>fit_time</th>\n",
              "      <th>pred_time</th>\n",
              "    </tr>\n",
              "    <tr>\n",
              "      <th>model</th>\n",
              "      <th></th>\n",
              "      <th></th>\n",
              "      <th></th>\n",
              "      <th></th>\n",
              "      <th></th>\n",
              "      <th></th>\n",
              "    </tr>\n",
              "  </thead>\n",
              "  <tbody>\n",
              "    <tr>\n",
              "      <th>bayesian_ridge</th>\n",
              "      <td>21.710</td>\n",
              "      <td>16.380</td>\n",
              "      <td>21.710</td>\n",
              "      <td>0.630</td>\n",
              "      <td>0.055</td>\n",
              "      <td>0.009</td>\n",
              "    </tr>\n",
              "    <tr>\n",
              "      <th>ridge</th>\n",
              "      <td>22.380</td>\n",
              "      <td>16.780</td>\n",
              "      <td>22.190</td>\n",
              "      <td>0.610</td>\n",
              "      <td>0.003</td>\n",
              "      <td>0.002</td>\n",
              "    </tr>\n",
              "    <tr>\n",
              "      <th>elastic_net</th>\n",
              "      <td>21.920</td>\n",
              "      <td>16.570</td>\n",
              "      <td>22.630</td>\n",
              "      <td>0.610</td>\n",
              "      <td>0.099</td>\n",
              "      <td>0.005</td>\n",
              "    </tr>\n",
              "  </tbody>\n",
              "</table>\n",
              "</div>\n",
              "      <button class=\"colab-df-convert\" onclick=\"convertToInteractive('df-f12f1545-2b7f-4a3f-9d9f-f5636e92592b')\"\n",
              "              title=\"Convert this dataframe to an interactive table.\"\n",
              "              style=\"display:none;\">\n",
              "        \n",
              "  <svg xmlns=\"http://www.w3.org/2000/svg\" height=\"24px\"viewBox=\"0 0 24 24\"\n",
              "       width=\"24px\">\n",
              "    <path d=\"M0 0h24v24H0V0z\" fill=\"none\"/>\n",
              "    <path d=\"M18.56 5.44l.94 2.06.94-2.06 2.06-.94-2.06-.94-.94-2.06-.94 2.06-2.06.94zm-11 1L8.5 8.5l.94-2.06 2.06-.94-2.06-.94L8.5 2.5l-.94 2.06-2.06.94zm10 10l.94 2.06.94-2.06 2.06-.94-2.06-.94-.94-2.06-.94 2.06-2.06.94z\"/><path d=\"M17.41 7.96l-1.37-1.37c-.4-.4-.92-.59-1.43-.59-.52 0-1.04.2-1.43.59L10.3 9.45l-7.72 7.72c-.78.78-.78 2.05 0 2.83L4 21.41c.39.39.9.59 1.41.59.51 0 1.02-.2 1.41-.59l7.78-7.78 2.81-2.81c.8-.78.8-2.07 0-2.86zM5.41 20L4 18.59l7.72-7.72 1.47 1.35L5.41 20z\"/>\n",
              "  </svg>\n",
              "      </button>\n",
              "      \n",
              "  <style>\n",
              "    .colab-df-container {\n",
              "      display:flex;\n",
              "      flex-wrap:wrap;\n",
              "      gap: 12px;\n",
              "    }\n",
              "\n",
              "    .colab-df-convert {\n",
              "      background-color: #E8F0FE;\n",
              "      border: none;\n",
              "      border-radius: 50%;\n",
              "      cursor: pointer;\n",
              "      display: none;\n",
              "      fill: #1967D2;\n",
              "      height: 32px;\n",
              "      padding: 0 0 0 0;\n",
              "      width: 32px;\n",
              "    }\n",
              "\n",
              "    .colab-df-convert:hover {\n",
              "      background-color: #E2EBFA;\n",
              "      box-shadow: 0px 1px 2px rgba(60, 64, 67, 0.3), 0px 1px 3px 1px rgba(60, 64, 67, 0.15);\n",
              "      fill: #174EA6;\n",
              "    }\n",
              "\n",
              "    [theme=dark] .colab-df-convert {\n",
              "      background-color: #3B4455;\n",
              "      fill: #D2E3FC;\n",
              "    }\n",
              "\n",
              "    [theme=dark] .colab-df-convert:hover {\n",
              "      background-color: #434B5C;\n",
              "      box-shadow: 0px 1px 3px 1px rgba(0, 0, 0, 0.15);\n",
              "      filter: drop-shadow(0px 1px 2px rgba(0, 0, 0, 0.3));\n",
              "      fill: #FFFFFF;\n",
              "    }\n",
              "  </style>\n",
              "\n",
              "      <script>\n",
              "        const buttonEl =\n",
              "          document.querySelector('#df-f12f1545-2b7f-4a3f-9d9f-f5636e92592b button.colab-df-convert');\n",
              "        buttonEl.style.display =\n",
              "          google.colab.kernel.accessAllowed ? 'block' : 'none';\n",
              "\n",
              "        async function convertToInteractive(key) {\n",
              "          const element = document.querySelector('#df-f12f1545-2b7f-4a3f-9d9f-f5636e92592b');\n",
              "          const dataTable =\n",
              "            await google.colab.kernel.invokeFunction('convertToInteractive',\n",
              "                                                     [key], {});\n",
              "          if (!dataTable) return;\n",
              "\n",
              "          const docLinkHtml = 'Like what you see? Visit the ' +\n",
              "            '<a target=\"_blank\" href=https://colab.research.google.com/notebooks/data_table.ipynb>data table notebook</a>'\n",
              "            + ' to learn more about interactive tables.';\n",
              "          element.innerHTML = '';\n",
              "          dataTable['output_type'] = 'display_data';\n",
              "          await google.colab.output.renderOutput(dataTable, element);\n",
              "          const docLink = document.createElement('div');\n",
              "          docLink.innerHTML = docLinkHtml;\n",
              "          element.appendChild(docLink);\n",
              "        }\n",
              "      </script>\n",
              "    </div>\n",
              "  </div>\n",
              "  "
            ]
          },
          "metadata": {},
          "execution_count": 41
        }
      ],
      "source": [
        "model = en_optuna\n",
        "df_report = table_results(X_train, y_train, model, \"elastic_net\")\n",
        "df_report"
      ]
    },
    {
      "cell_type": "markdown",
      "metadata": {
        "id": "DqRuNydmzcBI"
      },
      "source": [
        "#### Lasso"
      ]
    },
    {
      "cell_type": "markdown",
      "metadata": {
        "id": "LOudzIlFhWBH"
      },
      "source": [
        "Делаем все то же самое что и с предыдущей моделью."
      ]
    },
    {
      "cell_type": "code",
      "execution_count": 42,
      "metadata": {
        "id": "iH-FhEt8ziAG",
        "trusted": false
      },
      "outputs": [],
      "source": [
        "def objective(trial, df, trgt=\"num_orders\"):\n",
        "    param_grid = {\n",
        "        \"alpha\": trial.suggest_float(\"alpha\", 0, 3),\n",
        "        # \"l1_ratio\": trial.suggest_float(\"l1_ratio\", 0, 1),\n",
        "        \"max_iter\": trial.suggest_int(\"max_iter\", 1, 1500),\n",
        "    }\n",
        "    params = {\n",
        "        \"mkft_max_lag\": trial.suggest_int(\"mkft_max_lag\", 1, 31),\n",
        "        \"mkft_max_lag24\": trial.suggest_int(\"mkft_max_lag24\", 1, 31),\n",
        "        \"mkft_rolling_mean_size\": trial.suggest_int(\"mkft_rolling_mean_size\", 2, 31),\n",
        "        \"mkft_rolling_mean_size2\": trial.suggest_int(\n",
        "            \"mkft_rolling_mean_size2\", 50, 250, step=50\n",
        "        ),\n",
        "        \"mkft_rolling_mean_size3\": trial.suggest_int(\n",
        "            \"mkft_rolling_mean_size3\", 5, 250, step=1\n",
        "        ),\n",
        "        \"mkft_labeled\": trial.suggest_categorical(\"mkft_labeled\", [True, False]),\n",
        "        \"mkft_categorized\": trial.suggest_categorical(\n",
        "            \"mkft_categorized\", [True, False]\n",
        "        ),\n",
        "    }\n",
        "    data = df.copy()\n",
        "    features, target = make_features(data, **params)\n",
        "\n",
        "    X_train, X_res, y_train, y_res = train_test_split(\n",
        "        features, target, test_size=0.1, shuffle=False\n",
        "    )\n",
        "    X = X_train\n",
        "    y = y_train\n",
        "\n",
        "    cv_predicts = []\n",
        "    cv = TimeSeriesSplit(n_splits=n)\n",
        "    for idx, (train_idx, test_idx) in enumerate(cv.split(X, y)):\n",
        "        X_trainCV, X_testCV = X.iloc[train_idx], X.iloc[test_idx]\n",
        "        y_trainCV, y_testCV = y.iloc[train_idx], y.iloc[test_idx]\n",
        "\n",
        "        model = Lasso(\n",
        "            **param_grid,\n",
        "            random_state=rstate,\n",
        "        )\n",
        "        model.fit(\n",
        "            X_trainCV,\n",
        "            y_trainCV,\n",
        "        )\n",
        "        preds = model.predict(X_testCV)\n",
        "        cv_predicts.append(mean_squared_error(y_testCV, preds, squared=False))\n",
        "\n",
        "    return np.mean(cv_predicts)"
      ]
    },
    {
      "cell_type": "code",
      "execution_count": 43,
      "metadata": {
        "colab": {
          "base_uri": "https://localhost:8080/",
          "height": 49,
          "referenced_widgets": [
            "75ff5b3504814888ae0395bb9c87430f",
            "52fbf622af53496c8a3badd579814a21",
            "d299fe82bd3240b59c97f311b614bb6f",
            "d48fc59cb180428fa9d5f78e2eeb67b9",
            "3412e839a3b04a0cb1f6f91549db9af3",
            "57a16937814a470786a36dd98b62e20f",
            "c506f137c14645c4be049f1c66dba374",
            "eb1020c2f1ee46c7b6deef95d7105f39",
            "254e71fe1247408f931078b14d1a3239",
            "064dfdeab62f4f9aa9e3688a3a9a3ab8",
            "5658ce6a2cb8499483061bb69acc48c7"
          ]
        },
        "id": "NDNe_zoLziAI",
        "outputId": "23c1a17c-26c7-4e14-cc04-e66d3162ba09",
        "trusted": false
      },
      "outputs": [
        {
          "output_type": "display_data",
          "data": {
            "text/plain": [
              "  0%|          | 0/200 [00:00<?, ?it/s]"
            ],
            "application/vnd.jupyter.widget-view+json": {
              "version_major": 2,
              "version_minor": 0,
              "model_id": "75ff5b3504814888ae0395bb9c87430f"
            }
          },
          "metadata": {}
        }
      ],
      "source": [
        "study = optuna.create_study(\n",
        "    direction=\"minimize\", study_name=\"Lasso\", sampler=sampler\n",
        ")\n",
        "func = lambda trial: objective(trial, df)\n",
        "study.optimize(func, n_trials=200, show_progress_bar=True)"
      ]
    },
    {
      "cell_type": "code",
      "execution_count": 44,
      "metadata": {
        "colab": {
          "base_uri": "https://localhost:8080/"
        },
        "id": "Wl6RoUzHziAJ",
        "outputId": "cb99ee4c-73d5-4acc-9165-0523d7d47fa9",
        "trusted": false
      },
      "outputs": [
        {
          "output_type": "stream",
          "name": "stdout",
          "text": [
            "Лучший показатель rmse при кросс-валидации: 22.04818\n",
            "\n",
            "Лучшие параметры:\n",
            "alpha: 2.6271071790927105\n",
            "max_iter: 1397\n",
            "mkft_max_lag: 23\n",
            "mkft_max_lag24: 14\n",
            "mkft_rolling_mean_size: 24\n",
            "mkft_rolling_mean_size2: 200\n",
            "mkft_rolling_mean_size3: 66\n",
            "mkft_labeled: False\n",
            "mkft_categorized: True\n"
          ]
        }
      ],
      "source": [
        "print(f\"Лучший показатель rmse при кросс-валидации: {study.best_value:.5f}\")\n",
        "print(\"\")\n",
        "print(f\"Лучшие параметры:\")\n",
        "\n",
        "for key, value in study.best_params.items():\n",
        "    print(f\"{key}: {value}\")\n",
        "    best_tresh = value"
      ]
    },
    {
      "cell_type": "code",
      "execution_count": 45,
      "metadata": {
        "id": "z0ykFte-ziAK",
        "trusted": false
      },
      "outputs": [],
      "source": [
        "def_params_lasso = {\n",
        "    k: v for k, v in study.best_params.items() if \"mkft_\" in str(k)\n",
        "}  # отбираем настройки для функции создания фич\n",
        "model_params_lasso = {\n",
        "    k: v for k, v in study.best_params.items() if \"mkft_\" not in str(k)\n",
        "}  # отбираем настройки для самой модели"
      ]
    },
    {
      "cell_type": "code",
      "execution_count": 46,
      "metadata": {
        "id": "86HyX8PkziAL",
        "trusted": false
      },
      "outputs": [],
      "source": [
        "data = df.copy()\n",
        "features, target = make_features(data, **def_params_lasso)\n",
        "\n",
        "X_train, X_res, y_train, y_res = train_test_split(\n",
        "    features, target, train_size=0.9, shuffle=False\n",
        ")\n",
        "\n",
        "lasso_optuna = Lasso(random_state=rstate, **model_params_lasso)"
      ]
    },
    {
      "cell_type": "code",
      "execution_count": 47,
      "metadata": {
        "colab": {
          "base_uri": "https://localhost:8080/",
          "height": 206
        },
        "id": "G7eg3erHziAM",
        "outputId": "99942f0a-d79d-4820-d041-c044b7bc4b71",
        "trusted": false
      },
      "outputs": [
        {
          "output_type": "execute_result",
          "data": {
            "text/plain": [
              "                 rmse    mae  smape    r2  fit_time  pred_time\n",
              "model                                                         \n",
              "bayesian_ridge 21.710 16.380 21.710 0.630     0.055      0.009\n",
              "lasso          21.740 16.400 21.740 0.630     0.035      0.005\n",
              "elastic_net    21.920 16.570 22.630 0.610     0.099      0.005\n",
              "ridge          22.380 16.780 22.190 0.610     0.003      0.002"
            ],
            "text/html": [
              "\n",
              "  <div id=\"df-42b46352-6fcb-453f-9ecb-2d929b49e9dd\">\n",
              "    <div class=\"colab-df-container\">\n",
              "      <div>\n",
              "<style scoped>\n",
              "    .dataframe tbody tr th:only-of-type {\n",
              "        vertical-align: middle;\n",
              "    }\n",
              "\n",
              "    .dataframe tbody tr th {\n",
              "        vertical-align: top;\n",
              "    }\n",
              "\n",
              "    .dataframe thead th {\n",
              "        text-align: right;\n",
              "    }\n",
              "</style>\n",
              "<table border=\"1\" class=\"dataframe\">\n",
              "  <thead>\n",
              "    <tr style=\"text-align: right;\">\n",
              "      <th></th>\n",
              "      <th>rmse</th>\n",
              "      <th>mae</th>\n",
              "      <th>smape</th>\n",
              "      <th>r2</th>\n",
              "      <th>fit_time</th>\n",
              "      <th>pred_time</th>\n",
              "    </tr>\n",
              "    <tr>\n",
              "      <th>model</th>\n",
              "      <th></th>\n",
              "      <th></th>\n",
              "      <th></th>\n",
              "      <th></th>\n",
              "      <th></th>\n",
              "      <th></th>\n",
              "    </tr>\n",
              "  </thead>\n",
              "  <tbody>\n",
              "    <tr>\n",
              "      <th>bayesian_ridge</th>\n",
              "      <td>21.710</td>\n",
              "      <td>16.380</td>\n",
              "      <td>21.710</td>\n",
              "      <td>0.630</td>\n",
              "      <td>0.055</td>\n",
              "      <td>0.009</td>\n",
              "    </tr>\n",
              "    <tr>\n",
              "      <th>lasso</th>\n",
              "      <td>21.740</td>\n",
              "      <td>16.400</td>\n",
              "      <td>21.740</td>\n",
              "      <td>0.630</td>\n",
              "      <td>0.035</td>\n",
              "      <td>0.005</td>\n",
              "    </tr>\n",
              "    <tr>\n",
              "      <th>elastic_net</th>\n",
              "      <td>21.920</td>\n",
              "      <td>16.570</td>\n",
              "      <td>22.630</td>\n",
              "      <td>0.610</td>\n",
              "      <td>0.099</td>\n",
              "      <td>0.005</td>\n",
              "    </tr>\n",
              "    <tr>\n",
              "      <th>ridge</th>\n",
              "      <td>22.380</td>\n",
              "      <td>16.780</td>\n",
              "      <td>22.190</td>\n",
              "      <td>0.610</td>\n",
              "      <td>0.003</td>\n",
              "      <td>0.002</td>\n",
              "    </tr>\n",
              "  </tbody>\n",
              "</table>\n",
              "</div>\n",
              "      <button class=\"colab-df-convert\" onclick=\"convertToInteractive('df-42b46352-6fcb-453f-9ecb-2d929b49e9dd')\"\n",
              "              title=\"Convert this dataframe to an interactive table.\"\n",
              "              style=\"display:none;\">\n",
              "        \n",
              "  <svg xmlns=\"http://www.w3.org/2000/svg\" height=\"24px\"viewBox=\"0 0 24 24\"\n",
              "       width=\"24px\">\n",
              "    <path d=\"M0 0h24v24H0V0z\" fill=\"none\"/>\n",
              "    <path d=\"M18.56 5.44l.94 2.06.94-2.06 2.06-.94-2.06-.94-.94-2.06-.94 2.06-2.06.94zm-11 1L8.5 8.5l.94-2.06 2.06-.94-2.06-.94L8.5 2.5l-.94 2.06-2.06.94zm10 10l.94 2.06.94-2.06 2.06-.94-2.06-.94-.94-2.06-.94 2.06-2.06.94z\"/><path d=\"M17.41 7.96l-1.37-1.37c-.4-.4-.92-.59-1.43-.59-.52 0-1.04.2-1.43.59L10.3 9.45l-7.72 7.72c-.78.78-.78 2.05 0 2.83L4 21.41c.39.39.9.59 1.41.59.51 0 1.02-.2 1.41-.59l7.78-7.78 2.81-2.81c.8-.78.8-2.07 0-2.86zM5.41 20L4 18.59l7.72-7.72 1.47 1.35L5.41 20z\"/>\n",
              "  </svg>\n",
              "      </button>\n",
              "      \n",
              "  <style>\n",
              "    .colab-df-container {\n",
              "      display:flex;\n",
              "      flex-wrap:wrap;\n",
              "      gap: 12px;\n",
              "    }\n",
              "\n",
              "    .colab-df-convert {\n",
              "      background-color: #E8F0FE;\n",
              "      border: none;\n",
              "      border-radius: 50%;\n",
              "      cursor: pointer;\n",
              "      display: none;\n",
              "      fill: #1967D2;\n",
              "      height: 32px;\n",
              "      padding: 0 0 0 0;\n",
              "      width: 32px;\n",
              "    }\n",
              "\n",
              "    .colab-df-convert:hover {\n",
              "      background-color: #E2EBFA;\n",
              "      box-shadow: 0px 1px 2px rgba(60, 64, 67, 0.3), 0px 1px 3px 1px rgba(60, 64, 67, 0.15);\n",
              "      fill: #174EA6;\n",
              "    }\n",
              "\n",
              "    [theme=dark] .colab-df-convert {\n",
              "      background-color: #3B4455;\n",
              "      fill: #D2E3FC;\n",
              "    }\n",
              "\n",
              "    [theme=dark] .colab-df-convert:hover {\n",
              "      background-color: #434B5C;\n",
              "      box-shadow: 0px 1px 3px 1px rgba(0, 0, 0, 0.15);\n",
              "      filter: drop-shadow(0px 1px 2px rgba(0, 0, 0, 0.3));\n",
              "      fill: #FFFFFF;\n",
              "    }\n",
              "  </style>\n",
              "\n",
              "      <script>\n",
              "        const buttonEl =\n",
              "          document.querySelector('#df-42b46352-6fcb-453f-9ecb-2d929b49e9dd button.colab-df-convert');\n",
              "        buttonEl.style.display =\n",
              "          google.colab.kernel.accessAllowed ? 'block' : 'none';\n",
              "\n",
              "        async function convertToInteractive(key) {\n",
              "          const element = document.querySelector('#df-42b46352-6fcb-453f-9ecb-2d929b49e9dd');\n",
              "          const dataTable =\n",
              "            await google.colab.kernel.invokeFunction('convertToInteractive',\n",
              "                                                     [key], {});\n",
              "          if (!dataTable) return;\n",
              "\n",
              "          const docLinkHtml = 'Like what you see? Visit the ' +\n",
              "            '<a target=\"_blank\" href=https://colab.research.google.com/notebooks/data_table.ipynb>data table notebook</a>'\n",
              "            + ' to learn more about interactive tables.';\n",
              "          element.innerHTML = '';\n",
              "          dataTable['output_type'] = 'display_data';\n",
              "          await google.colab.output.renderOutput(dataTable, element);\n",
              "          const docLink = document.createElement('div');\n",
              "          docLink.innerHTML = docLinkHtml;\n",
              "          element.appendChild(docLink);\n",
              "        }\n",
              "      </script>\n",
              "    </div>\n",
              "  </div>\n",
              "  "
            ]
          },
          "metadata": {},
          "execution_count": 47
        }
      ],
      "source": [
        "model = lasso_optuna\n",
        "df_report = table_results(X_train, y_train, model, \"lasso\")\n",
        "df_report.sort_values(by=\"rmse\")"
      ]
    },
    {
      "cell_type": "markdown",
      "metadata": {
        "id": "gWtgyTHc6zwk"
      },
      "source": [
        "#### Linear Regression"
      ]
    },
    {
      "cell_type": "markdown",
      "metadata": {
        "id": "938Ao_ZM687Q"
      },
      "source": [
        "Делаем все то же самое что и с предыдущей моделью."
      ]
    },
    {
      "cell_type": "code",
      "execution_count": 48,
      "metadata": {
        "id": "3tmDI9tl687R",
        "trusted": false
      },
      "outputs": [],
      "source": [
        "def objective(\n",
        "    trial,\n",
        "    df,\n",
        "    trgt=\"num_orders\",\n",
        "):\n",
        "    param_grid = {\n",
        "        # \"normalize\": trial.suggest_categorical(\"normalize\", [True, False]),\n",
        "    }\n",
        "    params = {\n",
        "        \"mkft_max_lag\": trial.suggest_int(\"mkft_max_lag\", 1, 31),\n",
        "        \"mkft_max_lag24\": trial.suggest_int(\"mkft_max_lag24\", 1, 31),\n",
        "        \"mkft_rolling_mean_size\": trial.suggest_int(\"mkft_rolling_mean_size\", 2, 31),\n",
        "        \"mkft_rolling_mean_size2\": trial.suggest_int(\n",
        "            \"mkft_rolling_mean_size2\", 50, 250, step=50\n",
        "        ),\n",
        "        \"mkft_rolling_mean_size3\": trial.suggest_int(\n",
        "            \"mkft_rolling_mean_size3\", 5, 250, step=1\n",
        "        ),\n",
        "        \"mkft_labeled\": trial.suggest_categorical(\"mkft_labeled\", [True, False]),\n",
        "        \"mkft_categorized\": trial.suggest_categorical(\n",
        "            \"mkft_categorized\", [True, False]\n",
        "        ),\n",
        "    }\n",
        "    data = df.copy()\n",
        "    features, target = make_features(data, **params)\n",
        "\n",
        "    X_train, X_res, y_train, y_res = train_test_split(\n",
        "        features, target, test_size=0.1, shuffle=False\n",
        "    )\n",
        "    X = X_train\n",
        "    y = y_train\n",
        "\n",
        "    cv_predicts = []\n",
        "    cv = TimeSeriesSplit(n_splits=n)\n",
        "    for idx, (train_idx, test_idx) in enumerate(cv.split(X, y)):\n",
        "        X_trainCV, X_testCV = X.iloc[train_idx], X.iloc[test_idx]\n",
        "        y_trainCV, y_testCV = y.iloc[train_idx], y.iloc[test_idx]\n",
        "\n",
        "        model = LinearRegression(**param_grid)\n",
        "        model.fit(\n",
        "            X_trainCV,\n",
        "            y_trainCV,\n",
        "        )\n",
        "        preds = model.predict(X_testCV)\n",
        "        cv_predicts.append(mean_squared_error(y_testCV, preds, squared=False))\n",
        "\n",
        "    return np.mean(cv_predicts)"
      ]
    },
    {
      "cell_type": "code",
      "execution_count": 49,
      "metadata": {
        "colab": {
          "base_uri": "https://localhost:8080/",
          "height": 49,
          "referenced_widgets": [
            "1d1b666bfd9b4e458a8007897a7e28ba",
            "b40872feebac4699bbfde99b8d7c42bd",
            "ed025951cfc3436fa1ea3cb2f40d82d2",
            "a48d90392ef34055ab69774da7863a5a",
            "204613041fe147cdbf4d6df848956452",
            "b142089688dd43fa87dc0de9975e1b5a",
            "51e890694df4438e8e1c05353384e270",
            "12f9ba884e13447fa5a45cde3d4b07f4",
            "9855a405a1ed4daf95a344e15b16926e",
            "01bd0da3fd70487dad5bdb3cbfb0df74",
            "2c9235fa64e24eada8cc7608dcc96384"
          ]
        },
        "id": "8AA9ENXi687S",
        "outputId": "2e0dcc65-42be-4cd5-dcce-8a664940c717",
        "trusted": false
      },
      "outputs": [
        {
          "output_type": "display_data",
          "data": {
            "text/plain": [
              "  0%|          | 0/100 [00:00<?, ?it/s]"
            ],
            "application/vnd.jupyter.widget-view+json": {
              "version_major": 2,
              "version_minor": 0,
              "model_id": "1d1b666bfd9b4e458a8007897a7e28ba"
            }
          },
          "metadata": {}
        }
      ],
      "source": [
        "study = optuna.create_study(direction=\"minimize\", study_name=\"LR\", sampler=sampler)\n",
        "func = lambda trial: objective(trial, df)\n",
        "study.optimize(func, n_trials=100, show_progress_bar=True)"
      ]
    },
    {
      "cell_type": "code",
      "execution_count": 50,
      "metadata": {
        "colab": {
          "base_uri": "https://localhost:8080/"
        },
        "id": "3LQcIxc5687S",
        "outputId": "f91aaf9a-5846-4036-f517-572dc820a34a",
        "trusted": false
      },
      "outputs": [
        {
          "output_type": "stream",
          "name": "stdout",
          "text": [
            "Лучший показатель rmse при кросс-валидации: 22.21384\n",
            "\n",
            "Лучшие параметры:\n",
            "mkft_max_lag: 24\n",
            "mkft_max_lag24: 15\n",
            "mkft_rolling_mean_size: 28\n",
            "mkft_rolling_mean_size2: 200\n",
            "mkft_rolling_mean_size3: 30\n",
            "mkft_labeled: True\n",
            "mkft_categorized: True\n"
          ]
        }
      ],
      "source": [
        "print(f\"Лучший показатель rmse при кросс-валидации: {study.best_value:.5f}\")\n",
        "print(\"\")\n",
        "print(f\"Лучшие параметры:\")\n",
        "\n",
        "for key, value in study.best_params.items():\n",
        "    print(f\"{key}: {value}\")\n",
        "    best_tresh = value"
      ]
    },
    {
      "cell_type": "code",
      "execution_count": 51,
      "metadata": {
        "id": "jkVvEbY5687T",
        "trusted": false
      },
      "outputs": [],
      "source": [
        "def_params_lr = {\n",
        "    k: v for k, v in study.best_params.items() if \"mkft_\" in str(k)\n",
        "}  # отбираем настройки для функции создания фич\n",
        "model_params_lr = {\n",
        "    k: v for k, v in study.best_params.items() if \"mkft_\" not in str(k)\n",
        "}  # отбираем настройки для самой модели"
      ]
    },
    {
      "cell_type": "code",
      "execution_count": 52,
      "metadata": {
        "id": "AzP6rQRw687U",
        "trusted": false
      },
      "outputs": [],
      "source": [
        "data = df.copy()\n",
        "features, target = make_features(data, **def_params_lr)\n",
        "\n",
        "X_train, X_res, y_train, y_res = train_test_split(\n",
        "    features, target, train_size=0.9, shuffle=False\n",
        ")\n",
        "\n",
        "lr_optuna = LinearRegression(**model_params_lr)"
      ]
    },
    {
      "cell_type": "code",
      "execution_count": 53,
      "metadata": {
        "colab": {
          "base_uri": "https://localhost:8080/",
          "height": 238
        },
        "id": "vnsPUAMM687U",
        "outputId": "dd73ce8e-3078-40b9-e578-9c65845eab82",
        "trusted": false
      },
      "outputs": [
        {
          "output_type": "execute_result",
          "data": {
            "text/plain": [
              "                    rmse    mae  smape    r2  fit_time  pred_time\n",
              "model                                                            \n",
              "bayesian_ridge    21.710 16.380 21.710 0.630     0.055      0.009\n",
              "lasso             21.740 16.400 21.740 0.630     0.035      0.005\n",
              "elastic_net       21.920 16.570 22.630 0.610     0.099      0.005\n",
              "linear_regression 22.010 16.540 22.090 0.620     0.008      0.002\n",
              "ridge             22.380 16.780 22.190 0.610     0.003      0.002"
            ],
            "text/html": [
              "\n",
              "  <div id=\"df-1db7a46f-0bf0-4a9a-95dd-abbd56258093\">\n",
              "    <div class=\"colab-df-container\">\n",
              "      <div>\n",
              "<style scoped>\n",
              "    .dataframe tbody tr th:only-of-type {\n",
              "        vertical-align: middle;\n",
              "    }\n",
              "\n",
              "    .dataframe tbody tr th {\n",
              "        vertical-align: top;\n",
              "    }\n",
              "\n",
              "    .dataframe thead th {\n",
              "        text-align: right;\n",
              "    }\n",
              "</style>\n",
              "<table border=\"1\" class=\"dataframe\">\n",
              "  <thead>\n",
              "    <tr style=\"text-align: right;\">\n",
              "      <th></th>\n",
              "      <th>rmse</th>\n",
              "      <th>mae</th>\n",
              "      <th>smape</th>\n",
              "      <th>r2</th>\n",
              "      <th>fit_time</th>\n",
              "      <th>pred_time</th>\n",
              "    </tr>\n",
              "    <tr>\n",
              "      <th>model</th>\n",
              "      <th></th>\n",
              "      <th></th>\n",
              "      <th></th>\n",
              "      <th></th>\n",
              "      <th></th>\n",
              "      <th></th>\n",
              "    </tr>\n",
              "  </thead>\n",
              "  <tbody>\n",
              "    <tr>\n",
              "      <th>bayesian_ridge</th>\n",
              "      <td>21.710</td>\n",
              "      <td>16.380</td>\n",
              "      <td>21.710</td>\n",
              "      <td>0.630</td>\n",
              "      <td>0.055</td>\n",
              "      <td>0.009</td>\n",
              "    </tr>\n",
              "    <tr>\n",
              "      <th>lasso</th>\n",
              "      <td>21.740</td>\n",
              "      <td>16.400</td>\n",
              "      <td>21.740</td>\n",
              "      <td>0.630</td>\n",
              "      <td>0.035</td>\n",
              "      <td>0.005</td>\n",
              "    </tr>\n",
              "    <tr>\n",
              "      <th>elastic_net</th>\n",
              "      <td>21.920</td>\n",
              "      <td>16.570</td>\n",
              "      <td>22.630</td>\n",
              "      <td>0.610</td>\n",
              "      <td>0.099</td>\n",
              "      <td>0.005</td>\n",
              "    </tr>\n",
              "    <tr>\n",
              "      <th>linear_regression</th>\n",
              "      <td>22.010</td>\n",
              "      <td>16.540</td>\n",
              "      <td>22.090</td>\n",
              "      <td>0.620</td>\n",
              "      <td>0.008</td>\n",
              "      <td>0.002</td>\n",
              "    </tr>\n",
              "    <tr>\n",
              "      <th>ridge</th>\n",
              "      <td>22.380</td>\n",
              "      <td>16.780</td>\n",
              "      <td>22.190</td>\n",
              "      <td>0.610</td>\n",
              "      <td>0.003</td>\n",
              "      <td>0.002</td>\n",
              "    </tr>\n",
              "  </tbody>\n",
              "</table>\n",
              "</div>\n",
              "      <button class=\"colab-df-convert\" onclick=\"convertToInteractive('df-1db7a46f-0bf0-4a9a-95dd-abbd56258093')\"\n",
              "              title=\"Convert this dataframe to an interactive table.\"\n",
              "              style=\"display:none;\">\n",
              "        \n",
              "  <svg xmlns=\"http://www.w3.org/2000/svg\" height=\"24px\"viewBox=\"0 0 24 24\"\n",
              "       width=\"24px\">\n",
              "    <path d=\"M0 0h24v24H0V0z\" fill=\"none\"/>\n",
              "    <path d=\"M18.56 5.44l.94 2.06.94-2.06 2.06-.94-2.06-.94-.94-2.06-.94 2.06-2.06.94zm-11 1L8.5 8.5l.94-2.06 2.06-.94-2.06-.94L8.5 2.5l-.94 2.06-2.06.94zm10 10l.94 2.06.94-2.06 2.06-.94-2.06-.94-.94-2.06-.94 2.06-2.06.94z\"/><path d=\"M17.41 7.96l-1.37-1.37c-.4-.4-.92-.59-1.43-.59-.52 0-1.04.2-1.43.59L10.3 9.45l-7.72 7.72c-.78.78-.78 2.05 0 2.83L4 21.41c.39.39.9.59 1.41.59.51 0 1.02-.2 1.41-.59l7.78-7.78 2.81-2.81c.8-.78.8-2.07 0-2.86zM5.41 20L4 18.59l7.72-7.72 1.47 1.35L5.41 20z\"/>\n",
              "  </svg>\n",
              "      </button>\n",
              "      \n",
              "  <style>\n",
              "    .colab-df-container {\n",
              "      display:flex;\n",
              "      flex-wrap:wrap;\n",
              "      gap: 12px;\n",
              "    }\n",
              "\n",
              "    .colab-df-convert {\n",
              "      background-color: #E8F0FE;\n",
              "      border: none;\n",
              "      border-radius: 50%;\n",
              "      cursor: pointer;\n",
              "      display: none;\n",
              "      fill: #1967D2;\n",
              "      height: 32px;\n",
              "      padding: 0 0 0 0;\n",
              "      width: 32px;\n",
              "    }\n",
              "\n",
              "    .colab-df-convert:hover {\n",
              "      background-color: #E2EBFA;\n",
              "      box-shadow: 0px 1px 2px rgba(60, 64, 67, 0.3), 0px 1px 3px 1px rgba(60, 64, 67, 0.15);\n",
              "      fill: #174EA6;\n",
              "    }\n",
              "\n",
              "    [theme=dark] .colab-df-convert {\n",
              "      background-color: #3B4455;\n",
              "      fill: #D2E3FC;\n",
              "    }\n",
              "\n",
              "    [theme=dark] .colab-df-convert:hover {\n",
              "      background-color: #434B5C;\n",
              "      box-shadow: 0px 1px 3px 1px rgba(0, 0, 0, 0.15);\n",
              "      filter: drop-shadow(0px 1px 2px rgba(0, 0, 0, 0.3));\n",
              "      fill: #FFFFFF;\n",
              "    }\n",
              "  </style>\n",
              "\n",
              "      <script>\n",
              "        const buttonEl =\n",
              "          document.querySelector('#df-1db7a46f-0bf0-4a9a-95dd-abbd56258093 button.colab-df-convert');\n",
              "        buttonEl.style.display =\n",
              "          google.colab.kernel.accessAllowed ? 'block' : 'none';\n",
              "\n",
              "        async function convertToInteractive(key) {\n",
              "          const element = document.querySelector('#df-1db7a46f-0bf0-4a9a-95dd-abbd56258093');\n",
              "          const dataTable =\n",
              "            await google.colab.kernel.invokeFunction('convertToInteractive',\n",
              "                                                     [key], {});\n",
              "          if (!dataTable) return;\n",
              "\n",
              "          const docLinkHtml = 'Like what you see? Visit the ' +\n",
              "            '<a target=\"_blank\" href=https://colab.research.google.com/notebooks/data_table.ipynb>data table notebook</a>'\n",
              "            + ' to learn more about interactive tables.';\n",
              "          element.innerHTML = '';\n",
              "          dataTable['output_type'] = 'display_data';\n",
              "          await google.colab.output.renderOutput(dataTable, element);\n",
              "          const docLink = document.createElement('div');\n",
              "          docLink.innerHTML = docLinkHtml;\n",
              "          element.appendChild(docLink);\n",
              "        }\n",
              "      </script>\n",
              "    </div>\n",
              "  </div>\n",
              "  "
            ]
          },
          "metadata": {},
          "execution_count": 53
        }
      ],
      "source": [
        "model = lr_optuna\n",
        "df_report = table_results(X_train, y_train, model, \"linear_regression\")\n",
        "df_report.sort_values(by=\"rmse\")"
      ]
    },
    {
      "cell_type": "markdown",
      "metadata": {
        "id": "aLSEVd0803gP"
      },
      "source": [
        "#### Bayesian_ridge + Boosting"
      ]
    },
    {
      "cell_type": "markdown",
      "metadata": {
        "id": "l_O9ajE24yCp"
      },
      "source": [
        "Возьмем лучшее из двух миров : линейных моделей и градиентного бустинга.\n",
        "Фишка в том, что линейная модель будет предсказывать тренд, а градиентный бустинг будет помогать предсказывать остатки от вычитания истинных значений и предсказаний линейной модели.\n",
        "\n",
        "Остатки будут в относительных значениях, так как абсолютные могут сильно меняться со временем."
      ]
    },
    {
      "cell_type": "code",
      "execution_count": 54,
      "metadata": {
        "id": "oHNWOaxAx7yJ",
        "trusted": false
      },
      "outputs": [],
      "source": [
        "class BridgeBoosting:\n",
        "    def __init__(self, learning_rate, num_leaves, max_depth, min_child_samples):\n",
        "        self.learning_rate = learning_rate\n",
        "        self.num_leaves = num_leaves\n",
        "        self.max_depth = max_depth\n",
        "        self.min_child_samples = min_child_samples\n",
        "        model1 = BayesianRidge(**model_params_bridge)\n",
        "        self.model1_ = model1\n",
        "        model2 = LGBMRegressor(\n",
        "            learning_rate=self.learning_rate,\n",
        "            num_leaves=self.num_leaves,\n",
        "            max_depth=self.max_depth,\n",
        "            min_child_samples=self.min_child_samples,\n",
        "            n_estimators=1000,\n",
        "            random_seed=rstate, \n",
        "        )\n",
        "        self.model2_ = model2\n",
        "\n",
        "    def fit(self, X_train, y_train):\n",
        "        self.model1_.fit(X_train, y_train)\n",
        "        y_hat1 = self.model1_.predict(X_train)\n",
        "        residuals = y_train / y_hat1\n",
        "\n",
        "        X_train, X_test, y_train, y_test = train_test_split(\n",
        "            X_train, residuals, test_size=0.2, shuffle=False\n",
        "        )\n",
        "        self.model2_.fit(\n",
        "            X_train,\n",
        "            y_train,\n",
        "            # categorical_feature=cat_features,\n",
        "            eval_set=[(X_test, y_test)],\n",
        "#             callbacks=[stopping_rounds=30],\n",
        "            early_stopping_rounds=30,\n",
        "            verbose=False,\n",
        "        )\n",
        "\n",
        "    def predict(self, X):\n",
        "        hat1 = self.model1_.predict(X)\n",
        "        hat2 = self.model2_.predict(X)\n",
        "        return hat1 * hat2"
      ]
    },
    {
      "cell_type": "code",
      "execution_count": 55,
      "metadata": {
        "id": "zfh7NfAs1BI1",
        "trusted": false
      },
      "outputs": [],
      "source": [
        "def objective(trial, df, trgt=\"num_orders\"):\n",
        "    param_grid = {\n",
        "        \"learning_rate\": trial.suggest_float(\"learning_rate\", 0.01, 0.2),\n",
        "        \"num_leaves\": trial.suggest_int(\"num_leaves\", 4, 200),\n",
        "        \"max_depth\": trial.suggest_int(\"max_depth\", 1, 13),\n",
        "        \"min_child_samples\": trial.suggest_int(\"min_child_samples\", 5, 50),\n",
        "    }\n",
        "    params = {\n",
        "        \"mkft_max_lag\": trial.suggest_int(\"mkft_max_lag\", 1, 31),\n",
        "        \"mkft_max_lag24\": trial.suggest_int(\"mkft_max_lag24\", 1, 31),\n",
        "        \"mkft_rolling_mean_size\": trial.suggest_int(\"mkft_rolling_mean_size\", 2, 31),\n",
        "        \"mkft_rolling_mean_size2\": trial.suggest_int(\n",
        "            \"mkft_rolling_mean_size2\", 50, 250, step=50\n",
        "        ),\n",
        "        \"mkft_rolling_mean_size3\": trial.suggest_int(\n",
        "            \"mkft_rolling_mean_size3\", 5, 250, step=1\n",
        "        ),\n",
        "    }\n",
        "    data = df.copy()\n",
        "    features, target = make_features(data, **params)\n",
        "\n",
        "    X_train, X_res, y_train, y_res = train_test_split(\n",
        "        features, target, test_size=0.1, shuffle=False\n",
        "    )\n",
        "    X = X_train\n",
        "    y = y_train\n",
        "\n",
        "    cv_predicts = []\n",
        "    cv = TimeSeriesSplit(n_splits=n)\n",
        "    for idx, (train_idx, test_idx) in enumerate(cv.split(X, y)):\n",
        "        X_trainCV, X_testCV = X.iloc[train_idx], X.iloc[test_idx]\n",
        "        y_trainCV, y_testCV = y.iloc[train_idx], y.iloc[test_idx]\n",
        "\n",
        "        model = BridgeBoosting(**param_grid)\n",
        "        model.fit(\n",
        "            X_trainCV,\n",
        "            y_trainCV,\n",
        "        )\n",
        "        preds = model.predict(X_testCV)\n",
        "        cv_predicts.append(mean_squared_error(y_testCV, preds, squared=False))\n",
        "\n",
        "    return np.mean(cv_predicts)"
      ]
    },
    {
      "cell_type": "code",
      "execution_count": 56,
      "metadata": {
        "colab": {
          "base_uri": "https://localhost:8080/",
          "height": 49,
          "referenced_widgets": [
            "4a9cbc78ebeb4576a6b9fddb7dc4b729",
            "e835e233f81c488197eb4de301507a37",
            "8a762e96126147679442bcd6b603bee2",
            "c810703deba0459d95c79ca91958cba2",
            "69f1240ba4b1425db9f62cf7817d824e",
            "c035d7c73d2b4ffb8f7a090b23ae2497",
            "dd2a279ab0a345c6b25fb9beea2037dc",
            "2a81262399f74b308b35d901f5e48918",
            "c6a9f74b501d472ba73a33a021ff947e",
            "ab1b48d28f594af381c47c0af960180f",
            "281e1c624fdb46869b303ca861465a11"
          ]
        },
        "id": "3GaDll_m1BI4",
        "outputId": "a7ec545a-2d5e-4a96-a861-8e21d46de04d",
        "trusted": false
      },
      "outputs": [
        {
          "output_type": "display_data",
          "data": {
            "text/plain": [
              "  0%|          | 0/200 [00:00<?, ?it/s]"
            ],
            "application/vnd.jupyter.widget-view+json": {
              "version_major": 2,
              "version_minor": 0,
              "model_id": "4a9cbc78ebeb4576a6b9fddb7dc4b729"
            }
          },
          "metadata": {}
        }
      ],
      "source": [
        "study = optuna.create_study(\n",
        "    direction=\"minimize\", study_name=\"b_ridge_boosting\", sampler=sampler\n",
        ")\n",
        "func = lambda trial: objective(trial, df)\n",
        "study.optimize(func, n_trials=200, show_progress_bar=True)"
      ]
    },
    {
      "cell_type": "code",
      "execution_count": 57,
      "metadata": {
        "colab": {
          "base_uri": "https://localhost:8080/"
        },
        "id": "2JwFbenI1BI5",
        "outputId": "c8272714-d593-48c1-e5bd-a06813a9991e",
        "trusted": false
      },
      "outputs": [
        {
          "output_type": "stream",
          "name": "stdout",
          "text": [
            "Лучший показатель rmse при кросс-валидации: 21.85198\n",
            "\n",
            "Лучшие параметры:\n",
            "learning_rate: 0.01756800956408352\n",
            "num_leaves: 4\n",
            "max_depth: 13\n",
            "min_child_samples: 33\n",
            "mkft_max_lag: 11\n",
            "mkft_max_lag24: 7\n",
            "mkft_rolling_mean_size: 25\n",
            "mkft_rolling_mean_size2: 50\n",
            "mkft_rolling_mean_size3: 123\n"
          ]
        }
      ],
      "source": [
        "print(f\"Лучший показатель rmse при кросс-валидации: {study.best_value:.5f}\")\n",
        "print(\"\")\n",
        "print(f\"Лучшие параметры:\")\n",
        "\n",
        "for key, value in study.best_params.items():\n",
        "    print(f\"{key}: {value}\")\n",
        "    best_tresh = value"
      ]
    },
    {
      "cell_type": "code",
      "execution_count": 58,
      "metadata": {
        "id": "4zQVAVYN1BI7",
        "trusted": false
      },
      "outputs": [],
      "source": [
        "def_params_bb = {\n",
        "    k: v for k, v in study.best_params.items() if \"mkft_\" in str(k)\n",
        "}  # отбираем настройки для функции создания фич\n",
        "model_params_bb = {\n",
        "    k: v for k, v in study.best_params.items() if \"mkft_\" not in str(k)\n",
        "}  # отбираем настройки для самой модели"
      ]
    },
    {
      "cell_type": "code",
      "execution_count": 59,
      "metadata": {
        "id": "acrtmfR21BI7",
        "trusted": false
      },
      "outputs": [],
      "source": [
        "data = df.copy()\n",
        "features, target = make_features(data, **def_params_bb)\n",
        "\n",
        "X_train, X_res, y_train, y_res = train_test_split(\n",
        "    features, target, train_size=0.9, shuffle=False\n",
        ")\n",
        "\n",
        "bb_optuna = BridgeBoosting(**model_params_bb)"
      ]
    },
    {
      "cell_type": "code",
      "execution_count": 60,
      "metadata": {
        "colab": {
          "base_uri": "https://localhost:8080/",
          "height": 269
        },
        "id": "ZZhGFOYJ1BI8",
        "outputId": "3b16c996-88ea-4576-dffb-4d64568f42b4",
        "trusted": false
      },
      "outputs": [
        {
          "output_type": "execute_result",
          "data": {
            "text/plain": [
              "                    rmse    mae  smape    r2  fit_time  pred_time\n",
              "model                                                            \n",
              "b_ridge_boosting  21.670 16.220 21.960 0.620     0.185      0.010\n",
              "bayesian_ridge    21.710 16.380 21.710 0.630     0.055      0.009\n",
              "lasso             21.740 16.400 21.740 0.630     0.035      0.005\n",
              "elastic_net       21.920 16.570 22.630 0.610     0.099      0.005\n",
              "linear_regression 22.010 16.540 22.090 0.620     0.008      0.002\n",
              "ridge             22.380 16.780 22.190 0.610     0.003      0.002"
            ],
            "text/html": [
              "\n",
              "  <div id=\"df-44d01ed2-27f2-4d8c-9bb9-fd9fa42486ab\">\n",
              "    <div class=\"colab-df-container\">\n",
              "      <div>\n",
              "<style scoped>\n",
              "    .dataframe tbody tr th:only-of-type {\n",
              "        vertical-align: middle;\n",
              "    }\n",
              "\n",
              "    .dataframe tbody tr th {\n",
              "        vertical-align: top;\n",
              "    }\n",
              "\n",
              "    .dataframe thead th {\n",
              "        text-align: right;\n",
              "    }\n",
              "</style>\n",
              "<table border=\"1\" class=\"dataframe\">\n",
              "  <thead>\n",
              "    <tr style=\"text-align: right;\">\n",
              "      <th></th>\n",
              "      <th>rmse</th>\n",
              "      <th>mae</th>\n",
              "      <th>smape</th>\n",
              "      <th>r2</th>\n",
              "      <th>fit_time</th>\n",
              "      <th>pred_time</th>\n",
              "    </tr>\n",
              "    <tr>\n",
              "      <th>model</th>\n",
              "      <th></th>\n",
              "      <th></th>\n",
              "      <th></th>\n",
              "      <th></th>\n",
              "      <th></th>\n",
              "      <th></th>\n",
              "    </tr>\n",
              "  </thead>\n",
              "  <tbody>\n",
              "    <tr>\n",
              "      <th>b_ridge_boosting</th>\n",
              "      <td>21.670</td>\n",
              "      <td>16.220</td>\n",
              "      <td>21.960</td>\n",
              "      <td>0.620</td>\n",
              "      <td>0.185</td>\n",
              "      <td>0.010</td>\n",
              "    </tr>\n",
              "    <tr>\n",
              "      <th>bayesian_ridge</th>\n",
              "      <td>21.710</td>\n",
              "      <td>16.380</td>\n",
              "      <td>21.710</td>\n",
              "      <td>0.630</td>\n",
              "      <td>0.055</td>\n",
              "      <td>0.009</td>\n",
              "    </tr>\n",
              "    <tr>\n",
              "      <th>lasso</th>\n",
              "      <td>21.740</td>\n",
              "      <td>16.400</td>\n",
              "      <td>21.740</td>\n",
              "      <td>0.630</td>\n",
              "      <td>0.035</td>\n",
              "      <td>0.005</td>\n",
              "    </tr>\n",
              "    <tr>\n",
              "      <th>elastic_net</th>\n",
              "      <td>21.920</td>\n",
              "      <td>16.570</td>\n",
              "      <td>22.630</td>\n",
              "      <td>0.610</td>\n",
              "      <td>0.099</td>\n",
              "      <td>0.005</td>\n",
              "    </tr>\n",
              "    <tr>\n",
              "      <th>linear_regression</th>\n",
              "      <td>22.010</td>\n",
              "      <td>16.540</td>\n",
              "      <td>22.090</td>\n",
              "      <td>0.620</td>\n",
              "      <td>0.008</td>\n",
              "      <td>0.002</td>\n",
              "    </tr>\n",
              "    <tr>\n",
              "      <th>ridge</th>\n",
              "      <td>22.380</td>\n",
              "      <td>16.780</td>\n",
              "      <td>22.190</td>\n",
              "      <td>0.610</td>\n",
              "      <td>0.003</td>\n",
              "      <td>0.002</td>\n",
              "    </tr>\n",
              "  </tbody>\n",
              "</table>\n",
              "</div>\n",
              "      <button class=\"colab-df-convert\" onclick=\"convertToInteractive('df-44d01ed2-27f2-4d8c-9bb9-fd9fa42486ab')\"\n",
              "              title=\"Convert this dataframe to an interactive table.\"\n",
              "              style=\"display:none;\">\n",
              "        \n",
              "  <svg xmlns=\"http://www.w3.org/2000/svg\" height=\"24px\"viewBox=\"0 0 24 24\"\n",
              "       width=\"24px\">\n",
              "    <path d=\"M0 0h24v24H0V0z\" fill=\"none\"/>\n",
              "    <path d=\"M18.56 5.44l.94 2.06.94-2.06 2.06-.94-2.06-.94-.94-2.06-.94 2.06-2.06.94zm-11 1L8.5 8.5l.94-2.06 2.06-.94-2.06-.94L8.5 2.5l-.94 2.06-2.06.94zm10 10l.94 2.06.94-2.06 2.06-.94-2.06-.94-.94-2.06-.94 2.06-2.06.94z\"/><path d=\"M17.41 7.96l-1.37-1.37c-.4-.4-.92-.59-1.43-.59-.52 0-1.04.2-1.43.59L10.3 9.45l-7.72 7.72c-.78.78-.78 2.05 0 2.83L4 21.41c.39.39.9.59 1.41.59.51 0 1.02-.2 1.41-.59l7.78-7.78 2.81-2.81c.8-.78.8-2.07 0-2.86zM5.41 20L4 18.59l7.72-7.72 1.47 1.35L5.41 20z\"/>\n",
              "  </svg>\n",
              "      </button>\n",
              "      \n",
              "  <style>\n",
              "    .colab-df-container {\n",
              "      display:flex;\n",
              "      flex-wrap:wrap;\n",
              "      gap: 12px;\n",
              "    }\n",
              "\n",
              "    .colab-df-convert {\n",
              "      background-color: #E8F0FE;\n",
              "      border: none;\n",
              "      border-radius: 50%;\n",
              "      cursor: pointer;\n",
              "      display: none;\n",
              "      fill: #1967D2;\n",
              "      height: 32px;\n",
              "      padding: 0 0 0 0;\n",
              "      width: 32px;\n",
              "    }\n",
              "\n",
              "    .colab-df-convert:hover {\n",
              "      background-color: #E2EBFA;\n",
              "      box-shadow: 0px 1px 2px rgba(60, 64, 67, 0.3), 0px 1px 3px 1px rgba(60, 64, 67, 0.15);\n",
              "      fill: #174EA6;\n",
              "    }\n",
              "\n",
              "    [theme=dark] .colab-df-convert {\n",
              "      background-color: #3B4455;\n",
              "      fill: #D2E3FC;\n",
              "    }\n",
              "\n",
              "    [theme=dark] .colab-df-convert:hover {\n",
              "      background-color: #434B5C;\n",
              "      box-shadow: 0px 1px 3px 1px rgba(0, 0, 0, 0.15);\n",
              "      filter: drop-shadow(0px 1px 2px rgba(0, 0, 0, 0.3));\n",
              "      fill: #FFFFFF;\n",
              "    }\n",
              "  </style>\n",
              "\n",
              "      <script>\n",
              "        const buttonEl =\n",
              "          document.querySelector('#df-44d01ed2-27f2-4d8c-9bb9-fd9fa42486ab button.colab-df-convert');\n",
              "        buttonEl.style.display =\n",
              "          google.colab.kernel.accessAllowed ? 'block' : 'none';\n",
              "\n",
              "        async function convertToInteractive(key) {\n",
              "          const element = document.querySelector('#df-44d01ed2-27f2-4d8c-9bb9-fd9fa42486ab');\n",
              "          const dataTable =\n",
              "            await google.colab.kernel.invokeFunction('convertToInteractive',\n",
              "                                                     [key], {});\n",
              "          if (!dataTable) return;\n",
              "\n",
              "          const docLinkHtml = 'Like what you see? Visit the ' +\n",
              "            '<a target=\"_blank\" href=https://colab.research.google.com/notebooks/data_table.ipynb>data table notebook</a>'\n",
              "            + ' to learn more about interactive tables.';\n",
              "          element.innerHTML = '';\n",
              "          dataTable['output_type'] = 'display_data';\n",
              "          await google.colab.output.renderOutput(dataTable, element);\n",
              "          const docLink = document.createElement('div');\n",
              "          docLink.innerHTML = docLinkHtml;\n",
              "          element.appendChild(docLink);\n",
              "        }\n",
              "      </script>\n",
              "    </div>\n",
              "  </div>\n",
              "  "
            ]
          },
          "metadata": {},
          "execution_count": 60
        }
      ],
      "source": [
        "model = bb_optuna\n",
        "df_report = table_results(X_train, y_train, model, \"b_ridge_boosting\")\n",
        "df_report.sort_values(by=\"rmse\")"
      ]
    },
    {
      "cell_type": "markdown",
      "metadata": {
        "id": "8w9-fUcdiqj1"
      },
      "source": [
        "## Анализ результатов моделей"
      ]
    },
    {
      "cell_type": "markdown",
      "metadata": {
        "id": "cclZbI0iivDO"
      },
      "source": [
        "Лучшей по показателю rmse стала гибридная модель. Её и будем проверять на тестовой выборке."
      ]
    },
    {
      "cell_type": "markdown",
      "metadata": {
        "id": "8rtKahZ5WEHB"
      },
      "source": [
        "## Тестирование"
      ]
    },
    {
      "cell_type": "markdown",
      "metadata": {
        "id": "U-agr_z-Ym2Z"
      },
      "source": [
        "Делаем предсказания, считаем метрики, заносим результаты."
      ]
    },
    {
      "cell_type": "code",
      "execution_count": 61,
      "metadata": {
        "id": "h2gjeDqX3UYR",
        "trusted": false
      },
      "outputs": [],
      "source": [
        "df_report_f = pd.DataFrame(columns={\"model\"}, data=[0])\n",
        "s = \"b_ridge_boosting\"\n",
        "df_report_f[\"model\"] = s\n",
        "df_report_f = df_report_f.set_index(\"model\")\n",
        "\n",
        "data = df.copy()\n",
        "features, target = make_features(data, **def_params_bb)\n",
        "X_train, X_test, y_train, y_test = train_test_split(\n",
        "    features, target, test_size=0.1, shuffle=False\n",
        ")\n",
        "bb_optuna = BridgeBoosting(**model_params_bb)"
      ]
    },
    {
      "cell_type": "code",
      "execution_count": 62,
      "metadata": {
        "id": "kiMmW3wG3UYS",
        "trusted": false
      },
      "outputs": [],
      "source": [
        "start = time.time()\n",
        "bb_optuna.fit(X_test, y_test)\n",
        "end = time.time()\n",
        "fit_time = end - start"
      ]
    },
    {
      "cell_type": "code",
      "execution_count": 63,
      "metadata": {
        "colab": {
          "base_uri": "https://localhost:8080/",
          "height": 112
        },
        "id": "vaBvVhnn3UYT",
        "outputId": "cfae15ba-d105-4441-ca7a-89520a700716",
        "trusted": false
      },
      "outputs": [
        {
          "output_type": "execute_result",
          "data": {
            "text/plain": [
              "                   rmse    mae  smape    r2  fit_time  pred_time\n",
              "model                                                           \n",
              "b_ridge_boosting 28.185 20.754 16.013 0.771     0.168      0.043"
            ],
            "text/html": [
              "\n",
              "  <div id=\"df-368eb7b8-4a10-4fac-a954-09457cf40491\">\n",
              "    <div class=\"colab-df-container\">\n",
              "      <div>\n",
              "<style scoped>\n",
              "    .dataframe tbody tr th:only-of-type {\n",
              "        vertical-align: middle;\n",
              "    }\n",
              "\n",
              "    .dataframe tbody tr th {\n",
              "        vertical-align: top;\n",
              "    }\n",
              "\n",
              "    .dataframe thead th {\n",
              "        text-align: right;\n",
              "    }\n",
              "</style>\n",
              "<table border=\"1\" class=\"dataframe\">\n",
              "  <thead>\n",
              "    <tr style=\"text-align: right;\">\n",
              "      <th></th>\n",
              "      <th>rmse</th>\n",
              "      <th>mae</th>\n",
              "      <th>smape</th>\n",
              "      <th>r2</th>\n",
              "      <th>fit_time</th>\n",
              "      <th>pred_time</th>\n",
              "    </tr>\n",
              "    <tr>\n",
              "      <th>model</th>\n",
              "      <th></th>\n",
              "      <th></th>\n",
              "      <th></th>\n",
              "      <th></th>\n",
              "      <th></th>\n",
              "      <th></th>\n",
              "    </tr>\n",
              "  </thead>\n",
              "  <tbody>\n",
              "    <tr>\n",
              "      <th>b_ridge_boosting</th>\n",
              "      <td>28.185</td>\n",
              "      <td>20.754</td>\n",
              "      <td>16.013</td>\n",
              "      <td>0.771</td>\n",
              "      <td>0.168</td>\n",
              "      <td>0.043</td>\n",
              "    </tr>\n",
              "  </tbody>\n",
              "</table>\n",
              "</div>\n",
              "      <button class=\"colab-df-convert\" onclick=\"convertToInteractive('df-368eb7b8-4a10-4fac-a954-09457cf40491')\"\n",
              "              title=\"Convert this dataframe to an interactive table.\"\n",
              "              style=\"display:none;\">\n",
              "        \n",
              "  <svg xmlns=\"http://www.w3.org/2000/svg\" height=\"24px\"viewBox=\"0 0 24 24\"\n",
              "       width=\"24px\">\n",
              "    <path d=\"M0 0h24v24H0V0z\" fill=\"none\"/>\n",
              "    <path d=\"M18.56 5.44l.94 2.06.94-2.06 2.06-.94-2.06-.94-.94-2.06-.94 2.06-2.06.94zm-11 1L8.5 8.5l.94-2.06 2.06-.94-2.06-.94L8.5 2.5l-.94 2.06-2.06.94zm10 10l.94 2.06.94-2.06 2.06-.94-2.06-.94-.94-2.06-.94 2.06-2.06.94z\"/><path d=\"M17.41 7.96l-1.37-1.37c-.4-.4-.92-.59-1.43-.59-.52 0-1.04.2-1.43.59L10.3 9.45l-7.72 7.72c-.78.78-.78 2.05 0 2.83L4 21.41c.39.39.9.59 1.41.59.51 0 1.02-.2 1.41-.59l7.78-7.78 2.81-2.81c.8-.78.8-2.07 0-2.86zM5.41 20L4 18.59l7.72-7.72 1.47 1.35L5.41 20z\"/>\n",
              "  </svg>\n",
              "      </button>\n",
              "      \n",
              "  <style>\n",
              "    .colab-df-container {\n",
              "      display:flex;\n",
              "      flex-wrap:wrap;\n",
              "      gap: 12px;\n",
              "    }\n",
              "\n",
              "    .colab-df-convert {\n",
              "      background-color: #E8F0FE;\n",
              "      border: none;\n",
              "      border-radius: 50%;\n",
              "      cursor: pointer;\n",
              "      display: none;\n",
              "      fill: #1967D2;\n",
              "      height: 32px;\n",
              "      padding: 0 0 0 0;\n",
              "      width: 32px;\n",
              "    }\n",
              "\n",
              "    .colab-df-convert:hover {\n",
              "      background-color: #E2EBFA;\n",
              "      box-shadow: 0px 1px 2px rgba(60, 64, 67, 0.3), 0px 1px 3px 1px rgba(60, 64, 67, 0.15);\n",
              "      fill: #174EA6;\n",
              "    }\n",
              "\n",
              "    [theme=dark] .colab-df-convert {\n",
              "      background-color: #3B4455;\n",
              "      fill: #D2E3FC;\n",
              "    }\n",
              "\n",
              "    [theme=dark] .colab-df-convert:hover {\n",
              "      background-color: #434B5C;\n",
              "      box-shadow: 0px 1px 3px 1px rgba(0, 0, 0, 0.15);\n",
              "      filter: drop-shadow(0px 1px 2px rgba(0, 0, 0, 0.3));\n",
              "      fill: #FFFFFF;\n",
              "    }\n",
              "  </style>\n",
              "\n",
              "      <script>\n",
              "        const buttonEl =\n",
              "          document.querySelector('#df-368eb7b8-4a10-4fac-a954-09457cf40491 button.colab-df-convert');\n",
              "        buttonEl.style.display =\n",
              "          google.colab.kernel.accessAllowed ? 'block' : 'none';\n",
              "\n",
              "        async function convertToInteractive(key) {\n",
              "          const element = document.querySelector('#df-368eb7b8-4a10-4fac-a954-09457cf40491');\n",
              "          const dataTable =\n",
              "            await google.colab.kernel.invokeFunction('convertToInteractive',\n",
              "                                                     [key], {});\n",
              "          if (!dataTable) return;\n",
              "\n",
              "          const docLinkHtml = 'Like what you see? Visit the ' +\n",
              "            '<a target=\"_blank\" href=https://colab.research.google.com/notebooks/data_table.ipynb>data table notebook</a>'\n",
              "            + ' to learn more about interactive tables.';\n",
              "          element.innerHTML = '';\n",
              "          dataTable['output_type'] = 'display_data';\n",
              "          await google.colab.output.renderOutput(dataTable, element);\n",
              "          const docLink = document.createElement('div');\n",
              "          docLink.innerHTML = docLinkHtml;\n",
              "          element.appendChild(docLink);\n",
              "        }\n",
              "      </script>\n",
              "    </div>\n",
              "  </div>\n",
              "  "
            ]
          },
          "metadata": {},
          "execution_count": 63
        }
      ],
      "source": [
        "model = bb_optuna\n",
        "start = time.time()\n",
        "preds = model.predict(X_test)\n",
        "end = time.time()\n",
        "pred_time = end - start\n",
        "\n",
        "df_report_f.loc[s, \"rmse\"] = mean_squared_error(y_test, preds, squared=False)\n",
        "df_report_f.loc[s, \"mae\"] = mean_absolute_error(y_test, preds)\n",
        "df_report_f.loc[s, \"smape\"] = smape(y_test, preds)\n",
        "df_report_f.loc[s, \"r2\"] = r2_score(y_test, preds)\n",
        "df_report_f.loc[s, \"fit_time\"] = fit_time\n",
        "df_report_f.loc[s, \"pred_time\"] = pred_time\n",
        "df_report_f.sort_values(by=\"rmse\")"
      ]
    },
    {
      "cell_type": "markdown",
      "metadata": {
        "id": "nrS3GVztlNXT"
      },
      "source": [
        "Результат хорош. Метрика rmse и mae выше чем на кросс-валидации. Но оно и понятно, так как средние объемы заказа в абсолютных величинах выше на тестовой выборке. Адекватней всего сравнить как изменились smape и r2 - здесь они даже еще лучше чем на кросс-валидации."
      ]
    },
    {
      "cell_type": "code",
      "execution_count": 64,
      "metadata": {
        "colab": {
          "base_uri": "https://localhost:8080/",
          "height": 496
        },
        "id": "Q63BWcE24gzb",
        "outputId": "15a639a1-dab0-4e08-f66d-7b73f7d75f95",
        "trusted": false
      },
      "outputs": [
        {
          "output_type": "display_data",
          "data": {
            "text/plain": [
              "<Figure size 1440x504 with 1 Axes>"
            ],
            "image/png": "[encoded data removed]"
          },
          "metadata": {
            "needs_background": "light"
          }
        }
      ],
      "source": [
        "fig, ax = plt.subplots(figsize=(20, 7))\n",
        "p = pd.Series(preds, index=y_test.index)\n",
        "sns.set()\n",
        "sns.lineplot(data=y_test, label=\"y_true\")\n",
        "sns.lineplot(data=p, label=\"predict\")\n",
        "plt.legend()\n",
        "plt.title(\n",
        "    'Сравнение предсказаний количества заказов такси гибридной моделью с истинными значениями на тестовой выборке'\n",
        ")\n",
        "plt.xticks(rotation=45)\n",
        "plt.ylabel(\"Количество заказов за час\")\n",
        "plt.xlabel(\"Дата\")\n",
        "plt.show()"
      ]
    },
    {
      "cell_type": "markdown",
      "metadata": {
        "id": "k_39arR9Ytvd"
      },
      "source": [
        "## Вывод"
      ]
    },
    {
      "cell_type": "markdown",
      "metadata": {
        "id": "zorrmUO1YwKW"
      },
      "source": [
        "Задача требовала спрогнозировать количество заказов такси на следующий час и построить модель для такого предсказания.\n",
        "\n",
        "Имеющиеся данные обработали. Для решения данного типа задачи было решено пользоваться только линейными моделями машинного обучения. Для каждой такой модели мы подбирали наилучшие параметры и создавали свои признаки, на которых она будет обучаться.\n",
        "\n",
        "По итогу, лучшая модель лидирующая по основной метрике была выбрана для проверки на тестовой выборке. \n",
        "\n",
        "Результаты на тестовой выборке этой модели не сильно отличаются от того, что мы получили на кросс-валидации, что говорит о надежности модели."
      ]
    },
    {
      "cell_type": "code",
      "execution_count": 65,
      "metadata": {
        "colab": {
          "base_uri": "https://localhost:8080/"
        },
        "id": "JpfLCyt8ackL",
        "outputId": "bdca3220-b4c4-42bc-fe8b-5047aff03cce",
        "trusted": false
      },
      "outputs": [
        {
          "output_type": "stream",
          "name": "stdout",
          "text": [
            "Время выполнения проекта: 5.2 минут\n"
          ]
        }
      ],
      "source": [
        "end_time_project = time.time()\n",
        "time_of_proj = end_time_project - start_time_project\n",
        "time_of_proj\n",
        "print(f\"Время выполнения проекта: {time_of_proj/60:.1f} минут\")"
      ]
    }
  ],
  "metadata": {
    "ExecuteTimeLog": [
      {
        "duration": 10817,
        "start_time": "2022-08-26T07:41:56.371Z"
      },
      {
        "duration": 1994,
        "start_time": "2022-08-26T07:42:07.191Z"
      },
      {
        "duration": 3,
        "start_time": "2022-08-26T07:42:09.187Z"
      },
      {
        "duration": 142,
        "start_time": "2022-08-26T07:42:09.192Z"
      },
      {
        "duration": 11,
        "start_time": "2022-08-26T07:42:09.335Z"
      },
      {
        "duration": 9,
        "start_time": "2022-08-26T07:42:09.348Z"
      },
      {
        "duration": 16,
        "start_time": "2022-08-26T07:42:09.359Z"
      },
      {
        "duration": 6,
        "start_time": "2022-08-26T07:42:09.376Z"
      },
      {
        "duration": 384,
        "start_time": "2022-08-26T07:42:09.383Z"
      },
      {
        "duration": 273,
        "start_time": "2022-08-26T07:42:09.770Z"
      },
      {
        "duration": 259,
        "start_time": "2022-08-26T07:42:10.045Z"
      },
      {
        "duration": 21,
        "start_time": "2022-08-26T07:42:10.311Z"
      },
      {
        "duration": 28,
        "start_time": "2022-08-26T07:42:10.334Z"
      },
      {
        "duration": 41,
        "start_time": "2022-08-26T07:42:10.364Z"
      },
      {
        "duration": 46,
        "start_time": "2022-08-26T07:42:10.406Z"
      },
      {
        "duration": 225,
        "start_time": "2022-08-26T07:42:10.454Z"
      },
      {
        "duration": 15,
        "start_time": "2022-08-26T07:42:10.681Z"
      },
      {
        "duration": 29,
        "start_time": "2022-08-26T07:42:10.698Z"
      },
      {
        "duration": 25,
        "start_time": "2022-08-26T07:42:10.728Z"
      },
      {
        "duration": 17,
        "start_time": "2022-08-26T07:42:10.755Z"
      },
      {
        "duration": 24,
        "start_time": "2022-08-26T07:42:10.773Z"
      },
      {
        "duration": 30,
        "start_time": "2022-08-26T07:42:10.799Z"
      },
      {
        "duration": 12,
        "start_time": "2022-08-26T07:42:10.831Z"
      },
      {
        "duration": 36,
        "start_time": "2022-08-26T07:42:10.844Z"
      },
      {
        "duration": 20,
        "start_time": "2022-08-26T07:42:10.882Z"
      },
      {
        "duration": 121425,
        "start_time": "2022-08-26T07:42:10.904Z"
      },
      {
        "duration": 94,
        "start_time": "2022-08-26T07:44:12.332Z"
      },
      {
        "duration": 14,
        "start_time": "2022-08-26T07:44:12.430Z"
      },
      {
        "duration": 2676,
        "start_time": "2022-08-26T07:44:12.445Z"
      },
      {
        "duration": 93,
        "start_time": "2022-08-26T07:44:15.129Z"
      },
      {
        "duration": 51186,
        "start_time": "2022-08-26T07:44:15.224Z"
      },
      {
        "duration": 11,
        "start_time": "2022-08-26T07:45:06.419Z"
      },
      {
        "duration": 98,
        "start_time": "2022-08-26T07:45:06.435Z"
      },
      {
        "duration": 792,
        "start_time": "2022-08-26T07:45:06.535Z"
      },
      {
        "duration": 93,
        "start_time": "2022-08-26T07:45:07.328Z"
      },
      {
        "duration": 281398,
        "start_time": "2022-08-26T07:45:07.423Z"
      },
      {
        "duration": 10,
        "start_time": "2022-08-26T07:49:48.827Z"
      },
      {
        "duration": 12,
        "start_time": "2022-08-26T07:49:48.840Z"
      },
      {
        "duration": 85,
        "start_time": "2022-08-26T07:49:48.853Z"
      },
      {
        "duration": 1685,
        "start_time": "2022-08-26T07:49:48.940Z"
      },
      {
        "duration": 10,
        "start_time": "2022-08-26T07:49:50.627Z"
      },
      {
        "duration": 203284,
        "start_time": "2022-08-26T07:49:50.643Z"
      },
      {
        "duration": 89,
        "start_time": "2022-08-26T07:53:13.929Z"
      },
      {
        "duration": 16,
        "start_time": "2022-08-26T07:53:14.020Z"
      },
      {
        "duration": 72,
        "start_time": "2022-08-26T07:53:14.038Z"
      },
      {
        "duration": 1204,
        "start_time": "2022-08-26T07:53:14.121Z"
      },
      {
        "duration": 97,
        "start_time": "2022-08-26T07:53:15.328Z"
      },
      {
        "duration": 87788,
        "start_time": "2022-08-26T07:53:15.431Z"
      },
      {
        "duration": 17,
        "start_time": "2022-08-26T07:54:43.224Z"
      },
      {
        "duration": 71,
        "start_time": "2022-08-26T07:54:43.242Z"
      },
      {
        "duration": 63,
        "start_time": "2022-08-26T07:54:43.317Z"
      },
      {
        "duration": 1553,
        "start_time": "2022-08-26T07:54:43.381Z"
      },
      {
        "duration": 93,
        "start_time": "2022-08-26T07:54:44.937Z"
      },
      {
        "duration": 96,
        "start_time": "2022-08-26T07:54:45.035Z"
      },
      {
        "duration": 476432,
        "start_time": "2022-08-26T07:54:45.132Z"
      },
      {
        "duration": 0,
        "start_time": "2022-08-26T08:02:41.566Z"
      },
      {
        "duration": 0,
        "start_time": "2022-08-26T08:02:41.567Z"
      },
      {
        "duration": 0,
        "start_time": "2022-08-26T08:02:41.568Z"
      },
      {
        "duration": 0,
        "start_time": "2022-08-26T08:02:41.569Z"
      },
      {
        "duration": 0,
        "start_time": "2022-08-26T08:02:41.571Z"
      },
      {
        "duration": 0,
        "start_time": "2022-08-26T08:02:41.571Z"
      },
      {
        "duration": 0,
        "start_time": "2022-08-26T08:02:41.572Z"
      },
      {
        "duration": 0,
        "start_time": "2022-08-26T08:02:41.573Z"
      },
      {
        "duration": 0,
        "start_time": "2022-08-26T08:02:41.574Z"
      },
      {
        "duration": 6475,
        "start_time": "2022-08-26T08:03:25.432Z"
      },
      {
        "duration": 1860,
        "start_time": "2022-08-26T08:03:31.910Z"
      },
      {
        "duration": 3,
        "start_time": "2022-08-26T08:03:33.772Z"
      },
      {
        "duration": 56,
        "start_time": "2022-08-26T08:03:33.777Z"
      },
      {
        "duration": 11,
        "start_time": "2022-08-26T08:03:33.834Z"
      },
      {
        "duration": 10,
        "start_time": "2022-08-26T08:03:33.847Z"
      },
      {
        "duration": 17,
        "start_time": "2022-08-26T08:03:33.858Z"
      },
      {
        "duration": 6,
        "start_time": "2022-08-26T08:03:33.876Z"
      },
      {
        "duration": 324,
        "start_time": "2022-08-26T08:03:33.911Z"
      },
      {
        "duration": 245,
        "start_time": "2022-08-26T08:03:34.238Z"
      },
      {
        "duration": 188,
        "start_time": "2022-08-26T08:03:34.484Z"
      },
      {
        "duration": 11,
        "start_time": "2022-08-26T08:03:34.674Z"
      },
      {
        "duration": 12,
        "start_time": "2022-08-26T08:03:34.687Z"
      },
      {
        "duration": 26,
        "start_time": "2022-08-26T08:03:34.701Z"
      },
      {
        "duration": 8,
        "start_time": "2022-08-26T08:03:34.728Z"
      },
      {
        "duration": 253,
        "start_time": "2022-08-26T08:03:34.738Z"
      },
      {
        "duration": 29,
        "start_time": "2022-08-26T08:03:34.993Z"
      },
      {
        "duration": 8,
        "start_time": "2022-08-26T08:03:35.024Z"
      },
      {
        "duration": 9,
        "start_time": "2022-08-26T08:03:35.034Z"
      },
      {
        "duration": 7,
        "start_time": "2022-08-26T08:03:35.045Z"
      },
      {
        "duration": 9,
        "start_time": "2022-08-26T08:03:35.053Z"
      },
      {
        "duration": 8,
        "start_time": "2022-08-26T08:03:35.063Z"
      },
      {
        "duration": 16,
        "start_time": "2022-08-26T08:03:35.073Z"
      },
      {
        "duration": 17,
        "start_time": "2022-08-26T08:03:35.091Z"
      },
      {
        "duration": 22,
        "start_time": "2022-08-26T08:03:35.109Z"
      },
      {
        "duration": 126588,
        "start_time": "2022-08-26T08:03:35.133Z"
      },
      {
        "duration": 7,
        "start_time": "2022-08-26T08:05:41.723Z"
      },
      {
        "duration": 98,
        "start_time": "2022-08-26T08:05:41.736Z"
      },
      {
        "duration": 2382,
        "start_time": "2022-08-26T08:05:41.835Z"
      },
      {
        "duration": 15,
        "start_time": "2022-08-26T08:05:44.220Z"
      },
      {
        "duration": 52495,
        "start_time": "2022-08-26T08:05:44.237Z"
      },
      {
        "duration": 14,
        "start_time": "2022-08-26T08:06:36.811Z"
      },
      {
        "duration": 119,
        "start_time": "2022-08-26T08:06:36.829Z"
      },
      {
        "duration": 783,
        "start_time": "2022-08-26T08:06:36.950Z"
      },
      {
        "duration": 90,
        "start_time": "2022-08-26T08:06:37.736Z"
      },
      {
        "duration": 277084,
        "start_time": "2022-08-26T08:06:37.828Z"
      },
      {
        "duration": 13,
        "start_time": "2022-08-26T08:11:14.915Z"
      },
      {
        "duration": 85,
        "start_time": "2022-08-26T08:11:14.931Z"
      },
      {
        "duration": 54,
        "start_time": "2022-08-26T08:11:15.018Z"
      },
      {
        "duration": 1449,
        "start_time": "2022-08-26T08:11:15.074Z"
      },
      {
        "duration": 13,
        "start_time": "2022-08-26T08:11:16.524Z"
      },
      {
        "duration": 216697,
        "start_time": "2022-08-26T08:11:16.539Z"
      },
      {
        "duration": 82,
        "start_time": "2022-08-26T08:14:53.238Z"
      },
      {
        "duration": 95,
        "start_time": "2022-08-26T08:14:53.322Z"
      },
      {
        "duration": 75,
        "start_time": "2022-08-26T08:14:53.419Z"
      },
      {
        "duration": 1431,
        "start_time": "2022-08-26T08:14:53.495Z"
      },
      {
        "duration": 13,
        "start_time": "2022-08-26T08:14:54.928Z"
      },
      {
        "duration": 97198,
        "start_time": "2022-08-26T08:14:54.943Z"
      },
      {
        "duration": 8,
        "start_time": "2022-08-26T08:16:32.214Z"
      },
      {
        "duration": 12,
        "start_time": "2022-08-26T08:16:32.230Z"
      },
      {
        "duration": 41,
        "start_time": "2022-08-26T08:16:32.244Z"
      },
      {
        "duration": 925,
        "start_time": "2022-08-26T08:16:32.287Z"
      },
      {
        "duration": 13,
        "start_time": "2022-08-26T08:16:33.214Z"
      },
      {
        "duration": 106,
        "start_time": "2022-08-26T08:16:33.229Z"
      },
      {
        "duration": 67289,
        "start_time": "2022-08-26T08:16:33.336Z"
      },
      {
        "duration": 0,
        "start_time": "2022-08-26T08:17:40.627Z"
      },
      {
        "duration": 0,
        "start_time": "2022-08-26T08:17:40.628Z"
      },
      {
        "duration": 0,
        "start_time": "2022-08-26T08:17:40.629Z"
      },
      {
        "duration": 0,
        "start_time": "2022-08-26T08:17:40.629Z"
      },
      {
        "duration": 0,
        "start_time": "2022-08-26T08:17:40.631Z"
      },
      {
        "duration": 0,
        "start_time": "2022-08-26T08:17:40.633Z"
      },
      {
        "duration": 0,
        "start_time": "2022-08-26T08:17:40.633Z"
      },
      {
        "duration": 0,
        "start_time": "2022-08-26T08:17:40.635Z"
      },
      {
        "duration": 0,
        "start_time": "2022-08-26T08:17:40.636Z"
      },
      {
        "duration": 16,
        "start_time": "2022-08-26T08:17:48.207Z"
      },
      {
        "duration": 15,
        "start_time": "2022-08-26T08:17:48.225Z"
      },
      {
        "duration": 498,
        "start_time": "2022-08-26T08:17:48.242Z"
      },
      {
        "duration": 0,
        "start_time": "2022-08-26T08:17:48.742Z"
      },
      {
        "duration": 0,
        "start_time": "2022-08-26T08:17:48.744Z"
      },
      {
        "duration": 0,
        "start_time": "2022-08-26T08:17:48.745Z"
      },
      {
        "duration": 0,
        "start_time": "2022-08-26T08:17:48.747Z"
      },
      {
        "duration": 0,
        "start_time": "2022-08-26T08:17:48.748Z"
      },
      {
        "duration": 0,
        "start_time": "2022-08-26T08:17:48.749Z"
      },
      {
        "duration": 0,
        "start_time": "2022-08-26T08:17:48.751Z"
      },
      {
        "duration": 0,
        "start_time": "2022-08-26T08:17:48.752Z"
      },
      {
        "duration": 0,
        "start_time": "2022-08-26T08:17:48.753Z"
      },
      {
        "duration": 6,
        "start_time": "2022-08-26T08:17:56.685Z"
      },
      {
        "duration": 7,
        "start_time": "2022-08-26T08:17:58.067Z"
      },
      {
        "duration": 399,
        "start_time": "2022-08-26T08:17:59.538Z"
      },
      {
        "duration": 9,
        "start_time": "2022-08-26T08:20:12.283Z"
      },
      {
        "duration": 6,
        "start_time": "2022-08-26T08:20:13.250Z"
      },
      {
        "duration": 113,
        "start_time": "2022-08-26T08:20:15.184Z"
      },
      {
        "duration": 9,
        "start_time": "2022-08-26T08:20:29.354Z"
      },
      {
        "duration": 14,
        "start_time": "2022-08-26T08:20:30.384Z"
      },
      {
        "duration": 65812,
        "start_time": "2022-08-26T08:20:31.531Z"
      },
      {
        "duration": 6,
        "start_time": "2022-08-26T08:21:55.248Z"
      },
      {
        "duration": 319,
        "start_time": "2022-08-26T08:21:58.713Z"
      },
      {
        "duration": 5,
        "start_time": "2022-08-26T08:23:21.775Z"
      },
      {
        "duration": 7,
        "start_time": "2022-08-26T08:23:23.157Z"
      },
      {
        "duration": 481,
        "start_time": "2022-08-26T08:23:24.653Z"
      },
      {
        "duration": 73,
        "start_time": "2022-08-26T08:23:34.524Z"
      },
      {
        "duration": 7,
        "start_time": "2022-08-26T08:23:35.303Z"
      },
      {
        "duration": 487,
        "start_time": "2022-08-26T08:23:36.239Z"
      }
    ],
    "colab": {
      "collapsed_sections": [],
      "provenance": [],
      "toc_visible": true
    },
    "kernelspec": {
      "display_name": "Python 3 (ipykernel)",
      "language": "python",
      "name": "python3"
    },
    "language_info": {
      "codemirror_mode": {
        "name": "ipython",
        "version": 3
      },
      "file_extension": ".py",
      "mimetype": "text/x-python",
      "name": "python",
      "nbconvert_exporter": "python",
      "pygments_lexer": "ipython3",
      "version": "3.9.5"
    },
    "toc": {
      "base_numbering": 1,
      "nav_menu": {},
      "number_sections": true,
      "sideBar": true,
      "skip_h1_title": true,
      "title_cell": "Table of Contents",
      "title_sidebar": "Contents",
      "toc_cell": false,
      "toc_position": {},
      "toc_section_display": true,
      "toc_window_display": false
    },
    "widgets": {
      "application/vnd.jupyter.widget-state+json": {
        "69e27af9cd0c4eee849026f6e5a77145": {
          "model_module": "@jupyter-widgets/controls",
          "model_name": "HBoxModel",
          "model_module_version": "1.5.0",
          "state": {
            "_dom_classes": [],
            "_model_module": "@jupyter-widgets/controls",
            "_model_module_version": "1.5.0",
            "_model_name": "HBoxModel",
            "_view_count": null,
            "_view_module": "@jupyter-widgets/controls",
            "_view_module_version": "1.5.0",
            "_view_name": "HBoxView",
            "box_style": "",
            "children": [
              "IPY_MODEL_4f8006b8280a4485885e0b110771004c",
              "IPY_MODEL_6c20f17577ba4ad590f1e5a5768e0315",
              "IPY_MODEL_46235f25e8fc44dd93506a20d5a8c364"
            ],
            "layout": "IPY_MODEL_da3ca203d0254c0285ac301c82636615"
          }
        },
        "4f8006b8280a4485885e0b110771004c": {
          "model_module": "@jupyter-widgets/controls",
          "model_name": "HTMLModel",
          "model_module_version": "1.5.0",
          "state": {
            "_dom_classes": [],
            "_model_module": "@jupyter-widgets/controls",
            "_model_module_version": "1.5.0",
            "_model_name": "HTMLModel",
            "_view_count": null,
            "_view_module": "@jupyter-widgets/controls",
            "_view_module_version": "1.5.0",
            "_view_name": "HTMLView",
            "description": "",
            "description_tooltip": null,
            "layout": "IPY_MODEL_39c72c4b3f304321a97c814de26519fc",
            "placeholder": "​",
            "style": "IPY_MODEL_58aa0a2a53d548f0950d500d61078156",
            "value": "100%"
          }
        },
        "6c20f17577ba4ad590f1e5a5768e0315": {
          "model_module": "@jupyter-widgets/controls",
          "model_name": "FloatProgressModel",
          "model_module_version": "1.5.0",
          "state": {
            "_dom_classes": [],
            "_model_module": "@jupyter-widgets/controls",
            "_model_module_version": "1.5.0",
            "_model_name": "FloatProgressModel",
            "_view_count": null,
            "_view_module": "@jupyter-widgets/controls",
            "_view_module_version": "1.5.0",
            "_view_name": "ProgressView",
            "bar_style": "success",
            "description": "",
            "description_tooltip": null,
            "layout": "IPY_MODEL_b51569e9d45a461d9269ece3c1e9fa04",
            "max": 75,
            "min": 0,
            "orientation": "horizontal",
            "style": "IPY_MODEL_2118a637e7bc43ff8f8c600a94a8b82d",
            "value": 75
          }
        },
        "46235f25e8fc44dd93506a20d5a8c364": {
          "model_module": "@jupyter-widgets/controls",
          "model_name": "HTMLModel",
          "model_module_version": "1.5.0",
          "state": {
            "_dom_classes": [],
            "_model_module": "@jupyter-widgets/controls",
            "_model_module_version": "1.5.0",
            "_model_name": "HTMLModel",
            "_view_count": null,
            "_view_module": "@jupyter-widgets/controls",
            "_view_module_version": "1.5.0",
            "_view_name": "HTMLView",
            "description": "",
            "description_tooltip": null,
            "layout": "IPY_MODEL_973575a0d28145eea431cbb412d69f15",
            "placeholder": "​",
            "style": "IPY_MODEL_3d86bbd17f194d45b31ee00d3f9a26ee",
            "value": " 75/75 [00:18&lt;00:00,  3.03it/s]"
          }
        },
        "da3ca203d0254c0285ac301c82636615": {
          "model_module": "@jupyter-widgets/base",
          "model_name": "LayoutModel",
          "model_module_version": "1.2.0",
          "state": {
            "_model_module": "@jupyter-widgets/base",
            "_model_module_version": "1.2.0",
            "_model_name": "LayoutModel",
            "_view_count": null,
            "_view_module": "@jupyter-widgets/base",
            "_view_module_version": "1.2.0",
            "_view_name": "LayoutView",
            "align_content": null,
            "align_items": null,
            "align_self": null,
            "border": null,
            "bottom": null,
            "display": null,
            "flex": null,
            "flex_flow": null,
            "grid_area": null,
            "grid_auto_columns": null,
            "grid_auto_flow": null,
            "grid_auto_rows": null,
            "grid_column": null,
            "grid_gap": null,
            "grid_row": null,
            "grid_template_areas": null,
            "grid_template_columns": null,
            "grid_template_rows": null,
            "height": null,
            "justify_content": null,
            "justify_items": null,
            "left": null,
            "margin": null,
            "max_height": null,
            "max_width": null,
            "min_height": null,
            "min_width": null,
            "object_fit": null,
            "object_position": null,
            "order": null,
            "overflow": null,
            "overflow_x": null,
            "overflow_y": null,
            "padding": null,
            "right": null,
            "top": null,
            "visibility": null,
            "width": null
          }
        },
        "39c72c4b3f304321a97c814de26519fc": {
          "model_module": "@jupyter-widgets/base",
          "model_name": "LayoutModel",
          "model_module_version": "1.2.0",
          "state": {
            "_model_module": "@jupyter-widgets/base",
            "_model_module_version": "1.2.0",
            "_model_name": "LayoutModel",
            "_view_count": null,
            "_view_module": "@jupyter-widgets/base",
            "_view_module_version": "1.2.0",
            "_view_name": "LayoutView",
            "align_content": null,
            "align_items": null,
            "align_self": null,
            "border": null,
            "bottom": null,
            "display": null,
            "flex": null,
            "flex_flow": null,
            "grid_area": null,
            "grid_auto_columns": null,
            "grid_auto_flow": null,
            "grid_auto_rows": null,
            "grid_column": null,
            "grid_gap": null,
            "grid_row": null,
            "grid_template_areas": null,
            "grid_template_columns": null,
            "grid_template_rows": null,
            "height": null,
            "justify_content": null,
            "justify_items": null,
            "left": null,
            "margin": null,
            "max_height": null,
            "max_width": null,
            "min_height": null,
            "min_width": null,
            "object_fit": null,
            "object_position": null,
            "order": null,
            "overflow": null,
            "overflow_x": null,
            "overflow_y": null,
            "padding": null,
            "right": null,
            "top": null,
            "visibility": null,
            "width": null
          }
        },
        "58aa0a2a53d548f0950d500d61078156": {
          "model_module": "@jupyter-widgets/controls",
          "model_name": "DescriptionStyleModel",
          "model_module_version": "1.5.0",
          "state": {
            "_model_module": "@jupyter-widgets/controls",
            "_model_module_version": "1.5.0",
            "_model_name": "DescriptionStyleModel",
            "_view_count": null,
            "_view_module": "@jupyter-widgets/base",
            "_view_module_version": "1.2.0",
            "_view_name": "StyleView",
            "description_width": ""
          }
        },
        "b51569e9d45a461d9269ece3c1e9fa04": {
          "model_module": "@jupyter-widgets/base",
          "model_name": "LayoutModel",
          "model_module_version": "1.2.0",
          "state": {
            "_model_module": "@jupyter-widgets/base",
            "_model_module_version": "1.2.0",
            "_model_name": "LayoutModel",
            "_view_count": null,
            "_view_module": "@jupyter-widgets/base",
            "_view_module_version": "1.2.0",
            "_view_name": "LayoutView",
            "align_content": null,
            "align_items": null,
            "align_self": null,
            "border": null,
            "bottom": null,
            "display": null,
            "flex": null,
            "flex_flow": null,
            "grid_area": null,
            "grid_auto_columns": null,
            "grid_auto_flow": null,
            "grid_auto_rows": null,
            "grid_column": null,
            "grid_gap": null,
            "grid_row": null,
            "grid_template_areas": null,
            "grid_template_columns": null,
            "grid_template_rows": null,
            "height": null,
            "justify_content": null,
            "justify_items": null,
            "left": null,
            "margin": null,
            "max_height": null,
            "max_width": null,
            "min_height": null,
            "min_width": null,
            "object_fit": null,
            "object_position": null,
            "order": null,
            "overflow": null,
            "overflow_x": null,
            "overflow_y": null,
            "padding": null,
            "right": null,
            "top": null,
            "visibility": null,
            "width": null
          }
        },
        "2118a637e7bc43ff8f8c600a94a8b82d": {
          "model_module": "@jupyter-widgets/controls",
          "model_name": "ProgressStyleModel",
          "model_module_version": "1.5.0",
          "state": {
            "_model_module": "@jupyter-widgets/controls",
            "_model_module_version": "1.5.0",
            "_model_name": "ProgressStyleModel",
            "_view_count": null,
            "_view_module": "@jupyter-widgets/base",
            "_view_module_version": "1.2.0",
            "_view_name": "StyleView",
            "bar_color": null,
            "description_width": ""
          }
        },
        "973575a0d28145eea431cbb412d69f15": {
          "model_module": "@jupyter-widgets/base",
          "model_name": "LayoutModel",
          "model_module_version": "1.2.0",
          "state": {
            "_model_module": "@jupyter-widgets/base",
            "_model_module_version": "1.2.0",
            "_model_name": "LayoutModel",
            "_view_count": null,
            "_view_module": "@jupyter-widgets/base",
            "_view_module_version": "1.2.0",
            "_view_name": "LayoutView",
            "align_content": null,
            "align_items": null,
            "align_self": null,
            "border": null,
            "bottom": null,
            "display": null,
            "flex": null,
            "flex_flow": null,
            "grid_area": null,
            "grid_auto_columns": null,
            "grid_auto_flow": null,
            "grid_auto_rows": null,
            "grid_column": null,
            "grid_gap": null,
            "grid_row": null,
            "grid_template_areas": null,
            "grid_template_columns": null,
            "grid_template_rows": null,
            "height": null,
            "justify_content": null,
            "justify_items": null,
            "left": null,
            "margin": null,
            "max_height": null,
            "max_width": null,
            "min_height": null,
            "min_width": null,
            "object_fit": null,
            "object_position": null,
            "order": null,
            "overflow": null,
            "overflow_x": null,
            "overflow_y": null,
            "padding": null,
            "right": null,
            "top": null,
            "visibility": null,
            "width": null
          }
        },
        "3d86bbd17f194d45b31ee00d3f9a26ee": {
          "model_module": "@jupyter-widgets/controls",
          "model_name": "DescriptionStyleModel",
          "model_module_version": "1.5.0",
          "state": {
            "_model_module": "@jupyter-widgets/controls",
            "_model_module_version": "1.5.0",
            "_model_name": "DescriptionStyleModel",
            "_view_count": null,
            "_view_module": "@jupyter-widgets/base",
            "_view_module_version": "1.2.0",
            "_view_name": "StyleView",
            "description_width": ""
          }
        },
        "28838f3706724b76829ef2f539a196ca": {
          "model_module": "@jupyter-widgets/controls",
          "model_name": "HBoxModel",
          "model_module_version": "1.5.0",
          "state": {
            "_dom_classes": [],
            "_model_module": "@jupyter-widgets/controls",
            "_model_module_version": "1.5.0",
            "_model_name": "HBoxModel",
            "_view_count": null,
            "_view_module": "@jupyter-widgets/controls",
            "_view_module_version": "1.5.0",
            "_view_name": "HBoxView",
            "box_style": "",
            "children": [
              "IPY_MODEL_e0ceb88e3bf64d46a386cdfaff076cae",
              "IPY_MODEL_a5a162ee515b48a3b0e464711684d048",
              "IPY_MODEL_104dd72147664feeb89bcd1bc6a0ca21"
            ],
            "layout": "IPY_MODEL_d64319a80c7a4e26942296d9a1229e94"
          }
        },
        "e0ceb88e3bf64d46a386cdfaff076cae": {
          "model_module": "@jupyter-widgets/controls",
          "model_name": "HTMLModel",
          "model_module_version": "1.5.0",
          "state": {
            "_dom_classes": [],
            "_model_module": "@jupyter-widgets/controls",
            "_model_module_version": "1.5.0",
            "_model_name": "HTMLModel",
            "_view_count": null,
            "_view_module": "@jupyter-widgets/controls",
            "_view_module_version": "1.5.0",
            "_view_name": "HTMLView",
            "description": "",
            "description_tooltip": null,
            "layout": "IPY_MODEL_44254d630848418686e8a7598a200cae",
            "placeholder": "​",
            "style": "IPY_MODEL_36e4c01920aa480fba30d4ca73a1f053",
            "value": "100%"
          }
        },
        "a5a162ee515b48a3b0e464711684d048": {
          "model_module": "@jupyter-widgets/controls",
          "model_name": "FloatProgressModel",
          "model_module_version": "1.5.0",
          "state": {
            "_dom_classes": [],
            "_model_module": "@jupyter-widgets/controls",
            "_model_module_version": "1.5.0",
            "_model_name": "FloatProgressModel",
            "_view_count": null,
            "_view_module": "@jupyter-widgets/controls",
            "_view_module_version": "1.5.0",
            "_view_name": "ProgressView",
            "bar_style": "success",
            "description": "",
            "description_tooltip": null,
            "layout": "IPY_MODEL_5818062fbdfe478b92fdbc862da54673",
            "max": 100,
            "min": 0,
            "orientation": "horizontal",
            "style": "IPY_MODEL_8fca81101af24968b504db4c36a37dbb",
            "value": 100
          }
        },
        "104dd72147664feeb89bcd1bc6a0ca21": {
          "model_module": "@jupyter-widgets/controls",
          "model_name": "HTMLModel",
          "model_module_version": "1.5.0",
          "state": {
            "_dom_classes": [],
            "_model_module": "@jupyter-widgets/controls",
            "_model_module_version": "1.5.0",
            "_model_name": "HTMLModel",
            "_view_count": null,
            "_view_module": "@jupyter-widgets/controls",
            "_view_module_version": "1.5.0",
            "_view_name": "HTMLView",
            "description": "",
            "description_tooltip": null,
            "layout": "IPY_MODEL_910aea1a2c524066b1e6bf64d91cb80e",
            "placeholder": "​",
            "style": "IPY_MODEL_830334ae2d8b4eb087ae4939f150248d",
            "value": " 100/100 [00:14&lt;00:00, 10.93it/s]"
          }
        },
        "d64319a80c7a4e26942296d9a1229e94": {
          "model_module": "@jupyter-widgets/base",
          "model_name": "LayoutModel",
          "model_module_version": "1.2.0",
          "state": {
            "_model_module": "@jupyter-widgets/base",
            "_model_module_version": "1.2.0",
            "_model_name": "LayoutModel",
            "_view_count": null,
            "_view_module": "@jupyter-widgets/base",
            "_view_module_version": "1.2.0",
            "_view_name": "LayoutView",
            "align_content": null,
            "align_items": null,
            "align_self": null,
            "border": null,
            "bottom": null,
            "display": null,
            "flex": null,
            "flex_flow": null,
            "grid_area": null,
            "grid_auto_columns": null,
            "grid_auto_flow": null,
            "grid_auto_rows": null,
            "grid_column": null,
            "grid_gap": null,
            "grid_row": null,
            "grid_template_areas": null,
            "grid_template_columns": null,
            "grid_template_rows": null,
            "height": null,
            "justify_content": null,
            "justify_items": null,
            "left": null,
            "margin": null,
            "max_height": null,
            "max_width": null,
            "min_height": null,
            "min_width": null,
            "object_fit": null,
            "object_position": null,
            "order": null,
            "overflow": null,
            "overflow_x": null,
            "overflow_y": null,
            "padding": null,
            "right": null,
            "top": null,
            "visibility": null,
            "width": null
          }
        },
        "44254d630848418686e8a7598a200cae": {
          "model_module": "@jupyter-widgets/base",
          "model_name": "LayoutModel",
          "model_module_version": "1.2.0",
          "state": {
            "_model_module": "@jupyter-widgets/base",
            "_model_module_version": "1.2.0",
            "_model_name": "LayoutModel",
            "_view_count": null,
            "_view_module": "@jupyter-widgets/base",
            "_view_module_version": "1.2.0",
            "_view_name": "LayoutView",
            "align_content": null,
            "align_items": null,
            "align_self": null,
            "border": null,
            "bottom": null,
            "display": null,
            "flex": null,
            "flex_flow": null,
            "grid_area": null,
            "grid_auto_columns": null,
            "grid_auto_flow": null,
            "grid_auto_rows": null,
            "grid_column": null,
            "grid_gap": null,
            "grid_row": null,
            "grid_template_areas": null,
            "grid_template_columns": null,
            "grid_template_rows": null,
            "height": null,
            "justify_content": null,
            "justify_items": null,
            "left": null,
            "margin": null,
            "max_height": null,
            "max_width": null,
            "min_height": null,
            "min_width": null,
            "object_fit": null,
            "object_position": null,
            "order": null,
            "overflow": null,
            "overflow_x": null,
            "overflow_y": null,
            "padding": null,
            "right": null,
            "top": null,
            "visibility": null,
            "width": null
          }
        },
        "36e4c01920aa480fba30d4ca73a1f053": {
          "model_module": "@jupyter-widgets/controls",
          "model_name": "DescriptionStyleModel",
          "model_module_version": "1.5.0",
          "state": {
            "_model_module": "@jupyter-widgets/controls",
            "_model_module_version": "1.5.0",
            "_model_name": "DescriptionStyleModel",
            "_view_count": null,
            "_view_module": "@jupyter-widgets/base",
            "_view_module_version": "1.2.0",
            "_view_name": "StyleView",
            "description_width": ""
          }
        },
        "5818062fbdfe478b92fdbc862da54673": {
          "model_module": "@jupyter-widgets/base",
          "model_name": "LayoutModel",
          "model_module_version": "1.2.0",
          "state": {
            "_model_module": "@jupyter-widgets/base",
            "_model_module_version": "1.2.0",
            "_model_name": "LayoutModel",
            "_view_count": null,
            "_view_module": "@jupyter-widgets/base",
            "_view_module_version": "1.2.0",
            "_view_name": "LayoutView",
            "align_content": null,
            "align_items": null,
            "align_self": null,
            "border": null,
            "bottom": null,
            "display": null,
            "flex": null,
            "flex_flow": null,
            "grid_area": null,
            "grid_auto_columns": null,
            "grid_auto_flow": null,
            "grid_auto_rows": null,
            "grid_column": null,
            "grid_gap": null,
            "grid_row": null,
            "grid_template_areas": null,
            "grid_template_columns": null,
            "grid_template_rows": null,
            "height": null,
            "justify_content": null,
            "justify_items": null,
            "left": null,
            "margin": null,
            "max_height": null,
            "max_width": null,
            "min_height": null,
            "min_width": null,
            "object_fit": null,
            "object_position": null,
            "order": null,
            "overflow": null,
            "overflow_x": null,
            "overflow_y": null,
            "padding": null,
            "right": null,
            "top": null,
            "visibility": null,
            "width": null
          }
        },
        "8fca81101af24968b504db4c36a37dbb": {
          "model_module": "@jupyter-widgets/controls",
          "model_name": "ProgressStyleModel",
          "model_module_version": "1.5.0",
          "state": {
            "_model_module": "@jupyter-widgets/controls",
            "_model_module_version": "1.5.0",
            "_model_name": "ProgressStyleModel",
            "_view_count": null,
            "_view_module": "@jupyter-widgets/base",
            "_view_module_version": "1.2.0",
            "_view_name": "StyleView",
            "bar_color": null,
            "description_width": ""
          }
        },
        "910aea1a2c524066b1e6bf64d91cb80e": {
          "model_module": "@jupyter-widgets/base",
          "model_name": "LayoutModel",
          "model_module_version": "1.2.0",
          "state": {
            "_model_module": "@jupyter-widgets/base",
            "_model_module_version": "1.2.0",
            "_model_name": "LayoutModel",
            "_view_count": null,
            "_view_module": "@jupyter-widgets/base",
            "_view_module_version": "1.2.0",
            "_view_name": "LayoutView",
            "align_content": null,
            "align_items": null,
            "align_self": null,
            "border": null,
            "bottom": null,
            "display": null,
            "flex": null,
            "flex_flow": null,
            "grid_area": null,
            "grid_auto_columns": null,
            "grid_auto_flow": null,
            "grid_auto_rows": null,
            "grid_column": null,
            "grid_gap": null,
            "grid_row": null,
            "grid_template_areas": null,
            "grid_template_columns": null,
            "grid_template_rows": null,
            "height": null,
            "justify_content": null,
            "justify_items": null,
            "left": null,
            "margin": null,
            "max_height": null,
            "max_width": null,
            "min_height": null,
            "min_width": null,
            "object_fit": null,
            "object_position": null,
            "order": null,
            "overflow": null,
            "overflow_x": null,
            "overflow_y": null,
            "padding": null,
            "right": null,
            "top": null,
            "visibility": null,
            "width": null
          }
        },
        "830334ae2d8b4eb087ae4939f150248d": {
          "model_module": "@jupyter-widgets/controls",
          "model_name": "DescriptionStyleModel",
          "model_module_version": "1.5.0",
          "state": {
            "_model_module": "@jupyter-widgets/controls",
            "_model_module_version": "1.5.0",
            "_model_name": "DescriptionStyleModel",
            "_view_count": null,
            "_view_module": "@jupyter-widgets/base",
            "_view_module_version": "1.2.0",
            "_view_name": "StyleView",
            "description_width": ""
          }
        },
        "16b2f7f2ef4c47d3b100461c70d1bd46": {
          "model_module": "@jupyter-widgets/controls",
          "model_name": "HBoxModel",
          "model_module_version": "1.5.0",
          "state": {
            "_dom_classes": [],
            "_model_module": "@jupyter-widgets/controls",
            "_model_module_version": "1.5.0",
            "_model_name": "HBoxModel",
            "_view_count": null,
            "_view_module": "@jupyter-widgets/controls",
            "_view_module_version": "1.5.0",
            "_view_name": "HBoxView",
            "box_style": "",
            "children": [
              "IPY_MODEL_2cf1b4d9371b421ca0d47c85db8d1306",
              "IPY_MODEL_2e947b76a8424172a1214b68560bfb31",
              "IPY_MODEL_b7517c7ccea44a01ac4f25d9076bca38"
            ],
            "layout": "IPY_MODEL_0a2f862418ec4e5385435a60599adb38"
          }
        },
        "2cf1b4d9371b421ca0d47c85db8d1306": {
          "model_module": "@jupyter-widgets/controls",
          "model_name": "HTMLModel",
          "model_module_version": "1.5.0",
          "state": {
            "_dom_classes": [],
            "_model_module": "@jupyter-widgets/controls",
            "_model_module_version": "1.5.0",
            "_model_name": "HTMLModel",
            "_view_count": null,
            "_view_module": "@jupyter-widgets/controls",
            "_view_module_version": "1.5.0",
            "_view_name": "HTMLView",
            "description": "",
            "description_tooltip": null,
            "layout": "IPY_MODEL_d747d0acda4b435ebdfbabd79ef25116",
            "placeholder": "​",
            "style": "IPY_MODEL_d918557741da4bc29d539159cdd9e2d7",
            "value": "100%"
          }
        },
        "2e947b76a8424172a1214b68560bfb31": {
          "model_module": "@jupyter-widgets/controls",
          "model_name": "FloatProgressModel",
          "model_module_version": "1.5.0",
          "state": {
            "_dom_classes": [],
            "_model_module": "@jupyter-widgets/controls",
            "_model_module_version": "1.5.0",
            "_model_name": "FloatProgressModel",
            "_view_count": null,
            "_view_module": "@jupyter-widgets/controls",
            "_view_module_version": "1.5.0",
            "_view_name": "ProgressView",
            "bar_style": "success",
            "description": "",
            "description_tooltip": null,
            "layout": "IPY_MODEL_f86618ac47694dc08c54b10466235cbc",
            "max": 120,
            "min": 0,
            "orientation": "horizontal",
            "style": "IPY_MODEL_dd7b40452af0463cae2e047ead7dec07",
            "value": 120
          }
        },
        "b7517c7ccea44a01ac4f25d9076bca38": {
          "model_module": "@jupyter-widgets/controls",
          "model_name": "HTMLModel",
          "model_module_version": "1.5.0",
          "state": {
            "_dom_classes": [],
            "_model_module": "@jupyter-widgets/controls",
            "_model_module_version": "1.5.0",
            "_model_name": "HTMLModel",
            "_view_count": null,
            "_view_module": "@jupyter-widgets/controls",
            "_view_module_version": "1.5.0",
            "_view_name": "HTMLView",
            "description": "",
            "description_tooltip": null,
            "layout": "IPY_MODEL_634bd814d58c495b987c3d6af84a833a",
            "placeholder": "​",
            "style": "IPY_MODEL_6eb998dc779944469933bd7a4a47deee",
            "value": " 120/120 [00:38&lt;00:00,  2.70it/s]"
          }
        },
        "0a2f862418ec4e5385435a60599adb38": {
          "model_module": "@jupyter-widgets/base",
          "model_name": "LayoutModel",
          "model_module_version": "1.2.0",
          "state": {
            "_model_module": "@jupyter-widgets/base",
            "_model_module_version": "1.2.0",
            "_model_name": "LayoutModel",
            "_view_count": null,
            "_view_module": "@jupyter-widgets/base",
            "_view_module_version": "1.2.0",
            "_view_name": "LayoutView",
            "align_content": null,
            "align_items": null,
            "align_self": null,
            "border": null,
            "bottom": null,
            "display": null,
            "flex": null,
            "flex_flow": null,
            "grid_area": null,
            "grid_auto_columns": null,
            "grid_auto_flow": null,
            "grid_auto_rows": null,
            "grid_column": null,
            "grid_gap": null,
            "grid_row": null,
            "grid_template_areas": null,
            "grid_template_columns": null,
            "grid_template_rows": null,
            "height": null,
            "justify_content": null,
            "justify_items": null,
            "left": null,
            "margin": null,
            "max_height": null,
            "max_width": null,
            "min_height": null,
            "min_width": null,
            "object_fit": null,
            "object_position": null,
            "order": null,
            "overflow": null,
            "overflow_x": null,
            "overflow_y": null,
            "padding": null,
            "right": null,
            "top": null,
            "visibility": null,
            "width": null
          }
        },
        "d747d0acda4b435ebdfbabd79ef25116": {
          "model_module": "@jupyter-widgets/base",
          "model_name": "LayoutModel",
          "model_module_version": "1.2.0",
          "state": {
            "_model_module": "@jupyter-widgets/base",
            "_model_module_version": "1.2.0",
            "_model_name": "LayoutModel",
            "_view_count": null,
            "_view_module": "@jupyter-widgets/base",
            "_view_module_version": "1.2.0",
            "_view_name": "LayoutView",
            "align_content": null,
            "align_items": null,
            "align_self": null,
            "border": null,
            "bottom": null,
            "display": null,
            "flex": null,
            "flex_flow": null,
            "grid_area": null,
            "grid_auto_columns": null,
            "grid_auto_flow": null,
            "grid_auto_rows": null,
            "grid_column": null,
            "grid_gap": null,
            "grid_row": null,
            "grid_template_areas": null,
            "grid_template_columns": null,
            "grid_template_rows": null,
            "height": null,
            "justify_content": null,
            "justify_items": null,
            "left": null,
            "margin": null,
            "max_height": null,
            "max_width": null,
            "min_height": null,
            "min_width": null,
            "object_fit": null,
            "object_position": null,
            "order": null,
            "overflow": null,
            "overflow_x": null,
            "overflow_y": null,
            "padding": null,
            "right": null,
            "top": null,
            "visibility": null,
            "width": null
          }
        },
        "d918557741da4bc29d539159cdd9e2d7": {
          "model_module": "@jupyter-widgets/controls",
          "model_name": "DescriptionStyleModel",
          "model_module_version": "1.5.0",
          "state": {
            "_model_module": "@jupyter-widgets/controls",
            "_model_module_version": "1.5.0",
            "_model_name": "DescriptionStyleModel",
            "_view_count": null,
            "_view_module": "@jupyter-widgets/base",
            "_view_module_version": "1.2.0",
            "_view_name": "StyleView",
            "description_width": ""
          }
        },
        "f86618ac47694dc08c54b10466235cbc": {
          "model_module": "@jupyter-widgets/base",
          "model_name": "LayoutModel",
          "model_module_version": "1.2.0",
          "state": {
            "_model_module": "@jupyter-widgets/base",
            "_model_module_version": "1.2.0",
            "_model_name": "LayoutModel",
            "_view_count": null,
            "_view_module": "@jupyter-widgets/base",
            "_view_module_version": "1.2.0",
            "_view_name": "LayoutView",
            "align_content": null,
            "align_items": null,
            "align_self": null,
            "border": null,
            "bottom": null,
            "display": null,
            "flex": null,
            "flex_flow": null,
            "grid_area": null,
            "grid_auto_columns": null,
            "grid_auto_flow": null,
            "grid_auto_rows": null,
            "grid_column": null,
            "grid_gap": null,
            "grid_row": null,
            "grid_template_areas": null,
            "grid_template_columns": null,
            "grid_template_rows": null,
            "height": null,
            "justify_content": null,
            "justify_items": null,
            "left": null,
            "margin": null,
            "max_height": null,
            "max_width": null,
            "min_height": null,
            "min_width": null,
            "object_fit": null,
            "object_position": null,
            "order": null,
            "overflow": null,
            "overflow_x": null,
            "overflow_y": null,
            "padding": null,
            "right": null,
            "top": null,
            "visibility": null,
            "width": null
          }
        },
        "dd7b40452af0463cae2e047ead7dec07": {
          "model_module": "@jupyter-widgets/controls",
          "model_name": "ProgressStyleModel",
          "model_module_version": "1.5.0",
          "state": {
            "_model_module": "@jupyter-widgets/controls",
            "_model_module_version": "1.5.0",
            "_model_name": "ProgressStyleModel",
            "_view_count": null,
            "_view_module": "@jupyter-widgets/base",
            "_view_module_version": "1.2.0",
            "_view_name": "StyleView",
            "bar_color": null,
            "description_width": ""
          }
        },
        "634bd814d58c495b987c3d6af84a833a": {
          "model_module": "@jupyter-widgets/base",
          "model_name": "LayoutModel",
          "model_module_version": "1.2.0",
          "state": {
            "_model_module": "@jupyter-widgets/base",
            "_model_module_version": "1.2.0",
            "_model_name": "LayoutModel",
            "_view_count": null,
            "_view_module": "@jupyter-widgets/base",
            "_view_module_version": "1.2.0",
            "_view_name": "LayoutView",
            "align_content": null,
            "align_items": null,
            "align_self": null,
            "border": null,
            "bottom": null,
            "display": null,
            "flex": null,
            "flex_flow": null,
            "grid_area": null,
            "grid_auto_columns": null,
            "grid_auto_flow": null,
            "grid_auto_rows": null,
            "grid_column": null,
            "grid_gap": null,
            "grid_row": null,
            "grid_template_areas": null,
            "grid_template_columns": null,
            "grid_template_rows": null,
            "height": null,
            "justify_content": null,
            "justify_items": null,
            "left": null,
            "margin": null,
            "max_height": null,
            "max_width": null,
            "min_height": null,
            "min_width": null,
            "object_fit": null,
            "object_position": null,
            "order": null,
            "overflow": null,
            "overflow_x": null,
            "overflow_y": null,
            "padding": null,
            "right": null,
            "top": null,
            "visibility": null,
            "width": null
          }
        },
        "6eb998dc779944469933bd7a4a47deee": {
          "model_module": "@jupyter-widgets/controls",
          "model_name": "DescriptionStyleModel",
          "model_module_version": "1.5.0",
          "state": {
            "_model_module": "@jupyter-widgets/controls",
            "_model_module_version": "1.5.0",
            "_model_name": "DescriptionStyleModel",
            "_view_count": null,
            "_view_module": "@jupyter-widgets/base",
            "_view_module_version": "1.2.0",
            "_view_name": "StyleView",
            "description_width": ""
          }
        },
        "75ff5b3504814888ae0395bb9c87430f": {
          "model_module": "@jupyter-widgets/controls",
          "model_name": "HBoxModel",
          "model_module_version": "1.5.0",
          "state": {
            "_dom_classes": [],
            "_model_module": "@jupyter-widgets/controls",
            "_model_module_version": "1.5.0",
            "_model_name": "HBoxModel",
            "_view_count": null,
            "_view_module": "@jupyter-widgets/controls",
            "_view_module_version": "1.5.0",
            "_view_name": "HBoxView",
            "box_style": "",
            "children": [
              "IPY_MODEL_52fbf622af53496c8a3badd579814a21",
              "IPY_MODEL_d299fe82bd3240b59c97f311b614bb6f",
              "IPY_MODEL_d48fc59cb180428fa9d5f78e2eeb67b9"
            ],
            "layout": "IPY_MODEL_3412e839a3b04a0cb1f6f91549db9af3"
          }
        },
        "52fbf622af53496c8a3badd579814a21": {
          "model_module": "@jupyter-widgets/controls",
          "model_name": "HTMLModel",
          "model_module_version": "1.5.0",
          "state": {
            "_dom_classes": [],
            "_model_module": "@jupyter-widgets/controls",
            "_model_module_version": "1.5.0",
            "_model_name": "HTMLModel",
            "_view_count": null,
            "_view_module": "@jupyter-widgets/controls",
            "_view_module_version": "1.5.0",
            "_view_name": "HTMLView",
            "description": "",
            "description_tooltip": null,
            "layout": "IPY_MODEL_57a16937814a470786a36dd98b62e20f",
            "placeholder": "​",
            "style": "IPY_MODEL_c506f137c14645c4be049f1c66dba374",
            "value": "100%"
          }
        },
        "d299fe82bd3240b59c97f311b614bb6f": {
          "model_module": "@jupyter-widgets/controls",
          "model_name": "FloatProgressModel",
          "model_module_version": "1.5.0",
          "state": {
            "_dom_classes": [],
            "_model_module": "@jupyter-widgets/controls",
            "_model_module_version": "1.5.0",
            "_model_name": "FloatProgressModel",
            "_view_count": null,
            "_view_module": "@jupyter-widgets/controls",
            "_view_module_version": "1.5.0",
            "_view_name": "ProgressView",
            "bar_style": "success",
            "description": "",
            "description_tooltip": null,
            "layout": "IPY_MODEL_eb1020c2f1ee46c7b6deef95d7105f39",
            "max": 200,
            "min": 0,
            "orientation": "horizontal",
            "style": "IPY_MODEL_254e71fe1247408f931078b14d1a3239",
            "value": 200
          }
        },
        "d48fc59cb180428fa9d5f78e2eeb67b9": {
          "model_module": "@jupyter-widgets/controls",
          "model_name": "HTMLModel",
          "model_module_version": "1.5.0",
          "state": {
            "_dom_classes": [],
            "_model_module": "@jupyter-widgets/controls",
            "_model_module_version": "1.5.0",
            "_model_name": "HTMLModel",
            "_view_count": null,
            "_view_module": "@jupyter-widgets/controls",
            "_view_module_version": "1.5.0",
            "_view_name": "HTMLView",
            "description": "",
            "description_tooltip": null,
            "layout": "IPY_MODEL_064dfdeab62f4f9aa9e3688a3a9a3ab8",
            "placeholder": "​",
            "style": "IPY_MODEL_5658ce6a2cb8499483061bb69acc48c7",
            "value": " 200/200 [00:40&lt;00:00,  3.64it/s]"
          }
        },
        "3412e839a3b04a0cb1f6f91549db9af3": {
          "model_module": "@jupyter-widgets/base",
          "model_name": "LayoutModel",
          "model_module_version": "1.2.0",
          "state": {
            "_model_module": "@jupyter-widgets/base",
            "_model_module_version": "1.2.0",
            "_model_name": "LayoutModel",
            "_view_count": null,
            "_view_module": "@jupyter-widgets/base",
            "_view_module_version": "1.2.0",
            "_view_name": "LayoutView",
            "align_content": null,
            "align_items": null,
            "align_self": null,
            "border": null,
            "bottom": null,
            "display": null,
            "flex": null,
            "flex_flow": null,
            "grid_area": null,
            "grid_auto_columns": null,
            "grid_auto_flow": null,
            "grid_auto_rows": null,
            "grid_column": null,
            "grid_gap": null,
            "grid_row": null,
            "grid_template_areas": null,
            "grid_template_columns": null,
            "grid_template_rows": null,
            "height": null,
            "justify_content": null,
            "justify_items": null,
            "left": null,
            "margin": null,
            "max_height": null,
            "max_width": null,
            "min_height": null,
            "min_width": null,
            "object_fit": null,
            "object_position": null,
            "order": null,
            "overflow": null,
            "overflow_x": null,
            "overflow_y": null,
            "padding": null,
            "right": null,
            "top": null,
            "visibility": null,
            "width": null
          }
        },
        "57a16937814a470786a36dd98b62e20f": {
          "model_module": "@jupyter-widgets/base",
          "model_name": "LayoutModel",
          "model_module_version": "1.2.0",
          "state": {
            "_model_module": "@jupyter-widgets/base",
            "_model_module_version": "1.2.0",
            "_model_name": "LayoutModel",
            "_view_count": null,
            "_view_module": "@jupyter-widgets/base",
            "_view_module_version": "1.2.0",
            "_view_name": "LayoutView",
            "align_content": null,
            "align_items": null,
            "align_self": null,
            "border": null,
            "bottom": null,
            "display": null,
            "flex": null,
            "flex_flow": null,
            "grid_area": null,
            "grid_auto_columns": null,
            "grid_auto_flow": null,
            "grid_auto_rows": null,
            "grid_column": null,
            "grid_gap": null,
            "grid_row": null,
            "grid_template_areas": null,
            "grid_template_columns": null,
            "grid_template_rows": null,
            "height": null,
            "justify_content": null,
            "justify_items": null,
            "left": null,
            "margin": null,
            "max_height": null,
            "max_width": null,
            "min_height": null,
            "min_width": null,
            "object_fit": null,
            "object_position": null,
            "order": null,
            "overflow": null,
            "overflow_x": null,
            "overflow_y": null,
            "padding": null,
            "right": null,
            "top": null,
            "visibility": null,
            "width": null
          }
        },
        "c506f137c14645c4be049f1c66dba374": {
          "model_module": "@jupyter-widgets/controls",
          "model_name": "DescriptionStyleModel",
          "model_module_version": "1.5.0",
          "state": {
            "_model_module": "@jupyter-widgets/controls",
            "_model_module_version": "1.5.0",
            "_model_name": "DescriptionStyleModel",
            "_view_count": null,
            "_view_module": "@jupyter-widgets/base",
            "_view_module_version": "1.2.0",
            "_view_name": "StyleView",
            "description_width": ""
          }
        },
        "eb1020c2f1ee46c7b6deef95d7105f39": {
          "model_module": "@jupyter-widgets/base",
          "model_name": "LayoutModel",
          "model_module_version": "1.2.0",
          "state": {
            "_model_module": "@jupyter-widgets/base",
            "_model_module_version": "1.2.0",
            "_model_name": "LayoutModel",
            "_view_count": null,
            "_view_module": "@jupyter-widgets/base",
            "_view_module_version": "1.2.0",
            "_view_name": "LayoutView",
            "align_content": null,
            "align_items": null,
            "align_self": null,
            "border": null,
            "bottom": null,
            "display": null,
            "flex": null,
            "flex_flow": null,
            "grid_area": null,
            "grid_auto_columns": null,
            "grid_auto_flow": null,
            "grid_auto_rows": null,
            "grid_column": null,
            "grid_gap": null,
            "grid_row": null,
            "grid_template_areas": null,
            "grid_template_columns": null,
            "grid_template_rows": null,
            "height": null,
            "justify_content": null,
            "justify_items": null,
            "left": null,
            "margin": null,
            "max_height": null,
            "max_width": null,
            "min_height": null,
            "min_width": null,
            "object_fit": null,
            "object_position": null,
            "order": null,
            "overflow": null,
            "overflow_x": null,
            "overflow_y": null,
            "padding": null,
            "right": null,
            "top": null,
            "visibility": null,
            "width": null
          }
        },
        "254e71fe1247408f931078b14d1a3239": {
          "model_module": "@jupyter-widgets/controls",
          "model_name": "ProgressStyleModel",
          "model_module_version": "1.5.0",
          "state": {
            "_model_module": "@jupyter-widgets/controls",
            "_model_module_version": "1.5.0",
            "_model_name": "ProgressStyleModel",
            "_view_count": null,
            "_view_module": "@jupyter-widgets/base",
            "_view_module_version": "1.2.0",
            "_view_name": "StyleView",
            "bar_color": null,
            "description_width": ""
          }
        },
        "064dfdeab62f4f9aa9e3688a3a9a3ab8": {
          "model_module": "@jupyter-widgets/base",
          "model_name": "LayoutModel",
          "model_module_version": "1.2.0",
          "state": {
            "_model_module": "@jupyter-widgets/base",
            "_model_module_version": "1.2.0",
            "_model_name": "LayoutModel",
            "_view_count": null,
            "_view_module": "@jupyter-widgets/base",
            "_view_module_version": "1.2.0",
            "_view_name": "LayoutView",
            "align_content": null,
            "align_items": null,
            "align_self": null,
            "border": null,
            "bottom": null,
            "display": null,
            "flex": null,
            "flex_flow": null,
            "grid_area": null,
            "grid_auto_columns": null,
            "grid_auto_flow": null,
            "grid_auto_rows": null,
            "grid_column": null,
            "grid_gap": null,
            "grid_row": null,
            "grid_template_areas": null,
            "grid_template_columns": null,
            "grid_template_rows": null,
            "height": null,
            "justify_content": null,
            "justify_items": null,
            "left": null,
            "margin": null,
            "max_height": null,
            "max_width": null,
            "min_height": null,
            "min_width": null,
            "object_fit": null,
            "object_position": null,
            "order": null,
            "overflow": null,
            "overflow_x": null,
            "overflow_y": null,
            "padding": null,
            "right": null,
            "top": null,
            "visibility": null,
            "width": null
          }
        },
        "5658ce6a2cb8499483061bb69acc48c7": {
          "model_module": "@jupyter-widgets/controls",
          "model_name": "DescriptionStyleModel",
          "model_module_version": "1.5.0",
          "state": {
            "_model_module": "@jupyter-widgets/controls",
            "_model_module_version": "1.5.0",
            "_model_name": "DescriptionStyleModel",
            "_view_count": null,
            "_view_module": "@jupyter-widgets/base",
            "_view_module_version": "1.2.0",
            "_view_name": "StyleView",
            "description_width": ""
          }
        },
        "1d1b666bfd9b4e458a8007897a7e28ba": {
          "model_module": "@jupyter-widgets/controls",
          "model_name": "HBoxModel",
          "model_module_version": "1.5.0",
          "state": {
            "_dom_classes": [],
            "_model_module": "@jupyter-widgets/controls",
            "_model_module_version": "1.5.0",
            "_model_name": "HBoxModel",
            "_view_count": null,
            "_view_module": "@jupyter-widgets/controls",
            "_view_module_version": "1.5.0",
            "_view_name": "HBoxView",
            "box_style": "",
            "children": [
              "IPY_MODEL_b40872feebac4699bbfde99b8d7c42bd",
              "IPY_MODEL_ed025951cfc3436fa1ea3cb2f40d82d2",
              "IPY_MODEL_a48d90392ef34055ab69774da7863a5a"
            ],
            "layout": "IPY_MODEL_204613041fe147cdbf4d6df848956452"
          }
        },
        "b40872feebac4699bbfde99b8d7c42bd": {
          "model_module": "@jupyter-widgets/controls",
          "model_name": "HTMLModel",
          "model_module_version": "1.5.0",
          "state": {
            "_dom_classes": [],
            "_model_module": "@jupyter-widgets/controls",
            "_model_module_version": "1.5.0",
            "_model_name": "HTMLModel",
            "_view_count": null,
            "_view_module": "@jupyter-widgets/controls",
            "_view_module_version": "1.5.0",
            "_view_name": "HTMLView",
            "description": "",
            "description_tooltip": null,
            "layout": "IPY_MODEL_b142089688dd43fa87dc0de9975e1b5a",
            "placeholder": "​",
            "style": "IPY_MODEL_51e890694df4438e8e1c05353384e270",
            "value": "100%"
          }
        },
        "ed025951cfc3436fa1ea3cb2f40d82d2": {
          "model_module": "@jupyter-widgets/controls",
          "model_name": "FloatProgressModel",
          "model_module_version": "1.5.0",
          "state": {
            "_dom_classes": [],
            "_model_module": "@jupyter-widgets/controls",
            "_model_module_version": "1.5.0",
            "_model_name": "FloatProgressModel",
            "_view_count": null,
            "_view_module": "@jupyter-widgets/controls",
            "_view_module_version": "1.5.0",
            "_view_name": "ProgressView",
            "bar_style": "success",
            "description": "",
            "description_tooltip": null,
            "layout": "IPY_MODEL_12f9ba884e13447fa5a45cde3d4b07f4",
            "max": 100,
            "min": 0,
            "orientation": "horizontal",
            "style": "IPY_MODEL_9855a405a1ed4daf95a344e15b16926e",
            "value": 100
          }
        },
        "a48d90392ef34055ab69774da7863a5a": {
          "model_module": "@jupyter-widgets/controls",
          "model_name": "HTMLModel",
          "model_module_version": "1.5.0",
          "state": {
            "_dom_classes": [],
            "_model_module": "@jupyter-widgets/controls",
            "_model_module_version": "1.5.0",
            "_model_name": "HTMLModel",
            "_view_count": null,
            "_view_module": "@jupyter-widgets/controls",
            "_view_module_version": "1.5.0",
            "_view_name": "HTMLView",
            "description": "",
            "description_tooltip": null,
            "layout": "IPY_MODEL_01bd0da3fd70487dad5bdb3cbfb0df74",
            "placeholder": "​",
            "style": "IPY_MODEL_2c9235fa64e24eada8cc7608dcc96384",
            "value": " 100/100 [00:11&lt;00:00,  8.29it/s]"
          }
        },
        "204613041fe147cdbf4d6df848956452": {
          "model_module": "@jupyter-widgets/base",
          "model_name": "LayoutModel",
          "model_module_version": "1.2.0",
          "state": {
            "_model_module": "@jupyter-widgets/base",
            "_model_module_version": "1.2.0",
            "_model_name": "LayoutModel",
            "_view_count": null,
            "_view_module": "@jupyter-widgets/base",
            "_view_module_version": "1.2.0",
            "_view_name": "LayoutView",
            "align_content": null,
            "align_items": null,
            "align_self": null,
            "border": null,
            "bottom": null,
            "display": null,
            "flex": null,
            "flex_flow": null,
            "grid_area": null,
            "grid_auto_columns": null,
            "grid_auto_flow": null,
            "grid_auto_rows": null,
            "grid_column": null,
            "grid_gap": null,
            "grid_row": null,
            "grid_template_areas": null,
            "grid_template_columns": null,
            "grid_template_rows": null,
            "height": null,
            "justify_content": null,
            "justify_items": null,
            "left": null,
            "margin": null,
            "max_height": null,
            "max_width": null,
            "min_height": null,
            "min_width": null,
            "object_fit": null,
            "object_position": null,
            "order": null,
            "overflow": null,
            "overflow_x": null,
            "overflow_y": null,
            "padding": null,
            "right": null,
            "top": null,
            "visibility": null,
            "width": null
          }
        },
        "b142089688dd43fa87dc0de9975e1b5a": {
          "model_module": "@jupyter-widgets/base",
          "model_name": "LayoutModel",
          "model_module_version": "1.2.0",
          "state": {
            "_model_module": "@jupyter-widgets/base",
            "_model_module_version": "1.2.0",
            "_model_name": "LayoutModel",
            "_view_count": null,
            "_view_module": "@jupyter-widgets/base",
            "_view_module_version": "1.2.0",
            "_view_name": "LayoutView",
            "align_content": null,
            "align_items": null,
            "align_self": null,
            "border": null,
            "bottom": null,
            "display": null,
            "flex": null,
            "flex_flow": null,
            "grid_area": null,
            "grid_auto_columns": null,
            "grid_auto_flow": null,
            "grid_auto_rows": null,
            "grid_column": null,
            "grid_gap": null,
            "grid_row": null,
            "grid_template_areas": null,
            "grid_template_columns": null,
            "grid_template_rows": null,
            "height": null,
            "justify_content": null,
            "justify_items": null,
            "left": null,
            "margin": null,
            "max_height": null,
            "max_width": null,
            "min_height": null,
            "min_width": null,
            "object_fit": null,
            "object_position": null,
            "order": null,
            "overflow": null,
            "overflow_x": null,
            "overflow_y": null,
            "padding": null,
            "right": null,
            "top": null,
            "visibility": null,
            "width": null
          }
        },
        "51e890694df4438e8e1c05353384e270": {
          "model_module": "@jupyter-widgets/controls",
          "model_name": "DescriptionStyleModel",
          "model_module_version": "1.5.0",
          "state": {
            "_model_module": "@jupyter-widgets/controls",
            "_model_module_version": "1.5.0",
            "_model_name": "DescriptionStyleModel",
            "_view_count": null,
            "_view_module": "@jupyter-widgets/base",
            "_view_module_version": "1.2.0",
            "_view_name": "StyleView",
            "description_width": ""
          }
        },
        "12f9ba884e13447fa5a45cde3d4b07f4": {
          "model_module": "@jupyter-widgets/base",
          "model_name": "LayoutModel",
          "model_module_version": "1.2.0",
          "state": {
            "_model_module": "@jupyter-widgets/base",
            "_model_module_version": "1.2.0",
            "_model_name": "LayoutModel",
            "_view_count": null,
            "_view_module": "@jupyter-widgets/base",
            "_view_module_version": "1.2.0",
            "_view_name": "LayoutView",
            "align_content": null,
            "align_items": null,
            "align_self": null,
            "border": null,
            "bottom": null,
            "display": null,
            "flex": null,
            "flex_flow": null,
            "grid_area": null,
            "grid_auto_columns": null,
            "grid_auto_flow": null,
            "grid_auto_rows": null,
            "grid_column": null,
            "grid_gap": null,
            "grid_row": null,
            "grid_template_areas": null,
            "grid_template_columns": null,
            "grid_template_rows": null,
            "height": null,
            "justify_content": null,
            "justify_items": null,
            "left": null,
            "margin": null,
            "max_height": null,
            "max_width": null,
            "min_height": null,
            "min_width": null,
            "object_fit": null,
            "object_position": null,
            "order": null,
            "overflow": null,
            "overflow_x": null,
            "overflow_y": null,
            "padding": null,
            "right": null,
            "top": null,
            "visibility": null,
            "width": null
          }
        },
        "9855a405a1ed4daf95a344e15b16926e": {
          "model_module": "@jupyter-widgets/controls",
          "model_name": "ProgressStyleModel",
          "model_module_version": "1.5.0",
          "state": {
            "_model_module": "@jupyter-widgets/controls",
            "_model_module_version": "1.5.0",
            "_model_name": "ProgressStyleModel",
            "_view_count": null,
            "_view_module": "@jupyter-widgets/base",
            "_view_module_version": "1.2.0",
            "_view_name": "StyleView",
            "bar_color": null,
            "description_width": ""
          }
        },
        "01bd0da3fd70487dad5bdb3cbfb0df74": {
          "model_module": "@jupyter-widgets/base",
          "model_name": "LayoutModel",
          "model_module_version": "1.2.0",
          "state": {
            "_model_module": "@jupyter-widgets/base",
            "_model_module_version": "1.2.0",
            "_model_name": "LayoutModel",
            "_view_count": null,
            "_view_module": "@jupyter-widgets/base",
            "_view_module_version": "1.2.0",
            "_view_name": "LayoutView",
            "align_content": null,
            "align_items": null,
            "align_self": null,
            "border": null,
            "bottom": null,
            "display": null,
            "flex": null,
            "flex_flow": null,
            "grid_area": null,
            "grid_auto_columns": null,
            "grid_auto_flow": null,
            "grid_auto_rows": null,
            "grid_column": null,
            "grid_gap": null,
            "grid_row": null,
            "grid_template_areas": null,
            "grid_template_columns": null,
            "grid_template_rows": null,
            "height": null,
            "justify_content": null,
            "justify_items": null,
            "left": null,
            "margin": null,
            "max_height": null,
            "max_width": null,
            "min_height": null,
            "min_width": null,
            "object_fit": null,
            "object_position": null,
            "order": null,
            "overflow": null,
            "overflow_x": null,
            "overflow_y": null,
            "padding": null,
            "right": null,
            "top": null,
            "visibility": null,
            "width": null
          }
        },
        "2c9235fa64e24eada8cc7608dcc96384": {
          "model_module": "@jupyter-widgets/controls",
          "model_name": "DescriptionStyleModel",
          "model_module_version": "1.5.0",
          "state": {
            "_model_module": "@jupyter-widgets/controls",
            "_model_module_version": "1.5.0",
            "_model_name": "DescriptionStyleModel",
            "_view_count": null,
            "_view_module": "@jupyter-widgets/base",
            "_view_module_version": "1.2.0",
            "_view_name": "StyleView",
            "description_width": ""
          }
        },
        "4a9cbc78ebeb4576a6b9fddb7dc4b729": {
          "model_module": "@jupyter-widgets/controls",
          "model_name": "HBoxModel",
          "model_module_version": "1.5.0",
          "state": {
            "_dom_classes": [],
            "_model_module": "@jupyter-widgets/controls",
            "_model_module_version": "1.5.0",
            "_model_name": "HBoxModel",
            "_view_count": null,
            "_view_module": "@jupyter-widgets/controls",
            "_view_module_version": "1.5.0",
            "_view_name": "HBoxView",
            "box_style": "",
            "children": [
              "IPY_MODEL_e835e233f81c488197eb4de301507a37",
              "IPY_MODEL_8a762e96126147679442bcd6b603bee2",
              "IPY_MODEL_c810703deba0459d95c79ca91958cba2"
            ],
            "layout": "IPY_MODEL_69f1240ba4b1425db9f62cf7817d824e"
          }
        },
        "e835e233f81c488197eb4de301507a37": {
          "model_module": "@jupyter-widgets/controls",
          "model_name": "HTMLModel",
          "model_module_version": "1.5.0",
          "state": {
            "_dom_classes": [],
            "_model_module": "@jupyter-widgets/controls",
            "_model_module_version": "1.5.0",
            "_model_name": "HTMLModel",
            "_view_count": null,
            "_view_module": "@jupyter-widgets/controls",
            "_view_module_version": "1.5.0",
            "_view_name": "HTMLView",
            "description": "",
            "description_tooltip": null,
            "layout": "IPY_MODEL_c035d7c73d2b4ffb8f7a090b23ae2497",
            "placeholder": "​",
            "style": "IPY_MODEL_dd2a279ab0a345c6b25fb9beea2037dc",
            "value": "100%"
          }
        },
        "8a762e96126147679442bcd6b603bee2": {
          "model_module": "@jupyter-widgets/controls",
          "model_name": "FloatProgressModel",
          "model_module_version": "1.5.0",
          "state": {
            "_dom_classes": [],
            "_model_module": "@jupyter-widgets/controls",
            "_model_module_version": "1.5.0",
            "_model_name": "FloatProgressModel",
            "_view_count": null,
            "_view_module": "@jupyter-widgets/controls",
            "_view_module_version": "1.5.0",
            "_view_name": "ProgressView",
            "bar_style": "success",
            "description": "",
            "description_tooltip": null,
            "layout": "IPY_MODEL_2a81262399f74b308b35d901f5e48918",
            "max": 200,
            "min": 0,
            "orientation": "horizontal",
            "style": "IPY_MODEL_c6a9f74b501d472ba73a33a021ff947e",
            "value": 200
          }
        },
        "c810703deba0459d95c79ca91958cba2": {
          "model_module": "@jupyter-widgets/controls",
          "model_name": "HTMLModel",
          "model_module_version": "1.5.0",
          "state": {
            "_dom_classes": [],
            "_model_module": "@jupyter-widgets/controls",
            "_model_module_version": "1.5.0",
            "_model_name": "HTMLModel",
            "_view_count": null,
            "_view_module": "@jupyter-widgets/controls",
            "_view_module_version": "1.5.0",
            "_view_name": "HTMLView",
            "description": "",
            "description_tooltip": null,
            "layout": "IPY_MODEL_ab1b48d28f594af381c47c0af960180f",
            "placeholder": "​",
            "style": "IPY_MODEL_281e1c624fdb46869b303ca861465a11",
            "value": " 200/200 [03:02&lt;00:00,  1.37it/s]"
          }
        },
        "69f1240ba4b1425db9f62cf7817d824e": {
          "model_module": "@jupyter-widgets/base",
          "model_name": "LayoutModel",
          "model_module_version": "1.2.0",
          "state": {
            "_model_module": "@jupyter-widgets/base",
            "_model_module_version": "1.2.0",
            "_model_name": "LayoutModel",
            "_view_count": null,
            "_view_module": "@jupyter-widgets/base",
            "_view_module_version": "1.2.0",
            "_view_name": "LayoutView",
            "align_content": null,
            "align_items": null,
            "align_self": null,
            "border": null,
            "bottom": null,
            "display": null,
            "flex": null,
            "flex_flow": null,
            "grid_area": null,
            "grid_auto_columns": null,
            "grid_auto_flow": null,
            "grid_auto_rows": null,
            "grid_column": null,
            "grid_gap": null,
            "grid_row": null,
            "grid_template_areas": null,
            "grid_template_columns": null,
            "grid_template_rows": null,
            "height": null,
            "justify_content": null,
            "justify_items": null,
            "left": null,
            "margin": null,
            "max_height": null,
            "max_width": null,
            "min_height": null,
            "min_width": null,
            "object_fit": null,
            "object_position": null,
            "order": null,
            "overflow": null,
            "overflow_x": null,
            "overflow_y": null,
            "padding": null,
            "right": null,
            "top": null,
            "visibility": null,
            "width": null
          }
        },
        "c035d7c73d2b4ffb8f7a090b23ae2497": {
          "model_module": "@jupyter-widgets/base",
          "model_name": "LayoutModel",
          "model_module_version": "1.2.0",
          "state": {
            "_model_module": "@jupyter-widgets/base",
            "_model_module_version": "1.2.0",
            "_model_name": "LayoutModel",
            "_view_count": null,
            "_view_module": "@jupyter-widgets/base",
            "_view_module_version": "1.2.0",
            "_view_name": "LayoutView",
            "align_content": null,
            "align_items": null,
            "align_self": null,
            "border": null,
            "bottom": null,
            "display": null,
            "flex": null,
            "flex_flow": null,
            "grid_area": null,
            "grid_auto_columns": null,
            "grid_auto_flow": null,
            "grid_auto_rows": null,
            "grid_column": null,
            "grid_gap": null,
            "grid_row": null,
            "grid_template_areas": null,
            "grid_template_columns": null,
            "grid_template_rows": null,
            "height": null,
            "justify_content": null,
            "justify_items": null,
            "left": null,
            "margin": null,
            "max_height": null,
            "max_width": null,
            "min_height": null,
            "min_width": null,
            "object_fit": null,
            "object_position": null,
            "order": null,
            "overflow": null,
            "overflow_x": null,
            "overflow_y": null,
            "padding": null,
            "right": null,
            "top": null,
            "visibility": null,
            "width": null
          }
        },
        "dd2a279ab0a345c6b25fb9beea2037dc": {
          "model_module": "@jupyter-widgets/controls",
          "model_name": "DescriptionStyleModel",
          "model_module_version": "1.5.0",
          "state": {
            "_model_module": "@jupyter-widgets/controls",
            "_model_module_version": "1.5.0",
            "_model_name": "DescriptionStyleModel",
            "_view_count": null,
            "_view_module": "@jupyter-widgets/base",
            "_view_module_version": "1.2.0",
            "_view_name": "StyleView",
            "description_width": ""
          }
        },
        "2a81262399f74b308b35d901f5e48918": {
          "model_module": "@jupyter-widgets/base",
          "model_name": "LayoutModel",
          "model_module_version": "1.2.0",
          "state": {
            "_model_module": "@jupyter-widgets/base",
            "_model_module_version": "1.2.0",
            "_model_name": "LayoutModel",
            "_view_count": null,
            "_view_module": "@jupyter-widgets/base",
            "_view_module_version": "1.2.0",
            "_view_name": "LayoutView",
            "align_content": null,
            "align_items": null,
            "align_self": null,
            "border": null,
            "bottom": null,
            "display": null,
            "flex": null,
            "flex_flow": null,
            "grid_area": null,
            "grid_auto_columns": null,
            "grid_auto_flow": null,
            "grid_auto_rows": null,
            "grid_column": null,
            "grid_gap": null,
            "grid_row": null,
            "grid_template_areas": null,
            "grid_template_columns": null,
            "grid_template_rows": null,
            "height": null,
            "justify_content": null,
            "justify_items": null,
            "left": null,
            "margin": null,
            "max_height": null,
            "max_width": null,
            "min_height": null,
            "min_width": null,
            "object_fit": null,
            "object_position": null,
            "order": null,
            "overflow": null,
            "overflow_x": null,
            "overflow_y": null,
            "padding": null,
            "right": null,
            "top": null,
            "visibility": null,
            "width": null
          }
        },
        "c6a9f74b501d472ba73a33a021ff947e": {
          "model_module": "@jupyter-widgets/controls",
          "model_name": "ProgressStyleModel",
          "model_module_version": "1.5.0",
          "state": {
            "_model_module": "@jupyter-widgets/controls",
            "_model_module_version": "1.5.0",
            "_model_name": "ProgressStyleModel",
            "_view_count": null,
            "_view_module": "@jupyter-widgets/base",
            "_view_module_version": "1.2.0",
            "_view_name": "StyleView",
            "bar_color": null,
            "description_width": ""
          }
        },
        "ab1b48d28f594af381c47c0af960180f": {
          "model_module": "@jupyter-widgets/base",
          "model_name": "LayoutModel",
          "model_module_version": "1.2.0",
          "state": {
            "_model_module": "@jupyter-widgets/base",
            "_model_module_version": "1.2.0",
            "_model_name": "LayoutModel",
            "_view_count": null,
            "_view_module": "@jupyter-widgets/base",
            "_view_module_version": "1.2.0",
            "_view_name": "LayoutView",
            "align_content": null,
            "align_items": null,
            "align_self": null,
            "border": null,
            "bottom": null,
            "display": null,
            "flex": null,
            "flex_flow": null,
            "grid_area": null,
            "grid_auto_columns": null,
            "grid_auto_flow": null,
            "grid_auto_rows": null,
            "grid_column": null,
            "grid_gap": null,
            "grid_row": null,
            "grid_template_areas": null,
            "grid_template_columns": null,
            "grid_template_rows": null,
            "height": null,
            "justify_content": null,
            "justify_items": null,
            "left": null,
            "margin": null,
            "max_height": null,
            "max_width": null,
            "min_height": null,
            "min_width": null,
            "object_fit": null,
            "object_position": null,
            "order": null,
            "overflow": null,
            "overflow_x": null,
            "overflow_y": null,
            "padding": null,
            "right": null,
            "top": null,
            "visibility": null,
            "width": null
          }
        },
        "281e1c624fdb46869b303ca861465a11": {
          "model_module": "@jupyter-widgets/controls",
          "model_name": "DescriptionStyleModel",
          "model_module_version": "1.5.0",
          "state": {
            "_model_module": "@jupyter-widgets/controls",
            "_model_module_version": "1.5.0",
            "_model_name": "DescriptionStyleModel",
            "_view_count": null,
            "_view_module": "@jupyter-widgets/base",
            "_view_module_version": "1.2.0",
            "_view_name": "StyleView",
            "description_width": ""
          }
        }
      }
    }
  },
  "nbformat": 4,
  "nbformat_minor": 0
}