{
  "cells": [
    {
      "cell_type": "markdown",
      "metadata": {
        "id": "U8Zfbb2-f05A"
      },
      "source": [
        "# Система прогноза оттока клиентов"
      ]
    },
    {
      "cell_type": "markdown",
      "metadata": {
        "id": "ZmfUloIpmY1r"
      },
      "source": [
        "Из «Бета-Банка» стали уходить клиенты. Каждый месяц. Немного, но заметно. Банковские маркетологи посчитали: сохранять текущих клиентов дешевле, чем привлекать новых.\n",
        "Нужно спрогнозировать, уйдёт клиент из банка в ближайшее время или нет. Вам предоставлены исторические данные о поведении клиентов и расторжении договоров с банком.\n",
        "Постройте модель с предельно большим значением F1-меры. Чтобы сдать проект успешно, нужно довести метрику до 0.59. Проверьте F1-меру на тестовой выборке самостоятельно.\n",
        "Дополнительно измеряйте AUC-ROC, сравнивайте её значение с F1-мерой."
      ]
    },
    {
      "cell_type": "code",
      "execution_count": 1,
      "metadata": {
        "colab": {
          "base_uri": "https://localhost:8080/"
        },
        "id": "cCJ3aDUMdi3n",
        "outputId": "f27e7daf-8b39-4d04-b7b9-4bec53a5cfd0"
      },
      "outputs": [
        {
          "output_type": "stream",
          "name": "stdout",
          "text": [
            "Looking in indexes: https://pypi.org/simple, https://us-python.pkg.dev/colab-wheels/public/simple/\n",
            "Requirement already satisfied: optuna in /usr/local/lib/python3.7/dist-packages (2.10.1)\n",
            "Requirement already satisfied: alembic in /usr/local/lib/python3.7/dist-packages (from optuna) (1.8.1)\n",
            "Requirement already satisfied: numpy in /usr/local/lib/python3.7/dist-packages (from optuna) (1.21.6)\n",
            "Requirement already satisfied: sqlalchemy>=1.1.0 in /usr/local/lib/python3.7/dist-packages (from optuna) (1.4.39)\n",
            "Requirement already satisfied: cmaes>=0.8.2 in /usr/local/lib/python3.7/dist-packages (from optuna) (0.8.2)\n",
            "Requirement already satisfied: cliff in /usr/local/lib/python3.7/dist-packages (from optuna) (3.10.1)\n",
            "Requirement already satisfied: colorlog in /usr/local/lib/python3.7/dist-packages (from optuna) (6.6.0)\n",
            "Requirement already satisfied: packaging>=20.0 in /usr/local/lib/python3.7/dist-packages (from optuna) (21.3)\n",
            "Requirement already satisfied: scipy!=1.4.0 in /usr/local/lib/python3.7/dist-packages (from optuna) (1.7.3)\n",
            "Requirement already satisfied: PyYAML in /usr/local/lib/python3.7/dist-packages (from optuna) (3.13)\n",
            "Requirement already satisfied: tqdm in /usr/local/lib/python3.7/dist-packages (from optuna) (4.64.0)\n",
            "Requirement already satisfied: pyparsing!=3.0.5,>=2.0.2 in /usr/local/lib/python3.7/dist-packages (from packaging>=20.0->optuna) (3.0.9)\n",
            "Requirement already satisfied: importlib-metadata in /usr/local/lib/python3.7/dist-packages (from sqlalchemy>=1.1.0->optuna) (4.12.0)\n",
            "Requirement already satisfied: greenlet!=0.4.17 in /usr/local/lib/python3.7/dist-packages (from sqlalchemy>=1.1.0->optuna) (1.1.2)\n",
            "Requirement already satisfied: Mako in /usr/local/lib/python3.7/dist-packages (from alembic->optuna) (1.2.1)\n",
            "Requirement already satisfied: importlib-resources in /usr/local/lib/python3.7/dist-packages (from alembic->optuna) (5.8.0)\n",
            "Requirement already satisfied: pbr!=2.1.0,>=2.0.0 in /usr/local/lib/python3.7/dist-packages (from cliff->optuna) (5.9.0)\n",
            "Requirement already satisfied: PrettyTable>=0.7.2 in /usr/local/lib/python3.7/dist-packages (from cliff->optuna) (3.3.0)\n",
            "Requirement already satisfied: stevedore>=2.0.1 in /usr/local/lib/python3.7/dist-packages (from cliff->optuna) (3.5.0)\n",
            "Requirement already satisfied: cmd2>=1.0.0 in /usr/local/lib/python3.7/dist-packages (from cliff->optuna) (2.4.2)\n",
            "Requirement already satisfied: autopage>=0.4.0 in /usr/local/lib/python3.7/dist-packages (from cliff->optuna) (0.5.1)\n",
            "Requirement already satisfied: attrs>=16.3.0 in /usr/local/lib/python3.7/dist-packages (from cmd2>=1.0.0->cliff->optuna) (21.4.0)\n",
            "Requirement already satisfied: wcwidth>=0.1.7 in /usr/local/lib/python3.7/dist-packages (from cmd2>=1.0.0->cliff->optuna) (0.2.5)\n",
            "Requirement already satisfied: pyperclip>=1.6 in /usr/local/lib/python3.7/dist-packages (from cmd2>=1.0.0->cliff->optuna) (1.8.2)\n",
            "Requirement already satisfied: typing-extensions in /usr/local/lib/python3.7/dist-packages (from cmd2>=1.0.0->cliff->optuna) (4.1.1)\n",
            "Requirement already satisfied: zipp>=0.5 in /usr/local/lib/python3.7/dist-packages (from importlib-metadata->sqlalchemy>=1.1.0->optuna) (3.8.1)\n",
            "Requirement already satisfied: MarkupSafe>=0.9.2 in /usr/local/lib/python3.7/dist-packages (from Mako->alembic->optuna) (2.0.1)\n"
          ]
        }
      ],
      "source": [
        "!pip install optuna"
      ]
    },
    {
      "cell_type": "code",
      "execution_count": 2,
      "metadata": {
        "colab": {
          "base_uri": "https://localhost:8080/"
        },
        "id": "MtFCs2kzMJ7F",
        "outputId": "0176623c-6d27-4044-f975-ddb333bb63a5"
      },
      "outputs": [
        {
          "output_type": "stream",
          "name": "stdout",
          "text": [
            "Looking in indexes: https://pypi.org/simple, https://us-python.pkg.dev/colab-wheels/public/simple/\n",
            "Requirement already satisfied: catboost in /usr/local/lib/python3.7/dist-packages (1.0.6)\n",
            "Requirement already satisfied: six in /usr/local/lib/python3.7/dist-packages (from catboost) (1.15.0)\n",
            "Requirement already satisfied: plotly in /usr/local/lib/python3.7/dist-packages (from catboost) (5.5.0)\n",
            "Requirement already satisfied: graphviz in /usr/local/lib/python3.7/dist-packages (from catboost) (0.10.1)\n",
            "Requirement already satisfied: scipy in /usr/local/lib/python3.7/dist-packages (from catboost) (1.7.3)\n",
            "Requirement already satisfied: pandas>=0.24.0 in /usr/local/lib/python3.7/dist-packages (from catboost) (1.3.5)\n",
            "Requirement already satisfied: matplotlib in /usr/local/lib/python3.7/dist-packages (from catboost) (3.2.2)\n",
            "Requirement already satisfied: numpy>=1.16.0 in /usr/local/lib/python3.7/dist-packages (from catboost) (1.21.6)\n",
            "Requirement already satisfied: pytz>=2017.3 in /usr/local/lib/python3.7/dist-packages (from pandas>=0.24.0->catboost) (2022.1)\n",
            "Requirement already satisfied: python-dateutil>=2.7.3 in /usr/local/lib/python3.7/dist-packages (from pandas>=0.24.0->catboost) (2.8.2)\n",
            "Requirement already satisfied: cycler>=0.10 in /usr/local/lib/python3.7/dist-packages (from matplotlib->catboost) (0.11.0)\n",
            "Requirement already satisfied: pyparsing!=2.0.4,!=2.1.2,!=2.1.6,>=2.0.1 in /usr/local/lib/python3.7/dist-packages (from matplotlib->catboost) (3.0.9)\n",
            "Requirement already satisfied: kiwisolver>=1.0.1 in /usr/local/lib/python3.7/dist-packages (from matplotlib->catboost) (1.4.4)\n",
            "Requirement already satisfied: typing-extensions in /usr/local/lib/python3.7/dist-packages (from kiwisolver>=1.0.1->matplotlib->catboost) (4.1.1)\n",
            "Requirement already satisfied: tenacity>=6.2.0 in /usr/local/lib/python3.7/dist-packages (from plotly->catboost) (8.0.1)\n"
          ]
        }
      ],
      "source": [
        "!pip install catboost"
      ]
    },
    {
      "cell_type": "code",
      "execution_count": 3,
      "metadata": {
        "colab": {
          "base_uri": "https://localhost:8080/"
        },
        "id": "UMSdDOXsznSN",
        "outputId": "1e86883f-5b06-4954-ee9c-0a1c38240ea8"
      },
      "outputs": [
        {
          "output_type": "stream",
          "name": "stdout",
          "text": [
            "Looking in indexes: https://pypi.org/simple, https://us-python.pkg.dev/colab-wheels/public/simple/\n",
            "Requirement already satisfied: lightgbm in /usr/local/lib/python3.7/dist-packages (2.2.3)\n",
            "Requirement already satisfied: scikit-learn in /usr/local/lib/python3.7/dist-packages (from lightgbm) (1.0.2)\n",
            "Requirement already satisfied: numpy in /usr/local/lib/python3.7/dist-packages (from lightgbm) (1.21.6)\n",
            "Requirement already satisfied: scipy in /usr/local/lib/python3.7/dist-packages (from lightgbm) (1.7.3)\n",
            "Requirement already satisfied: threadpoolctl>=2.0.0 in /usr/local/lib/python3.7/dist-packages (from scikit-learn->lightgbm) (3.1.0)\n",
            "Requirement already satisfied: joblib>=0.11 in /usr/local/lib/python3.7/dist-packages (from scikit-learn->lightgbm) (1.1.0)\n"
          ]
        }
      ],
      "source": [
        "!pip install lightgbm"
      ]
    },
    {
      "cell_type": "code",
      "execution_count": 4,
      "metadata": {
        "id": "tPm2G1Xgm2q6"
      },
      "outputs": [],
      "source": [
        "import pandas as pd\n",
        "import numpy as np\n",
        "import seaborn as sns\n",
        "import matplotlib.pyplot as plt\n",
        "import optuna\n",
        "from optuna.samplers import TPESampler\n",
        "from sklearn.ensemble import RandomForestClassifier\n",
        "from sklearn.linear_model import LogisticRegression\n",
        "from lightgbm import LGBMClassifier as lgb\n",
        "import lightgbm as lgbt\n",
        "from catboost import CatBoostClassifier\n",
        "from sklearn.model_selection import train_test_split\n",
        "from sklearn.metrics import roc_auc_score, accuracy_score, f1_score, roc_curve\n",
        "from sklearn.dummy import DummyClassifier\n",
        "from optuna.visualization.matplotlib import plot_param_importances\n",
        "from sklearn.model_selection import StratifiedKFold\n",
        "from sklearn.preprocessing import StandardScaler\n",
        "from sklearn.svm import LinearSVC\n",
        "from copy import deepcopy\n",
        "# from  sklearn.neighbors import KNeighborsClassifier"
      ]
    },
    {
      "cell_type": "code",
      "execution_count": 5,
      "metadata": {
        "id": "U-v1OGlx2Rdc"
      },
      "outputs": [],
      "source": [
        "# установка параметров системы\n",
        "pd.options.display.max_columns = 100  # чтоб выводил все столбцы на экран\n",
        "pd.options.display.float_format = '{:,.4f}'.format # отображение количества знаков после запятой"
      ]
    },
    {
      "cell_type": "markdown",
      "metadata": {
        "id": "DQLN9MmGmygS"
      },
      "source": [
        "## Изучение данных"
      ]
    },
    {
      "cell_type": "code",
      "execution_count": 6,
      "metadata": {
        "colab": {
          "base_uri": "https://localhost:8080/"
        },
        "id": "Fu9y1Uubf05D",
        "outputId": "f4a2aed3-92a1-43c6-e100-1b6959a85976"
      },
      "outputs": [
        {
          "output_type": "stream",
          "name": "stdout",
          "text": [
            "ошибка чтения с диска\n"
          ]
        }
      ],
      "source": [
        "try:\n",
        "    df = pd.read_csv(\n",
        "        \"https://code.s3.yandex.net/datasets/Churn.csv\"\n",
        "    )  # скачиваем датасет\n",
        "except:\n",
        "    print(\"ошибка связи с сетью\")\n",
        "try:\n",
        "    df = pd.read_csv(\"/datasets/Churn.csv\")  # если нет интернета\n",
        "except:\n",
        "    print(\"ошибка чтения с диска\")\n",
        "\n",
        "df_raw = df.copy()  # сохраняем сырые данные на случай дальнейших изменений датасета"
      ]
    },
    {
      "cell_type": "markdown",
      "metadata": {
        "id": "miYB8yR5nV7W"
      },
      "source": [
        "Получим общую информацию о таблице:"
      ]
    },
    {
      "cell_type": "code",
      "execution_count": 7,
      "metadata": {
        "colab": {
          "base_uri": "https://localhost:8080/"
        },
        "id": "eEy-ToqdgamN",
        "outputId": "979285e0-dd4f-4c87-8119-a8944f0053f5"
      },
      "outputs": [
        {
          "output_type": "stream",
          "name": "stdout",
          "text": [
            "<class 'pandas.core.frame.DataFrame'>\n",
            "RangeIndex: 10000 entries, 0 to 9999\n",
            "Data columns (total 14 columns):\n",
            " #   Column           Non-Null Count  Dtype  \n",
            "---  ------           --------------  -----  \n",
            " 0   RowNumber        10000 non-null  int64  \n",
            " 1   CustomerId       10000 non-null  int64  \n",
            " 2   Surname          10000 non-null  object \n",
            " 3   CreditScore      10000 non-null  int64  \n",
            " 4   Geography        10000 non-null  object \n",
            " 5   Gender           10000 non-null  object \n",
            " 6   Age              10000 non-null  int64  \n",
            " 7   Tenure           9091 non-null   float64\n",
            " 8   Balance          10000 non-null  float64\n",
            " 9   NumOfProducts    10000 non-null  int64  \n",
            " 10  HasCrCard        10000 non-null  int64  \n",
            " 11  IsActiveMember   10000 non-null  int64  \n",
            " 12  EstimatedSalary  10000 non-null  float64\n",
            " 13  Exited           10000 non-null  int64  \n",
            "dtypes: float64(3), int64(8), object(3)\n",
            "memory usage: 1.1+ MB\n"
          ]
        }
      ],
      "source": [
        "df.info()"
      ]
    },
    {
      "cell_type": "markdown",
      "metadata": {
        "id": "IgQGqvwXVoJH"
      },
      "source": [
        "Есть возможность ускорить обучение моделей, изменив тип данных с 64 битных на 32."
      ]
    },
    {
      "cell_type": "markdown",
      "metadata": {
        "id": "V7l3T8mZnbja"
      },
      "source": [
        "Итак, согласно документации к данным:"
      ]
    },
    {
      "cell_type": "markdown",
      "metadata": {
        "id": "hdhggiE5nf0S"
      },
      "source": [
        "    RowNumber — индекс строки в данных\n",
        "    CustomerId — уникальный идентификатор клиента\n",
        "    Surname — фамилия\n",
        "    CreditScore — кредитный рейтинг\n",
        "    Geography — страна проживания\n",
        "    Gender — пол\n",
        "    Age — возраст\n",
        "    Tenure — сколько лет человек является клиентом банка\n",
        "    Balance — баланс на счёте\n",
        "    NumOfProducts — количество продуктов банка, используемых клиентом\n",
        "    HasCrCard — наличие кредитной карты\n",
        "    IsActiveMember — активность клиента\n",
        "    EstimatedSalary — предполагаемая зарплата"
      ]
    },
    {
      "cell_type": "markdown",
      "metadata": {
        "id": "c7E9TcPsT9a5"
      },
      "source": [
        "Целевой столбец:\n",
        "\n",
        "    Exited — факт ухода клиента\n"
      ]
    },
    {
      "cell_type": "markdown",
      "metadata": {
        "id": "40p1aqNsnqJ6"
      },
      "source": [
        "Выведем на экран первые пять строк таблицы:"
      ]
    },
    {
      "cell_type": "code",
      "execution_count": 8,
      "metadata": {
        "colab": {
          "base_uri": "https://localhost:8080/",
          "height": 270
        },
        "id": "ZEqUPAbjnsk7",
        "outputId": "334c1d62-c202-49d6-94be-f720e1c97468"
      },
      "outputs": [
        {
          "output_type": "execute_result",
          "data": {
            "text/plain": [
              "   RowNumber  CustomerId   Surname  CreditScore Geography  Gender  Age  \\\n",
              "0          1    15634602  Hargrave          619    France  Female   42   \n",
              "1          2    15647311      Hill          608     Spain  Female   41   \n",
              "2          3    15619304      Onio          502    France  Female   42   \n",
              "3          4    15701354      Boni          699    France  Female   39   \n",
              "4          5    15737888  Mitchell          850     Spain  Female   43   \n",
              "\n",
              "   Tenure      Balance  NumOfProducts  HasCrCard  IsActiveMember  \\\n",
              "0  2.0000       0.0000              1          1               1   \n",
              "1  1.0000  83,807.8600              1          0               1   \n",
              "2  8.0000 159,660.8000              3          1               0   \n",
              "3  1.0000       0.0000              2          0               0   \n",
              "4  2.0000 125,510.8200              1          1               1   \n",
              "\n",
              "   EstimatedSalary  Exited  \n",
              "0     101,348.8800       1  \n",
              "1     112,542.5800       0  \n",
              "2     113,931.5700       1  \n",
              "3      93,826.6300       0  \n",
              "4      79,084.1000       0  "
            ],
            "text/html": [
              "\n",
              "  <div id=\"df-de79b917-64e6-49cf-93bc-e9e9383f81ac\">\n",
              "    <div class=\"colab-df-container\">\n",
              "      <div>\n",
              "<style scoped>\n",
              "    .dataframe tbody tr th:only-of-type {\n",
              "        vertical-align: middle;\n",
              "    }\n",
              "\n",
              "    .dataframe tbody tr th {\n",
              "        vertical-align: top;\n",
              "    }\n",
              "\n",
              "    .dataframe thead th {\n",
              "        text-align: right;\n",
              "    }\n",
              "</style>\n",
              "<table border=\"1\" class=\"dataframe\">\n",
              "  <thead>\n",
              "    <tr style=\"text-align: right;\">\n",
              "      <th></th>\n",
              "      <th>RowNumber</th>\n",
              "      <th>CustomerId</th>\n",
              "      <th>Surname</th>\n",
              "      <th>CreditScore</th>\n",
              "      <th>Geography</th>\n",
              "      <th>Gender</th>\n",
              "      <th>Age</th>\n",
              "      <th>Tenure</th>\n",
              "      <th>Balance</th>\n",
              "      <th>NumOfProducts</th>\n",
              "      <th>HasCrCard</th>\n",
              "      <th>IsActiveMember</th>\n",
              "      <th>EstimatedSalary</th>\n",
              "      <th>Exited</th>\n",
              "    </tr>\n",
              "  </thead>\n",
              "  <tbody>\n",
              "    <tr>\n",
              "      <th>0</th>\n",
              "      <td>1</td>\n",
              "      <td>15634602</td>\n",
              "      <td>Hargrave</td>\n",
              "      <td>619</td>\n",
              "      <td>France</td>\n",
              "      <td>Female</td>\n",
              "      <td>42</td>\n",
              "      <td>2.0000</td>\n",
              "      <td>0.0000</td>\n",
              "      <td>1</td>\n",
              "      <td>1</td>\n",
              "      <td>1</td>\n",
              "      <td>101,348.8800</td>\n",
              "      <td>1</td>\n",
              "    </tr>\n",
              "    <tr>\n",
              "      <th>1</th>\n",
              "      <td>2</td>\n",
              "      <td>15647311</td>\n",
              "      <td>Hill</td>\n",
              "      <td>608</td>\n",
              "      <td>Spain</td>\n",
              "      <td>Female</td>\n",
              "      <td>41</td>\n",
              "      <td>1.0000</td>\n",
              "      <td>83,807.8600</td>\n",
              "      <td>1</td>\n",
              "      <td>0</td>\n",
              "      <td>1</td>\n",
              "      <td>112,542.5800</td>\n",
              "      <td>0</td>\n",
              "    </tr>\n",
              "    <tr>\n",
              "      <th>2</th>\n",
              "      <td>3</td>\n",
              "      <td>15619304</td>\n",
              "      <td>Onio</td>\n",
              "      <td>502</td>\n",
              "      <td>France</td>\n",
              "      <td>Female</td>\n",
              "      <td>42</td>\n",
              "      <td>8.0000</td>\n",
              "      <td>159,660.8000</td>\n",
              "      <td>3</td>\n",
              "      <td>1</td>\n",
              "      <td>0</td>\n",
              "      <td>113,931.5700</td>\n",
              "      <td>1</td>\n",
              "    </tr>\n",
              "    <tr>\n",
              "      <th>3</th>\n",
              "      <td>4</td>\n",
              "      <td>15701354</td>\n",
              "      <td>Boni</td>\n",
              "      <td>699</td>\n",
              "      <td>France</td>\n",
              "      <td>Female</td>\n",
              "      <td>39</td>\n",
              "      <td>1.0000</td>\n",
              "      <td>0.0000</td>\n",
              "      <td>2</td>\n",
              "      <td>0</td>\n",
              "      <td>0</td>\n",
              "      <td>93,826.6300</td>\n",
              "      <td>0</td>\n",
              "    </tr>\n",
              "    <tr>\n",
              "      <th>4</th>\n",
              "      <td>5</td>\n",
              "      <td>15737888</td>\n",
              "      <td>Mitchell</td>\n",
              "      <td>850</td>\n",
              "      <td>Spain</td>\n",
              "      <td>Female</td>\n",
              "      <td>43</td>\n",
              "      <td>2.0000</td>\n",
              "      <td>125,510.8200</td>\n",
              "      <td>1</td>\n",
              "      <td>1</td>\n",
              "      <td>1</td>\n",
              "      <td>79,084.1000</td>\n",
              "      <td>0</td>\n",
              "    </tr>\n",
              "  </tbody>\n",
              "</table>\n",
              "</div>\n",
              "      <button class=\"colab-df-convert\" onclick=\"convertToInteractive('df-de79b917-64e6-49cf-93bc-e9e9383f81ac')\"\n",
              "              title=\"Convert this dataframe to an interactive table.\"\n",
              "              style=\"display:none;\">\n",
              "        \n",
              "  <svg xmlns=\"http://www.w3.org/2000/svg\" height=\"24px\"viewBox=\"0 0 24 24\"\n",
              "       width=\"24px\">\n",
              "    <path d=\"M0 0h24v24H0V0z\" fill=\"none\"/>\n",
              "    <path d=\"M18.56 5.44l.94 2.06.94-2.06 2.06-.94-2.06-.94-.94-2.06-.94 2.06-2.06.94zm-11 1L8.5 8.5l.94-2.06 2.06-.94-2.06-.94L8.5 2.5l-.94 2.06-2.06.94zm10 10l.94 2.06.94-2.06 2.06-.94-2.06-.94-.94-2.06-.94 2.06-2.06.94z\"/><path d=\"M17.41 7.96l-1.37-1.37c-.4-.4-.92-.59-1.43-.59-.52 0-1.04.2-1.43.59L10.3 9.45l-7.72 7.72c-.78.78-.78 2.05 0 2.83L4 21.41c.39.39.9.59 1.41.59.51 0 1.02-.2 1.41-.59l7.78-7.78 2.81-2.81c.8-.78.8-2.07 0-2.86zM5.41 20L4 18.59l7.72-7.72 1.47 1.35L5.41 20z\"/>\n",
              "  </svg>\n",
              "      </button>\n",
              "      \n",
              "  <style>\n",
              "    .colab-df-container {\n",
              "      display:flex;\n",
              "      flex-wrap:wrap;\n",
              "      gap: 12px;\n",
              "    }\n",
              "\n",
              "    .colab-df-convert {\n",
              "      background-color: #E8F0FE;\n",
              "      border: none;\n",
              "      border-radius: 50%;\n",
              "      cursor: pointer;\n",
              "      display: none;\n",
              "      fill: #1967D2;\n",
              "      height: 32px;\n",
              "      padding: 0 0 0 0;\n",
              "      width: 32px;\n",
              "    }\n",
              "\n",
              "    .colab-df-convert:hover {\n",
              "      background-color: #E2EBFA;\n",
              "      box-shadow: 0px 1px 2px rgba(60, 64, 67, 0.3), 0px 1px 3px 1px rgba(60, 64, 67, 0.15);\n",
              "      fill: #174EA6;\n",
              "    }\n",
              "\n",
              "    [theme=dark] .colab-df-convert {\n",
              "      background-color: #3B4455;\n",
              "      fill: #D2E3FC;\n",
              "    }\n",
              "\n",
              "    [theme=dark] .colab-df-convert:hover {\n",
              "      background-color: #434B5C;\n",
              "      box-shadow: 0px 1px 3px 1px rgba(0, 0, 0, 0.15);\n",
              "      filter: drop-shadow(0px 1px 2px rgba(0, 0, 0, 0.3));\n",
              "      fill: #FFFFFF;\n",
              "    }\n",
              "  </style>\n",
              "\n",
              "      <script>\n",
              "        const buttonEl =\n",
              "          document.querySelector('#df-de79b917-64e6-49cf-93bc-e9e9383f81ac button.colab-df-convert');\n",
              "        buttonEl.style.display =\n",
              "          google.colab.kernel.accessAllowed ? 'block' : 'none';\n",
              "\n",
              "        async function convertToInteractive(key) {\n",
              "          const element = document.querySelector('#df-de79b917-64e6-49cf-93bc-e9e9383f81ac');\n",
              "          const dataTable =\n",
              "            await google.colab.kernel.invokeFunction('convertToInteractive',\n",
              "                                                     [key], {});\n",
              "          if (!dataTable) return;\n",
              "\n",
              "          const docLinkHtml = 'Like what you see? Visit the ' +\n",
              "            '<a target=\"_blank\" href=https://colab.research.google.com/notebooks/data_table.ipynb>data table notebook</a>'\n",
              "            + ' to learn more about interactive tables.';\n",
              "          element.innerHTML = '';\n",
              "          dataTable['output_type'] = 'display_data';\n",
              "          await google.colab.output.renderOutput(dataTable, element);\n",
              "          const docLink = document.createElement('div');\n",
              "          docLink.innerHTML = docLinkHtml;\n",
              "          element.appendChild(docLink);\n",
              "        }\n",
              "      </script>\n",
              "    </div>\n",
              "  </div>\n",
              "  "
            ]
          },
          "metadata": {},
          "execution_count": 8
        }
      ],
      "source": [
        "df.head()"
      ]
    },
    {
      "cell_type": "markdown",
      "metadata": {
        "id": "7gy2iWPhnr_R"
      },
      "source": [
        "Построим гистограммы для числовых данных таблиц:"
      ]
    },
    {
      "cell_type": "code",
      "execution_count": 9,
      "metadata": {
        "colab": {
          "base_uri": "https://localhost:8080/",
          "height": 677
        },
        "id": "OWEPx333n7qt",
        "outputId": "266804dc-da39-4505-c8d7-c90475f8531b"
      },
      "outputs": [
        {
          "output_type": "display_data",
          "data": {
            "text/plain": [
              "<Figure size 1152x720 with 2 Axes>"
            ],
            "image/png": "[encoded data removed]"
          },
          "metadata": {
            "needs_background": "light"
          }
        }
      ],
      "source": [
        "fig, ax = plt.subplots(1, 2, figsize=(16, 10))\n",
        "fig.suptitle(\"Распределение значений CreditScore\")\n",
        "y = df[\"CreditScore\"]\n",
        "ax[0].set_xlabel(\"частота появления значения\")\n",
        "ax[0].set_ylabel(\"значение_параметра\")\n",
        "ax[1].set_ylabel(\"значение_параметра\")\n",
        "ax[0].hist(y, orientation=\"horizontal\", bins=60)\n",
        "sns.boxplot(data=y, orient=\"v\", ax=ax[1])\n",
        "ax[1].set_xticklabels([])\n",
        "plt.show()"
      ]
    },
    {
      "cell_type": "code",
      "execution_count": 10,
      "metadata": {
        "colab": {
          "base_uri": "https://localhost:8080/",
          "height": 677
        },
        "id": "s_XGxaPyoF67",
        "outputId": "f1ec3475-d94e-47d4-9514-51d81b5e138d"
      },
      "outputs": [
        {
          "output_type": "display_data",
          "data": {
            "text/plain": [
              "<Figure size 1152x720 with 2 Axes>"
            ],
            "image/png": "[encoded data removed]"
          },
          "metadata": {
            "needs_background": "light"
          }
        }
      ],
      "source": [
        "fig, ax = plt.subplots(1, 2, figsize=(16, 10))\n",
        "fig.suptitle(\"Распределение значений Tenure\")\n",
        "y = df_raw[\"Tenure\"]\n",
        "ax[0].set_xlabel(\"частота появления значения\")\n",
        "ax[0].set_ylabel(\"значение_параметра\")\n",
        "ax[1].set_ylabel(\"значение_параметра\")\n",
        "ax[0].hist(y, orientation=\"horizontal\", bins=100)\n",
        "sns.boxplot(data=y, orient=\"v\", ax=ax[1])\n",
        "ax[1].set_xticklabels([])\n",
        "plt.show()"
      ]
    },
    {
      "cell_type": "code",
      "execution_count": 11,
      "metadata": {
        "colab": {
          "base_uri": "https://localhost:8080/",
          "height": 677
        },
        "id": "1aI3DoWXoIyn",
        "outputId": "607df383-7f23-4848-9a8b-1572529e6d3c"
      },
      "outputs": [
        {
          "output_type": "display_data",
          "data": {
            "text/plain": [
              "<Figure size 1152x720 with 2 Axes>"
            ],
            "image/png": "[encoded data removed]"
          },
          "metadata": {
            "needs_background": "light"
          }
        }
      ],
      "source": [
        "fig, ax = plt.subplots(1, 2, figsize=(16, 10))\n",
        "fig.suptitle(\"Распределение значений Balance\")\n",
        "y = df_raw[\"Balance\"]\n",
        "ax[0].set_xlabel(\"частота появления значения\")\n",
        "ax[0].set_ylabel(\"значение_параметра\")\n",
        "ax[1].set_ylabel(\"значение_параметра\")\n",
        "ax[0].hist(y, orientation=\"horizontal\", bins=120)\n",
        "sns.boxplot(data=y, orient=\"v\", ax=ax[1])\n",
        "ax[1].set_xticklabels([])\n",
        "plt.show()"
      ]
    },
    {
      "cell_type": "code",
      "execution_count": 12,
      "metadata": {
        "colab": {
          "base_uri": "https://localhost:8080/",
          "height": 677
        },
        "id": "BoqmoU8_0bgC",
        "outputId": "bf5006ce-6882-48e7-bac0-90573a286b2b"
      },
      "outputs": [
        {
          "output_type": "display_data",
          "data": {
            "text/plain": [
              "<Figure size 1152x720 with 2 Axes>"
            ],
            "image/png": "[encoded data removed]"
          },
          "metadata": {
            "needs_background": "light"
          }
        }
      ],
      "source": [
        "fig, ax = plt.subplots(1, 2, figsize=(16, 10))\n",
        "fig.suptitle(\"Распределение значений EstimatedSalary\")\n",
        "y = df_raw[\"EstimatedSalary\"]\n",
        "ax[0].set_xlabel(\"частота появления значения\")\n",
        "ax[0].set_ylabel(\"значение_параметра\")\n",
        "ax[1].set_ylabel(\"значение_параметра\")\n",
        "ax[0].hist(y, orientation=\"horizontal\", bins=100)\n",
        "sns.boxplot(data=y, orient=\"v\", ax=ax[1])\n",
        "ax[1].set_xticklabels([])\n",
        "plt.show()"
      ]
    },
    {
      "cell_type": "code",
      "execution_count": 13,
      "metadata": {
        "colab": {
          "base_uri": "https://localhost:8080/",
          "height": 677
        },
        "id": "JVqY7jYPo5az",
        "outputId": "d794be91-9690-4daf-acc8-4d8ea77d092d"
      },
      "outputs": [
        {
          "output_type": "display_data",
          "data": {
            "text/plain": [
              "<Figure size 1152x720 with 2 Axes>"
            ],
            "image/png": "[encoded data removed]"
          },
          "metadata": {
            "needs_background": "light"
          }
        }
      ],
      "source": [
        "fig, ax = plt.subplots(1, 2, figsize=(16, 10))\n",
        "fig.suptitle(\"Распределение значений NumOfProducts\")\n",
        "y = df_raw[\"NumOfProducts\"]\n",
        "ax[0].set_xlabel(\"частота появления значения\")\n",
        "ax[0].set_ylabel(\"значение_параметра\")\n",
        "ax[1].set_ylabel(\"значение_параметра\")\n",
        "ax[0].hist(y, orientation=\"horizontal\", bins=100)\n",
        "sns.boxplot(data=y, orient=\"v\", ax=ax[1])\n",
        "ax[1].set_xticklabels([])\n",
        "plt.show()"
      ]
    },
    {
      "cell_type": "code",
      "execution_count": 14,
      "metadata": {
        "colab": {
          "base_uri": "https://localhost:8080/",
          "height": 677
        },
        "id": "M9WsU2a2W-S4",
        "outputId": "03c92472-f577-4c13-94b0-0434258c47a7"
      },
      "outputs": [
        {
          "output_type": "display_data",
          "data": {
            "text/plain": [
              "<Figure size 1152x720 with 2 Axes>"
            ],
            "image/png": "[encoded data removed]"
          },
          "metadata": {
            "needs_background": "light"
          }
        }
      ],
      "source": [
        "fig, ax = plt.subplots(1, 2, figsize=(16, 10))\n",
        "fig.suptitle(\"Распределение значений Age\")\n",
        "y = df_raw[\"Age\"]\n",
        "ax[0].set_xlabel(\"частота появления значения\")\n",
        "ax[0].set_ylabel(\"значение_параметра\")\n",
        "ax[1].set_ylabel(\"значение_параметра\")\n",
        "ax[0].hist(y, orientation=\"horizontal\", bins=100)\n",
        "sns.boxplot(data=y, orient=\"v\", ax=ax[1])\n",
        "ax[1].set_xticklabels([])\n",
        "plt.show()"
      ]
    },
    {
      "cell_type": "code",
      "execution_count": 15,
      "metadata": {
        "colab": {
          "base_uri": "https://localhost:8080/",
          "height": 493
        },
        "id": "_6XYKQRT0Wja",
        "outputId": "1de473b8-3d9f-4b5a-efa1-a2c14dd927f2"
      },
      "outputs": [
        {
          "output_type": "display_data",
          "data": {
            "text/plain": [
              "<Figure size 1080x504 with 1 Axes>"
            ],
            "image/png": "[encoded data removed]"
          },
          "metadata": {
            "needs_background": "light"
          }
        }
      ],
      "source": [
        "fig, ax = plt.subplots(figsize=(15, 7))\n",
        "fig.suptitle(\"Распределение значений HasCrCard\")\n",
        "y = df_raw[\"HasCrCard\"].value_counts()\n",
        "ax.set_ylabel(\"частота появления значения\")\n",
        "ax.set_xlabel(\"значение_параметра\")\n",
        "sns.barplot(x=y.index.values, y=y.values)\n",
        "\n",
        "plt.show()"
      ]
    },
    {
      "cell_type": "code",
      "execution_count": 16,
      "metadata": {
        "colab": {
          "base_uri": "https://localhost:8080/",
          "height": 493
        },
        "id": "dsJmi_Pjo8SQ",
        "outputId": "effcd50b-2c13-4037-bbc5-d2ba8fe1b053"
      },
      "outputs": [
        {
          "output_type": "display_data",
          "data": {
            "text/plain": [
              "<Figure size 1080x504 with 1 Axes>"
            ],
            "image/png": "[encoded data removed]"
          },
          "metadata": {
            "needs_background": "light"
          }
        }
      ],
      "source": [
        "fig, ax = plt.subplots(figsize=(15, 7))\n",
        "fig.suptitle(\"Распределение значений IsActiveMember\")\n",
        "y = df_raw[\"IsActiveMember\"].value_counts()\n",
        "ax.set_ylabel(\"частота появления значения\")\n",
        "ax.set_xlabel(\"значение_параметра\")\n",
        "sns.barplot(x=y.index.values, y=y.values)\n",
        "\n",
        "plt.show()"
      ]
    },
    {
      "cell_type": "code",
      "execution_count": 17,
      "metadata": {
        "colab": {
          "base_uri": "https://localhost:8080/",
          "height": 493
        },
        "id": "glU2wgHffhDN",
        "outputId": "c45c4542-1b19-4573-9e78-2e7e363edec0"
      },
      "outputs": [
        {
          "output_type": "display_data",
          "data": {
            "text/plain": [
              "<Figure size 1080x504 with 1 Axes>"
            ],
            "image/png": "[encoded data removed]"
          },
          "metadata": {
            "needs_background": "light"
          }
        }
      ],
      "source": [
        "fig, ax = plt.subplots(figsize=(15, 7))\n",
        "fig.suptitle(\"Распределение значений Geography\")\n",
        "y = df_raw[\"Geography\"].value_counts()\n",
        "ax.set_ylabel(\"частота появления значения\")\n",
        "ax.set_xlabel(\"значение_параметра\")\n",
        "sns.barplot(x=y.index.values, y=y.values)\n",
        "plt.show()"
      ]
    },
    {
      "cell_type": "code",
      "execution_count": 18,
      "metadata": {
        "colab": {
          "base_uri": "https://localhost:8080/",
          "height": 493
        },
        "id": "wcSCxJAVfu_j",
        "outputId": "4e471c3d-c6e0-4166-b183-380e852b4701"
      },
      "outputs": [
        {
          "output_type": "display_data",
          "data": {
            "text/plain": [
              "<Figure size 1080x504 with 1 Axes>"
            ],
            "image/png": "[encoded data removed]"
          },
          "metadata": {
            "needs_background": "light"
          }
        }
      ],
      "source": [
        "fig, ax = plt.subplots(figsize=(15, 7))\n",
        "fig.suptitle(\"Распределение значений Gender\")\n",
        "y = df_raw[\"Gender\"].value_counts()\n",
        "ax.set_ylabel(\"частота появления значения\")\n",
        "ax.set_xlabel(\"значение_параметра\")\n",
        "sns.barplot(x=y.index.values, y=y.values)\n",
        "plt.show()"
      ]
    },
    {
      "cell_type": "code",
      "execution_count": 19,
      "metadata": {
        "colab": {
          "base_uri": "https://localhost:8080/",
          "height": 493
        },
        "id": "f5nwvPnd0lx9",
        "outputId": "8f7310ad-56cb-470f-af17-5c050289bab8"
      },
      "outputs": [
        {
          "output_type": "display_data",
          "data": {
            "text/plain": [
              "<Figure size 1080x504 with 1 Axes>"
            ],
            "image/png": "[encoded data removed]"
          },
          "metadata": {
            "needs_background": "light"
          }
        }
      ],
      "source": [
        "fig, ax = plt.subplots(figsize=(15, 7))\n",
        "fig.suptitle(\"Распределение значений Exited\")\n",
        "y = df_raw[\"Exited\"].value_counts()\n",
        "ax.set_ylabel(\"частота появления значения\")\n",
        "ax.set_xlabel(\"значение_параметра\")\n",
        "sns.barplot(x=y.index.values, y=y.values)\n",
        "plt.show()"
      ]
    },
    {
      "cell_type": "markdown",
      "metadata": {
        "id": "dDJFjNiKsA7a"
      },
      "source": [
        "Проблемы в числовых данных не обнаружены."
      ]
    },
    {
      "cell_type": "markdown",
      "metadata": {
        "id": "TYya-dtLf1tm"
      },
      "source": [
        "Количество ушедших клиентов в таблице примерно в 4 раза меньше количества оставшихся. Стоит учесть этот дисбаланс при обучении моделей."
      ]
    },
    {
      "cell_type": "markdown",
      "metadata": {
        "id": "rP7ftesIx_Q3"
      },
      "source": [
        "Проверим, есть ли повторяющиеся значения в столбце `customerid`:"
      ]
    },
    {
      "cell_type": "code",
      "execution_count": 20,
      "metadata": {
        "colab": {
          "base_uri": "https://localhost:8080/"
        },
        "id": "RZ3OkQ_5yKgy",
        "outputId": "e5d98af9-ca1f-4bc0-88a2-57788b24bff8"
      },
      "outputs": [
        {
          "output_type": "execute_result",
          "data": {
            "text/plain": [
              "0"
            ]
          },
          "metadata": {},
          "execution_count": 20
        }
      ],
      "source": [
        "df[\"CustomerId\"].duplicated().sum()"
      ]
    },
    {
      "cell_type": "markdown",
      "metadata": {
        "id": "YxVYzp4fyPbE"
      },
      "source": [
        "Повторяющихся значений нет, так что можно удалить данный столбец."
      ]
    },
    {
      "cell_type": "markdown",
      "metadata": {
        "id": "ARG6fCUHr5x2"
      },
      "source": [
        "Каждый объект в наборе данных — это информация о поведении одного пользователя за месяц. Известно:"
      ]
    },
    {
      "cell_type": "markdown",
      "metadata": {
        "id": "0u6b9qVUtTvN"
      },
      "source": [
        "***Вывод***\n",
        "\n",
        "У нас в распоряжении одна таблица, в которой имеются данные по клиентам банка.\n",
        "Каждый объект в наборе данных — это информация о характеристиках одного клиента и его решении об уходе. "
      ]
    },
    {
      "cell_type": "markdown",
      "metadata": {
        "id": "otGpILu51pvt"
      },
      "source": [
        "## Подготовка данных к обучению"
      ]
    },
    {
      "cell_type": "markdown",
      "metadata": {
        "id": "WD-Lh00TZ-96"
      },
      "source": [
        "### Проверка явных дубликатов"
      ]
    },
    {
      "cell_type": "code",
      "execution_count": 21,
      "metadata": {
        "colab": {
          "base_uri": "https://localhost:8080/"
        },
        "id": "7IE5Yem-Z_SU",
        "outputId": "0b71b670-df56-4a40-dbc3-eea8dd5265df"
      },
      "outputs": [
        {
          "output_type": "execute_result",
          "data": {
            "text/plain": [
              "0"
            ]
          },
          "metadata": {},
          "execution_count": 21
        }
      ],
      "source": [
        "df.duplicated().sum()"
      ]
    },
    {
      "cell_type": "markdown",
      "metadata": {
        "id": "m3UmKMgSaHaO"
      },
      "source": [
        "Явные дубликаты не обнаружены."
      ]
    },
    {
      "cell_type": "markdown",
      "metadata": {
        "id": "Lf-XUi8worF-"
      },
      "source": [
        "### Очистка неиспользуемых данных"
      ]
    },
    {
      "cell_type": "markdown",
      "metadata": {
        "id": "D8hUfeO_17N1"
      },
      "source": [
        "Удалим ненужные столбцы:"
      ]
    },
    {
      "cell_type": "code",
      "execution_count": 22,
      "metadata": {
        "id": "YhMnn3-u1yvD"
      },
      "outputs": [],
      "source": [
        "del df[\"RowNumber\"]\n",
        "del df[\"Surname\"]\n",
        "del df[\"CustomerId\"]"
      ]
    },
    {
      "cell_type": "markdown",
      "metadata": {
        "id": "3sr5Eummh7_I"
      },
      "source": [
        "### One-Hot Encoding"
      ]
    },
    {
      "cell_type": "markdown",
      "metadata": {
        "id": "UvujIXt-o_I3"
      },
      "source": [
        "Используем технику прямого кодирования, или отображения (One-Hot Encoding, OHE), чтобы преобразовать категориальные признаки в численные:"
      ]
    },
    {
      "cell_type": "code",
      "execution_count": 23,
      "metadata": {
        "id": "dVaN_wgC1-bE"
      },
      "outputs": [],
      "source": [
        "df = pd.get_dummies(df, drop_first=True)"
      ]
    },
    {
      "cell_type": "code",
      "execution_count": 24,
      "metadata": {
        "colab": {
          "base_uri": "https://localhost:8080/",
          "height": 270
        },
        "id": "U2DPcM982Fje",
        "outputId": "b7248ece-9904-4b5d-f59f-9a773d8f5437"
      },
      "outputs": [
        {
          "output_type": "execute_result",
          "data": {
            "text/plain": [
              "   CreditScore  Age  Tenure      Balance  NumOfProducts  HasCrCard  \\\n",
              "0          619   42  2.0000       0.0000              1          1   \n",
              "1          608   41  1.0000  83,807.8600              1          0   \n",
              "2          502   42  8.0000 159,660.8000              3          1   \n",
              "3          699   39  1.0000       0.0000              2          0   \n",
              "4          850   43  2.0000 125,510.8200              1          1   \n",
              "\n",
              "   IsActiveMember  EstimatedSalary  Exited  Geography_Germany  \\\n",
              "0               1     101,348.8800       1                  0   \n",
              "1               1     112,542.5800       0                  0   \n",
              "2               0     113,931.5700       1                  0   \n",
              "3               0      93,826.6300       0                  0   \n",
              "4               1      79,084.1000       0                  0   \n",
              "\n",
              "   Geography_Spain  Gender_Male  \n",
              "0                0            0  \n",
              "1                1            0  \n",
              "2                0            0  \n",
              "3                0            0  \n",
              "4                1            0  "
            ],
            "text/html": [
              "\n",
              "  <div id=\"df-60bfe5c1-dd98-4b6b-b962-f4463835980c\">\n",
              "    <div class=\"colab-df-container\">\n",
              "      <div>\n",
              "<style scoped>\n",
              "    .dataframe tbody tr th:only-of-type {\n",
              "        vertical-align: middle;\n",
              "    }\n",
              "\n",
              "    .dataframe tbody tr th {\n",
              "        vertical-align: top;\n",
              "    }\n",
              "\n",
              "    .dataframe thead th {\n",
              "        text-align: right;\n",
              "    }\n",
              "</style>\n",
              "<table border=\"1\" class=\"dataframe\">\n",
              "  <thead>\n",
              "    <tr style=\"text-align: right;\">\n",
              "      <th></th>\n",
              "      <th>CreditScore</th>\n",
              "      <th>Age</th>\n",
              "      <th>Tenure</th>\n",
              "      <th>Balance</th>\n",
              "      <th>NumOfProducts</th>\n",
              "      <th>HasCrCard</th>\n",
              "      <th>IsActiveMember</th>\n",
              "      <th>EstimatedSalary</th>\n",
              "      <th>Exited</th>\n",
              "      <th>Geography_Germany</th>\n",
              "      <th>Geography_Spain</th>\n",
              "      <th>Gender_Male</th>\n",
              "    </tr>\n",
              "  </thead>\n",
              "  <tbody>\n",
              "    <tr>\n",
              "      <th>0</th>\n",
              "      <td>619</td>\n",
              "      <td>42</td>\n",
              "      <td>2.0000</td>\n",
              "      <td>0.0000</td>\n",
              "      <td>1</td>\n",
              "      <td>1</td>\n",
              "      <td>1</td>\n",
              "      <td>101,348.8800</td>\n",
              "      <td>1</td>\n",
              "      <td>0</td>\n",
              "      <td>0</td>\n",
              "      <td>0</td>\n",
              "    </tr>\n",
              "    <tr>\n",
              "      <th>1</th>\n",
              "      <td>608</td>\n",
              "      <td>41</td>\n",
              "      <td>1.0000</td>\n",
              "      <td>83,807.8600</td>\n",
              "      <td>1</td>\n",
              "      <td>0</td>\n",
              "      <td>1</td>\n",
              "      <td>112,542.5800</td>\n",
              "      <td>0</td>\n",
              "      <td>0</td>\n",
              "      <td>1</td>\n",
              "      <td>0</td>\n",
              "    </tr>\n",
              "    <tr>\n",
              "      <th>2</th>\n",
              "      <td>502</td>\n",
              "      <td>42</td>\n",
              "      <td>8.0000</td>\n",
              "      <td>159,660.8000</td>\n",
              "      <td>3</td>\n",
              "      <td>1</td>\n",
              "      <td>0</td>\n",
              "      <td>113,931.5700</td>\n",
              "      <td>1</td>\n",
              "      <td>0</td>\n",
              "      <td>0</td>\n",
              "      <td>0</td>\n",
              "    </tr>\n",
              "    <tr>\n",
              "      <th>3</th>\n",
              "      <td>699</td>\n",
              "      <td>39</td>\n",
              "      <td>1.0000</td>\n",
              "      <td>0.0000</td>\n",
              "      <td>2</td>\n",
              "      <td>0</td>\n",
              "      <td>0</td>\n",
              "      <td>93,826.6300</td>\n",
              "      <td>0</td>\n",
              "      <td>0</td>\n",
              "      <td>0</td>\n",
              "      <td>0</td>\n",
              "    </tr>\n",
              "    <tr>\n",
              "      <th>4</th>\n",
              "      <td>850</td>\n",
              "      <td>43</td>\n",
              "      <td>2.0000</td>\n",
              "      <td>125,510.8200</td>\n",
              "      <td>1</td>\n",
              "      <td>1</td>\n",
              "      <td>1</td>\n",
              "      <td>79,084.1000</td>\n",
              "      <td>0</td>\n",
              "      <td>0</td>\n",
              "      <td>1</td>\n",
              "      <td>0</td>\n",
              "    </tr>\n",
              "  </tbody>\n",
              "</table>\n",
              "</div>\n",
              "      <button class=\"colab-df-convert\" onclick=\"convertToInteractive('df-60bfe5c1-dd98-4b6b-b962-f4463835980c')\"\n",
              "              title=\"Convert this dataframe to an interactive table.\"\n",
              "              style=\"display:none;\">\n",
              "        \n",
              "  <svg xmlns=\"http://www.w3.org/2000/svg\" height=\"24px\"viewBox=\"0 0 24 24\"\n",
              "       width=\"24px\">\n",
              "    <path d=\"M0 0h24v24H0V0z\" fill=\"none\"/>\n",
              "    <path d=\"M18.56 5.44l.94 2.06.94-2.06 2.06-.94-2.06-.94-.94-2.06-.94 2.06-2.06.94zm-11 1L8.5 8.5l.94-2.06 2.06-.94-2.06-.94L8.5 2.5l-.94 2.06-2.06.94zm10 10l.94 2.06.94-2.06 2.06-.94-2.06-.94-.94-2.06-.94 2.06-2.06.94z\"/><path d=\"M17.41 7.96l-1.37-1.37c-.4-.4-.92-.59-1.43-.59-.52 0-1.04.2-1.43.59L10.3 9.45l-7.72 7.72c-.78.78-.78 2.05 0 2.83L4 21.41c.39.39.9.59 1.41.59.51 0 1.02-.2 1.41-.59l7.78-7.78 2.81-2.81c.8-.78.8-2.07 0-2.86zM5.41 20L4 18.59l7.72-7.72 1.47 1.35L5.41 20z\"/>\n",
              "  </svg>\n",
              "      </button>\n",
              "      \n",
              "  <style>\n",
              "    .colab-df-container {\n",
              "      display:flex;\n",
              "      flex-wrap:wrap;\n",
              "      gap: 12px;\n",
              "    }\n",
              "\n",
              "    .colab-df-convert {\n",
              "      background-color: #E8F0FE;\n",
              "      border: none;\n",
              "      border-radius: 50%;\n",
              "      cursor: pointer;\n",
              "      display: none;\n",
              "      fill: #1967D2;\n",
              "      height: 32px;\n",
              "      padding: 0 0 0 0;\n",
              "      width: 32px;\n",
              "    }\n",
              "\n",
              "    .colab-df-convert:hover {\n",
              "      background-color: #E2EBFA;\n",
              "      box-shadow: 0px 1px 2px rgba(60, 64, 67, 0.3), 0px 1px 3px 1px rgba(60, 64, 67, 0.15);\n",
              "      fill: #174EA6;\n",
              "    }\n",
              "\n",
              "    [theme=dark] .colab-df-convert {\n",
              "      background-color: #3B4455;\n",
              "      fill: #D2E3FC;\n",
              "    }\n",
              "\n",
              "    [theme=dark] .colab-df-convert:hover {\n",
              "      background-color: #434B5C;\n",
              "      box-shadow: 0px 1px 3px 1px rgba(0, 0, 0, 0.15);\n",
              "      filter: drop-shadow(0px 1px 2px rgba(0, 0, 0, 0.3));\n",
              "      fill: #FFFFFF;\n",
              "    }\n",
              "  </style>\n",
              "\n",
              "      <script>\n",
              "        const buttonEl =\n",
              "          document.querySelector('#df-60bfe5c1-dd98-4b6b-b962-f4463835980c button.colab-df-convert');\n",
              "        buttonEl.style.display =\n",
              "          google.colab.kernel.accessAllowed ? 'block' : 'none';\n",
              "\n",
              "        async function convertToInteractive(key) {\n",
              "          const element = document.querySelector('#df-60bfe5c1-dd98-4b6b-b962-f4463835980c');\n",
              "          const dataTable =\n",
              "            await google.colab.kernel.invokeFunction('convertToInteractive',\n",
              "                                                     [key], {});\n",
              "          if (!dataTable) return;\n",
              "\n",
              "          const docLinkHtml = 'Like what you see? Visit the ' +\n",
              "            '<a target=\"_blank\" href=https://colab.research.google.com/notebooks/data_table.ipynb>data table notebook</a>'\n",
              "            + ' to learn more about interactive tables.';\n",
              "          element.innerHTML = '';\n",
              "          dataTable['output_type'] = 'display_data';\n",
              "          await google.colab.output.renderOutput(dataTable, element);\n",
              "          const docLink = document.createElement('div');\n",
              "          docLink.innerHTML = docLinkHtml;\n",
              "          element.appendChild(docLink);\n",
              "        }\n",
              "      </script>\n",
              "    </div>\n",
              "  </div>\n",
              "  "
            ]
          },
          "metadata": {},
          "execution_count": 24
        }
      ],
      "source": [
        "df.head()"
      ]
    },
    {
      "cell_type": "markdown",
      "metadata": {
        "id": "nfeM7ZdUoZVq"
      },
      "source": [
        "### Стиль заголовков"
      ]
    },
    {
      "cell_type": "markdown",
      "metadata": {
        "id": "MhHUhPdUocLd"
      },
      "source": [
        "Приведем названия колонок к нижнему регистру:"
      ]
    },
    {
      "cell_type": "code",
      "execution_count": 25,
      "metadata": {
        "colab": {
          "base_uri": "https://localhost:8080/"
        },
        "id": "6QNDVx1EofE-",
        "outputId": "88238263-09ef-4f8c-e0df-72ebed2ac254"
      },
      "outputs": [
        {
          "output_type": "stream",
          "name": "stdout",
          "text": [
            "<class 'pandas.core.frame.DataFrame'>\n",
            "RangeIndex: 10000 entries, 0 to 9999\n",
            "Data columns (total 12 columns):\n",
            " #   Column             Non-Null Count  Dtype  \n",
            "---  ------             --------------  -----  \n",
            " 0   creditscore        10000 non-null  int64  \n",
            " 1   age                10000 non-null  int64  \n",
            " 2   tenure             9091 non-null   float64\n",
            " 3   balance            10000 non-null  float64\n",
            " 4   numofproducts      10000 non-null  int64  \n",
            " 5   hascrcard          10000 non-null  int64  \n",
            " 6   isactivemember     10000 non-null  int64  \n",
            " 7   estimatedsalary    10000 non-null  float64\n",
            " 8   exited             10000 non-null  int64  \n",
            " 9   geography_germany  10000 non-null  uint8  \n",
            " 10  geography_spain    10000 non-null  uint8  \n",
            " 11  gender_male        10000 non-null  uint8  \n",
            "dtypes: float64(3), int64(6), uint8(3)\n",
            "memory usage: 732.5 KB\n"
          ]
        }
      ],
      "source": [
        "df.columns = df.columns.str.lower()  # изменение столбцов\n",
        "df.info()"
      ]
    },
    {
      "cell_type": "markdown",
      "metadata": {
        "id": "LOmniNhT91vX"
      },
      "source": [
        "### Работа с пропусками"
      ]
    },
    {
      "cell_type": "markdown",
      "metadata": {
        "id": "QC7DadlAqJtu"
      },
      "source": [
        "Посмотрим, есть ли пропуски в данных:"
      ]
    },
    {
      "cell_type": "code",
      "execution_count": 26,
      "metadata": {
        "colab": {
          "base_uri": "https://localhost:8080/"
        },
        "id": "RnOGnOj4834v",
        "outputId": "10906b94-84c0-4d61-c48e-95c328377359"
      },
      "outputs": [
        {
          "output_type": "execute_result",
          "data": {
            "text/plain": [
              "creditscore            0\n",
              "age                    0\n",
              "tenure               909\n",
              "balance                0\n",
              "numofproducts          0\n",
              "hascrcard              0\n",
              "isactivemember         0\n",
              "estimatedsalary        0\n",
              "exited                 0\n",
              "geography_germany      0\n",
              "geography_spain        0\n",
              "gender_male            0\n",
              "dtype: int64"
            ]
          },
          "metadata": {},
          "execution_count": 26
        }
      ],
      "source": [
        "df.isna().sum()"
      ]
    },
    {
      "cell_type": "markdown",
      "metadata": {
        "id": "AETQozBiMfAf"
      },
      "source": [
        "В столбце `tenure` есть пропуски. "
      ]
    },
    {
      "cell_type": "markdown",
      "metadata": {
        "id": "0d6Uib4JqOqt"
      },
      "source": [
        "Посмотрим, есть ли закономерность в распределении строк с пропусками в базе данных:"
      ]
    },
    {
      "cell_type": "code",
      "execution_count": 27,
      "metadata": {
        "colab": {
          "base_uri": "https://localhost:8080/",
          "height": 295
        },
        "id": "Qphs3pbG8-J-",
        "outputId": "fdb78954-0232-46e9-ed5f-3e0cfa1aecd3"
      },
      "outputs": [
        {
          "output_type": "display_data",
          "data": {
            "text/plain": [
              "<Figure size 432x288 with 1 Axes>"
            ],
            "image/png": "[encoded data removed]"
          },
          "metadata": {
            "needs_background": "light"
          }
        }
      ],
      "source": [
        "sns.scatterplot(\n",
        "    x=df[df.loc[:, \"tenure\"].isna()].index.tolist(),\n",
        "    y=range(len(df[df[\"tenure\"].isna()])),\n",
        ")\n",
        "plt.xlabel(\"индекс строки в общей таблице данных\")\n",
        "plt.ylabel(\"количество пропусков\")\n",
        "plt.title('Распределение пропусков столбца \"tenure\" в базе данных')\n",
        "plt.show()"
      ]
    },
    {
      "cell_type": "markdown",
      "metadata": {
        "id": "QXhg76OxqdS3"
      },
      "source": [
        "Пропуски распределены случайным образом."
      ]
    },
    {
      "cell_type": "markdown",
      "metadata": {
        "id": "2NnQe8OGYeA4"
      },
      "source": [
        "Проверим визуально эти строки:"
      ]
    },
    {
      "cell_type": "code",
      "execution_count": 28,
      "metadata": {
        "colab": {
          "base_uri": "https://localhost:8080/",
          "height": 270
        },
        "id": "5JqAySGdMZ5d",
        "outputId": "38868ff7-c1b7-49e6-c356-94d26b675c77"
      },
      "outputs": [
        {
          "output_type": "execute_result",
          "data": {
            "text/plain": [
              "    creditscore  age  tenure      balance  numofproducts  hascrcard  \\\n",
              "30          591   39     NaN       0.0000              3          1   \n",
              "48          550   38     NaN 103,391.3800              1          0   \n",
              "51          585   36     NaN 146,050.9700              2          0   \n",
              "53          655   41     NaN 125,561.9700              1          0   \n",
              "60          742   35     NaN 136,857.0000              1          0   \n",
              "\n",
              "    isactivemember  estimatedsalary  exited  geography_germany  \\\n",
              "30               0     140,469.3800       1                  0   \n",
              "48               1      90,878.1300       0                  1   \n",
              "51               0      86,424.5700       0                  1   \n",
              "53               0     164,040.9400       1                  1   \n",
              "60               0      84,509.5700       0                  1   \n",
              "\n",
              "    geography_spain  gender_male  \n",
              "30                1            0  \n",
              "48                0            1  \n",
              "51                0            1  \n",
              "53                0            1  \n",
              "60                0            1  "
            ],
            "text/html": [
              "\n",
              "  <div id=\"df-a07a1b55-db31-4b03-9831-f8e1f0f8cf5a\">\n",
              "    <div class=\"colab-df-container\">\n",
              "      <div>\n",
              "<style scoped>\n",
              "    .dataframe tbody tr th:only-of-type {\n",
              "        vertical-align: middle;\n",
              "    }\n",
              "\n",
              "    .dataframe tbody tr th {\n",
              "        vertical-align: top;\n",
              "    }\n",
              "\n",
              "    .dataframe thead th {\n",
              "        text-align: right;\n",
              "    }\n",
              "</style>\n",
              "<table border=\"1\" class=\"dataframe\">\n",
              "  <thead>\n",
              "    <tr style=\"text-align: right;\">\n",
              "      <th></th>\n",
              "      <th>creditscore</th>\n",
              "      <th>age</th>\n",
              "      <th>tenure</th>\n",
              "      <th>balance</th>\n",
              "      <th>numofproducts</th>\n",
              "      <th>hascrcard</th>\n",
              "      <th>isactivemember</th>\n",
              "      <th>estimatedsalary</th>\n",
              "      <th>exited</th>\n",
              "      <th>geography_germany</th>\n",
              "      <th>geography_spain</th>\n",
              "      <th>gender_male</th>\n",
              "    </tr>\n",
              "  </thead>\n",
              "  <tbody>\n",
              "    <tr>\n",
              "      <th>30</th>\n",
              "      <td>591</td>\n",
              "      <td>39</td>\n",
              "      <td>NaN</td>\n",
              "      <td>0.0000</td>\n",
              "      <td>3</td>\n",
              "      <td>1</td>\n",
              "      <td>0</td>\n",
              "      <td>140,469.3800</td>\n",
              "      <td>1</td>\n",
              "      <td>0</td>\n",
              "      <td>1</td>\n",
              "      <td>0</td>\n",
              "    </tr>\n",
              "    <tr>\n",
              "      <th>48</th>\n",
              "      <td>550</td>\n",
              "      <td>38</td>\n",
              "      <td>NaN</td>\n",
              "      <td>103,391.3800</td>\n",
              "      <td>1</td>\n",
              "      <td>0</td>\n",
              "      <td>1</td>\n",
              "      <td>90,878.1300</td>\n",
              "      <td>0</td>\n",
              "      <td>1</td>\n",
              "      <td>0</td>\n",
              "      <td>1</td>\n",
              "    </tr>\n",
              "    <tr>\n",
              "      <th>51</th>\n",
              "      <td>585</td>\n",
              "      <td>36</td>\n",
              "      <td>NaN</td>\n",
              "      <td>146,050.9700</td>\n",
              "      <td>2</td>\n",
              "      <td>0</td>\n",
              "      <td>0</td>\n",
              "      <td>86,424.5700</td>\n",
              "      <td>0</td>\n",
              "      <td>1</td>\n",
              "      <td>0</td>\n",
              "      <td>1</td>\n",
              "    </tr>\n",
              "    <tr>\n",
              "      <th>53</th>\n",
              "      <td>655</td>\n",
              "      <td>41</td>\n",
              "      <td>NaN</td>\n",
              "      <td>125,561.9700</td>\n",
              "      <td>1</td>\n",
              "      <td>0</td>\n",
              "      <td>0</td>\n",
              "      <td>164,040.9400</td>\n",
              "      <td>1</td>\n",
              "      <td>1</td>\n",
              "      <td>0</td>\n",
              "      <td>1</td>\n",
              "    </tr>\n",
              "    <tr>\n",
              "      <th>60</th>\n",
              "      <td>742</td>\n",
              "      <td>35</td>\n",
              "      <td>NaN</td>\n",
              "      <td>136,857.0000</td>\n",
              "      <td>1</td>\n",
              "      <td>0</td>\n",
              "      <td>0</td>\n",
              "      <td>84,509.5700</td>\n",
              "      <td>0</td>\n",
              "      <td>1</td>\n",
              "      <td>0</td>\n",
              "      <td>1</td>\n",
              "    </tr>\n",
              "  </tbody>\n",
              "</table>\n",
              "</div>\n",
              "      <button class=\"colab-df-convert\" onclick=\"convertToInteractive('df-a07a1b55-db31-4b03-9831-f8e1f0f8cf5a')\"\n",
              "              title=\"Convert this dataframe to an interactive table.\"\n",
              "              style=\"display:none;\">\n",
              "        \n",
              "  <svg xmlns=\"http://www.w3.org/2000/svg\" height=\"24px\"viewBox=\"0 0 24 24\"\n",
              "       width=\"24px\">\n",
              "    <path d=\"M0 0h24v24H0V0z\" fill=\"none\"/>\n",
              "    <path d=\"M18.56 5.44l.94 2.06.94-2.06 2.06-.94-2.06-.94-.94-2.06-.94 2.06-2.06.94zm-11 1L8.5 8.5l.94-2.06 2.06-.94-2.06-.94L8.5 2.5l-.94 2.06-2.06.94zm10 10l.94 2.06.94-2.06 2.06-.94-2.06-.94-.94-2.06-.94 2.06-2.06.94z\"/><path d=\"M17.41 7.96l-1.37-1.37c-.4-.4-.92-.59-1.43-.59-.52 0-1.04.2-1.43.59L10.3 9.45l-7.72 7.72c-.78.78-.78 2.05 0 2.83L4 21.41c.39.39.9.59 1.41.59.51 0 1.02-.2 1.41-.59l7.78-7.78 2.81-2.81c.8-.78.8-2.07 0-2.86zM5.41 20L4 18.59l7.72-7.72 1.47 1.35L5.41 20z\"/>\n",
              "  </svg>\n",
              "      </button>\n",
              "      \n",
              "  <style>\n",
              "    .colab-df-container {\n",
              "      display:flex;\n",
              "      flex-wrap:wrap;\n",
              "      gap: 12px;\n",
              "    }\n",
              "\n",
              "    .colab-df-convert {\n",
              "      background-color: #E8F0FE;\n",
              "      border: none;\n",
              "      border-radius: 50%;\n",
              "      cursor: pointer;\n",
              "      display: none;\n",
              "      fill: #1967D2;\n",
              "      height: 32px;\n",
              "      padding: 0 0 0 0;\n",
              "      width: 32px;\n",
              "    }\n",
              "\n",
              "    .colab-df-convert:hover {\n",
              "      background-color: #E2EBFA;\n",
              "      box-shadow: 0px 1px 2px rgba(60, 64, 67, 0.3), 0px 1px 3px 1px rgba(60, 64, 67, 0.15);\n",
              "      fill: #174EA6;\n",
              "    }\n",
              "\n",
              "    [theme=dark] .colab-df-convert {\n",
              "      background-color: #3B4455;\n",
              "      fill: #D2E3FC;\n",
              "    }\n",
              "\n",
              "    [theme=dark] .colab-df-convert:hover {\n",
              "      background-color: #434B5C;\n",
              "      box-shadow: 0px 1px 3px 1px rgba(0, 0, 0, 0.15);\n",
              "      filter: drop-shadow(0px 1px 2px rgba(0, 0, 0, 0.3));\n",
              "      fill: #FFFFFF;\n",
              "    }\n",
              "  </style>\n",
              "\n",
              "      <script>\n",
              "        const buttonEl =\n",
              "          document.querySelector('#df-a07a1b55-db31-4b03-9831-f8e1f0f8cf5a button.colab-df-convert');\n",
              "        buttonEl.style.display =\n",
              "          google.colab.kernel.accessAllowed ? 'block' : 'none';\n",
              "\n",
              "        async function convertToInteractive(key) {\n",
              "          const element = document.querySelector('#df-a07a1b55-db31-4b03-9831-f8e1f0f8cf5a');\n",
              "          const dataTable =\n",
              "            await google.colab.kernel.invokeFunction('convertToInteractive',\n",
              "                                                     [key], {});\n",
              "          if (!dataTable) return;\n",
              "\n",
              "          const docLinkHtml = 'Like what you see? Visit the ' +\n",
              "            '<a target=\"_blank\" href=https://colab.research.google.com/notebooks/data_table.ipynb>data table notebook</a>'\n",
              "            + ' to learn more about interactive tables.';\n",
              "          element.innerHTML = '';\n",
              "          dataTable['output_type'] = 'display_data';\n",
              "          await google.colab.output.renderOutput(dataTable, element);\n",
              "          const docLink = document.createElement('div');\n",
              "          docLink.innerHTML = docLinkHtml;\n",
              "          element.appendChild(docLink);\n",
              "        }\n",
              "      </script>\n",
              "    </div>\n",
              "  </div>\n",
              "  "
            ]
          },
          "metadata": {},
          "execution_count": 28
        }
      ],
      "source": [
        "df[df.loc[:, \"tenure\"].isna()].head()"
      ]
    },
    {
      "cell_type": "markdown",
      "metadata": {
        "id": "IyLNTQzwZIs8"
      },
      "source": [
        "Визуально по таблице не видно никаких закономерностей с другими строками."
      ]
    },
    {
      "cell_type": "markdown",
      "metadata": {
        "id": "ZVJY7zDPa4s0"
      },
      "source": [
        "Взглянем шире, проверим распределения остальных столбцов для данных с пропусками и без:"
      ]
    },
    {
      "cell_type": "code",
      "execution_count": 29,
      "metadata": {
        "colab": {
          "base_uri": "https://localhost:8080/",
          "height": 844
        },
        "id": "BZCXrEAjafM8",
        "outputId": "088d9be1-a357-402f-c5bd-c767cd62aa45"
      },
      "outputs": [
        {
          "output_type": "display_data",
          "data": {
            "text/plain": [
              "<Figure size 1440x1080 with 12 Axes>"
            ],
            "image/png": "[encoded data removed]"
          },
          "metadata": {
            "needs_background": "light"
          }
        }
      ],
      "source": [
        "df_raw[df_raw.loc[:, \"Tenure\"].isna()].hist(\n",
        "    bins=50, figsize=(20, 15), edgecolor=\"black\", linewidth=2\n",
        ")\n",
        "plt.show()"
      ]
    },
    {
      "cell_type": "code",
      "execution_count": 30,
      "metadata": {
        "colab": {
          "base_uri": "https://localhost:8080/",
          "height": 837
        },
        "id": "KP9HITDfajSK",
        "outputId": "2c3e4283-dc4d-46a4-b688-00bd322beb1f"
      },
      "outputs": [
        {
          "output_type": "display_data",
          "data": {
            "text/plain": [
              "<Figure size 1440x1080 with 12 Axes>"
            ],
            "image/png": "[encoded data removed]"
          },
          "metadata": {
            "needs_background": "light"
          }
        }
      ],
      "source": [
        "df_raw[df_raw.loc[:, \"Tenure\"].notna()].hist(\n",
        "    bins=50, figsize=(20, 15), edgecolor=\"black\", linewidth=2\n",
        ")\n",
        "plt.show()"
      ]
    },
    {
      "cell_type": "markdown",
      "metadata": {
        "id": "mfCVIUwKbC-4"
      },
      "source": [
        "Отличий визуально не видно."
      ]
    },
    {
      "cell_type": "code",
      "execution_count": 31,
      "metadata": {
        "colab": {
          "base_uri": "https://localhost:8080/"
        },
        "id": "3CvgGEPDXgSc",
        "outputId": "c7875ba6-7bf8-4332-a8ab-1b7421a6846f"
      },
      "outputs": [
        {
          "output_type": "execute_result",
          "data": {
            "text/plain": [
              "1   0.5138\n",
              "2   0.4466\n",
              "3   0.0352\n",
              "4   0.0044\n",
              "Name: NumOfProducts, dtype: float64"
            ]
          },
          "metadata": {},
          "execution_count": 31
        }
      ],
      "source": [
        "df_raw[df_raw.loc[:, \"Tenure\"].isna()][\"NumOfProducts\"].value_counts(normalize=True)"
      ]
    },
    {
      "cell_type": "code",
      "execution_count": 32,
      "metadata": {
        "colab": {
          "base_uri": "https://localhost:8080/"
        },
        "id": "4VJYhDqsX1SB",
        "outputId": "9bb9823b-828d-4c61-c572-fc1d37c14665"
      },
      "outputs": [
        {
          "output_type": "execute_result",
          "data": {
            "text/plain": [
              "1   0.5079\n",
              "2   0.4602\n",
              "3   0.0257\n",
              "4   0.0062\n",
              "Name: NumOfProducts, dtype: float64"
            ]
          },
          "metadata": {},
          "execution_count": 32
        }
      ],
      "source": [
        "df_raw[df_raw.loc[:, \"Tenure\"].notna()][\"NumOfProducts\"].value_counts(normalize=True)"
      ]
    },
    {
      "cell_type": "markdown",
      "metadata": {
        "id": "HKO3IswIXzYh"
      },
      "source": [
        "Соотношение количества продуктов у клиентов с пропусками примерно соотвествует клиентам без пропуска, а значит нам подойдет для заполнения среднее или медианное значение по столбцу (значения распределены нормально)"
      ]
    },
    {
      "cell_type": "code",
      "execution_count": 33,
      "metadata": {
        "colab": {
          "base_uri": "https://localhost:8080/"
        },
        "id": "uz5ZfyoiUjS7",
        "outputId": "a71e20cb-11fb-4256-9d2d-23fca810277a"
      },
      "outputs": [
        {
          "output_type": "execute_result",
          "data": {
            "text/plain": [
              "0.0909"
            ]
          },
          "metadata": {},
          "execution_count": 33
        }
      ],
      "source": [
        "df[\"tenure\"].isna().mean()"
      ]
    },
    {
      "cell_type": "markdown",
      "metadata": {
        "id": "Lc3jNVQUUdsK"
      },
      "source": [
        "Имеем 9% пропусков в столбце `tenure`. Относительно немного."
      ]
    },
    {
      "cell_type": "markdown",
      "metadata": {
        "id": "ZK3Dt3cwUfM_"
      },
      "source": [
        "Заполним пропуски средним значением:"
      ]
    },
    {
      "cell_type": "code",
      "execution_count": 34,
      "metadata": {
        "id": "VpY6k1Ql952l"
      },
      "outputs": [],
      "source": [
        "df[\"tenure\"] = df[\"tenure\"].fillna(df[\"tenure\"].mean())"
      ]
    },
    {
      "cell_type": "code",
      "execution_count": 35,
      "metadata": {
        "id": "wbo-Mz4_KGUc"
      },
      "outputs": [],
      "source": [
        "# А еще можно предсказать tenure c помощью LinearSVC\n",
        "\n",
        "# X_train = df[df['tenure'].notna()].drop(['tenure'], axis=1)\n",
        "# y_train = df[df['tenure'].notna()]['tenure']\n",
        "# X_test = df[df['tenure'].isna()].drop(['tenure'], axis=1)\n",
        "\n",
        "# model = LinearSVC(random_state=12345)\n",
        "# model.fit(X_train, y_train)\n",
        "# model.predict(X_test)\n",
        "# preds = model.predict(X_test)\n",
        "# t = pd.DataFrame(preds, index=X_test.index)\n",
        "# df.loc[df['tenure'].isna(),'tenure'] = t.values"
      ]
    },
    {
      "cell_type": "markdown",
      "metadata": {
        "id": "AQ9DyB-PO0-M"
      },
      "source": [
        "### Изменение типа данных\n"
      ]
    },
    {
      "cell_type": "markdown",
      "metadata": {
        "id": "dBXXU1ukWbIV"
      },
      "source": [
        "`tenure` можно привести к целочисленному типу:"
      ]
    },
    {
      "cell_type": "code",
      "execution_count": 36,
      "metadata": {
        "id": "4b_UkrggWicr"
      },
      "outputs": [],
      "source": [
        "df[\"tenure\"] = df[\"tenure\"].astype(np.int32)"
      ]
    },
    {
      "cell_type": "markdown",
      "metadata": {
        "id": "cxxebTFbp1N4"
      },
      "source": [
        "Чтобы ускорить работу моделей, уменьшим битность для остальных числовых данных: "
      ]
    },
    {
      "cell_type": "code",
      "execution_count": 37,
      "metadata": {
        "id": "Xeiv27P-4aju"
      },
      "outputs": [],
      "source": [
        "int64 = df.select_dtypes(include=[\"int64\"]).columns.tolist()\n",
        "for x in int64:\n",
        "    df[x] = df[x].astype(np.int32)"
      ]
    },
    {
      "cell_type": "code",
      "execution_count": 38,
      "metadata": {
        "id": "E-yLUJ0e4-xk"
      },
      "outputs": [],
      "source": [
        "float64 = df.select_dtypes(include=[\"float64\"]).columns.tolist()\n",
        "for x in float64:\n",
        "    df[x] = df[x].astype(np.float32)"
      ]
    },
    {
      "cell_type": "code",
      "execution_count": 39,
      "metadata": {
        "colab": {
          "base_uri": "https://localhost:8080/"
        },
        "id": "gTHOAWFygZQG",
        "outputId": "2164ecdd-b25d-498c-d191-4cb1d9477b29"
      },
      "outputs": [
        {
          "output_type": "execute_result",
          "data": {
            "text/plain": [
              "creditscore            int32\n",
              "age                    int32\n",
              "tenure                 int32\n",
              "balance              float32\n",
              "numofproducts          int32\n",
              "hascrcard              int32\n",
              "isactivemember         int32\n",
              "estimatedsalary      float32\n",
              "exited                 int32\n",
              "geography_germany      uint8\n",
              "geography_spain        uint8\n",
              "gender_male            uint8\n",
              "dtype: object"
            ]
          },
          "metadata": {},
          "execution_count": 39
        }
      ],
      "source": [
        "df.dtypes"
      ]
    },
    {
      "cell_type": "markdown",
      "metadata": {
        "id": "qrwTRKflrhc9"
      },
      "source": [
        "**Вывод:**\n",
        "\n",
        "Чтобы ускорить работу с таблицей, мы уменьшили битность для числовых данных. Заполнили пропуски в таблице. Удалили лишние для модели данные. Использовали метод One-Hot Encoding, чтобы преобразовать категориальные признаки в численные."
      ]
    },
    {
      "cell_type": "markdown",
      "metadata": {
        "id": "lMzzuXslf05E"
      },
      "source": [
        "## Разбиваем данные на выборки"
      ]
    },
    {
      "cell_type": "markdown",
      "metadata": {
        "id": "wgs8M4F7UXtg"
      },
      "source": [
        "Каких-то строгих правил в разбиении данных на выборки не существует."
      ]
    },
    {
      "cell_type": "markdown",
      "metadata": {
        "id": "UThgeE9uUtDj"
      },
      "source": [
        "Разделим иходные данные на 2 выборки с пропорциями:\n"
      ]
    },
    {
      "cell_type": "markdown",
      "metadata": {
        "id": "JNMLdPXeVCgV"
      },
      "source": [
        "    Обучающая - 80%\n",
        "    Тестовая - 20%\n",
        "    "
      ]
    },
    {
      "cell_type": "markdown",
      "metadata": {
        "id": "RV5uGiHUUFVr"
      },
      "source": [
        "Добавим стратификацию, для того того, чтобы уменьшить разницу точности оценок между выборками при прогнозировании моделью:"
      ]
    },
    {
      "cell_type": "code",
      "execution_count": 40,
      "metadata": {
        "id": "p9GvQZ2cf05E"
      },
      "outputs": [],
      "source": [
        "features = df.drop([\"exited\"], axis=1)\n",
        "target = df[\"exited\"]\n",
        "\n",
        "X_train, X_test, y_train, y_test = train_test_split(\n",
        "    features, target, train_size=0.8, stratify=target, random_state=12345\n",
        ")  # на тренировочные данные 80%\n",
        "# X_valid, X_test, y_valid, y_test = train_test_split(X_test,y_test, test_size=0.5, stratify=target_rem, random_state=12345) # делим оставшееся на 2 : валид и тест"
      ]
    },
    {
      "cell_type": "markdown",
      "metadata": {
        "id": "WMElhcmp3Pc9"
      },
      "source": [
        "Сделаем стандартизацию данных и сохраним в отдельные переменные. Для этого отберем признаки, которые будем стандартизировать.\n",
        "\n",
        "`tenure` и `numofproducts` дискретные переменные. Поэтому их не будем трогать."
      ]
    },
    {
      "cell_type": "code",
      "execution_count": 41,
      "metadata": {
        "id": "51VWkuzVATsd"
      },
      "outputs": [],
      "source": [
        "features_for_scaling = []\n",
        "for x in features.columns:\n",
        "    if (\n",
        "        features[x].value_counts().count() != 2\n",
        "        and x != \"tenure\"\n",
        "        and x != \"numofproducts\"\n",
        "    ):\n",
        "        features_for_scaling.append(x)"
      ]
    },
    {
      "cell_type": "code",
      "execution_count": 42,
      "metadata": {
        "id": "V2PMt7qoB_4E"
      },
      "outputs": [],
      "source": [
        "X_train_s = X_train.copy()\n",
        "X_test_s = X_test.copy()\n",
        "scaler = StandardScaler()\n",
        "scaler.fit(X_train_s[features_for_scaling])\n",
        "X_train_s[features_for_scaling] = scaler.transform(X_train_s[features_for_scaling])\n",
        "X_test_s[features_for_scaling] = scaler.transform(X_test_s[features_for_scaling])"
      ]
    },
    {
      "cell_type": "markdown",
      "metadata": {
        "id": "y6PaBeoUg7Mg"
      },
      "source": [
        "## Обучаем модели"
      ]
    },
    {
      "cell_type": "markdown",
      "metadata": {
        "id": "ntvIPASVf05F"
      },
      "source": [
        "### Простое обучение"
      ]
    },
    {
      "cell_type": "markdown",
      "metadata": {
        "id": "BzOzYJua2PML"
      },
      "source": [
        "Вначале обучим модели без учёта дисбаланса классов c параметрами по умолчанию."
      ]
    },
    {
      "cell_type": "markdown",
      "metadata": {
        "id": "H91cRPnBgmTM"
      },
      "source": [
        "Объявим переменные:"
      ]
    },
    {
      "cell_type": "code",
      "execution_count": 43,
      "metadata": {
        "id": "4j4Rsv0h43VH"
      },
      "outputs": [],
      "source": [
        "rstate = 12345\n",
        "algorithms = [\n",
        "    RandomForestClassifier(random_state=rstate), \n",
        "    lgb(random_state=rstate), \n",
        "    CatBoostClassifier( silent=True, random_state=rstate),\n",
        "    LogisticRegression(),\n",
        "]  # применяемые модели\n",
        "algorithms_names = [\n",
        "    \"RandomForest\",\n",
        "    \"LGBMClassifier\",\n",
        "    \"CatBoostClassifier\",\n",
        "    \"LogisticRegression\",\n",
        "]  # названия моделей\n",
        "folds = 5  # количество выборок при к-в\n",
        "trials = 7  # количество итераций для оптимизации\n",
        "models = []  # сюда будем складывать модели\n",
        "sampler = TPESampler(\n",
        "    seed=10\n",
        ")  # фиксируем псевдослучайность для оптимизатора чтобы получить воспроизводимый эксперимент."
      ]
    },
    {
      "cell_type": "markdown",
      "metadata": {
        "id": "94VS72zX5sA1"
      },
      "source": [
        "Создадим таблицу, куда будем сохранять наши результаты:"
      ]
    },
    {
      "cell_type": "code",
      "execution_count": 44,
      "metadata": {
        "id": "2FUpVLmn43ix"
      },
      "outputs": [],
      "source": [
        "df_report = pd.DataFrame(columns={\"model\"}, data=[0])"
      ]
    },
    {
      "cell_type": "code",
      "execution_count": 45,
      "metadata": {
        "id": "a9AoZW4g43ix"
      },
      "outputs": [],
      "source": [
        "df_report[\"model\"] = \"RandomForest\"\n",
        "df_report = df_report.set_index(\"model\")"
      ]
    },
    {
      "cell_type": "markdown",
      "metadata": {
        "id": "QsfSVF58Zgr4"
      },
      "source": [
        "Обучим три модели (RandomForestClassifier, LGBMClassifier, CatBoostClassifier) на тренировочных, нестандартизированных данных и занесем результаты в отчет:"
      ]
    },
    {
      "cell_type": "code",
      "execution_count": 46,
      "metadata": {
        "id": "mzSvyW7L2cgm"
      },
      "outputs": [],
      "source": [
        "for n in range(len(algorithms)):\n",
        "    model = deepcopy(algorithms[n])\n",
        "    model.fit(X_train, y_train)\n",
        "    df_report.loc[algorithms_names[n], \"f1\"] = f1_score(y_test, model.predict(X_test))\n",
        "    df_report.loc[algorithms_names[n], \"roc_auc\"] = roc_auc_score(\n",
        "        y_test, model.predict_proba(X_test)[:, 1]\n",
        "    )\n",
        "    df_report.loc[algorithms_names[n], \"accuracy\"] = model.score(X_test, y_test)\n",
        "    models.append(model)"
      ]
    },
    {
      "cell_type": "code",
      "execution_count": 47,
      "metadata": {
        "colab": {
          "base_uri": "https://localhost:8080/",
          "height": 206
        },
        "id": "D3a8BKMc6rMc",
        "outputId": "8bffae4a-5950-40a3-df1d-f40ee92eef86"
      },
      "outputs": [
        {
          "output_type": "execute_result",
          "data": {
            "text/plain": [
              "                       f1  roc_auc  accuracy\n",
              "model                                       \n",
              "RandomForest       0.5776   0.8606    0.8625\n",
              "LGBMClassifier     0.6088   0.8675    0.8670\n",
              "CatBoostClassifier 0.6070   0.8707    0.8660\n",
              "LogisticRegression 0.0688   0.6815    0.7835"
            ],
            "text/html": [
              "\n",
              "  <div id=\"df-3c8a4674-919c-420c-9ec2-7ecac741e7bc\">\n",
              "    <div class=\"colab-df-container\">\n",
              "      <div>\n",
              "<style scoped>\n",
              "    .dataframe tbody tr th:only-of-type {\n",
              "        vertical-align: middle;\n",
              "    }\n",
              "\n",
              "    .dataframe tbody tr th {\n",
              "        vertical-align: top;\n",
              "    }\n",
              "\n",
              "    .dataframe thead th {\n",
              "        text-align: right;\n",
              "    }\n",
              "</style>\n",
              "<table border=\"1\" class=\"dataframe\">\n",
              "  <thead>\n",
              "    <tr style=\"text-align: right;\">\n",
              "      <th></th>\n",
              "      <th>f1</th>\n",
              "      <th>roc_auc</th>\n",
              "      <th>accuracy</th>\n",
              "    </tr>\n",
              "    <tr>\n",
              "      <th>model</th>\n",
              "      <th></th>\n",
              "      <th></th>\n",
              "      <th></th>\n",
              "    </tr>\n",
              "  </thead>\n",
              "  <tbody>\n",
              "    <tr>\n",
              "      <th>RandomForest</th>\n",
              "      <td>0.5776</td>\n",
              "      <td>0.8606</td>\n",
              "      <td>0.8625</td>\n",
              "    </tr>\n",
              "    <tr>\n",
              "      <th>LGBMClassifier</th>\n",
              "      <td>0.6088</td>\n",
              "      <td>0.8675</td>\n",
              "      <td>0.8670</td>\n",
              "    </tr>\n",
              "    <tr>\n",
              "      <th>CatBoostClassifier</th>\n",
              "      <td>0.6070</td>\n",
              "      <td>0.8707</td>\n",
              "      <td>0.8660</td>\n",
              "    </tr>\n",
              "    <tr>\n",
              "      <th>LogisticRegression</th>\n",
              "      <td>0.0688</td>\n",
              "      <td>0.6815</td>\n",
              "      <td>0.7835</td>\n",
              "    </tr>\n",
              "  </tbody>\n",
              "</table>\n",
              "</div>\n",
              "      <button class=\"colab-df-convert\" onclick=\"convertToInteractive('df-3c8a4674-919c-420c-9ec2-7ecac741e7bc')\"\n",
              "              title=\"Convert this dataframe to an interactive table.\"\n",
              "              style=\"display:none;\">\n",
              "        \n",
              "  <svg xmlns=\"http://www.w3.org/2000/svg\" height=\"24px\"viewBox=\"0 0 24 24\"\n",
              "       width=\"24px\">\n",
              "    <path d=\"M0 0h24v24H0V0z\" fill=\"none\"/>\n",
              "    <path d=\"M18.56 5.44l.94 2.06.94-2.06 2.06-.94-2.06-.94-.94-2.06-.94 2.06-2.06.94zm-11 1L8.5 8.5l.94-2.06 2.06-.94-2.06-.94L8.5 2.5l-.94 2.06-2.06.94zm10 10l.94 2.06.94-2.06 2.06-.94-2.06-.94-.94-2.06-.94 2.06-2.06.94z\"/><path d=\"M17.41 7.96l-1.37-1.37c-.4-.4-.92-.59-1.43-.59-.52 0-1.04.2-1.43.59L10.3 9.45l-7.72 7.72c-.78.78-.78 2.05 0 2.83L4 21.41c.39.39.9.59 1.41.59.51 0 1.02-.2 1.41-.59l7.78-7.78 2.81-2.81c.8-.78.8-2.07 0-2.86zM5.41 20L4 18.59l7.72-7.72 1.47 1.35L5.41 20z\"/>\n",
              "  </svg>\n",
              "      </button>\n",
              "      \n",
              "  <style>\n",
              "    .colab-df-container {\n",
              "      display:flex;\n",
              "      flex-wrap:wrap;\n",
              "      gap: 12px;\n",
              "    }\n",
              "\n",
              "    .colab-df-convert {\n",
              "      background-color: #E8F0FE;\n",
              "      border: none;\n",
              "      border-radius: 50%;\n",
              "      cursor: pointer;\n",
              "      display: none;\n",
              "      fill: #1967D2;\n",
              "      height: 32px;\n",
              "      padding: 0 0 0 0;\n",
              "      width: 32px;\n",
              "    }\n",
              "\n",
              "    .colab-df-convert:hover {\n",
              "      background-color: #E2EBFA;\n",
              "      box-shadow: 0px 1px 2px rgba(60, 64, 67, 0.3), 0px 1px 3px 1px rgba(60, 64, 67, 0.15);\n",
              "      fill: #174EA6;\n",
              "    }\n",
              "\n",
              "    [theme=dark] .colab-df-convert {\n",
              "      background-color: #3B4455;\n",
              "      fill: #D2E3FC;\n",
              "    }\n",
              "\n",
              "    [theme=dark] .colab-df-convert:hover {\n",
              "      background-color: #434B5C;\n",
              "      box-shadow: 0px 1px 3px 1px rgba(0, 0, 0, 0.15);\n",
              "      filter: drop-shadow(0px 1px 2px rgba(0, 0, 0, 0.3));\n",
              "      fill: #FFFFFF;\n",
              "    }\n",
              "  </style>\n",
              "\n",
              "      <script>\n",
              "        const buttonEl =\n",
              "          document.querySelector('#df-3c8a4674-919c-420c-9ec2-7ecac741e7bc button.colab-df-convert');\n",
              "        buttonEl.style.display =\n",
              "          google.colab.kernel.accessAllowed ? 'block' : 'none';\n",
              "\n",
              "        async function convertToInteractive(key) {\n",
              "          const element = document.querySelector('#df-3c8a4674-919c-420c-9ec2-7ecac741e7bc');\n",
              "          const dataTable =\n",
              "            await google.colab.kernel.invokeFunction('convertToInteractive',\n",
              "                                                     [key], {});\n",
              "          if (!dataTable) return;\n",
              "\n",
              "          const docLinkHtml = 'Like what you see? Visit the ' +\n",
              "            '<a target=\"_blank\" href=https://colab.research.google.com/notebooks/data_table.ipynb>data table notebook</a>'\n",
              "            + ' to learn more about interactive tables.';\n",
              "          element.innerHTML = '';\n",
              "          dataTable['output_type'] = 'display_data';\n",
              "          await google.colab.output.renderOutput(dataTable, element);\n",
              "          const docLink = document.createElement('div');\n",
              "          docLink.innerHTML = docLinkHtml;\n",
              "          element.appendChild(docLink);\n",
              "        }\n",
              "      </script>\n",
              "    </div>\n",
              "  </div>\n",
              "  "
            ]
          },
          "metadata": {},
          "execution_count": 47
        }
      ],
      "source": [
        "df_report"
      ]
    },
    {
      "cell_type": "markdown",
      "metadata": {
        "id": "VFXKEpXD2s8R"
      },
      "source": [
        "Посмотрим на результаты. Оценивать модели будем по F1 мере - она является неплохой метрикой при дисбалансе классов. "
      ]
    },
    {
      "cell_type": "markdown",
      "metadata": {
        "id": "8LxVrZMyZ-TC"
      },
      "source": [
        "LGBMClassifier показывает лучший результат. Худший результат у логистической регресии. Это связано с тем, что LogisticRegression - более простая модель, по сравнению с остальными.\n",
        "\n",
        "Посмотрим, сможем ли мы улучшить эти показатели используя оптимизацию, учитывая дисбаланс классов, изменяя порог и обучаясь на стандартизированных данных."
      ]
    },
    {
      "cell_type": "markdown",
      "metadata": {
        "id": "rJCm3IZyWobr"
      },
      "source": [
        "### Оптимизируем модели"
      ]
    },
    {
      "cell_type": "markdown",
      "metadata": {
        "id": "aQ3uGSzBhOzo"
      },
      "source": [
        "Создадим функцию, где укажем какие параметры будем оптимизировать через библиотеку Optuna и зададим f1 как целевой показатель. Оптимизировать модель мы будем по 6 гиперпараметрам, включая параметр изменения весов класса. И все это способом кросс-валидации:"
      ]
    },
    {
      "cell_type": "code",
      "execution_count": 48,
      "metadata": {
        "id": "ajeLC_Kluvbk"
      },
      "outputs": [],
      "source": [
        "# целевая функция\n",
        "def objective(trial, X, y):\n",
        "    param_grid = {\n",
        "        \"criterion\": trial.suggest_categorical(\"criterion\", [\"gini\", \"entropy\"]),\n",
        "        \"class_weight\": trial.suggest_categorical(\n",
        "            \"class_weight\", [\"balanced\", \"balanced_subsample\", None]\n",
        "        ),\n",
        "        \"n_estimators\": trial.suggest_int(\"n_estimators\", 1, 101, step=1),\n",
        "        \"min_samples_leaf\": trial.suggest_int(\"min_samples_leaf\", 1, 31, step=1),\n",
        "        \"max_depth\": trial.suggest_int(\"max_depth\", 1, 11, step=1),\n",
        "        \"min_samples_split\": trial.suggest_int(\"min_samples_split\", 2, 41, step=1),\n",
        "    }\n",
        "\n",
        "    cv = StratifiedKFold(n_splits=folds, shuffle=True, random_state=rstate)\n",
        "\n",
        "    cv_predicts = []\n",
        "\n",
        "    for idx, (train_idx, test_idx) in enumerate(cv.split(X, y)):\n",
        "        X_train, X_test = X.iloc[train_idx], X.iloc[test_idx]\n",
        "        y_train, y_test = y.iloc[train_idx], y.iloc[test_idx]\n",
        "        model = RandomForestClassifier(random_state=rstate, **param_grid)\n",
        "        model.fit(X_train, y_train)\n",
        "        preds = model.predict(X_test)\n",
        "        cv_predicts.append(f1_score(y_test, preds))\n",
        "\n",
        "    return np.mean(cv_predicts)"
      ]
    },
    {
      "cell_type": "markdown",
      "metadata": {
        "id": "70il6MsVkBvl"
      },
      "source": [
        "Подадим функцию в оптимизатор и получим наилучшие параметры модели путем нахождения наибольшего показателя f1 на тренировочной выборке."
      ]
    },
    {
      "cell_type": "code",
      "execution_count": 49,
      "metadata": {
        "colab": {
          "base_uri": "https://localhost:8080/",
          "height": 382,
          "referenced_widgets": [
            "0d1c19095e7e493ea61a7c4f264928a5",
            "e4dc2f4afab044e8948ec8491a2a59da",
            "e6624422cb904f799448f6bf44264b3f",
            "3db0bbabd68042a9a677ea80c5c7703f",
            "69e427e024274bb6b70b4db31928093b",
            "02a93457c62340499a921d5dc32aed6a",
            "785339a7a1e3459eb938300ded92d7b8",
            "2c56d5784b2e498486fb846c5836d12d",
            "a73faa9199b0493db1a335fe0c2c7d10",
            "0721bf0205ea4857a3b42e8f876e29f3",
            "26b5f6a5b4694a00b723326daf56dc38"
          ]
        },
        "id": "TN8pxr4YuonH",
        "outputId": "e100495a-d3a0-40ac-c85c-5e9e05583491"
      },
      "outputs": [
        {
          "output_type": "stream",
          "name": "stderr",
          "text": [
            "\u001b[32m[I 2022-07-25 05:42:08,639]\u001b[0m A new study created in memory with name: forest\u001b[0m\n",
            "/usr/local/lib/python3.7/dist-packages/optuna/progress_bar.py:47: ExperimentalWarning: Progress bar is experimental (supported from v1.2.0). The interface can change in the future.\n",
            "  self._init_valid()\n"
          ]
        },
        {
          "output_type": "display_data",
          "data": {
            "text/plain": [
              "  0%|          | 0/15 [00:00<?, ?it/s]"
            ],
            "application/vnd.jupyter.widget-view+json": {
              "version_major": 2,
              "version_minor": 0,
              "model_id": "0d1c19095e7e493ea61a7c4f264928a5"
            }
          },
          "metadata": {}
        },
        {
          "output_type": "stream",
          "name": "stdout",
          "text": [
            "\u001b[32m[I 2022-07-25 05:42:11,010]\u001b[0m Trial 0 finished with value: 0.6081787447716682 and parameters: {'criterion': 'gini', 'class_weight': 'balanced_subsample', 'n_estimators': 23, 'min_samples_leaf': 7, 'max_depth': 9, 'min_samples_split': 8}. Best is trial 0 with value: 0.6081787447716682.\u001b[0m\n",
            "\u001b[32m[I 2022-07-25 05:42:17,589]\u001b[0m Trial 1 finished with value: 0.5984192071679473 and parameters: {'criterion': 'entropy', 'class_weight': 'balanced', 'n_estimators': 83, 'min_samples_leaf': 19, 'max_depth': 8, 'min_samples_split': 13}. Best is trial 0 with value: 0.6081787447716682.\u001b[0m\n",
            "\u001b[32m[I 2022-07-25 05:42:20,478]\u001b[0m Trial 2 finished with value: 0.5833231288291565 and parameters: {'criterion': 'gini', 'class_weight': 'balanced', 'n_estimators': 69, 'min_samples_leaf': 14, 'max_depth': 5, 'min_samples_split': 26}. Best is trial 0 with value: 0.6081787447716682.\u001b[0m\n",
            "\u001b[32m[I 2022-07-25 05:42:24,066]\u001b[0m Trial 3 finished with value: 0.5034964015345887 and parameters: {'criterion': 'entropy', 'class_weight': 'balanced_subsample', 'n_estimators': 92, 'min_samples_leaf': 10, 'max_depth': 1, 'min_samples_split': 14}. Best is trial 0 with value: 0.6081787447716682.\u001b[0m\n",
            "\u001b[32m[I 2022-07-25 05:42:28,687]\u001b[0m Trial 4 finished with value: 0.6159558038434343 and parameters: {'criterion': 'entropy', 'class_weight': 'balanced_subsample', 'n_estimators': 83, 'min_samples_leaf': 7, 'max_depth': 10, 'min_samples_split': 16}. Best is trial 4 with value: 0.6159558038434343.\u001b[0m\n",
            "\u001b[32m[I 2022-07-25 05:42:30,200]\u001b[0m Trial 5 finished with value: 0.6122065710739718 and parameters: {'criterion': 'gini', 'class_weight': 'balanced', 'n_estimators': 40, 'min_samples_leaf': 3, 'max_depth': 10, 'min_samples_split': 8}. Best is trial 4 with value: 0.6159558038434343.\u001b[0m\n",
            "\u001b[32m[I 2022-07-25 05:42:31,371]\u001b[0m Trial 6 finished with value: 0.5999981229211456 and parameters: {'criterion': 'entropy', 'class_weight': 'balanced', 'n_estimators': 26, 'min_samples_leaf': 19, 'max_depth': 10, 'min_samples_split': 23}. Best is trial 4 with value: 0.6159558038434343.\u001b[0m\n",
            "\u001b[32m[I 2022-07-25 05:42:31,889]\u001b[0m Trial 7 finished with value: 0.5274639857229786 and parameters: {'criterion': 'gini', 'class_weight': 'balanced', 'n_estimators': 34, 'min_samples_leaf': 24, 'max_depth': 1, 'min_samples_split': 19}. Best is trial 4 with value: 0.6159558038434343.\u001b[0m\n",
            "\u001b[32m[I 2022-07-25 05:42:34,213]\u001b[0m Trial 8 finished with value: 0.47347590721339794 and parameters: {'criterion': 'entropy', 'class_weight': None, 'n_estimators': 78, 'min_samples_leaf': 28, 'max_depth': 5, 'min_samples_split': 26}. Best is trial 4 with value: 0.6159558038434343.\u001b[0m\n",
            "\u001b[32m[I 2022-07-25 05:42:35,699]\u001b[0m Trial 9 finished with value: 0.5965957617204987 and parameters: {'criterion': 'entropy', 'class_weight': 'balanced_subsample', 'n_estimators': 31, 'min_samples_leaf': 8, 'max_depth': 7, 'min_samples_split': 24}. Best is trial 4 with value: 0.6159558038434343.\u001b[0m\n",
            "\u001b[32m[I 2022-07-25 05:42:38,739]\u001b[0m Trial 10 finished with value: 0.5602532729963144 and parameters: {'criterion': 'entropy', 'class_weight': None, 'n_estimators': 61, 'min_samples_leaf': 1, 'max_depth': 11, 'min_samples_split': 39}. Best is trial 4 with value: 0.6159558038434343.\u001b[0m\n",
            "\u001b[32m[I 2022-07-25 05:42:40,768]\u001b[0m Trial 11 finished with value: 0.5651656938549615 and parameters: {'criterion': 'gini', 'class_weight': None, 'n_estimators': 50, 'min_samples_leaf': 1, 'max_depth': 11, 'min_samples_split': 2}. Best is trial 4 with value: 0.6159558038434343.\u001b[0m\n",
            "\u001b[32m[I 2022-07-25 05:42:40,962]\u001b[0m Trial 12 finished with value: 0.5283943887050583 and parameters: {'criterion': 'gini', 'class_weight': None, 'n_estimators': 3, 'min_samples_leaf': 5, 'max_depth': 9, 'min_samples_split': 2}. Best is trial 4 with value: 0.6159558038434343.\u001b[0m\n",
            "\u001b[32m[I 2022-07-25 05:42:43,696]\u001b[0m Trial 13 finished with value: 0.5265743594097495 and parameters: {'criterion': 'gini', 'class_weight': None, 'n_estimators': 100, 'min_samples_leaf': 13, 'max_depth': 6, 'min_samples_split': 10}. Best is trial 4 with value: 0.6159558038434343.\u001b[0m\n",
            "\u001b[32m[I 2022-07-25 05:42:44,676]\u001b[0m Trial 14 finished with value: 0.24282686045142016 and parameters: {'criterion': 'gini', 'class_weight': None, 'n_estimators': 49, 'min_samples_leaf': 4, 'max_depth': 3, 'min_samples_split': 33}. Best is trial 4 with value: 0.6159558038434343.\u001b[0m\n"
          ]
        }
      ],
      "source": [
        "study = optuna.create_study(\n",
        "    direction=\"maximize\", study_name=\"forest\", sampler=sampler\n",
        ")  # устанавливаем задачу получения максимального значения от созданной функции.\n",
        "func = lambda trial: objective(\n",
        "    trial, X_train, y_train\n",
        ")  # закидываем на вход фичи и таргет\n",
        "# n_trials - кол-во итераций\n",
        "study.optimize(\n",
        "    func, n_trials=15, show_progress_bar=True\n",
        ")  # запускаем оптимизатор. увеличил количество итераций чтобы было больше моделей без учета дисбаланса"
      ]
    },
    {
      "cell_type": "markdown",
      "metadata": {
        "id": "ZFovLJABik-A"
      },
      "source": [
        "Выводим лучшие параметры модели:"
      ]
    },
    {
      "cell_type": "code",
      "execution_count": 50,
      "metadata": {
        "colab": {
          "base_uri": "https://localhost:8080/"
        },
        "id": "vzgsm3WuftPN",
        "outputId": "3fc31d40-271a-4a88-ced0-761b8155c91a"
      },
      "outputs": [
        {
          "output_type": "stream",
          "name": "stdout",
          "text": [
            "Лучший показатель f1 на тренировочной выборке: 0.61596\n",
            "\n",
            "Лучшие параметры:\n",
            "criterion: entropy\n",
            "class_weight: balanced_subsample\n",
            "n_estimators: 83\n",
            "min_samples_leaf: 7\n",
            "max_depth: 10\n",
            "min_samples_split: 16\n"
          ]
        }
      ],
      "source": [
        "print(f\"Лучший показатель f1 на тренировочной выборке: {study.best_value:.5f}\")\n",
        "print(\"\")\n",
        "print(f\"Лучшие параметры:\")\n",
        "\n",
        "for key, value in study.best_params.items():\n",
        "    print(f\"{key}: {value}\")"
      ]
    },
    {
      "cell_type": "markdown",
      "metadata": {
        "id": "BLHeNC6p6Fdf"
      },
      "source": [
        "Посмотрим важность гиперпараметров на результаты:"
      ]
    },
    {
      "cell_type": "code",
      "execution_count": 51,
      "metadata": {
        "colab": {
          "base_uri": "https://localhost:8080/",
          "height": 368
        },
        "id": "tDkIYJ7Y5n1q",
        "outputId": "5024265a-22df-44a4-f834-f705d6e977b6"
      },
      "outputs": [
        {
          "output_type": "stream",
          "name": "stderr",
          "text": [
            "/usr/local/lib/python3.7/dist-packages/ipykernel_launcher.py:1: ExperimentalWarning: plot_param_importances is experimental (supported from v2.2.0). The interface can change in the future.\n",
            "  \"\"\"Entry point for launching an IPython kernel.\n"
          ]
        },
        {
          "output_type": "execute_result",
          "data": {
            "text/plain": [
              "<matplotlib.axes._subplots.AxesSubplot at 0x7f1833650490>"
            ]
          },
          "metadata": {},
          "execution_count": 51
        },
        {
          "output_type": "display_data",
          "data": {
            "text/plain": [
              "<Figure size 432x288 with 1 Axes>"
            ],
            "image/png": "[encoded data removed]"
          },
          "metadata": {
            "needs_background": "light"
          }
        }
      ],
      "source": [
        "plot_param_importances(study)"
      ]
    },
    {
      "cell_type": "markdown",
      "metadata": {
        "id": "tk7C1N-27kms"
      },
      "source": [
        "Заметно, что изменение параметра критерия менее влияло на результат. И самый важный гиперпараметр - максимальная глубина."
      ]
    },
    {
      "cell_type": "markdown",
      "metadata": {
        "id": "C4i_qOpCipOh"
      },
      "source": [
        "Загружаем лучшие параметры в модель. Сохраняем её. "
      ]
    },
    {
      "cell_type": "code",
      "execution_count": 52,
      "metadata": {
        "id": "333XmyMG1iuo"
      },
      "outputs": [],
      "source": [
        "model = RandomForestClassifier(random_state=rstate, **study.best_params)\n",
        "model.fit(X_train, y_train)\n",
        "models.append(model)"
      ]
    },
    {
      "cell_type": "code",
      "execution_count": 53,
      "metadata": {
        "id": "o-MZFxMm1Zfs"
      },
      "outputs": [],
      "source": [
        "df_report.loc[\"RandomForest_opt\", \"f1\"] = f1_score(y_test, model.predict(X_test))\n",
        "df_report.loc[\"RandomForest_opt\", \"roc_auc\"] = roc_auc_score(\n",
        "    y_test, model.predict_proba(X_test)[:, 1]\n",
        ")\n",
        "df_report.loc[\"RandomForest_opt\", \"accuracy\"] = model.score(X_test, y_test)"
      ]
    },
    {
      "cell_type": "markdown",
      "metadata": {
        "id": "Pj3IqWCW1wJf"
      },
      "source": [
        "Теперь обучим модель на масштабируемых данных:"
      ]
    },
    {
      "cell_type": "code",
      "execution_count": 54,
      "metadata": {
        "colab": {
          "base_uri": "https://localhost:8080/"
        },
        "id": "XlyQg9n61t8I",
        "outputId": "b413c5be-f454-4946-d7c3-4d2b1c9cc60e"
      },
      "outputs": [
        {
          "output_type": "stream",
          "name": "stderr",
          "text": [
            "\u001b[32m[I 2022-07-25 05:42:46,574]\u001b[0m A new study created in memory with name: forest_s\u001b[0m\n",
            "\u001b[32m[I 2022-07-25 05:42:48,252]\u001b[0m Trial 0 finished with value: 0.5778068699320182 and parameters: {'criterion': 'gini', 'class_weight': 'balanced_subsample', 'n_estimators': 50, 'min_samples_leaf': 31, 'max_depth': 5, 'min_samples_split': 14}. Best is trial 0 with value: 0.5778068699320182.\u001b[0m\n",
            "\u001b[32m[I 2022-07-25 05:42:51,197]\u001b[0m Trial 1 finished with value: 0.5963176128513337 and parameters: {'criterion': 'entropy', 'class_weight': 'balanced', 'n_estimators': 79, 'min_samples_leaf': 23, 'max_depth': 7, 'min_samples_split': 3}. Best is trial 1 with value: 0.5963176128513337.\u001b[0m\n",
            "\u001b[32m[I 2022-07-25 05:42:51,712]\u001b[0m Trial 2 finished with value: 0.4096866460623567 and parameters: {'criterion': 'entropy', 'class_weight': None, 'n_estimators': 17, 'min_samples_leaf': 2, 'max_depth': 4, 'min_samples_split': 6}. Best is trial 1 with value: 0.5963176128513337.\u001b[0m\n",
            "\u001b[32m[I 2022-07-25 05:42:52,130]\u001b[0m Trial 3 finished with value: 0.4849834215511259 and parameters: {'criterion': 'entropy', 'class_weight': None, 'n_estimators': 11, 'min_samples_leaf': 24, 'max_depth': 6, 'min_samples_split': 25}. Best is trial 1 with value: 0.5963176128513337.\u001b[0m\n",
            "\u001b[32m[I 2022-07-25 05:42:53,813]\u001b[0m Trial 4 finished with value: 0.5808391689422535 and parameters: {'criterion': 'entropy', 'class_weight': 'balanced', 'n_estimators': 55, 'min_samples_leaf': 8, 'max_depth': 5, 'min_samples_split': 38}. Best is trial 1 with value: 0.5963176128513337.\u001b[0m\n",
            "\u001b[32m[I 2022-07-25 05:42:55,524]\u001b[0m Trial 5 finished with value: 0.5308860968171256 and parameters: {'criterion': 'gini', 'class_weight': None, 'n_estimators': 58, 'min_samples_leaf': 25, 'max_depth': 7, 'min_samples_split': 37}. Best is trial 1 with value: 0.5963176128513337.\u001b[0m\n",
            "\u001b[32m[I 2022-07-25 05:42:55,765]\u001b[0m Trial 6 finished with value: 0.18787797767249428 and parameters: {'criterion': 'entropy', 'class_weight': None, 'n_estimators': 11, 'min_samples_leaf': 14, 'max_depth': 2, 'min_samples_split': 22}. Best is trial 1 with value: 0.5963176128513337.\u001b[0m\n"
          ]
        }
      ],
      "source": [
        "study = optuna.create_study(\n",
        "    direction=\"maximize\", study_name=\"forest_s\", sampler=sampler\n",
        ")  # устанавливаем задачу получения максимального значения от созданной функции.\n",
        "func = lambda trial: objective(\n",
        "    trial, X_train_s, y_train\n",
        ")  # закидываем на вход фичи и таргет\n",
        "# n_trials - кол-во итераций\n",
        "study.optimize(func, n_trials=trials, show_progress_bar=False)  # запускаем оптимизатор"
      ]
    },
    {
      "cell_type": "code",
      "execution_count": 55,
      "metadata": {
        "colab": {
          "base_uri": "https://localhost:8080/"
        },
        "id": "tMNfS5xM5glE",
        "outputId": "41c3914d-bfce-4102-c7be-ba5a4e3e97c1"
      },
      "outputs": [
        {
          "output_type": "stream",
          "name": "stdout",
          "text": [
            "Лучший показатель f1 на тренировочной выборке: 0.59632\n",
            "\n",
            "Лучшие параметры:\n",
            "criterion: entropy\n",
            "class_weight: balanced\n",
            "n_estimators: 79\n",
            "min_samples_leaf: 23\n",
            "max_depth: 7\n",
            "min_samples_split: 3\n"
          ]
        }
      ],
      "source": [
        "print(f\"Лучший показатель f1 на тренировочной выборке: {study.best_value:.5f}\")\n",
        "print(\"\")\n",
        "print(f\"Лучшие параметры:\")\n",
        "\n",
        "for key, value in study.best_params.items():\n",
        "    print(f\"{key}: {value}\")"
      ]
    },
    {
      "cell_type": "markdown",
      "metadata": {
        "id": "_p4ip5i1aqXG"
      },
      "source": [
        "Загружаем лучшие параметры в модель. Сохраняем её. "
      ]
    },
    {
      "cell_type": "code",
      "execution_count": 56,
      "metadata": {
        "id": "Gwze2bb3gTfQ"
      },
      "outputs": [],
      "source": [
        "model = RandomForestClassifier(random_state=rstate, **study.best_params)\n",
        "model.fit(X_train_s, y_train)\n",
        "models.append(model)"
      ]
    },
    {
      "cell_type": "code",
      "execution_count": 57,
      "metadata": {
        "id": "IikQIf_jhJhM"
      },
      "outputs": [],
      "source": [
        "df_report.loc[\"RandomForest_opt_scaled\", \"f1\"] = f1_score(\n",
        "    y_test, model.predict(X_test_s)\n",
        ")\n",
        "df_report.loc[\"RandomForest_opt_scaled\", \"roc_auc\"] = roc_auc_score(\n",
        "    y_test, model.predict_proba(X_test_s)[:, 1]\n",
        ")\n",
        "df_report.loc[\"RandomForest_opt_scaled\", \"accuracy\"] = model.score(X_test_s, y_test)"
      ]
    },
    {
      "cell_type": "markdown",
      "metadata": {
        "id": "xSE13-6ol7Im"
      },
      "source": [
        "Проводим те же действия на LGBMClassifier:"
      ]
    },
    {
      "cell_type": "code",
      "execution_count": 58,
      "metadata": {
        "id": "3jIDeV3fMiqp"
      },
      "outputs": [],
      "source": [
        "def objective(trial, X, y):\n",
        "    param_grid = {\n",
        "        \"n_estimators\": trial.suggest_int(\"n_estimators\", 10, 1000),\n",
        "        \"learning_rate\": trial.suggest_float(\"learning_rate\", 0.01, 0.3),\n",
        "        \"num_leaves\": trial.suggest_int(\"num_leaves\", 20, 300),\n",
        "        \"max_depth\": trial.suggest_int(\"max_depth\", 3, 10),\n",
        "        \"min_child_samples\": trial.suggest_int(\"min_child_samples\", 5, 200),\n",
        "        \"class_weight\": trial.suggest_categorical(\"class_weight\", [\"balanced\", None]),\n",
        "    }\n",
        "\n",
        "    cv = StratifiedKFold(n_splits=folds, shuffle=True, random_state=rstate)\n",
        "\n",
        "    cv_predicts = []\n",
        "    for idx, (train_idx, test_idx) in enumerate(cv.split(X, y)):\n",
        "        X_trainCV, X_testCV = X.iloc[train_idx], X.iloc[test_idx]\n",
        "        y_trainCV, y_testCV = y.iloc[train_idx], y.iloc[test_idx]\n",
        "\n",
        "        model = lgb(**param_grid)\n",
        "        model.fit(X_trainCV, y_trainCV)\n",
        "        preds = model.predict(X_testCV)\n",
        "        cv_predicts.append(f1_score(y_testCV, preds))\n",
        "\n",
        "    return np.mean(cv_predicts)"
      ]
    },
    {
      "cell_type": "code",
      "execution_count": 59,
      "metadata": {
        "colab": {
          "base_uri": "https://localhost:8080/",
          "height": 243,
          "referenced_widgets": [
            "04cb649048cf458ca362224dc5deb459",
            "87d414a665e744f9a7796e69b8adf1d5",
            "5592b3fab91f40ee9d6b0d082db1ab34",
            "c11ec48abbbd4e7fa7071aea457d7c5f",
            "c85802f007ad4c0990db2b5cd83b5abb",
            "801d03e6f7254332bd59787bcf7affee",
            "98af915853a041e8b1fbf619b76be067",
            "f2663883eeb4499f9b7c5b4dbf45f7d9",
            "3232d097b74b4da5a9ee11d419864055",
            "96aa019544cc4b15a93f1ba069097675",
            "2e8c185cc47645a7845316ec9dd87a47"
          ]
        },
        "id": "vCFplsDzMjsP",
        "outputId": "b352e4de-1420-4790-a980-062379a97ee9"
      },
      "outputs": [
        {
          "output_type": "stream",
          "name": "stderr",
          "text": [
            "\u001b[32m[I 2022-07-25 05:42:56,648]\u001b[0m A new study created in memory with name: LGB\u001b[0m\n",
            "/usr/local/lib/python3.7/dist-packages/optuna/progress_bar.py:47: ExperimentalWarning: Progress bar is experimental (supported from v1.2.0). The interface can change in the future.\n",
            "  self._init_valid()\n"
          ]
        },
        {
          "output_type": "display_data",
          "data": {
            "text/plain": [
              "  0%|          | 0/7 [00:00<?, ?it/s]"
            ],
            "application/vnd.jupyter.widget-view+json": {
              "version_major": 2,
              "version_minor": 0,
              "model_id": "04cb649048cf458ca362224dc5deb459"
            }
          },
          "metadata": {}
        },
        {
          "output_type": "stream",
          "name": "stdout",
          "text": [
            "\u001b[32m[I 2022-07-25 05:43:01,953]\u001b[0m Trial 0 finished with value: 0.5752633724830007 and parameters: {'n_estimators': 821, 'learning_rate': 0.03613095307008717, 'num_leaves': 244, 'max_depth': 7, 'min_child_samples': 120, 'class_weight': None}. Best is trial 0 with value: 0.5752633724830007.\u001b[0m\n",
            "\u001b[32m[I 2022-07-25 05:43:03,829]\u001b[0m Trial 1 finished with value: 0.591240636509973 and parameters: {'n_estimators': 303, 'learning_rate': 0.020891726023086532, 'num_leaves': 28, 'max_depth': 6, 'min_child_samples': 150, 'class_weight': 'balanced'}. Best is trial 1 with value: 0.591240636509973.\u001b[0m\n",
            "\u001b[32m[I 2022-07-25 05:43:05,073]\u001b[0m Trial 2 finished with value: 0.5654155233256457 and parameters: {'n_estimators': 176, 'learning_rate': 0.25309578300407093, 'num_leaves': 188, 'max_depth': 9, 'min_child_samples': 171, 'class_weight': None}. Best is trial 1 with value: 0.591240636509973.\u001b[0m\n",
            "\u001b[32m[I 2022-07-25 05:43:07,805]\u001b[0m Trial 3 finished with value: 0.595832616366782 and parameters: {'n_estimators': 620, 'learning_rate': 0.016137905439924945, 'num_leaves': 230, 'max_depth': 4, 'min_child_samples': 94, 'class_weight': 'balanced'}. Best is trial 3 with value: 0.595832616366782.\u001b[0m\n",
            "\u001b[32m[I 2022-07-25 05:43:13,324]\u001b[0m Trial 4 finished with value: 0.5789331382994032 and parameters: {'n_estimators': 846, 'learning_rate': 0.06069602949841462, 'num_leaves': 24, 'max_depth': 9, 'min_child_samples': 150, 'class_weight': 'balanced'}. Best is trial 3 with value: 0.595832616366782.\u001b[0m\n",
            "\u001b[32m[I 2022-07-25 05:43:14,505]\u001b[0m Trial 5 finished with value: 0.5655821143212337 and parameters: {'n_estimators': 125, 'learning_rate': 0.1082169485669085, 'num_leaves': 46, 'max_depth': 8, 'min_child_samples': 20, 'class_weight': None}. Best is trial 3 with value: 0.595832616366782.\u001b[0m\n",
            "\u001b[32m[I 2022-07-25 05:43:16,179]\u001b[0m Trial 6 finished with value: 0.5697471749657339 and parameters: {'n_estimators': 301, 'learning_rate': 0.20016075538723346, 'num_leaves': 245, 'max_depth': 5, 'min_child_samples': 23, 'class_weight': 'balanced'}. Best is trial 3 with value: 0.595832616366782.\u001b[0m\n"
          ]
        }
      ],
      "source": [
        "study = optuna.create_study(direction=\"maximize\", study_name=\"LGB\", sampler=sampler)\n",
        "func = lambda trial: objective(trial, X_train, y_train)\n",
        "# n_trials - кол-во итераций\n",
        "study.optimize(func, n_trials=trials, show_progress_bar=True)"
      ]
    },
    {
      "cell_type": "code",
      "execution_count": 60,
      "metadata": {
        "colab": {
          "base_uri": "https://localhost:8080/"
        },
        "id": "DbMQK4tT5lXh",
        "outputId": "95a45a2b-30d5-4ac5-f6a3-21104bcb0857"
      },
      "outputs": [
        {
          "output_type": "stream",
          "name": "stdout",
          "text": [
            "Лучший показатель f1 на тренировочной выборке: 0.59583\n",
            "\n",
            "Лучшие параметры:\n",
            "n_estimators: 620\n",
            "learning_rate: 0.016137905439924945\n",
            "num_leaves: 230\n",
            "max_depth: 4\n",
            "min_child_samples: 94\n",
            "class_weight: balanced\n"
          ]
        }
      ],
      "source": [
        "print(f\"Лучший показатель f1 на тренировочной выборке: {study.best_value:.5f}\")\n",
        "print(\"\")\n",
        "print(f\"Лучшие параметры:\")\n",
        "\n",
        "for key, value in study.best_params.items():\n",
        "    print(f\"{key}: {value}\")\n",
        "    best_tresh = value"
      ]
    },
    {
      "cell_type": "code",
      "execution_count": 61,
      "metadata": {
        "id": "YNxI5afdM0ZG"
      },
      "outputs": [],
      "source": [
        "model = lgb(random_state=rstate, **study.best_params)\n",
        "model.fit(X_train, y_train)\n",
        "models.append(model)"
      ]
    },
    {
      "cell_type": "code",
      "execution_count": 62,
      "metadata": {
        "id": "pb7V13efM0ZG"
      },
      "outputs": [],
      "source": [
        "df_report.loc[\"LGBMClassifier_opt\", \"f1\"] = f1_score(y_test, model.predict(X_test))\n",
        "df_report.loc[\"LGBMClassifier_opt\", \"roc_auc\"] = roc_auc_score(\n",
        "    y_test, model.predict_proba(X_test)[:, 1]\n",
        ")\n",
        "df_report.loc[\"LGBMClassifier_opt\", \"accuracy\"] = model.score(X_test, y_test)"
      ]
    },
    {
      "cell_type": "markdown",
      "metadata": {
        "id": "WMm7Tjq_7lqv"
      },
      "source": [
        "Теперь на масшабируемых данных:"
      ]
    },
    {
      "cell_type": "code",
      "execution_count": 63,
      "metadata": {
        "colab": {
          "base_uri": "https://localhost:8080/",
          "height": 243,
          "referenced_widgets": [
            "c2f1b7e5da334e809c00aa07d33e8630",
            "6a8a0350c19f43a296e095ce6a3fe804",
            "0697a561a8bf491faa5291686ceec48d",
            "c938b182dbd9430bb4b198c5d89a3415",
            "8a65e915dc764fbcab763917744061c9",
            "1d847b25f65749deb1c7bd6addd98c7f",
            "84c2c3ff87dc4764a60607dc60e1e879",
            "a24fdc7776f544928e36d46e817922ee",
            "6ba20c3590524a689cce45886ef42899",
            "44553acc44e3430ab01868cc57e4164f",
            "da6b77d4ef614656bd363ab45a3f22fb"
          ]
        },
        "id": "0pKp-IgbQ7t0",
        "outputId": "0875103a-a8f2-4aff-d612-4e1c33e47fff"
      },
      "outputs": [
        {
          "output_type": "stream",
          "name": "stderr",
          "text": [
            "\u001b[32m[I 2022-07-25 05:43:17,029]\u001b[0m A new study created in memory with name: LGB_scaled\u001b[0m\n",
            "/usr/local/lib/python3.7/dist-packages/optuna/progress_bar.py:47: ExperimentalWarning: Progress bar is experimental (supported from v1.2.0). The interface can change in the future.\n",
            "  self._init_valid()\n"
          ]
        },
        {
          "output_type": "display_data",
          "data": {
            "text/plain": [
              "  0%|          | 0/7 [00:00<?, ?it/s]"
            ],
            "application/vnd.jupyter.widget-view+json": {
              "version_major": 2,
              "version_minor": 0,
              "model_id": "c2f1b7e5da334e809c00aa07d33e8630"
            }
          },
          "metadata": {}
        },
        {
          "output_type": "stream",
          "name": "stdout",
          "text": [
            "\u001b[32m[I 2022-07-25 05:43:19,016]\u001b[0m Trial 0 finished with value: 0.5734868193862201 and parameters: {'n_estimators': 399, 'learning_rate': 0.26069896620256644, 'num_leaves': 127, 'max_depth': 5, 'min_child_samples': 167, 'class_weight': 'balanced'}. Best is trial 0 with value: 0.5734868193862201.\u001b[0m\n",
            "\u001b[32m[I 2022-07-25 05:43:25,065]\u001b[0m Trial 1 finished with value: 0.5789433302817228 and parameters: {'n_estimators': 648, 'learning_rate': 0.07182410395980794, 'num_leaves': 271, 'max_depth': 10, 'min_child_samples': 67, 'class_weight': 'balanced'}. Best is trial 1 with value: 0.5789433302817228.\u001b[0m\n",
            "\u001b[32m[I 2022-07-25 05:43:25,322]\u001b[0m Trial 2 finished with value: 0.5473950060103976 and parameters: {'n_estimators': 35, 'learning_rate': 0.024266595754381302, 'num_leaves': 71, 'max_depth': 3, 'min_child_samples': 55, 'class_weight': 'balanced'}. Best is trial 1 with value: 0.5789433302817228.\u001b[0m\n",
            "\u001b[32m[I 2022-07-25 05:43:25,884]\u001b[0m Trial 3 finished with value: 0.5877632215179034 and parameters: {'n_estimators': 139, 'learning_rate': 0.2448685829660518, 'num_leaves': 133, 'max_depth': 3, 'min_child_samples': 172, 'class_weight': None}. Best is trial 3 with value: 0.5877632215179034.\u001b[0m\n",
            "\u001b[32m[I 2022-07-25 05:43:28,120]\u001b[0m Trial 4 finished with value: 0.556047057082553 and parameters: {'n_estimators': 362, 'learning_rate': 0.2403496279296949, 'num_leaves': 257, 'max_depth': 7, 'min_child_samples': 114, 'class_weight': None}. Best is trial 3 with value: 0.5877632215179034.\u001b[0m\n",
            "\u001b[32m[I 2022-07-25 05:43:30,248]\u001b[0m Trial 5 finished with value: 0.5739012261523908 and parameters: {'n_estimators': 434, 'learning_rate': 0.15825050742278496, 'num_leaves': 270, 'max_depth': 5, 'min_child_samples': 82, 'class_weight': 'balanced'}. Best is trial 3 with value: 0.5877632215179034.\u001b[0m\n",
            "\u001b[32m[I 2022-07-25 05:43:30,967]\u001b[0m Trial 6 finished with value: 0.5776738319921361 and parameters: {'n_estimators': 193, 'learning_rate': 0.25367172166563323, 'num_leaves': 179, 'max_depth': 3, 'min_child_samples': 198, 'class_weight': None}. Best is trial 3 with value: 0.5877632215179034.\u001b[0m\n"
          ]
        }
      ],
      "source": [
        "study = optuna.create_study(\n",
        "    direction=\"maximize\", study_name=\"LGB_scaled\", sampler=sampler\n",
        ")\n",
        "func = lambda trial: objective(trial, X_train_s, y_train)\n",
        "# n_trials - кол-во итераций\n",
        "study.optimize(func, n_trials=trials, show_progress_bar=True)"
      ]
    },
    {
      "cell_type": "code",
      "execution_count": 64,
      "metadata": {
        "colab": {
          "base_uri": "https://localhost:8080/"
        },
        "id": "hxhetSHS5mfX",
        "outputId": "82eb9e8a-77c9-48ed-85f0-0b0ac7595b03"
      },
      "outputs": [
        {
          "output_type": "stream",
          "name": "stdout",
          "text": [
            "Лучший показатель f1 на тренировочной выборке: 0.58776\n",
            "\n",
            "Лучшие параметры:\n",
            "n_estimators: 139\n",
            "learning_rate: 0.2448685829660518\n",
            "num_leaves: 133\n",
            "max_depth: 3\n",
            "min_child_samples: 172\n",
            "class_weight: None\n"
          ]
        }
      ],
      "source": [
        "print(f\"Лучший показатель f1 на тренировочной выборке: {study.best_value:.5f}\")\n",
        "print(\"\")\n",
        "print(f\"Лучшие параметры:\")\n",
        "\n",
        "for key, value in study.best_params.items():\n",
        "    print(f\"{key}: {value}\")\n",
        "    best_tresh = value"
      ]
    },
    {
      "cell_type": "code",
      "execution_count": 65,
      "metadata": {
        "id": "GGbUTkOLRiWb"
      },
      "outputs": [],
      "source": [
        "model = lgb(random_state=rstate, **study.best_params)\n",
        "model.fit(X_train_s, y_train)\n",
        "models.append(model)"
      ]
    },
    {
      "cell_type": "code",
      "execution_count": 66,
      "metadata": {
        "id": "fnJqwWchQGsa"
      },
      "outputs": [],
      "source": [
        "df_report.loc[\"LGBMClassifier_opt_scaled\", \"f1\"] = f1_score(\n",
        "    y_test, model.predict(X_test_s)\n",
        ")\n",
        "df_report.loc[\"LGBMClassifier_opt_scaled\", \"roc_auc\"] = roc_auc_score(\n",
        "    y_test, model.predict_proba(X_test_s)[:, 1]\n",
        ")\n",
        "df_report.loc[\"LGBMClassifier_opt_scaled\", \"accuracy\"] = model.score(X_test_s, y_test)"
      ]
    },
    {
      "cell_type": "markdown",
      "metadata": {
        "id": "nk0AKJTEiCJq"
      },
      "source": [
        "Найдем наилучшую модель CatBoostClassifier изменяя только гиперпараметр веса классов:"
      ]
    },
    {
      "cell_type": "code",
      "execution_count": 67,
      "metadata": {
        "id": "ZsVUVzFDV7Gg"
      },
      "outputs": [],
      "source": [
        "best_model_params = None\n",
        "result = 0\n",
        "for w in [None, \"Balanced\", \"SqrtBalanced\"]:\n",
        "    cv = StratifiedKFold(n_splits=folds, shuffle=True, random_state=rstate)\n",
        "    cv_predicts = []\n",
        "\n",
        "    for idx, (train_idx, test_idx) in enumerate(cv.split(X_train, y_train)):\n",
        "        X_trainCV, X_testCV = X_train.iloc[train_idx], X_train.iloc[test_idx]\n",
        "        y_trainCV, y_testCV = y_train.iloc[train_idx], y_train.iloc[test_idx]\n",
        "        model = CatBoostClassifier(auto_class_weights=w, random_state=rstate, silent=True)\n",
        "        model.fit(X_trainCV, y_trainCV)\n",
        "        preds = model.predict(X_testCV)\n",
        "        cv_predicts.append(f1_score(y_testCV, preds))\n",
        "\n",
        "    if np.mean(cv_predicts) > result:\n",
        "        result = np.mean(cv_predicts)\n",
        "        best_model_params = w"
      ]
    },
    {
      "cell_type": "code",
      "source": [
        "model = CatBoostClassifier(auto_class_weights=best_model_params, random_state=rstate, silent=True)\n",
        "model.fit(X_train, y_train)"
      ],
      "metadata": {
        "colab": {
          "base_uri": "https://localhost:8080/"
        },
        "id": "QGpfHAiX0dtx",
        "outputId": "cb53a903-fd19-459e-927c-b9a0a5a4d4b5"
      },
      "execution_count": 68,
      "outputs": [
        {
          "output_type": "execute_result",
          "data": {
            "text/plain": [
              "<catboost.core.CatBoostClassifier at 0x7f1833579cd0>"
            ]
          },
          "metadata": {},
          "execution_count": 68
        }
      ]
    },
    {
      "cell_type": "code",
      "execution_count": 69,
      "metadata": {
        "id": "nrZ26XDVXI9b"
      },
      "outputs": [],
      "source": [
        "df_report.loc[\"CatBoostClassifier_opt\", \"f1\"] = f1_score(\n",
        "    y_test, model.predict(X_test)\n",
        ")\n",
        "df_report.loc[\"CatBoostClassifier_opt\", \"roc_auc\"] = roc_auc_score(\n",
        "    y_test, model.predict_proba(X_test)[:, 1]\n",
        ")\n",
        "df_report.loc[\"CatBoostClassifier_opt\", \"accuracy\"] = model.score(X_test, y_test)\n",
        "models.append(model)"
      ]
    },
    {
      "cell_type": "code",
      "execution_count": 70,
      "metadata": {
        "colab": {
          "base_uri": "https://localhost:8080/"
        },
        "id": "ePkXIQnh5qQS",
        "outputId": "a2e0084c-34f4-41ea-aa6b-175e540dd613"
      },
      "outputs": [
        {
          "output_type": "execute_result",
          "data": {
            "text/plain": [
              "{'auto_class_weights': 'SqrtBalanced', 'random_state': 12345, 'silent': True}"
            ]
          },
          "metadata": {},
          "execution_count": 70
        }
      ],
      "source": [
        "model.get_params()"
      ]
    },
    {
      "cell_type": "markdown",
      "metadata": {
        "id": "1EFrljnajUbf"
      },
      "source": [
        "Теперь на масшабируемых данных:"
      ]
    },
    {
      "cell_type": "code",
      "execution_count": 71,
      "metadata": {
        "id": "A33ROhJqivzU"
      },
      "outputs": [],
      "source": [
        "best_model_params = None\n",
        "result = 0\n",
        "for w in [None, \"Balanced\", \"SqrtBalanced\"]:\n",
        "    cv = StratifiedKFold(n_splits=folds, shuffle=True, random_state=rstate)\n",
        "    cv_predicts = []\n",
        "\n",
        "    for idx, (train_idx, test_idx) in enumerate(cv.split(X_train_s, y_train)):\n",
        "        X_trainCV, X_testCV = X_train_s.iloc[train_idx], X_train_s.iloc[test_idx]\n",
        "        y_trainCV, y_testCV = y_train.iloc[train_idx], y_train.iloc[test_idx]\n",
        "        model = CatBoostClassifier(auto_class_weights=w, random_state=rstate, silent=True)\n",
        "        model.fit(X_trainCV, y_trainCV)\n",
        "        preds = model.predict(X_testCV)\n",
        "        cv_predicts.append(f1_score(y_testCV, preds))\n",
        "\n",
        "    if np.mean(cv_predicts) > result:\n",
        "        result = np.mean(cv_predicts)\n",
        "        best_model_params = w"
      ]
    },
    {
      "cell_type": "code",
      "source": [
        "model = CatBoostClassifier(auto_class_weights=best_model_params, random_state=rstate, silent=True)\n",
        "model.fit(X_train_s, y_train)"
      ],
      "metadata": {
        "colab": {
          "base_uri": "https://localhost:8080/"
        },
        "id": "8Vq7sJtpz1xZ",
        "outputId": "a45c00dd-0b85-41d5-d267-b9e6c224c283"
      },
      "execution_count": 72,
      "outputs": [
        {
          "output_type": "execute_result",
          "data": {
            "text/plain": [
              "<catboost.core.CatBoostClassifier at 0x7f1833582b10>"
            ]
          },
          "metadata": {},
          "execution_count": 72
        }
      ]
    },
    {
      "cell_type": "code",
      "execution_count": 73,
      "metadata": {
        "id": "yF3JbXaLUS0m"
      },
      "outputs": [],
      "source": [
        "df_report.loc[\"CatBoostClassifier_opt_scaled\", \"f1\"] = f1_score(\n",
        "    y_test, model.predict(X_test_s)\n",
        ")\n",
        "df_report.loc[\"CatBoostClassifier_opt_scaled\", \"roc_auc\"] = roc_auc_score(\n",
        "    y_test, model.predict_proba(X_test_s)[:, 1]\n",
        ")\n",
        "df_report.loc[\"CatBoostClassifier_opt_scaled\", \"accuracy\"] = model.score(\n",
        "    X_test_s, y_test\n",
        ")\n",
        "models.append(model)"
      ]
    },
    {
      "cell_type": "code",
      "execution_count": 74,
      "metadata": {
        "colab": {
          "base_uri": "https://localhost:8080/"
        },
        "id": "1E79PttQ5vjN",
        "outputId": "782286bc-c5bb-42a3-c7f9-05336e028eed"
      },
      "outputs": [
        {
          "output_type": "execute_result",
          "data": {
            "text/plain": [
              "{'auto_class_weights': 'SqrtBalanced', 'random_state': 12345, 'silent': True}"
            ]
          },
          "metadata": {},
          "execution_count": 74
        }
      ],
      "source": [
        "model.get_params()"
      ]
    },
    {
      "cell_type": "markdown",
      "metadata": {
        "id": "xTXHcR8KeJhp"
      },
      "source": [
        "Прооптимизируем модель логистической регрессии:"
      ]
    },
    {
      "cell_type": "code",
      "execution_count": 75,
      "metadata": {
        "id": "5bqGRbJKrx0-"
      },
      "outputs": [],
      "source": [
        "def objective(trial, X, y):\n",
        "    param_grid = {\n",
        "        \"penalty\": trial.suggest_categorical(\"penalty\", [\"l2\", \"none\"]),\n",
        "        \"max_iter\": trial.suggest_int(\"max_iter\", 70, 1501, step=1),\n",
        "        \"class_weight\": trial.suggest_categorical(\"class_weight\", [\"balanced\", None]),\n",
        "    }\n",
        "\n",
        "    cv = StratifiedKFold(n_splits=folds, shuffle=True, random_state=rstate)\n",
        "\n",
        "    cv_predicts = []\n",
        "    for idx, (train_idx, test_idx) in enumerate(cv.split(X, y)):\n",
        "        X_trainCV, X_testCV = X.iloc[train_idx], X.iloc[test_idx]\n",
        "        y_trainCV, y_testCV = y.iloc[train_idx], y.iloc[test_idx]\n",
        "\n",
        "        model = LogisticRegression(**param_grid)\n",
        "\n",
        "        model.fit(X_trainCV, y_trainCV)\n",
        "        preds = model.predict(X_testCV)\n",
        "        cv_predicts.append(f1_score(y_testCV, preds))\n",
        "\n",
        "    return np.mean(cv_predicts)"
      ]
    },
    {
      "cell_type": "code",
      "execution_count": 76,
      "metadata": {
        "colab": {
          "base_uri": "https://localhost:8080/"
        },
        "id": "OYxtfLXzrx1A",
        "outputId": "e2ab02da-cbf0-4729-8fd2-fdcb20a5cc0b"
      },
      "outputs": [
        {
          "output_type": "stream",
          "name": "stderr",
          "text": [
            "\u001b[32m[I 2022-07-25 05:45:19,373]\u001b[0m A new study created in memory with name: log_reg\u001b[0m\n",
            "\u001b[32m[I 2022-07-25 05:45:19,855]\u001b[0m Trial 0 finished with value: 0.4374704308309 and parameters: {'penalty': 'l2', 'max_iter': 977, 'class_weight': 'balanced'}. Best is trial 0 with value: 0.4374704308309.\u001b[0m\n",
            "\u001b[32m[I 2022-07-25 05:45:20,378]\u001b[0m Trial 1 finished with value: 0.4374704308309 and parameters: {'penalty': 'l2', 'max_iter': 1159, 'class_weight': 'balanced'}. Best is trial 0 with value: 0.4374704308309.\u001b[0m\n",
            "\u001b[32m[I 2022-07-25 05:45:20,814]\u001b[0m Trial 2 finished with value: 0.10435440968672113 and parameters: {'penalty': 'none', 'max_iter': 75, 'class_weight': None}. Best is trial 0 with value: 0.4374704308309.\u001b[0m\n",
            "\u001b[32m[I 2022-07-25 05:45:21,289]\u001b[0m Trial 3 finished with value: 0.4374704308309 and parameters: {'penalty': 'none', 'max_iter': 487, 'class_weight': 'balanced'}. Best is trial 0 with value: 0.4374704308309.\u001b[0m\n",
            "\u001b[32m[I 2022-07-25 05:45:21,770]\u001b[0m Trial 4 finished with value: 0.4374704308309 and parameters: {'penalty': 'l2', 'max_iter': 604, 'class_weight': 'balanced'}. Best is trial 0 with value: 0.4374704308309.\u001b[0m\n",
            "\u001b[32m[I 2022-07-25 05:45:22,236]\u001b[0m Trial 5 finished with value: 0.4374704308309 and parameters: {'penalty': 'none', 'max_iter': 804, 'class_weight': 'balanced'}. Best is trial 0 with value: 0.4374704308309.\u001b[0m\n",
            "\u001b[32m[I 2022-07-25 05:45:22,749]\u001b[0m Trial 6 finished with value: 0.4374704308309 and parameters: {'penalty': 'l2', 'max_iter': 1371, 'class_weight': 'balanced'}. Best is trial 0 with value: 0.4374704308309.\u001b[0m\n"
          ]
        }
      ],
      "source": [
        "sampler = TPESampler(seed=10)\n",
        "study = optuna.create_study(direction=\"maximize\", study_name=\"log_reg\", sampler=sampler)\n",
        "func = lambda trial: objective(trial, X_train, y_train)\n",
        "# n_trials - кол-во итераций\n",
        "study.optimize(func, n_trials=trials, show_progress_bar=False)"
      ]
    },
    {
      "cell_type": "code",
      "execution_count": 77,
      "metadata": {
        "colab": {
          "base_uri": "https://localhost:8080/"
        },
        "id": "yuWsBvJrrx1B",
        "outputId": "6b2c2dbd-26fb-487d-948b-c3abc5ddfa62"
      },
      "outputs": [
        {
          "output_type": "stream",
          "name": "stdout",
          "text": [
            "Лучший показатель accuracy на валидационной выборке: 0.43747\n",
            "Лучшие параметры:\n",
            "\n",
            "penalty: l2\n",
            "max_iter: 977\n",
            "class_weight: balanced\n"
          ]
        }
      ],
      "source": [
        "print(f\"Лучший показатель accuracy на валидационной выборке: {study.best_value:.5f}\")\n",
        "print(f\"Лучшие параметры:\")\n",
        "print(\"\")\n",
        "for key, value in study.best_params.items():\n",
        "    print(f\"{key}: {value}\")"
      ]
    },
    {
      "cell_type": "code",
      "execution_count": 78,
      "metadata": {
        "id": "ZGiVNYKTrx1C"
      },
      "outputs": [],
      "source": [
        "model = LogisticRegression(random_state=rstate, **study.best_params)\n",
        "model.fit(X_train, y_train)\n",
        "df_report.loc[\"LogisticRegression_opt\", \"f1\"] = f1_score(y_test, model.predict(X_test))\n",
        "df_report.loc[\"LogisticRegression_opt\", \"roc_auc\"] = roc_auc_score(\n",
        "    y_test, model.predict_proba(X_test)[:, 1]\n",
        ")\n",
        "df_report.loc[\"LogisticRegression_opt\", \"accuracy\"] = model.score(X_test, y_test)\n",
        "models.append(model)"
      ]
    },
    {
      "cell_type": "markdown",
      "metadata": {
        "id": "oXXNDz3PeBXR"
      },
      "source": [
        "На масштабируемых данных:"
      ]
    },
    {
      "cell_type": "code",
      "execution_count": 79,
      "metadata": {
        "colab": {
          "base_uri": "https://localhost:8080/"
        },
        "id": "3mNawF7AdNuS",
        "outputId": "58dbbe80-add7-4fda-f9c6-7d822f8849da"
      },
      "outputs": [
        {
          "output_type": "stream",
          "name": "stderr",
          "text": [
            "\u001b[32m[I 2022-07-25 05:45:22,929]\u001b[0m A new study created in memory with name: log_reg_scaled\u001b[0m\n",
            "\u001b[32m[I 2022-07-25 05:45:23,171]\u001b[0m Trial 0 finished with value: 0.48551708382719205 and parameters: {'penalty': 'l2', 'max_iter': 977, 'class_weight': 'balanced'}. Best is trial 0 with value: 0.48551708382719205.\u001b[0m\n",
            "\u001b[32m[I 2022-07-25 05:45:23,454]\u001b[0m Trial 1 finished with value: 0.48551708382719205 and parameters: {'penalty': 'l2', 'max_iter': 1159, 'class_weight': 'balanced'}. Best is trial 0 with value: 0.48551708382719205.\u001b[0m\n",
            "\u001b[32m[I 2022-07-25 05:45:23,768]\u001b[0m Trial 2 finished with value: 0.3248765242497311 and parameters: {'penalty': 'none', 'max_iter': 75, 'class_weight': None}. Best is trial 0 with value: 0.48551708382719205.\u001b[0m\n",
            "\u001b[32m[I 2022-07-25 05:45:24,028]\u001b[0m Trial 3 finished with value: 0.4856233824776517 and parameters: {'penalty': 'none', 'max_iter': 487, 'class_weight': 'balanced'}. Best is trial 3 with value: 0.4856233824776517.\u001b[0m\n",
            "\u001b[32m[I 2022-07-25 05:45:24,278]\u001b[0m Trial 4 finished with value: 0.48551708382719205 and parameters: {'penalty': 'l2', 'max_iter': 604, 'class_weight': 'balanced'}. Best is trial 3 with value: 0.4856233824776517.\u001b[0m\n",
            "\u001b[32m[I 2022-07-25 05:45:24,546]\u001b[0m Trial 5 finished with value: 0.4856233824776517 and parameters: {'penalty': 'none', 'max_iter': 804, 'class_weight': 'balanced'}. Best is trial 3 with value: 0.4856233824776517.\u001b[0m\n",
            "\u001b[32m[I 2022-07-25 05:45:24,818]\u001b[0m Trial 6 finished with value: 0.48551708382719205 and parameters: {'penalty': 'l2', 'max_iter': 1371, 'class_weight': 'balanced'}. Best is trial 3 with value: 0.4856233824776517.\u001b[0m\n"
          ]
        }
      ],
      "source": [
        "sampler = TPESampler(seed=10)\n",
        "study = optuna.create_study(\n",
        "    direction=\"maximize\", study_name=\"log_reg_scaled\", sampler=sampler\n",
        ")\n",
        "func = lambda trial: objective(trial, X_train_s, y_train)\n",
        "# n_trials - кол-во итераций\n",
        "study.optimize(func, n_trials=trials, show_progress_bar=False)"
      ]
    },
    {
      "cell_type": "code",
      "execution_count": 80,
      "metadata": {
        "colab": {
          "base_uri": "https://localhost:8080/"
        },
        "id": "G6VqKvkPdNuT",
        "outputId": "6f5febf6-36f7-49f1-a99c-4e10e248218a"
      },
      "outputs": [
        {
          "output_type": "stream",
          "name": "stdout",
          "text": [
            "Лучший показатель accuracy на валидационной выборке: 0.48562\n",
            "Лучшие параметры:\n",
            "\n",
            "penalty: none\n",
            "max_iter: 487\n",
            "class_weight: balanced\n"
          ]
        }
      ],
      "source": [
        "print(f\"Лучший показатель accuracy на валидационной выборке: {study.best_value:.5f}\")\n",
        "print(f\"Лучшие параметры:\")\n",
        "print(\"\")\n",
        "for key, value in study.best_params.items():\n",
        "    print(f\"{key}: {value}\")"
      ]
    },
    {
      "cell_type": "code",
      "execution_count": 81,
      "metadata": {
        "id": "F56CHjoUdNuU"
      },
      "outputs": [],
      "source": [
        "model = LogisticRegression(random_state=rstate, **study.best_params)\n",
        "model.fit(X_train_s, y_train)\n",
        "df_report.loc[\"LogisticRegression_opt_scaled\", \"f1\"] = f1_score(\n",
        "    y_test, model.predict(X_test_s)\n",
        ")\n",
        "df_report.loc[\"LogisticRegression_opt_scaled\", \"roc_auc\"] = roc_auc_score(\n",
        "    y_test, model.predict_proba(X_test_s)[:, 1]\n",
        ")\n",
        "df_report.loc[\"LogisticRegression_opt_scaled\", \"accuracy\"] = model.score(\n",
        "    X_test_s, y_test\n",
        ")\n",
        "models.append(model)"
      ]
    },
    {
      "cell_type": "code",
      "execution_count": 82,
      "metadata": {
        "colab": {
          "base_uri": "https://localhost:8080/",
          "height": 457
        },
        "id": "Uvn7yT4idhz3",
        "outputId": "62c2e1df-d68b-4abd-fb04-ce67e6368e64"
      },
      "outputs": [
        {
          "output_type": "execute_result",
          "data": {
            "text/plain": [
              "                                  f1  roc_auc  accuracy\n",
              "model                                                  \n",
              "RandomForest                  0.5776   0.8606    0.8625\n",
              "LGBMClassifier                0.6088   0.8675    0.8670\n",
              "CatBoostClassifier            0.6070   0.8707    0.8660\n",
              "LogisticRegression            0.0688   0.6815    0.7835\n",
              "RandomForest_opt              0.6405   0.8692    0.8350\n",
              "RandomForest_opt_scaled       0.6248   0.8664    0.8120\n",
              "LGBMClassifier_opt            0.6213   0.8689    0.8080\n",
              "LGBMClassifier_opt_scaled     0.5824   0.8673    0.8580\n",
              "CatBoostClassifier_opt        0.6318   0.8662    0.8555\n",
              "CatBoostClassifier_opt_scaled 0.6318   0.8662    0.8555\n",
              "LogisticRegression_opt        0.4596   0.7223    0.6625\n",
              "LogisticRegression_opt_scaled 0.5099   0.7831    0.7145"
            ],
            "text/html": [
              "\n",
              "  <div id=\"df-56acd920-03b0-4535-a59d-614e08d8c21b\">\n",
              "    <div class=\"colab-df-container\">\n",
              "      <div>\n",
              "<style scoped>\n",
              "    .dataframe tbody tr th:only-of-type {\n",
              "        vertical-align: middle;\n",
              "    }\n",
              "\n",
              "    .dataframe tbody tr th {\n",
              "        vertical-align: top;\n",
              "    }\n",
              "\n",
              "    .dataframe thead th {\n",
              "        text-align: right;\n",
              "    }\n",
              "</style>\n",
              "<table border=\"1\" class=\"dataframe\">\n",
              "  <thead>\n",
              "    <tr style=\"text-align: right;\">\n",
              "      <th></th>\n",
              "      <th>f1</th>\n",
              "      <th>roc_auc</th>\n",
              "      <th>accuracy</th>\n",
              "    </tr>\n",
              "    <tr>\n",
              "      <th>model</th>\n",
              "      <th></th>\n",
              "      <th></th>\n",
              "      <th></th>\n",
              "    </tr>\n",
              "  </thead>\n",
              "  <tbody>\n",
              "    <tr>\n",
              "      <th>RandomForest</th>\n",
              "      <td>0.5776</td>\n",
              "      <td>0.8606</td>\n",
              "      <td>0.8625</td>\n",
              "    </tr>\n",
              "    <tr>\n",
              "      <th>LGBMClassifier</th>\n",
              "      <td>0.6088</td>\n",
              "      <td>0.8675</td>\n",
              "      <td>0.8670</td>\n",
              "    </tr>\n",
              "    <tr>\n",
              "      <th>CatBoostClassifier</th>\n",
              "      <td>0.6070</td>\n",
              "      <td>0.8707</td>\n",
              "      <td>0.8660</td>\n",
              "    </tr>\n",
              "    <tr>\n",
              "      <th>LogisticRegression</th>\n",
              "      <td>0.0688</td>\n",
              "      <td>0.6815</td>\n",
              "      <td>0.7835</td>\n",
              "    </tr>\n",
              "    <tr>\n",
              "      <th>RandomForest_opt</th>\n",
              "      <td>0.6405</td>\n",
              "      <td>0.8692</td>\n",
              "      <td>0.8350</td>\n",
              "    </tr>\n",
              "    <tr>\n",
              "      <th>RandomForest_opt_scaled</th>\n",
              "      <td>0.6248</td>\n",
              "      <td>0.8664</td>\n",
              "      <td>0.8120</td>\n",
              "    </tr>\n",
              "    <tr>\n",
              "      <th>LGBMClassifier_opt</th>\n",
              "      <td>0.6213</td>\n",
              "      <td>0.8689</td>\n",
              "      <td>0.8080</td>\n",
              "    </tr>\n",
              "    <tr>\n",
              "      <th>LGBMClassifier_opt_scaled</th>\n",
              "      <td>0.5824</td>\n",
              "      <td>0.8673</td>\n",
              "      <td>0.8580</td>\n",
              "    </tr>\n",
              "    <tr>\n",
              "      <th>CatBoostClassifier_opt</th>\n",
              "      <td>0.6318</td>\n",
              "      <td>0.8662</td>\n",
              "      <td>0.8555</td>\n",
              "    </tr>\n",
              "    <tr>\n",
              "      <th>CatBoostClassifier_opt_scaled</th>\n",
              "      <td>0.6318</td>\n",
              "      <td>0.8662</td>\n",
              "      <td>0.8555</td>\n",
              "    </tr>\n",
              "    <tr>\n",
              "      <th>LogisticRegression_opt</th>\n",
              "      <td>0.4596</td>\n",
              "      <td>0.7223</td>\n",
              "      <td>0.6625</td>\n",
              "    </tr>\n",
              "    <tr>\n",
              "      <th>LogisticRegression_opt_scaled</th>\n",
              "      <td>0.5099</td>\n",
              "      <td>0.7831</td>\n",
              "      <td>0.7145</td>\n",
              "    </tr>\n",
              "  </tbody>\n",
              "</table>\n",
              "</div>\n",
              "      <button class=\"colab-df-convert\" onclick=\"convertToInteractive('df-56acd920-03b0-4535-a59d-614e08d8c21b')\"\n",
              "              title=\"Convert this dataframe to an interactive table.\"\n",
              "              style=\"display:none;\">\n",
              "        \n",
              "  <svg xmlns=\"http://www.w3.org/2000/svg\" height=\"24px\"viewBox=\"0 0 24 24\"\n",
              "       width=\"24px\">\n",
              "    <path d=\"M0 0h24v24H0V0z\" fill=\"none\"/>\n",
              "    <path d=\"M18.56 5.44l.94 2.06.94-2.06 2.06-.94-2.06-.94-.94-2.06-.94 2.06-2.06.94zm-11 1L8.5 8.5l.94-2.06 2.06-.94-2.06-.94L8.5 2.5l-.94 2.06-2.06.94zm10 10l.94 2.06.94-2.06 2.06-.94-2.06-.94-.94-2.06-.94 2.06-2.06.94z\"/><path d=\"M17.41 7.96l-1.37-1.37c-.4-.4-.92-.59-1.43-.59-.52 0-1.04.2-1.43.59L10.3 9.45l-7.72 7.72c-.78.78-.78 2.05 0 2.83L4 21.41c.39.39.9.59 1.41.59.51 0 1.02-.2 1.41-.59l7.78-7.78 2.81-2.81c.8-.78.8-2.07 0-2.86zM5.41 20L4 18.59l7.72-7.72 1.47 1.35L5.41 20z\"/>\n",
              "  </svg>\n",
              "      </button>\n",
              "      \n",
              "  <style>\n",
              "    .colab-df-container {\n",
              "      display:flex;\n",
              "      flex-wrap:wrap;\n",
              "      gap: 12px;\n",
              "    }\n",
              "\n",
              "    .colab-df-convert {\n",
              "      background-color: #E8F0FE;\n",
              "      border: none;\n",
              "      border-radius: 50%;\n",
              "      cursor: pointer;\n",
              "      display: none;\n",
              "      fill: #1967D2;\n",
              "      height: 32px;\n",
              "      padding: 0 0 0 0;\n",
              "      width: 32px;\n",
              "    }\n",
              "\n",
              "    .colab-df-convert:hover {\n",
              "      background-color: #E2EBFA;\n",
              "      box-shadow: 0px 1px 2px rgba(60, 64, 67, 0.3), 0px 1px 3px 1px rgba(60, 64, 67, 0.15);\n",
              "      fill: #174EA6;\n",
              "    }\n",
              "\n",
              "    [theme=dark] .colab-df-convert {\n",
              "      background-color: #3B4455;\n",
              "      fill: #D2E3FC;\n",
              "    }\n",
              "\n",
              "    [theme=dark] .colab-df-convert:hover {\n",
              "      background-color: #434B5C;\n",
              "      box-shadow: 0px 1px 3px 1px rgba(0, 0, 0, 0.15);\n",
              "      filter: drop-shadow(0px 1px 2px rgba(0, 0, 0, 0.3));\n",
              "      fill: #FFFFFF;\n",
              "    }\n",
              "  </style>\n",
              "\n",
              "      <script>\n",
              "        const buttonEl =\n",
              "          document.querySelector('#df-56acd920-03b0-4535-a59d-614e08d8c21b button.colab-df-convert');\n",
              "        buttonEl.style.display =\n",
              "          google.colab.kernel.accessAllowed ? 'block' : 'none';\n",
              "\n",
              "        async function convertToInteractive(key) {\n",
              "          const element = document.querySelector('#df-56acd920-03b0-4535-a59d-614e08d8c21b');\n",
              "          const dataTable =\n",
              "            await google.colab.kernel.invokeFunction('convertToInteractive',\n",
              "                                                     [key], {});\n",
              "          if (!dataTable) return;\n",
              "\n",
              "          const docLinkHtml = 'Like what you see? Visit the ' +\n",
              "            '<a target=\"_blank\" href=https://colab.research.google.com/notebooks/data_table.ipynb>data table notebook</a>'\n",
              "            + ' to learn more about interactive tables.';\n",
              "          element.innerHTML = '';\n",
              "          dataTable['output_type'] = 'display_data';\n",
              "          await google.colab.output.renderOutput(dataTable, element);\n",
              "          const docLink = document.createElement('div');\n",
              "          docLink.innerHTML = docLinkHtml;\n",
              "          element.appendChild(docLink);\n",
              "        }\n",
              "      </script>\n",
              "    </div>\n",
              "  </div>\n",
              "  "
            ]
          },
          "metadata": {},
          "execution_count": 82
        }
      ],
      "source": [
        "df_report"
      ]
    },
    {
      "cell_type": "markdown",
      "metadata": {
        "id": "yKFdJMDx40hv"
      },
      "source": [
        "Можно увидеть по метрике f1, что масштабирование помогло улучшить только одну модель - логистическую регрессию. Для остальных влияние оказалось либо нулевым либо сделало только хуже.\n",
        "Оптимизации гиперпараметров помогла всем моделям улучшить результаты.\n",
        "\n",
        "Для всех моделей изменение параметра баланса весов в сторону от значения \"по умолчанию\" дало улучшение результатов по f1.\n",
        "\n",
        "По итогу, худший результат у неоптимизированной LogisticRegression, лучший у оптимизированной RandomForest."
      ]
    },
    {
      "cell_type": "markdown",
      "metadata": {
        "id": "YYSxDlQAoI13"
      },
      "source": [
        "### Изменение порога\n"
      ]
    },
    {
      "cell_type": "markdown",
      "metadata": {
        "id": "ZwMuRkYAorId"
      },
      "source": [
        "Попробуем поднять результаты лучшей модели случайного леса, изменяя порог:"
      ]
    },
    {
      "cell_type": "code",
      "execution_count": 83,
      "metadata": {
        "id": "k5psjb0PsjTi"
      },
      "outputs": [],
      "source": [
        "def objective(trial, model, X, y):\n",
        "    threshold = trial.suggest_float(\"threshold\", 0, 1)\n",
        "    preds = (model.predict_proba(X)[:, 1] > threshold) * 1\n",
        "\n",
        "    return f1_score(y, preds)"
      ]
    },
    {
      "cell_type": "code",
      "execution_count": 84,
      "metadata": {
        "colab": {
          "base_uri": "https://localhost:8080/",
          "height": 1000,
          "referenced_widgets": [
            "9d020e31ba124bc5814d4b1fc3d76d11",
            "4fddc10595f448b58df80022bd54220a",
            "c481775346294a78926363882575f4a3",
            "88513a3dea9e45b0ab270e04660439ff",
            "469df189b4914220b19026a533044c6c",
            "bfbe70d3ceea48228d8f2d7ad35e6b22",
            "02cd31cf934d4aac91abea8c35366a97",
            "9dbbf116e32f4e278e1cdbdd861da878",
            "dd6a16bf4ddf4cb39a2f3088bdcd9ab0",
            "4689a6033a664b6eab2642f6e8879f88",
            "baccf8d255fd47ad8ee156bc73b21cf4"
          ]
        },
        "id": "PF1HfEPRsjTr",
        "outputId": "c3c84429-31f7-45b7-a174-1fb7c7d5512c"
      },
      "outputs": [
        {
          "output_type": "stream",
          "name": "stderr",
          "text": [
            "\u001b[32m[I 2022-07-25 05:45:25,033]\u001b[0m A new study created in memory with name: rf_tresh\u001b[0m\n",
            "/usr/local/lib/python3.7/dist-packages/optuna/progress_bar.py:47: ExperimentalWarning: Progress bar is experimental (supported from v1.2.0). The interface can change in the future.\n",
            "  self._init_valid()\n"
          ]
        },
        {
          "output_type": "display_data",
          "data": {
            "text/plain": [
              "  0%|          | 0/75 [00:00<?, ?it/s]"
            ],
            "application/vnd.jupyter.widget-view+json": {
              "version_major": 2,
              "version_minor": 0,
              "model_id": "9d020e31ba124bc5814d4b1fc3d76d11"
            }
          },
          "metadata": {}
        },
        {
          "output_type": "stream",
          "name": "stdout",
          "text": [
            "\u001b[32m[I 2022-07-25 05:45:25,230]\u001b[0m Trial 0 finished with value: 0.5812844036697248 and parameters: {'threshold': 0.30070005663620336}. Best is trial 0 with value: 0.5812844036697248.\u001b[0m\n",
            "\u001b[32m[I 2022-07-25 05:45:25,350]\u001b[0m Trial 1 finished with value: 0.3992651561543172 and parameters: {'threshold': 0.11398436186354977}. Best is trial 0 with value: 0.5812844036697248.\u001b[0m\n",
            "\u001b[32m[I 2022-07-25 05:45:25,467]\u001b[0m Trial 2 finished with value: 0.5125448028673835 and parameters: {'threshold': 0.8286813263076767}. Best is trial 0 with value: 0.5812844036697248.\u001b[0m\n",
            "\u001b[32m[I 2022-07-25 05:45:25,587]\u001b[0m Trial 3 finished with value: 0.34486406431820593 and parameters: {'threshold': 0.04689631938924976}. Best is trial 0 with value: 0.5812844036697248.\u001b[0m\n",
            "\u001b[32m[I 2022-07-25 05:45:25,712]\u001b[0m Trial 4 finished with value: 0.707186030893217 and parameters: {'threshold': 0.6262871483113925}. Best is trial 4 with value: 0.707186030893217.\u001b[0m\n",
            "\u001b[32m[I 2022-07-25 05:45:25,829]\u001b[0m Trial 5 finished with value: 0.7245862884160756 and parameters: {'threshold': 0.5475861559192435}. Best is trial 5 with value: 0.7245862884160756.\u001b[0m\n",
            "\u001b[32m[I 2022-07-25 05:45:25,952]\u001b[0m Trial 6 finished with value: 0.5263157894736842 and parameters: {'threshold': 0.8192869956700687}. Best is trial 5 with value: 0.7245862884160756.\u001b[0m\n",
            "\u001b[32m[I 2022-07-25 05:45:26,067]\u001b[0m Trial 7 finished with value: 0.47645591902596446 and parameters: {'threshold': 0.1989475396788123}. Best is trial 5 with value: 0.7245862884160756.\u001b[0m\n",
            "\u001b[32m[I 2022-07-25 05:45:26,200]\u001b[0m Trial 8 finished with value: 0.45671502105755735 and parameters: {'threshold': 0.8568503024577332}. Best is trial 5 with value: 0.7245862884160756.\u001b[0m\n",
            "\u001b[32m[I 2022-07-25 05:45:26,319]\u001b[0m Trial 9 finished with value: 0.6367211757400124 and parameters: {'threshold': 0.3516526394320879}. Best is trial 5 with value: 0.7245862884160756.\u001b[0m\n",
            "\u001b[32m[I 2022-07-25 05:45:26,443]\u001b[0m Trial 10 finished with value: 0.7240058910162003 and parameters: {'threshold': 0.5456914860637236}. Best is trial 5 with value: 0.7245862884160756.\u001b[0m\n",
            "\u001b[32m[I 2022-07-25 05:45:26,571]\u001b[0m Trial 11 finished with value: 0.7247489663319551 and parameters: {'threshold': 0.5474292996459409}. Best is trial 11 with value: 0.7247489663319551.\u001b[0m\n",
            "\u001b[32m[I 2022-07-25 05:45:26,693]\u001b[0m Trial 12 finished with value: 0.7002398081534773 and parameters: {'threshold': 0.6397006226648834}. Best is trial 11 with value: 0.7247489663319551.\u001b[0m\n",
            "\u001b[32m[I 2022-07-25 05:45:26,814]\u001b[0m Trial 13 finished with value: 0.6897404202719407 and parameters: {'threshold': 0.4417297971523767}. Best is trial 11 with value: 0.7247489663319551.\u001b[0m\n",
            "\u001b[32m[I 2022-07-25 05:45:26,941]\u001b[0m Trial 14 finished with value: 0.6860423394330821 and parameters: {'threshold': 0.6703515560533333}. Best is trial 11 with value: 0.7247489663319551.\u001b[0m\n",
            "\u001b[32m[I 2022-07-25 05:45:27,061]\u001b[0m Trial 15 finished with value: 0.6990740740740741 and parameters: {'threshold': 0.463089895574849}. Best is trial 11 with value: 0.7247489663319551.\u001b[0m\n",
            "\u001b[32m[I 2022-07-25 05:45:27,196]\u001b[0m Trial 16 finished with value: 0.0024509803921568627 and parameters: {'threshold': 0.9861695820918335}. Best is trial 11 with value: 0.7247489663319551.\u001b[0m\n",
            "\u001b[32m[I 2022-07-25 05:45:27,318]\u001b[0m Trial 17 finished with value: 0.6334379905808477 and parameters: {'threshold': 0.7253412917070626}. Best is trial 11 with value: 0.7247489663319551.\u001b[0m\n",
            "\u001b[32m[I 2022-07-25 05:45:27,445]\u001b[0m Trial 18 finished with value: 0.7223688068015245 and parameters: {'threshold': 0.5430245223402026}. Best is trial 11 with value: 0.7247489663319551.\u001b[0m\n",
            "\u001b[32m[I 2022-07-25 05:45:27,573]\u001b[0m Trial 19 finished with value: 0.6513043478260869 and parameters: {'threshold': 0.37585997002134974}. Best is trial 11 with value: 0.7247489663319551.\u001b[0m\n",
            "\u001b[32m[I 2022-07-25 05:45:27,700]\u001b[0m Trial 20 finished with value: 0.5154803702521545 and parameters: {'threshold': 0.23663274776233928}. Best is trial 11 with value: 0.7247489663319551.\u001b[0m\n",
            "\u001b[32m[I 2022-07-25 05:45:27,825]\u001b[0m Trial 21 finished with value: 0.7250074161969742 and parameters: {'threshold': 0.5507815782179231}. Best is trial 21 with value: 0.7250074161969742.\u001b[0m\n",
            "\u001b[32m[I 2022-07-25 05:45:27,950]\u001b[0m Trial 22 finished with value: 0.7268247613181398 and parameters: {'threshold': 0.5719606611041148}. Best is trial 22 with value: 0.7268247613181398.\u001b[0m\n",
            "\u001b[32m[I 2022-07-25 05:45:28,072]\u001b[0m Trial 23 finished with value: 0.6402486402486403 and parameters: {'threshold': 0.7195713786432671}. Best is trial 22 with value: 0.7268247613181398.\u001b[0m\n",
            "\u001b[32m[I 2022-07-25 05:45:28,198]\u001b[0m Trial 24 finished with value: 0.6905829596412556 and parameters: {'threshold': 0.44540185403131805}. Best is trial 22 with value: 0.7268247613181398.\u001b[0m\n",
            "\u001b[32m[I 2022-07-25 05:45:28,325]\u001b[0m Trial 25 finished with value: 0.7259630441590981 and parameters: {'threshold': 0.5804629573546654}. Best is trial 22 with value: 0.7268247613181398.\u001b[0m\n",
            "\u001b[32m[I 2022-07-25 05:45:28,447]\u001b[0m Trial 26 finished with value: 0.7150395778364117 and parameters: {'threshold': 0.6132437337914525}. Best is trial 22 with value: 0.7268247613181398.\u001b[0m\n",
            "\u001b[32m[I 2022-07-25 05:45:28,573]\u001b[0m Trial 27 finished with value: 0.6003276003276004 and parameters: {'threshold': 0.7546301033660026}. Best is trial 22 with value: 0.7268247613181398.\u001b[0m\n",
            "\u001b[32m[I 2022-07-25 05:45:28,698]\u001b[0m Trial 28 finished with value: 0.6648660814764799 and parameters: {'threshold': 0.3934242253457221}. Best is trial 22 with value: 0.7268247613181398.\u001b[0m\n",
            "\u001b[32m[I 2022-07-25 05:45:28,822]\u001b[0m Trial 29 finished with value: 0.5964117091595845 and parameters: {'threshold': 0.3100715229172327}. Best is trial 22 with value: 0.7268247613181398.\u001b[0m\n",
            "\u001b[32m[I 2022-07-25 05:45:28,953]\u001b[0m Trial 30 finished with value: 0.256547300908605 and parameters: {'threshold': 0.9147896919549814}. Best is trial 22 with value: 0.7268247613181398.\u001b[0m\n",
            "\u001b[32m[I 2022-07-25 05:45:29,075]\u001b[0m Trial 31 finished with value: 0.7144842924659439 and parameters: {'threshold': 0.5100753239926824}. Best is trial 22 with value: 0.7268247613181398.\u001b[0m\n",
            "\u001b[32m[I 2022-07-25 05:45:29,200]\u001b[0m Trial 32 finished with value: 0.7213642213642214 and parameters: {'threshold': 0.5946653516453084}. Best is trial 22 with value: 0.7268247613181398.\u001b[0m\n",
            "\u001b[32m[I 2022-07-25 05:45:29,319]\u001b[0m Trial 33 finished with value: 0.7024029574861368 and parameters: {'threshold': 0.47838288492413295}. Best is trial 22 with value: 0.7268247613181398.\u001b[0m\n",
            "\u001b[32m[I 2022-07-25 05:45:29,443]\u001b[0m Trial 34 finished with value: 0.6763636363636364 and parameters: {'threshold': 0.6769216150228494}. Best is trial 22 with value: 0.7268247613181398.\u001b[0m\n",
            "\u001b[32m[I 2022-07-25 05:45:29,568]\u001b[0m Trial 35 finished with value: 0.5863787375415282 and parameters: {'threshold': 0.766672066068971}. Best is trial 22 with value: 0.7268247613181398.\u001b[0m\n",
            "\u001b[32m[I 2022-07-25 05:45:29,694]\u001b[0m Trial 36 finished with value: 0.7259073842302878 and parameters: {'threshold': 0.5799370497624435}. Best is trial 22 with value: 0.7268247613181398.\u001b[0m\n",
            "\u001b[32m[I 2022-07-25 05:45:29,815]\u001b[0m Trial 37 finished with value: 0.7256020278833968 and parameters: {'threshold': 0.5865674764514176}. Best is trial 22 with value: 0.7268247613181398.\u001b[0m\n",
            "\u001b[32m[I 2022-07-25 05:45:29,938]\u001b[0m Trial 38 finished with value: 0.6813743218806511 and parameters: {'threshold': 0.6738948990300823}. Best is trial 22 with value: 0.7268247613181398.\u001b[0m\n",
            "\u001b[32m[I 2022-07-25 05:45:30,062]\u001b[0m Trial 39 finished with value: 0.7270463741051976 and parameters: {'threshold': 0.5777850682388825}. Best is trial 39 with value: 0.7270463741051976.\u001b[0m\n",
            "\u001b[32m[I 2022-07-25 05:45:30,193]\u001b[0m Trial 40 finished with value: 0.6833614254755599 and parameters: {'threshold': 0.4268508724293556}. Best is trial 39 with value: 0.7270463741051976.\u001b[0m\n",
            "\u001b[32m[I 2022-07-25 05:45:30,315]\u001b[0m Trial 41 finished with value: 0.7216693418940611 and parameters: {'threshold': 0.5929363119512525}. Best is trial 39 with value: 0.7270463741051976.\u001b[0m\n",
            "\u001b[32m[I 2022-07-25 05:45:30,439]\u001b[0m Trial 42 finished with value: 0.7181792638381568 and parameters: {'threshold': 0.5169094512538279}. Best is trial 39 with value: 0.7270463741051976.\u001b[0m\n",
            "\u001b[32m[I 2022-07-25 05:45:30,558]\u001b[0m Trial 43 finished with value: 0.719349593495935 and parameters: {'threshold': 0.602603044212764}. Best is trial 39 with value: 0.7270463741051976.\u001b[0m\n",
            "\u001b[32m[I 2022-07-25 05:45:30,687]\u001b[0m Trial 44 finished with value: 0.5390318360226777 and parameters: {'threshold': 0.8059453894591196}. Best is trial 39 with value: 0.7270463741051976.\u001b[0m\n",
            "\u001b[32m[I 2022-07-25 05:45:30,811]\u001b[0m Trial 45 finished with value: 0.3539630836047774 and parameters: {'threshold': 0.059580370424853035}. Best is trial 39 with value: 0.7270463741051976.\u001b[0m\n",
            "\u001b[32m[I 2022-07-25 05:45:30,935]\u001b[0m Trial 46 finished with value: 0.6924715909090909 and parameters: {'threshold': 0.6635103280402774}. Best is trial 39 with value: 0.7270463741051976.\u001b[0m\n",
            "\u001b[32m[I 2022-07-25 05:45:31,058]\u001b[0m Trial 47 finished with value: 0.7254839733417963 and parameters: {'threshold': 0.5881954961411111}. Best is trial 39 with value: 0.7270463741051976.\u001b[0m\n",
            "\u001b[32m[I 2022-07-25 05:45:31,187]\u001b[0m Trial 48 finished with value: 0.7102040816326531 and parameters: {'threshold': 0.4982808333785529}. Best is trial 39 with value: 0.7270463741051976.\u001b[0m\n",
            "\u001b[32m[I 2022-07-25 05:45:31,310]\u001b[0m Trial 49 finished with value: 0.6369675654552559 and parameters: {'threshold': 0.7229597279743295}. Best is trial 39 with value: 0.7270463741051976.\u001b[0m\n",
            "\u001b[32m[I 2022-07-25 05:45:31,437]\u001b[0m Trial 50 finished with value: 0.7040816326530612 and parameters: {'threshold': 0.6341736359334151}. Best is trial 39 with value: 0.7270463741051976.\u001b[0m\n",
            "\u001b[32m[I 2022-07-25 05:45:31,560]\u001b[0m Trial 51 finished with value: 0.7283201940570042 and parameters: {'threshold': 0.5640001674466455}. Best is trial 51 with value: 0.7283201940570042.\u001b[0m\n",
            "\u001b[32m[I 2022-07-25 05:45:31,690]\u001b[0m Trial 52 finished with value: 0.7263286499694562 and parameters: {'threshold': 0.5678974472530213}. Best is trial 51 with value: 0.7283201940570042.\u001b[0m\n",
            "\u001b[32m[I 2022-07-25 05:45:31,814]\u001b[0m Trial 53 finished with value: 0.7260191846522783 and parameters: {'threshold': 0.5574790827938672}. Best is trial 51 with value: 0.7283201940570042.\u001b[0m\n",
            "\u001b[32m[I 2022-07-25 05:45:31,941]\u001b[0m Trial 54 finished with value: 0.7236650131310185 and parameters: {'threshold': 0.5405179312984651}. Best is trial 51 with value: 0.7283201940570042.\u001b[0m\n",
            "\u001b[32m[I 2022-07-25 05:45:32,070]\u001b[0m Trial 55 finished with value: 0.6795749704840615 and parameters: {'threshold': 0.41772849492172565}. Best is trial 51 with value: 0.7283201940570042.\u001b[0m\n",
            "\u001b[32m[I 2022-07-25 05:45:32,194]\u001b[0m Trial 56 finished with value: 0.7019973368841546 and parameters: {'threshold': 0.48373882532638474}. Best is trial 51 with value: 0.7283201940570042.\u001b[0m\n",
            "\u001b[32m[I 2022-07-25 05:45:32,318]\u001b[0m Trial 57 finished with value: 0.6299148763680583 and parameters: {'threshold': 0.3415583210078773}. Best is trial 51 with value: 0.7283201940570042.\u001b[0m\n",
            "\u001b[32m[I 2022-07-25 05:45:32,442]\u001b[0m Trial 58 finished with value: 0.665920119447555 and parameters: {'threshold': 0.6926630365016367}. Best is trial 51 with value: 0.7283201940570042.\u001b[0m\n",
            "\u001b[32m[I 2022-07-25 05:45:32,569]\u001b[0m Trial 59 finished with value: 0.6994836488812393 and parameters: {'threshold': 0.6427572755851264}. Best is trial 51 with value: 0.7283201940570042.\u001b[0m\n",
            "\u001b[32m[I 2022-07-25 05:45:32,694]\u001b[0m Trial 60 finished with value: 0.7233546884100176 and parameters: {'threshold': 0.5387723986367297}. Best is trial 51 with value: 0.7283201940570042.\u001b[0m\n",
            "\u001b[32m[I 2022-07-25 05:45:32,816]\u001b[0m Trial 61 finished with value: 0.7275494672754946 and parameters: {'threshold': 0.5657385276195148}. Best is trial 51 with value: 0.7283201940570042.\u001b[0m\n",
            "\u001b[32m[I 2022-07-25 05:45:32,940]\u001b[0m Trial 62 finished with value: 0.7265505652306752 and parameters: {'threshold': 0.5680552857635678}. Best is trial 51 with value: 0.7283201940570042.\u001b[0m\n",
            "\u001b[32m[I 2022-07-25 05:45:33,063]\u001b[0m Trial 63 finished with value: 0.7006468305304011 and parameters: {'threshold': 0.4660214034134276}. Best is trial 51 with value: 0.7283201940570042.\u001b[0m\n",
            "\u001b[32m[I 2022-07-25 05:45:33,203]\u001b[0m Trial 64 finished with value: 0.7256371814092955 and parameters: {'threshold': 0.5575317036335966}. Best is trial 51 with value: 0.7283201940570042.\u001b[0m\n",
            "\u001b[32m[I 2022-07-25 05:45:33,329]\u001b[0m Trial 65 finished with value: 0.7043211976862879 and parameters: {'threshold': 0.6349332179795306}. Best is trial 51 with value: 0.7283201940570042.\u001b[0m\n",
            "\u001b[32m[I 2022-07-25 05:45:33,454]\u001b[0m Trial 66 finished with value: 0.718987341772152 and parameters: {'threshold': 0.5181448867801798}. Best is trial 51 with value: 0.7283201940570042.\u001b[0m\n",
            "\u001b[32m[I 2022-07-25 05:45:33,574]\u001b[0m Trial 67 finished with value: 0.7101303911735206 and parameters: {'threshold': 0.6239155835022708}. Best is trial 51 with value: 0.7283201940570042.\u001b[0m\n",
            "\u001b[32m[I 2022-07-25 05:45:33,703]\u001b[0m Trial 68 finished with value: 0.7277152418618801 and parameters: {'threshold': 0.5654108493475741}. Best is trial 51 with value: 0.7283201940570042.\u001b[0m\n",
            "\u001b[32m[I 2022-07-25 05:45:33,824]\u001b[0m Trial 69 finished with value: 0.6965098634294384 and parameters: {'threshold': 0.4544867953674674}. Best is trial 51 with value: 0.7283201940570042.\u001b[0m\n",
            "\u001b[32m[I 2022-07-25 05:45:33,952]\u001b[0m Trial 70 finished with value: 0.6669685306769302 and parameters: {'threshold': 0.3965247671140184}. Best is trial 51 with value: 0.7283201940570042.\u001b[0m\n",
            "\u001b[32m[I 2022-07-25 05:45:34,079]\u001b[0m Trial 71 finished with value: 0.72627403112603 and parameters: {'threshold': 0.5674097929814128}. Best is trial 51 with value: 0.7283201940570042.\u001b[0m\n",
            "\u001b[32m[I 2022-07-25 05:45:34,206]\u001b[0m Trial 72 finished with value: 0.7214611872146118 and parameters: {'threshold': 0.5254311117488965}. Best is trial 51 with value: 0.7283201940570042.\u001b[0m\n",
            "\u001b[32m[I 2022-07-25 05:45:34,330]\u001b[0m Trial 73 finished with value: 0.7084010840108401 and parameters: {'threshold': 0.495974575326605}. Best is trial 51 with value: 0.7283201940570042.\u001b[0m\n",
            "\u001b[32m[I 2022-07-25 05:45:34,458]\u001b[0m Trial 74 finished with value: 0.7277710109622412 and parameters: {'threshold': 0.5663431288123298}. Best is trial 51 with value: 0.7283201940570042.\u001b[0m\n"
          ]
        }
      ],
      "source": [
        "study = optuna.create_study(\n",
        "    direction=\"maximize\", study_name=\"rf_tresh\", sampler=sampler\n",
        ")\n",
        "func = lambda trial: objective(trial, models[4], X_train, y_train)\n",
        "# n_trials - кол-во итераций\n",
        "study.optimize(func, n_trials=75, show_progress_bar=True)"
      ]
    },
    {
      "cell_type": "code",
      "execution_count": 85,
      "metadata": {
        "colab": {
          "base_uri": "https://localhost:8080/"
        },
        "id": "xXZ-Q1xQu98v",
        "outputId": "0648aedf-6663-4ab5-92dd-37c2d6316865"
      },
      "outputs": [
        {
          "output_type": "stream",
          "name": "stdout",
          "text": [
            "Лучший показатель f1 на тренировочной выборке: 0.72832\n",
            "\n",
            "Лучший порог:\n",
            "threshold: 0.5640001674466455\n"
          ]
        }
      ],
      "source": [
        "print(f\"Лучший показатель f1 на тренировочной выборке: {study.best_value:.5f}\")\n",
        "print(\"\")\n",
        "print(f\"Лучший порог:\")\n",
        "\n",
        "for key, value in study.best_params.items():\n",
        "    print(f\"{key}: {value}\")\n",
        "    best_tresh = value"
      ]
    },
    {
      "cell_type": "code",
      "execution_count": 86,
      "metadata": {
        "id": "9701LdSVp6ME"
      },
      "outputs": [],
      "source": [
        "model = models[4]\n",
        "df_report.loc[\"RandomForest_opt_tresh\", \"f1\"] = f1_score(\n",
        "    y_test, (model.predict_proba(X_test)[:, 1] > best_tresh) * 1\n",
        ")\n",
        "df_report.loc[\"RandomForest_opt_tresh\", \"roc_auc\"] = roc_auc_score(\n",
        "    y_test, model.predict_proba(X_test)[:, 1]\n",
        ")\n",
        "df_report.loc[\"RandomForest_opt_tresh\", \"accuracy\"] = accuracy_score(\n",
        "    y_test, (model.predict_proba(X_test)[:, 1] > best_tresh) * 1\n",
        ")"
      ]
    },
    {
      "cell_type": "markdown",
      "metadata": {
        "id": "MuBGR2j-guQe"
      },
      "source": [
        "Найдем оптимальный порог для LGBMClassifier_opt:"
      ]
    },
    {
      "cell_type": "code",
      "execution_count": 87,
      "metadata": {
        "colab": {
          "base_uri": "https://localhost:8080/",
          "height": 989,
          "referenced_widgets": [
            "4d11f6b06ca5423baa484ce3a9ba0080",
            "55653e440aed4e47a30812699b0bd089",
            "d073168d6f1743e0a04d0a238935cc1c",
            "f294a76528d044f08968c324a6d5697c",
            "fca847a187624d1aab56c72bd146858e",
            "3b73080120564ceaa817a7e24a6a79b6",
            "d3be41a606bc40d899bb0c3e71209313",
            "99c3a4558f95492282168ce86b4b909a",
            "06fdb2831bdc49a8919cd1ed9b10dcc1",
            "c2965a4c14d241628026fa1a8f7d0e49",
            "08b29d9825e64685a2a942456a9b6dd6"
          ]
        },
        "id": "kBXjxf1hgtJu",
        "outputId": "ac6359b6-b4d6-4d0e-98ef-1eef63e9bafc"
      },
      "outputs": [
        {
          "output_type": "stream",
          "name": "stderr",
          "text": [
            "\u001b[32m[I 2022-07-25 05:45:34,637]\u001b[0m A new study created in memory with name: lgb_tresh\u001b[0m\n",
            "/usr/local/lib/python3.7/dist-packages/optuna/progress_bar.py:47: ExperimentalWarning: Progress bar is experimental (supported from v1.2.0). The interface can change in the future.\n",
            "  self._init_valid()\n"
          ]
        },
        {
          "output_type": "display_data",
          "data": {
            "text/plain": [
              "  0%|          | 0/50 [00:00<?, ?it/s]"
            ],
            "application/vnd.jupyter.widget-view+json": {
              "version_major": 2,
              "version_minor": 0,
              "model_id": "4d11f6b06ca5423baa484ce3a9ba0080"
            }
          },
          "metadata": {}
        },
        {
          "output_type": "stream",
          "name": "stdout",
          "text": [
            "\u001b[32m[I 2022-07-25 05:45:34,890]\u001b[0m Trial 0 finished with value: 0.6217995610826629 and parameters: {'threshold': 0.7546476915298572}. Best is trial 0 with value: 0.6217995610826629.\u001b[0m\n",
            "\u001b[32m[I 2022-07-25 05:45:35,090]\u001b[0m Trial 1 finished with value: 0.5468354430379747 and parameters: {'threshold': 0.2959617068796787}. Best is trial 0 with value: 0.6217995610826629.\u001b[0m\n",
            "\u001b[32m[I 2022-07-25 05:45:35,278]\u001b[0m Trial 2 finished with value: 0.4962205424633171 and parameters: {'threshold': 0.8839364795611863}. Best is trial 0 with value: 0.6217995610826629.\u001b[0m\n",
            "\u001b[32m[I 2022-07-25 05:45:35,461]\u001b[0m Trial 3 finished with value: 0.5680473372781064 and parameters: {'threshold': 0.3255116378322488}. Best is trial 0 with value: 0.6217995610826629.\u001b[0m\n",
            "\u001b[32m[I 2022-07-25 05:45:35,642]\u001b[0m Trial 4 finished with value: 0.44936886395511927 and parameters: {'threshold': 0.16501589771914849}. Best is trial 0 with value: 0.6217995610826629.\u001b[0m\n",
            "\u001b[32m[I 2022-07-25 05:45:35,841]\u001b[0m Trial 5 finished with value: 0.6021186440677966 and parameters: {'threshold': 0.3925292439465873}. Best is trial 0 with value: 0.6217995610826629.\u001b[0m\n",
            "\u001b[32m[I 2022-07-25 05:45:36,024]\u001b[0m Trial 6 finished with value: 0.3924081237911025 and parameters: {'threshold': 0.0934603745586503}. Best is trial 0 with value: 0.6217995610826629.\u001b[0m\n",
            "\u001b[32m[I 2022-07-25 05:45:36,213]\u001b[0m Trial 7 finished with value: 0.5723550871503851 and parameters: {'threshold': 0.8211056578369285}. Best is trial 0 with value: 0.6217995610826629.\u001b[0m\n",
            "\u001b[32m[I 2022-07-25 05:45:36,394]\u001b[0m Trial 8 finished with value: 0.43602281988590064 and parameters: {'threshold': 0.15115201964256386}. Best is trial 0 with value: 0.6217995610826629.\u001b[0m\n",
            "\u001b[32m[I 2022-07-25 05:45:36,581]\u001b[0m Trial 9 finished with value: 0.5968586387434555 and parameters: {'threshold': 0.3841144486921996}. Best is trial 0 with value: 0.6217995610826629.\u001b[0m\n",
            "\u001b[32m[I 2022-07-25 05:45:36,768]\u001b[0m Trial 10 finished with value: 0.6545222115691914 and parameters: {'threshold': 0.6685712037421118}. Best is trial 10 with value: 0.6545222115691914.\u001b[0m\n",
            "\u001b[32m[I 2022-07-25 05:45:36,970]\u001b[0m Trial 11 finished with value: 0.6575342465753424 and parameters: {'threshold': 0.6528551727096712}. Best is trial 11 with value: 0.6575342465753424.\u001b[0m\n",
            "\u001b[32m[I 2022-07-25 05:45:37,156]\u001b[0m Trial 12 finished with value: 0.6595301813856674 and parameters: {'threshold': 0.623104904958097}. Best is trial 12 with value: 0.6595301813856674.\u001b[0m\n",
            "\u001b[32m[I 2022-07-25 05:45:37,340]\u001b[0m Trial 13 finished with value: 0.6585915492957746 and parameters: {'threshold': 0.588483474997847}. Best is trial 12 with value: 0.6595301813856674.\u001b[0m\n",
            "\u001b[32m[I 2022-07-25 05:45:37,530]\u001b[0m Trial 14 finished with value: 0.6497382198952879 and parameters: {'threshold': 0.5407223911265522}. Best is trial 12 with value: 0.6595301813856674.\u001b[0m\n",
            "\u001b[32m[I 2022-07-25 05:45:37,712]\u001b[0m Trial 15 finished with value: 0.26878306878306873 and parameters: {'threshold': 0.9658714766773461}. Best is trial 12 with value: 0.6595301813856674.\u001b[0m\n",
            "\u001b[32m[I 2022-07-25 05:45:37,910]\u001b[0m Trial 16 finished with value: 0.6491547464239272 and parameters: {'threshold': 0.5380587750400211}. Best is trial 12 with value: 0.6595301813856674.\u001b[0m\n",
            "\u001b[32m[I 2022-07-25 05:45:38,094]\u001b[0m Trial 17 finished with value: 0.6584004959702418 and parameters: {'threshold': 0.6493568648368572}. Best is trial 12 with value: 0.6595301813856674.\u001b[0m\n",
            "\u001b[32m[I 2022-07-25 05:45:38,284]\u001b[0m Trial 18 finished with value: 0.6395716719396447 and parameters: {'threshold': 0.4912413744466815}. Best is trial 12 with value: 0.6595301813856674.\u001b[0m\n",
            "\u001b[32m[I 2022-07-25 05:45:38,459]\u001b[0m Trial 19 finished with value: 0.6457123334472156 and parameters: {'threshold': 0.7100741811807303}. Best is trial 12 with value: 0.6595301813856674.\u001b[0m\n",
            "\u001b[32m[I 2022-07-25 05:45:38,644]\u001b[0m Trial 20 finished with value: 0.6423679060665363 and parameters: {'threshold': 0.49476841667390403}. Best is trial 12 with value: 0.6595301813856674.\u001b[0m\n",
            "\u001b[32m[I 2022-07-25 05:45:38,823]\u001b[0m Trial 21 finished with value: 0.6582132564841499 and parameters: {'threshold': 0.6037289623078987}. Best is trial 12 with value: 0.6595301813856674.\u001b[0m\n",
            "\u001b[32m[I 2022-07-25 05:45:39,035]\u001b[0m Trial 22 finished with value: 0.5963409887115608 and parameters: {'threshold': 0.7952445621475375}. Best is trial 12 with value: 0.6595301813856674.\u001b[0m\n",
            "\u001b[32m[I 2022-07-25 05:45:39,219]\u001b[0m Trial 23 finished with value: 0.6592375366568914 and parameters: {'threshold': 0.6144011434437413}. Best is trial 12 with value: 0.6595301813856674.\u001b[0m\n",
            "\u001b[32m[I 2022-07-25 05:45:39,403]\u001b[0m Trial 24 finished with value: 0.6223320602111885 and parameters: {'threshold': 0.4338646443156735}. Best is trial 12 with value: 0.6595301813856674.\u001b[0m\n",
            "\u001b[32m[I 2022-07-25 05:45:39,587]\u001b[0m Trial 25 finished with value: 0.6582064297800339 and parameters: {'threshold': 0.58929169502011}. Best is trial 12 with value: 0.6595301813856674.\u001b[0m\n",
            "\u001b[32m[I 2022-07-25 05:45:39,765]\u001b[0m Trial 26 finished with value: 0.6307471264367817 and parameters: {'threshold': 0.7436022260197004}. Best is trial 12 with value: 0.6595301813856674.\u001b[0m\n",
            "\u001b[32m[I 2022-07-25 05:45:39,967]\u001b[0m Trial 27 finished with value: 0.5330472103004292 and parameters: {'threshold': 0.8566361803177373}. Best is trial 12 with value: 0.6595301813856674.\u001b[0m\n",
            "\u001b[32m[I 2022-07-25 05:45:40,157]\u001b[0m Trial 28 finished with value: 0.3914313534566699 and parameters: {'threshold': 0.932269626669162}. Best is trial 12 with value: 0.6595301813856674.\u001b[0m\n",
            "\u001b[32m[I 2022-07-25 05:45:40,339]\u001b[0m Trial 29 finished with value: 0.628033321260413 and parameters: {'threshold': 0.7481480624471437}. Best is trial 12 with value: 0.6595301813856674.\u001b[0m\n",
            "\u001b[32m[I 2022-07-25 05:45:40,517]\u001b[0m Trial 30 finished with value: 0.655937846836848 and parameters: {'threshold': 0.5787962867892231}. Best is trial 12 with value: 0.6595301813856674.\u001b[0m\n",
            "\u001b[32m[I 2022-07-25 05:45:40,707]\u001b[0m Trial 31 finished with value: 0.6572237960339943 and parameters: {'threshold': 0.658766799289997}. Best is trial 12 with value: 0.6595301813856674.\u001b[0m\n",
            "\u001b[32m[I 2022-07-25 05:45:40,889]\u001b[0m Trial 32 finished with value: 0.6595301813856674 and parameters: {'threshold': 0.6232113551388789}. Best is trial 12 with value: 0.6595301813856674.\u001b[0m\n",
            "\u001b[32m[I 2022-07-25 05:45:41,090]\u001b[0m Trial 33 finished with value: 0.6337332392378263 and parameters: {'threshold': 0.466464014673488}. Best is trial 12 with value: 0.6595301813856674.\u001b[0m\n",
            "\u001b[32m[I 2022-07-25 05:45:41,275]\u001b[0m Trial 34 finished with value: 0.5349406009783368 and parameters: {'threshold': 0.2775733311647759}. Best is trial 12 with value: 0.6595301813856674.\u001b[0m\n",
            "\u001b[32m[I 2022-07-25 05:45:41,451]\u001b[0m Trial 35 finished with value: 0.6453168044077136 and parameters: {'threshold': 0.71483701451098}. Best is trial 12 with value: 0.6595301813856674.\u001b[0m\n",
            "\u001b[32m[I 2022-07-25 05:45:41,630]\u001b[0m Trial 36 finished with value: 0.6539074960127591 and parameters: {'threshold': 0.5511611167924692}. Best is trial 12 with value: 0.6595301813856674.\u001b[0m\n",
            "\u001b[32m[I 2022-07-25 05:45:41,813]\u001b[0m Trial 37 finished with value: 0.6581765557163531 and parameters: {'threshold': 0.6062068766297294}. Best is trial 12 with value: 0.6595301813856674.\u001b[0m\n",
            "\u001b[32m[I 2022-07-25 05:45:42,015]\u001b[0m Trial 38 finished with value: 0.5960264900662252 and parameters: {'threshold': 0.7958524505112703}. Best is trial 12 with value: 0.6595301813856674.\u001b[0m\n",
            "\u001b[32m[I 2022-07-25 05:45:42,195]\u001b[0m Trial 39 finished with value: 0.558251528060752 and parameters: {'threshold': 0.3074356508205997}. Best is trial 12 with value: 0.6595301813856674.\u001b[0m\n",
            "\u001b[32m[I 2022-07-25 05:45:42,380]\u001b[0m Trial 40 finished with value: 0.6111352762070466 and parameters: {'threshold': 0.41192030021656384}. Best is trial 12 with value: 0.6595301813856674.\u001b[0m\n",
            "\u001b[32m[I 2022-07-25 05:45:42,559]\u001b[0m Trial 41 finished with value: 0.6575342465753424 and parameters: {'threshold': 0.6525745763797196}. Best is trial 12 with value: 0.6595301813856674.\u001b[0m\n",
            "\u001b[32m[I 2022-07-25 05:45:42,735]\u001b[0m Trial 42 finished with value: 0.6514745308310992 and parameters: {'threshold': 0.7008501862938287}. Best is trial 12 with value: 0.6595301813856674.\u001b[0m\n",
            "\u001b[32m[I 2022-07-25 05:45:42,930]\u001b[0m Trial 43 finished with value: 0.6612121212121214 and parameters: {'threshold': 0.6358755349918895}. Best is trial 43 with value: 0.6612121212121214.\u001b[0m\n",
            "\u001b[32m[I 2022-07-25 05:45:43,129]\u001b[0m Trial 44 finished with value: 0.6593341260404281 and parameters: {'threshold': 0.6230302012797231}. Best is trial 43 with value: 0.6612121212121214.\u001b[0m\n",
            "\u001b[32m[I 2022-07-25 05:45:43,311]\u001b[0m Trial 45 finished with value: 0.6591848789131719 and parameters: {'threshold': 0.6183630949316352}. Best is trial 43 with value: 0.6612121212121214.\u001b[0m\n",
            "\u001b[32m[I 2022-07-25 05:45:43,509]\u001b[0m Trial 46 finished with value: 0.3407190635451505 and parameters: {'threshold': 0.02799798143724397}. Best is trial 43 with value: 0.6612121212121214.\u001b[0m\n",
            "\u001b[32m[I 2022-07-25 05:45:43,702]\u001b[0m Trial 47 finished with value: 0.6515789473684209 and parameters: {'threshold': 0.5437844834641168}. Best is trial 43 with value: 0.6612121212121214.\u001b[0m\n",
            "\u001b[32m[I 2022-07-25 05:45:43,891]\u001b[0m Trial 48 finished with value: 0.5834664536741215 and parameters: {'threshold': 0.35237485017041825}. Best is trial 43 with value: 0.6612121212121214.\u001b[0m\n",
            "\u001b[32m[I 2022-07-25 05:45:44,103]\u001b[0m Trial 49 finished with value: 0.6534522629666336 and parameters: {'threshold': 0.6903450200898805}. Best is trial 43 with value: 0.6612121212121214.\u001b[0m\n"
          ]
        }
      ],
      "source": [
        "study = optuna.create_study(\n",
        "    direction=\"maximize\", study_name=\"lgb_tresh\", sampler=sampler\n",
        ")\n",
        "func = lambda trial: objective(trial, models[6], X_train, y_train)\n",
        "# n_trials - кол-во итераций\n",
        "study.optimize(func, n_trials=50, show_progress_bar=True)"
      ]
    },
    {
      "cell_type": "code",
      "execution_count": 88,
      "metadata": {
        "colab": {
          "base_uri": "https://localhost:8080/"
        },
        "id": "waaf-QT8gtJv",
        "outputId": "a06cc1e1-a98a-4adc-be68-e6266c6c4344"
      },
      "outputs": [
        {
          "output_type": "stream",
          "name": "stdout",
          "text": [
            "Лучший показатель f1 на тренировочной выборке: 0.66121\n",
            "\n",
            "Лучший порог:\n",
            "threshold: 0.6358755349918895\n"
          ]
        }
      ],
      "source": [
        "print(f\"Лучший показатель f1 на тренировочной выборке: {study.best_value:.5f}\")\n",
        "print(\"\")\n",
        "print(f\"Лучший порог:\")\n",
        "\n",
        "for key, value in study.best_params.items():\n",
        "    print(f\"{key}: {value}\")\n",
        "    best_tresh = value"
      ]
    },
    {
      "cell_type": "code",
      "execution_count": 89,
      "metadata": {
        "id": "ZVQBFKwNgtJw"
      },
      "outputs": [],
      "source": [
        "model = models[6]\n",
        "df_report.loc[\"LGBMClassifier_opt_tresh\", \"f1\"] = f1_score(\n",
        "    y_test, (model.predict_proba(X_test)[:, 1] > best_tresh) * 1\n",
        ")\n",
        "df_report.loc[\"LGBMClassifier_opt_tresh\", \"roc_auc\"] = roc_auc_score(\n",
        "    y_test, model.predict_proba(X_test)[:, 1]\n",
        ")\n",
        "df_report.loc[\"LGBMClassifier_opt_tresh\", \"accuracy\"] = accuracy_score(\n",
        "    y_test, (model.predict_proba(X_test)[:, 1] > best_tresh) * 1\n",
        ")"
      ]
    },
    {
      "cell_type": "markdown",
      "metadata": {
        "id": "Z_RSlyQewKDM"
      },
      "source": [
        "Не останавливаясь на достигнутом, попробуем улучшить и так высокий показатель f1 модели CatBoostClassifier_opt:"
      ]
    },
    {
      "cell_type": "code",
      "execution_count": 90,
      "metadata": {
        "colab": {
          "base_uri": "https://localhost:8080/",
          "height": 1000,
          "referenced_widgets": [
            "410e9a6f7e77493d9a344f0037ed2ffd",
            "d85f36db802a4ff5b4b8ff185534531b",
            "df5314af155e44b8a779be8a6ed53809",
            "cd38b500a2784f999798337fa40d8bfb",
            "8ee3e217301345bcac5cc69451e23f6a",
            "f53985f52b304aeeaef20740801471a6",
            "1548cd545b4d47b8814bdb4c046325f7",
            "754e390e17c44851bd1927aaba0b72ba",
            "da1609b634744f1e96477cd9da77e2a1",
            "d71d8411f61f41a4b81694c5a006f61f",
            "1f1e20a6091b454aa00dd82fb34037d5"
          ]
        },
        "id": "XVsmCiPqwlkW",
        "outputId": "ff197496-6883-449c-91a8-c681bbc584a9"
      },
      "outputs": [
        {
          "output_type": "stream",
          "name": "stderr",
          "text": [
            "\u001b[32m[I 2022-07-25 05:45:44,324]\u001b[0m A new study created in memory with name: cb_tresh\u001b[0m\n",
            "/usr/local/lib/python3.7/dist-packages/optuna/progress_bar.py:47: ExperimentalWarning: Progress bar is experimental (supported from v1.2.0). The interface can change in the future.\n",
            "  self._init_valid()\n"
          ]
        },
        {
          "output_type": "display_data",
          "data": {
            "text/plain": [
              "  0%|          | 0/75 [00:00<?, ?it/s]"
            ],
            "application/vnd.jupyter.widget-view+json": {
              "version_major": 2,
              "version_minor": 0,
              "model_id": "410e9a6f7e77493d9a344f0037ed2ffd"
            }
          },
          "metadata": {}
        },
        {
          "output_type": "stream",
          "name": "stdout",
          "text": [
            "\u001b[32m[I 2022-07-25 05:45:44,411]\u001b[0m Trial 0 finished with value: 0.31698502839442433 and parameters: {'threshold': 0.9442607122388011}. Best is trial 0 with value: 0.31698502839442433.\u001b[0m\n",
            "\u001b[32m[I 2022-07-25 05:45:44,428]\u001b[0m Trial 1 finished with value: 0.1123335263462652 and parameters: {'threshold': 0.9876254749018722}. Best is trial 0 with value: 0.31698502839442433.\u001b[0m\n",
            "\u001b[32m[I 2022-07-25 05:45:44,465]\u001b[0m Trial 2 finished with value: 0.7815954586196594 and parameters: {'threshold': 0.4563045470947841}. Best is trial 2 with value: 0.7815954586196594.\u001b[0m\n",
            "\u001b[32m[I 2022-07-25 05:45:44,482]\u001b[0m Trial 3 finished with value: 0.5627177700348432 and parameters: {'threshold': 0.8261228438427398}. Best is trial 2 with value: 0.7815954586196594.\u001b[0m\n",
            "\u001b[32m[I 2022-07-25 05:45:44,510]\u001b[0m Trial 4 finished with value: 0.6931228861330326 and parameters: {'threshold': 0.25137413420705934}. Best is trial 2 with value: 0.7815954586196594.\u001b[0m\n",
            "\u001b[32m[I 2022-07-25 05:45:44,537]\u001b[0m Trial 5 finished with value: 0.7588113337940566 and parameters: {'threshold': 0.5973716482308843}. Best is trial 2 with value: 0.7815954586196594.\u001b[0m\n",
            "\u001b[32m[I 2022-07-25 05:45:44,572]\u001b[0m Trial 6 finished with value: 0.4344497607655502 and parameters: {'threshold': 0.9028317603316274}. Best is trial 2 with value: 0.7815954586196594.\u001b[0m\n",
            "\u001b[32m[I 2022-07-25 05:45:44,591]\u001b[0m Trial 7 finished with value: 0.7765472312703583 and parameters: {'threshold': 0.5345579488018151}. Best is trial 2 with value: 0.7815954586196594.\u001b[0m\n",
            "\u001b[32m[I 2022-07-25 05:45:44,626]\u001b[0m Trial 8 finished with value: 0.762723521320495 and parameters: {'threshold': 0.5902013629854229}. Best is trial 2 with value: 0.7815954586196594.\u001b[0m\n",
            "\u001b[32m[I 2022-07-25 05:45:44,653]\u001b[0m Trial 9 finished with value: 0.40034427640477066 and parameters: {'threshold': 0.03928176722538734}. Best is trial 2 with value: 0.7815954586196594.\u001b[0m\n",
            "\u001b[32m[I 2022-07-25 05:45:44,699]\u001b[0m Trial 10 finished with value: 0.7463291139240507 and parameters: {'threshold': 0.32193207949451064}. Best is trial 2 with value: 0.7815954586196594.\u001b[0m\n",
            "\u001b[32m[I 2022-07-25 05:45:44,720]\u001b[0m Trial 11 finished with value: 0.7716223855285471 and parameters: {'threshold': 0.40449878706519266}. Best is trial 2 with value: 0.7815954586196594.\u001b[0m\n",
            "\u001b[32m[I 2022-07-25 05:45:44,756]\u001b[0m Trial 12 finished with value: 0.6832298136645962 and parameters: {'threshold': 0.7141273407464385}. Best is trial 2 with value: 0.7815954586196594.\u001b[0m\n",
            "\u001b[32m[I 2022-07-25 05:45:44,788]\u001b[0m Trial 13 finished with value: 0.7812990272983997 and parameters: {'threshold': 0.4970169275184887}. Best is trial 2 with value: 0.7815954586196594.\u001b[0m\n",
            "\u001b[32m[I 2022-07-25 05:45:44,831]\u001b[0m Trial 14 finished with value: 0.576992426974396 and parameters: {'threshold': 0.14438382620162382}. Best is trial 2 with value: 0.7815954586196594.\u001b[0m\n",
            "\u001b[32m[I 2022-07-25 05:45:44,857]\u001b[0m Trial 15 finished with value: 0.7745266781411361 and parameters: {'threshold': 0.41864221202738383}. Best is trial 2 with value: 0.7815954586196594.\u001b[0m\n",
            "\u001b[32m[I 2022-07-25 05:45:44,891]\u001b[0m Trial 16 finished with value: 0.6892829606784888 and parameters: {'threshold': 0.7074077780412706}. Best is trial 2 with value: 0.7815954586196594.\u001b[0m\n",
            "\u001b[32m[I 2022-07-25 05:45:44,920]\u001b[0m Trial 17 finished with value: 0.776470588235294 and parameters: {'threshold': 0.4420732924332219}. Best is trial 2 with value: 0.7815954586196594.\u001b[0m\n",
            "\u001b[32m[I 2022-07-25 05:45:44,968]\u001b[0m Trial 18 finished with value: 0.703387877391104 and parameters: {'threshold': 0.2626889074364711}. Best is trial 2 with value: 0.7815954586196594.\u001b[0m\n",
            "\u001b[32m[I 2022-07-25 05:45:44,991]\u001b[0m Trial 19 finished with value: 0.7011014052411697 and parameters: {'threshold': 0.6943533465141041}. Best is trial 2 with value: 0.7815954586196594.\u001b[0m\n",
            "\u001b[32m[I 2022-07-25 05:45:45,030]\u001b[0m Trial 20 finished with value: 0.780704538241828 and parameters: {'threshold': 0.5091390657078609}. Best is trial 2 with value: 0.7815954586196594.\u001b[0m\n",
            "\u001b[32m[I 2022-07-25 05:45:45,069]\u001b[0m Trial 21 finished with value: 0.7824451410658309 and parameters: {'threshold': 0.49655043508112384}. Best is trial 21 with value: 0.7824451410658309.\u001b[0m\n",
            "\u001b[32m[I 2022-07-25 05:45:45,114]\u001b[0m Trial 22 finished with value: 0.7480092473670691 and parameters: {'threshold': 0.33414271401628626}. Best is trial 21 with value: 0.7824451410658309.\u001b[0m\n",
            "\u001b[32m[I 2022-07-25 05:45:45,146]\u001b[0m Trial 23 finished with value: 0.7535112359550562 and parameters: {'threshold': 0.616131287452941}. Best is trial 21 with value: 0.7824451410658309.\u001b[0m\n",
            "\u001b[32m[I 2022-07-25 05:45:45,175]\u001b[0m Trial 24 finished with value: 0.7859111791730474 and parameters: {'threshold': 0.475561830989492}. Best is trial 24 with value: 0.7859111791730474.\u001b[0m\n",
            "\u001b[32m[I 2022-07-25 05:45:45,220]\u001b[0m Trial 25 finished with value: 0.763764578247898 and parameters: {'threshold': 0.37255899293998995}. Best is trial 24 with value: 0.7859111791730474.\u001b[0m\n",
            "\u001b[32m[I 2022-07-25 05:45:45,240]\u001b[0m Trial 26 finished with value: 0.6488502175264139 and parameters: {'threshold': 0.2059020701814505}. Best is trial 24 with value: 0.7859111791730474.\u001b[0m\n",
            "\u001b[32m[I 2022-07-25 05:45:45,287]\u001b[0m Trial 27 finished with value: 0.7841221374045801 and parameters: {'threshold': 0.4724609232070094}. Best is trial 24 with value: 0.7859111791730474.\u001b[0m\n",
            "\u001b[32m[I 2022-07-25 05:45:45,329]\u001b[0m Trial 28 finished with value: 0.6132665832290363 and parameters: {'threshold': 0.7827020624474736}. Best is trial 24 with value: 0.7859111791730474.\u001b[0m\n",
            "\u001b[32m[I 2022-07-25 05:45:45,350]\u001b[0m Trial 29 finished with value: 0.7729532648326152 and parameters: {'threshold': 0.5595352011572596}. Best is trial 24 with value: 0.7859111791730474.\u001b[0m\n",
            "\u001b[32m[I 2022-07-25 05:45:45,380]\u001b[0m Trial 30 finished with value: 0.7188769855929072 and parameters: {'threshold': 0.6647856392926739}. Best is trial 24 with value: 0.7859111791730474.\u001b[0m\n",
            "\u001b[32m[I 2022-07-25 05:45:45,409]\u001b[0m Trial 31 finished with value: 0.7838893898406974 and parameters: {'threshold': 0.4608987571369197}. Best is trial 24 with value: 0.7859111791730474.\u001b[0m\n",
            "\u001b[32m[I 2022-07-25 05:45:45,454]\u001b[0m Trial 32 finished with value: 0.7795969773299747 and parameters: {'threshold': 0.5004148035090094}. Best is trial 24 with value: 0.7859111791730474.\u001b[0m\n",
            "\u001b[32m[I 2022-07-25 05:45:45,477]\u001b[0m Trial 33 finished with value: 0.7520964360587002 and parameters: {'threshold': 0.34917904503257857}. Best is trial 24 with value: 0.7859111791730474.\u001b[0m\n",
            "\u001b[32m[I 2022-07-25 05:45:45,516]\u001b[0m Trial 34 finished with value: 0.7835051546391752 and parameters: {'threshold': 0.46682889637861597}. Best is trial 24 with value: 0.7859111791730474.\u001b[0m\n",
            "\u001b[32m[I 2022-07-25 05:45:45,556]\u001b[0m Trial 35 finished with value: 0.775330396475771 and parameters: {'threshold': 0.44097219458275744}. Best is trial 24 with value: 0.7859111791730474.\u001b[0m\n",
            "\u001b[32m[I 2022-07-25 05:45:45,578]\u001b[0m Trial 36 finished with value: 0.6982033204457584 and parameters: {'threshold': 0.2555930550513957}. Best is trial 24 with value: 0.7859111791730474.\u001b[0m\n",
            "\u001b[32m[I 2022-07-25 05:45:45,609]\u001b[0m Trial 37 finished with value: 0.7687150837988826 and parameters: {'threshold': 0.3950930916481467}. Best is trial 24 with value: 0.7859111791730474.\u001b[0m\n",
            "\u001b[32m[I 2022-07-25 05:45:45,650]\u001b[0m Trial 38 finished with value: 0.7329587099926705 and parameters: {'threshold': 0.2993834223734182}. Best is trial 24 with value: 0.7859111791730474.\u001b[0m\n",
            "\u001b[32m[I 2022-07-25 05:45:45,691]\u001b[0m Trial 39 finished with value: 0.7294545454545454 and parameters: {'threshold': 0.6465681500517502}. Best is trial 24 with value: 0.7859111791730474.\u001b[0m\n",
            "\u001b[32m[I 2022-07-25 05:45:45,711]\u001b[0m Trial 40 finished with value: 0.7650459027541653 and parameters: {'threshold': 0.5802662162814523}. Best is trial 24 with value: 0.7859111791730474.\u001b[0m\n",
            "\u001b[32m[I 2022-07-25 05:45:45,746]\u001b[0m Trial 41 finished with value: 0.7842413050169285 and parameters: {'threshold': 0.4797914067855182}. Best is trial 24 with value: 0.7859111791730474.\u001b[0m\n",
            "\u001b[32m[I 2022-07-25 05:45:45,780]\u001b[0m Trial 42 finished with value: 0.7845968712394705 and parameters: {'threshold': 0.4625034451322737}. Best is trial 24 with value: 0.7859111791730474.\u001b[0m\n",
            "\u001b[32m[I 2022-07-25 05:45:45,827]\u001b[0m Trial 43 finished with value: 0.7731147540983607 and parameters: {'threshold': 0.545779132915155}. Best is trial 24 with value: 0.7859111791730474.\u001b[0m\n",
            "\u001b[32m[I 2022-07-25 05:45:45,849]\u001b[0m Trial 44 finished with value: 0.7832676568657169 and parameters: {'threshold': 0.466781707295372}. Best is trial 24 with value: 0.7859111791730474.\u001b[0m\n",
            "\u001b[32m[I 2022-07-25 05:45:45,882]\u001b[0m Trial 45 finished with value: 0.7655266757865936 and parameters: {'threshold': 0.3796259583428865}. Best is trial 24 with value: 0.7859111791730474.\u001b[0m\n",
            "\u001b[32m[I 2022-07-25 05:45:45,924]\u001b[0m Trial 46 finished with value: 0.7747629944426284 and parameters: {'threshold': 0.5388215735325343}. Best is trial 24 with value: 0.7859111791730474.\u001b[0m\n",
            "\u001b[32m[I 2022-07-25 05:45:45,947]\u001b[0m Trial 47 finished with value: 0.7527259936686599 and parameters: {'threshold': 0.618748454005573}. Best is trial 24 with value: 0.7859111791730474.\u001b[0m\n",
            "\u001b[32m[I 2022-07-25 05:45:45,981]\u001b[0m Trial 48 finished with value: 0.34381338742393514 and parameters: {'threshold': 0.9368693433869364}. Best is trial 24 with value: 0.7859111791730474.\u001b[0m\n",
            "\u001b[32m[I 2022-07-25 05:45:46,017]\u001b[0m Trial 49 finished with value: 0.7737142857142857 and parameters: {'threshold': 0.41501385255833223}. Best is trial 24 with value: 0.7859111791730474.\u001b[0m\n",
            "\u001b[32m[I 2022-07-25 05:45:46,073]\u001b[0m Trial 50 finished with value: 0.652402099313686 and parameters: {'threshold': 0.7504134371975957}. Best is trial 24 with value: 0.7859111791730474.\u001b[0m\n",
            "\u001b[32m[I 2022-07-25 05:45:46,098]\u001b[0m Trial 51 finished with value: 0.7844932844932846 and parameters: {'threshold': 0.4719675829307945}. Best is trial 24 with value: 0.7859111791730474.\u001b[0m\n",
            "\u001b[32m[I 2022-07-25 05:45:46,130]\u001b[0m Trial 52 finished with value: 0.7815954586196594 and parameters: {'threshold': 0.455901971050027}. Best is trial 24 with value: 0.7859111791730474.\u001b[0m\n",
            "\u001b[32m[I 2022-07-25 05:45:46,173]\u001b[0m Trial 53 finished with value: 0.7798135647701704 and parameters: {'threshold': 0.5213628387004519}. Best is trial 24 with value: 0.7859111791730474.\u001b[0m\n",
            "\u001b[32m[I 2022-07-25 05:45:46,199]\u001b[0m Trial 54 finished with value: 0.7843258253625424 and parameters: {'threshold': 0.48180346283335934}. Best is trial 24 with value: 0.7859111791730474.\u001b[0m\n",
            "\u001b[32m[I 2022-07-25 05:45:46,231]\u001b[0m Trial 55 finished with value: 0.766723259762309 and parameters: {'threshold': 0.5797124848827614}. Best is trial 24 with value: 0.7859111791730474.\u001b[0m\n",
            "\u001b[32m[I 2022-07-25 05:45:46,276]\u001b[0m Trial 56 finished with value: 0.7396508728179552 and parameters: {'threshold': 0.3120654466276416}. Best is trial 24 with value: 0.7859111791730474.\u001b[0m\n",
            "\u001b[32m[I 2022-07-25 05:45:46,296]\u001b[0m Trial 57 finished with value: 0.7738231917336394 and parameters: {'threshold': 0.4195638535115662}. Best is trial 24 with value: 0.7859111791730474.\u001b[0m\n",
            "\u001b[32m[I 2022-07-25 05:45:46,330]\u001b[0m Trial 58 finished with value: 0.784896316929743 and parameters: {'threshold': 0.48491908721974103}. Best is trial 24 with value: 0.7859111791730474.\u001b[0m\n",
            "\u001b[32m[I 2022-07-25 05:45:46,361]\u001b[0m Trial 59 finished with value: 0.7555555555555556 and parameters: {'threshold': 0.3541952247901282}. Best is trial 24 with value: 0.7859111791730474.\u001b[0m\n",
            "\u001b[32m[I 2022-07-25 05:45:46,412]\u001b[0m Trial 60 finished with value: 0.7729980145598941 and parameters: {'threshold': 0.5559943701277966}. Best is trial 24 with value: 0.7859111791730474.\u001b[0m\n",
            "\u001b[32m[I 2022-07-25 05:45:46,438]\u001b[0m Trial 61 finished with value: 0.7801463569837734 and parameters: {'threshold': 0.5113675283616658}. Best is trial 24 with value: 0.7859111791730474.\u001b[0m\n",
            "\u001b[32m[I 2022-07-25 05:45:46,470]\u001b[0m Trial 62 finished with value: 0.7748538011695907 and parameters: {'threshold': 0.4368963259034674}. Best is trial 24 with value: 0.7859111791730474.\u001b[0m\n",
            "\u001b[32m[I 2022-07-25 05:45:46,515]\u001b[0m Trial 63 finished with value: 0.7837418554142104 and parameters: {'threshold': 0.4866453453368944}. Best is trial 24 with value: 0.7859111791730474.\u001b[0m\n",
            "\u001b[32m[I 2022-07-25 05:45:46,535]\u001b[0m Trial 64 finished with value: 0.7679558011049724 and parameters: {'threshold': 0.3877020959265849}. Best is trial 24 with value: 0.7859111791730474.\u001b[0m\n",
            "\u001b[32m[I 2022-07-25 05:45:46,567]\u001b[0m Trial 65 finished with value: 0.3601811954480168 and parameters: {'threshold': 0.017951719132110355}. Best is trial 24 with value: 0.7859111791730474.\u001b[0m\n",
            "\u001b[32m[I 2022-07-25 05:45:46,601]\u001b[0m Trial 66 finished with value: 0.7571131158917419 and parameters: {'threshold': 0.6028821604950012}. Best is trial 24 with value: 0.7859111791730474.\u001b[0m\n",
            "\u001b[32m[I 2022-07-25 05:45:46,650]\u001b[0m Trial 67 finished with value: 0.7837418554142104 and parameters: {'threshold': 0.48680301655162267}. Best is trial 24 with value: 0.7859111791730474.\u001b[0m\n",
            "\u001b[32m[I 2022-07-25 05:45:46,671]\u001b[0m Trial 68 finished with value: 0.7795403043056005 and parameters: {'threshold': 0.5289049066004495}. Best is trial 24 with value: 0.7859111791730474.\u001b[0m\n",
            "\u001b[32m[I 2022-07-25 05:45:46,703]\u001b[0m Trial 69 finished with value: 0.5042801556420233 and parameters: {'threshold': 0.09724804238926965}. Best is trial 24 with value: 0.7859111791730474.\u001b[0m\n",
            "\u001b[32m[I 2022-07-25 05:45:46,751]\u001b[0m Trial 70 finished with value: 0.7304136253041362 and parameters: {'threshold': 0.2961084554299672}. Best is trial 24 with value: 0.7859111791730474.\u001b[0m\n",
            "\u001b[32m[I 2022-07-25 05:45:46,776]\u001b[0m Trial 71 finished with value: 0.7840874582447617 and parameters: {'threshold': 0.4681564593580867}. Best is trial 24 with value: 0.7859111791730474.\u001b[0m\n",
            "\u001b[32m[I 2022-07-25 05:45:46,809]\u001b[0m Trial 72 finished with value: 0.7740622273916835 and parameters: {'threshold': 0.43226769940679355}. Best is trial 24 with value: 0.7859111791730474.\u001b[0m\n",
            "\u001b[32m[I 2022-07-25 05:45:46,853]\u001b[0m Trial 73 finished with value: 0.785276073619632 and parameters: {'threshold': 0.4774378305575536}. Best is trial 24 with value: 0.7859111791730474.\u001b[0m\n",
            "\u001b[32m[I 2022-07-25 05:45:46,880]\u001b[0m Trial 74 finished with value: 0.7705334462320068 and parameters: {'threshold': 0.40270360038480907}. Best is trial 24 with value: 0.7859111791730474.\u001b[0m\n"
          ]
        }
      ],
      "source": [
        "study = optuna.create_study(\n",
        "    direction=\"maximize\", study_name=\"cb_tresh\", sampler=sampler\n",
        ")\n",
        "func = lambda trial: objective(trial, models[8], X_train, y_train)\n",
        "# n_trials - кол-во итераций\n",
        "study.optimize(func, n_trials=75, show_progress_bar=True)"
      ]
    },
    {
      "cell_type": "code",
      "execution_count": 91,
      "metadata": {
        "colab": {
          "base_uri": "https://localhost:8080/"
        },
        "id": "OIzAP8LWwlkX",
        "outputId": "b5508345-590d-4267-ba2c-4d967b60ac3e"
      },
      "outputs": [
        {
          "output_type": "stream",
          "name": "stdout",
          "text": [
            "Лучший показатель f1 на тренировочной выборке: 0.78591\n",
            "\n",
            "Лучший порог:\n",
            "threshold: 0.475561830989492\n"
          ]
        }
      ],
      "source": [
        "print(f\"Лучший показатель f1 на тренировочной выборке: {study.best_value:.5f}\")\n",
        "print(\"\")\n",
        "print(f\"Лучший порог:\")\n",
        "\n",
        "for key, value in study.best_params.items():\n",
        "    print(f\"{key}: {value}\")\n",
        "    best_tresh = value"
      ]
    },
    {
      "cell_type": "code",
      "execution_count": 92,
      "metadata": {
        "id": "l8TMNd4bwlkY"
      },
      "outputs": [],
      "source": [
        "model = models[8]\n",
        "df_report.loc[\"CatBoostClassifier_opt_tresh\", \"f1\"] = f1_score(\n",
        "    y_test, (model.predict_proba(X_test)[:, 1] > best_tresh) * 1\n",
        ")\n",
        "df_report.loc[\"CatBoostClassifier_opt_tresh\", \"roc_auc\"] = roc_auc_score(\n",
        "    y_test, model.predict_proba(X_test)[:, 1]\n",
        ")\n",
        "df_report.loc[\"CatBoostClassifier_opt_tresh\", \"accuracy\"] = accuracy_score(\n",
        "    y_test, (model.predict_proba(X_test)[:, 1] > best_tresh) * 1\n",
        ")"
      ]
    },
    {
      "cell_type": "markdown",
      "metadata": {
        "id": "kNXq3W1GnmBt"
      },
      "source": [
        "И напоследок найдем хороший порог для логистической регрессии:"
      ]
    },
    {
      "cell_type": "code",
      "execution_count": 93,
      "metadata": {
        "colab": {
          "base_uri": "https://localhost:8080/",
          "height": 1000,
          "referenced_widgets": [
            "c22c67ed507b4329861c978858430c97",
            "ca209efea0504ff298f2dbb5e5359b99",
            "53a30a69c7734ad1ba51c3012bd15e99",
            "906dba6ed83540a3a77a3439f6249f9a",
            "108bcbc6ad234cfba76805368e686fef",
            "ee2b79bcbed8458cb315da3c5e8fc51a",
            "17a989854a6b4bcaada4dd6b139cd3b7",
            "f85e0766c55947738e2534a7afb862f5",
            "115f5b013e1148b38badd80b44803dc2",
            "c0920611992a48ad87ed1537361828da",
            "433178ba00df48798734aaefe3804b12"
          ]
        },
        "id": "xyEKNkHAfcSz",
        "outputId": "af8fa9e7-d84e-4a42-f6db-75cbc9aaa4fe"
      },
      "outputs": [
        {
          "output_type": "stream",
          "name": "stderr",
          "text": [
            "\u001b[32m[I 2022-07-25 05:45:46,972]\u001b[0m A new study created in memory with name: lr_tresh\u001b[0m\n",
            "/usr/local/lib/python3.7/dist-packages/optuna/progress_bar.py:47: ExperimentalWarning: Progress bar is experimental (supported from v1.2.0). The interface can change in the future.\n",
            "  self._init_valid()\n"
          ]
        },
        {
          "output_type": "display_data",
          "data": {
            "text/plain": [
              "  0%|          | 0/75 [00:00<?, ?it/s]"
            ],
            "application/vnd.jupyter.widget-view+json": {
              "version_major": 2,
              "version_minor": 0,
              "model_id": "c22c67ed507b4329861c978858430c97"
            }
          },
          "metadata": {}
        },
        {
          "output_type": "stream",
          "name": "stdout",
          "text": [
            "\u001b[32m[I 2022-07-25 05:45:47,059]\u001b[0m Trial 0 finished with value: 0.44237154150197633 and parameters: {'threshold': 0.3571817586345363}. Best is trial 0 with value: 0.44237154150197633.\u001b[0m\n",
            "\u001b[32m[I 2022-07-25 05:45:47,071]\u001b[0m Trial 1 finished with value: 0.34051453670780174 and parameters: {'threshold': 0.07961309015596418}. Best is trial 0 with value: 0.44237154150197633.\u001b[0m\n",
            "\u001b[32m[I 2022-07-25 05:45:47,112]\u001b[0m Trial 2 finished with value: 0.4180678255913366 and parameters: {'threshold': 0.30545991834281827}. Best is trial 0 with value: 0.44237154150197633.\u001b[0m\n",
            "\u001b[32m[I 2022-07-25 05:45:47,139]\u001b[0m Trial 3 finished with value: 0.42995963522200625 and parameters: {'threshold': 0.330719311982132}. Best is trial 0 with value: 0.44237154150197633.\u001b[0m\n",
            "\u001b[32m[I 2022-07-25 05:45:47,170]\u001b[0m Trial 4 finished with value: 0.34602368866328254 and parameters: {'threshold': 0.7738302962105958}. Best is trial 0 with value: 0.44237154150197633.\u001b[0m\n",
            "\u001b[32m[I 2022-07-25 05:45:47,214]\u001b[0m Trial 5 finished with value: 0.33852544132917967 and parameters: {'threshold': 0.039959208689977266}. Best is trial 0 with value: 0.44237154150197633.\u001b[0m\n",
            "\u001b[32m[I 2022-07-25 05:45:47,232]\u001b[0m Trial 6 finished with value: 0.474972191323693 and parameters: {'threshold': 0.42949217843163834}. Best is trial 6 with value: 0.474972191323693.\u001b[0m\n",
            "\u001b[32m[I 2022-07-25 05:45:47,259]\u001b[0m Trial 7 finished with value: 0.42178649237472765 and parameters: {'threshold': 0.3149268718426883}. Best is trial 6 with value: 0.474972191323693.\u001b[0m\n",
            "\u001b[32m[I 2022-07-25 05:45:47,284]\u001b[0m Trial 8 finished with value: 0.47592931139549055 and parameters: {'threshold': 0.6364911430675446}. Best is trial 8 with value: 0.47592931139549055.\u001b[0m\n",
            "\u001b[32m[I 2022-07-25 05:45:47,334]\u001b[0m Trial 9 finished with value: 0.4372294372294372 and parameters: {'threshold': 0.34634715008003303}. Best is trial 8 with value: 0.47592931139549055.\u001b[0m\n",
            "\u001b[32m[I 2022-07-25 05:45:47,349]\u001b[0m Trial 10 finished with value: 0.32645897323387446 and parameters: {'threshold': 0.7883464233292861}. Best is trial 8 with value: 0.47592931139549055.\u001b[0m\n",
            "\u001b[32m[I 2022-07-25 05:45:47,377]\u001b[0m Trial 11 finished with value: 0.4873214806178957 and parameters: {'threshold': 0.6175527390709471}. Best is trial 11 with value: 0.4873214806178957.\u001b[0m\n",
            "\u001b[32m[I 2022-07-25 05:45:47,405]\u001b[0m Trial 12 finished with value: 0.4768856447688565 and parameters: {'threshold': 0.6357888918414798}. Best is trial 11 with value: 0.4873214806178957.\u001b[0m\n",
            "\u001b[32m[I 2022-07-25 05:45:47,449]\u001b[0m Trial 13 finished with value: 0.0 and parameters: {'threshold': 0.9998395070507405}. Best is trial 11 with value: 0.4873214806178957.\u001b[0m\n",
            "\u001b[32m[I 2022-07-25 05:45:47,465]\u001b[0m Trial 14 finished with value: 0.49606712113266904 and parameters: {'threshold': 0.5724378520276223}. Best is trial 14 with value: 0.49606712113266904.\u001b[0m\n",
            "\u001b[32m[I 2022-07-25 05:45:47,503]\u001b[0m Trial 15 finished with value: 0.4916170903190914 and parameters: {'threshold': 0.5845844234528298}. Best is trial 14 with value: 0.49606712113266904.\u001b[0m\n",
            "\u001b[32m[I 2022-07-25 05:45:47,549]\u001b[0m Trial 16 finished with value: 0.4901511681172698 and parameters: {'threshold': 0.5185600952825252}. Best is trial 14 with value: 0.49606712113266904.\u001b[0m\n",
            "\u001b[32m[I 2022-07-25 05:45:47,599]\u001b[0m Trial 17 finished with value: 0.34712837837837834 and parameters: {'threshold': 0.7721795706393185}. Best is trial 14 with value: 0.49606712113266904.\u001b[0m\n",
            "\u001b[32m[I 2022-07-25 05:45:47,615]\u001b[0m Trial 18 finished with value: 0.36958546809501625 and parameters: {'threshold': 0.18614096639550465}. Best is trial 14 with value: 0.49606712113266904.\u001b[0m\n",
            "\u001b[32m[I 2022-07-25 05:45:47,653]\u001b[0m Trial 19 finished with value: 0.4913334874046683 and parameters: {'threshold': 0.5238799564523343}. Best is trial 14 with value: 0.49606712113266904.\u001b[0m\n",
            "\u001b[32m[I 2022-07-25 05:45:47,693]\u001b[0m Trial 20 finished with value: 0.13663911845730028 and parameters: {'threshold': 0.883964878130525}. Best is trial 14 with value: 0.49606712113266904.\u001b[0m\n",
            "\u001b[32m[I 2022-07-25 05:45:47,717]\u001b[0m Trial 21 finished with value: 0.4909930715935335 and parameters: {'threshold': 0.5229978418289728}. Best is trial 14 with value: 0.49606712113266904.\u001b[0m\n",
            "\u001b[32m[I 2022-07-25 05:45:47,746]\u001b[0m Trial 22 finished with value: 0.49349960201645005 and parameters: {'threshold': 0.5779732168258833}. Best is trial 14 with value: 0.49606712113266904.\u001b[0m\n",
            "\u001b[32m[I 2022-07-25 05:45:47,776]\u001b[0m Trial 23 finished with value: 0.44620144379511856 and parameters: {'threshold': 0.6878273056249185}. Best is trial 14 with value: 0.49606712113266904.\u001b[0m\n",
            "\u001b[32m[I 2022-07-25 05:45:47,817]\u001b[0m Trial 24 finished with value: 0.48692070030895984 and parameters: {'threshold': 0.47397942667602183}. Best is trial 14 with value: 0.49606712113266904.\u001b[0m\n",
            "\u001b[32m[I 2022-07-25 05:45:47,844]\u001b[0m Trial 25 finished with value: 0.4949920927780706 and parameters: {'threshold': 0.5745421472270309}. Best is trial 14 with value: 0.49606712113266904.\u001b[0m\n",
            "\u001b[32m[I 2022-07-25 05:45:47,872]\u001b[0m Trial 26 finished with value: 0.41602352076442484 and parameters: {'threshold': 0.7160408922983186}. Best is trial 14 with value: 0.49606712113266904.\u001b[0m\n",
            "\u001b[32m[I 2022-07-25 05:45:47,903]\u001b[0m Trial 27 finished with value: 0.4851131401349742 and parameters: {'threshold': 0.45907284352096717}. Best is trial 14 with value: 0.49606712113266904.\u001b[0m\n",
            "\u001b[32m[I 2022-07-25 05:45:47,945]\u001b[0m Trial 28 finished with value: 0.16871329418045913 and parameters: {'threshold': 0.8683041804189582}. Best is trial 14 with value: 0.49606712113266904.\u001b[0m\n",
            "\u001b[32m[I 2022-07-25 05:45:47,962]\u001b[0m Trial 29 finished with value: 0.476013387876534 and parameters: {'threshold': 0.43056154465162344}. Best is trial 14 with value: 0.49606712113266904.\u001b[0m\n",
            "\u001b[32m[I 2022-07-25 05:45:47,994]\u001b[0m Trial 30 finished with value: 0.3945001285016705 and parameters: {'threshold': 0.24749052903266516}. Best is trial 14 with value: 0.49606712113266904.\u001b[0m\n",
            "\u001b[32m[I 2022-07-25 05:45:48,021]\u001b[0m Trial 31 finished with value: 0.491776759234295 and parameters: {'threshold': 0.5832962096122815}. Best is trial 14 with value: 0.49606712113266904.\u001b[0m\n",
            "\u001b[32m[I 2022-07-25 05:45:48,059]\u001b[0m Trial 32 finished with value: 0.4966198647945918 and parameters: {'threshold': 0.569417512784727}. Best is trial 32 with value: 0.4966198647945918.\u001b[0m\n",
            "\u001b[32m[I 2022-07-25 05:45:48,076]\u001b[0m Trial 33 finished with value: 0.4638180565127499 and parameters: {'threshold': 0.39718570430271116}. Best is trial 32 with value: 0.4966198647945918.\u001b[0m\n",
            "\u001b[32m[I 2022-07-25 05:45:48,102]\u001b[0m Trial 34 finished with value: 0.4465084279325765 and parameters: {'threshold': 0.6882694071235871}. Best is trial 32 with value: 0.4966198647945918.\u001b[0m\n",
            "\u001b[32m[I 2022-07-25 05:45:48,130]\u001b[0m Trial 35 finished with value: 0.4980217606330365 and parameters: {'threshold': 0.5493975614805005}. Best is trial 35 with value: 0.4980217606330365.\u001b[0m\n",
            "\u001b[32m[I 2022-07-25 05:45:48,172]\u001b[0m Trial 36 finished with value: 0.49676956209619527 and parameters: {'threshold': 0.5371374234473268}. Best is trial 35 with value: 0.4980217606330365.\u001b[0m\n",
            "\u001b[32m[I 2022-07-25 05:45:48,194]\u001b[0m Trial 37 finished with value: 0.4615909866848754 and parameters: {'threshold': 0.39321608722247786}. Best is trial 35 with value: 0.4980217606330365.\u001b[0m\n",
            "\u001b[32m[I 2022-07-25 05:45:48,219]\u001b[0m Trial 38 finished with value: 0.39832175167169265 and parameters: {'threshold': 0.25947114310684677}. Best is trial 35 with value: 0.4980217606330365.\u001b[0m\n",
            "\u001b[32m[I 2022-07-25 05:45:48,246]\u001b[0m Trial 39 finished with value: 0.48575129533678757 and parameters: {'threshold': 0.49373913193276275}. Best is trial 35 with value: 0.4980217606330365.\u001b[0m\n",
            "\u001b[32m[I 2022-07-25 05:45:48,279]\u001b[0m Trial 40 finished with value: 0.39511823035850496 and parameters: {'threshold': 0.7307257559507478}. Best is trial 35 with value: 0.4980217606330365.\u001b[0m\n",
            "\u001b[32m[I 2022-07-25 05:45:48,307]\u001b[0m Trial 41 finished with value: 0.49626955475330925 and parameters: {'threshold': 0.5397158310473232}. Best is trial 35 with value: 0.4980217606330365.\u001b[0m\n",
            "\u001b[32m[I 2022-07-25 05:45:48,332]\u001b[0m Trial 42 finished with value: 0.4967540274104353 and parameters: {'threshold': 0.5393089950045286}. Best is trial 35 with value: 0.4980217606330365.\u001b[0m\n",
            "\u001b[32m[I 2022-07-25 05:45:48,359]\u001b[0m Trial 43 finished with value: 0.49648484848484853 and parameters: {'threshold': 0.5424795012246351}. Best is trial 35 with value: 0.4980217606330365.\u001b[0m\n",
            "\u001b[32m[I 2022-07-25 05:45:48,397]\u001b[0m Trial 44 finished with value: 0.47383090740167233 and parameters: {'threshold': 0.6435743991679597}. Best is trial 35 with value: 0.4980217606330365.\u001b[0m\n",
            "\u001b[32m[I 2022-07-25 05:45:48,414]\u001b[0m Trial 45 finished with value: 0.4837953924248341 and parameters: {'threshold': 0.4520156387116794}. Best is trial 35 with value: 0.4980217606330365.\u001b[0m\n",
            "\u001b[32m[I 2022-07-25 05:45:48,442]\u001b[0m Trial 46 finished with value: 0.4476405946994182 and parameters: {'threshold': 0.3686828509556478}. Best is trial 35 with value: 0.4980217606330365.\u001b[0m\n",
            "\u001b[32m[I 2022-07-25 05:45:48,469]\u001b[0m Trial 47 finished with value: 0.47840531561461797 and parameters: {'threshold': 0.6326967381722199}. Best is trial 35 with value: 0.4980217606330365.\u001b[0m\n",
            "\u001b[32m[I 2022-07-25 05:45:48,505]\u001b[0m Trial 48 finished with value: 0.46682073291515347 and parameters: {'threshold': 0.6706389645723623}. Best is trial 35 with value: 0.4980217606330365.\u001b[0m\n",
            "\u001b[32m[I 2022-07-25 05:45:48,522]\u001b[0m Trial 49 finished with value: 0.49787977051633825 and parameters: {'threshold': 0.5526958878927439}. Best is trial 35 with value: 0.4980217606330365.\u001b[0m\n",
            "\u001b[32m[I 2022-07-25 05:45:48,549]\u001b[0m Trial 50 finished with value: 0.4883866917765222 and parameters: {'threshold': 0.4802796898953957}. Best is trial 35 with value: 0.4980217606330365.\u001b[0m\n",
            "\u001b[32m[I 2022-07-25 05:45:48,577]\u001b[0m Trial 51 finished with value: 0.49801390268123136 and parameters: {'threshold': 0.5514603331075907}. Best is trial 35 with value: 0.4980217606330365.\u001b[0m\n",
            "\u001b[32m[I 2022-07-25 05:45:48,617]\u001b[0m Trial 52 finished with value: 0.4895421141888072 and parameters: {'threshold': 0.6029654667249579}. Best is trial 35 with value: 0.4980217606330365.\u001b[0m\n",
            "\u001b[32m[I 2022-07-25 05:45:48,634]\u001b[0m Trial 53 finished with value: 0.4969249692496925 and parameters: {'threshold': 0.5477700905479678}. Best is trial 35 with value: 0.4980217606330365.\u001b[0m\n",
            "\u001b[32m[I 2022-07-25 05:45:48,660]\u001b[0m Trial 54 finished with value: 0.47044025157232705 and parameters: {'threshold': 0.41578950105110435}. Best is trial 35 with value: 0.4980217606330365.\u001b[0m\n",
            "\u001b[32m[I 2022-07-25 05:45:48,695]\u001b[0m Trial 55 finished with value: 0.48816768086544976 and parameters: {'threshold': 0.512431439155006}. Best is trial 35 with value: 0.4980217606330365.\u001b[0m\n",
            "\u001b[32m[I 2022-07-25 05:45:48,741]\u001b[0m Trial 56 finished with value: 0.48432879952690716 and parameters: {'threshold': 0.6238379250610587}. Best is trial 35 with value: 0.4980217606330365.\u001b[0m\n",
            "\u001b[32m[I 2022-07-25 05:45:48,758]\u001b[0m Trial 57 finished with value: 0.49652528157201065 and parameters: {'threshold': 0.5379139056350609}. Best is trial 35 with value: 0.4980217606330365.\u001b[0m\n",
            "\u001b[32m[I 2022-07-25 05:45:48,789]\u001b[0m Trial 58 finished with value: 0.3401587964897618 and parameters: {'threshold': 0.0771397834389766}. Best is trial 35 with value: 0.4980217606330365.\u001b[0m\n",
            "\u001b[32m[I 2022-07-25 05:45:48,824]\u001b[0m Trial 59 finished with value: 0.4283595372293089 and parameters: {'threshold': 0.32734331093453284}. Best is trial 35 with value: 0.4980217606330365.\u001b[0m\n",
            "\u001b[32m[I 2022-07-25 05:45:48,872]\u001b[0m Trial 60 finished with value: 0.4742268041237113 and parameters: {'threshold': 0.6616002053290244}. Best is trial 35 with value: 0.4980217606330365.\u001b[0m\n",
            "\u001b[32m[I 2022-07-25 05:45:48,888]\u001b[0m Trial 61 finished with value: 0.4901185770750988 and parameters: {'threshold': 0.6022957168306573}. Best is trial 35 with value: 0.4980217606330365.\u001b[0m\n",
            "\u001b[32m[I 2022-07-25 05:45:48,920]\u001b[0m Trial 62 finished with value: 0.48585618656877566 and parameters: {'threshold': 0.4938555171765987}. Best is trial 35 with value: 0.4980217606330365.\u001b[0m\n",
            "\u001b[32m[I 2022-07-25 05:45:48,951]\u001b[0m Trial 63 finished with value: 0.49835401367434795 and parameters: {'threshold': 0.5596130302597291}. Best is trial 63 with value: 0.49835401367434795.\u001b[0m\n",
            "\u001b[32m[I 2022-07-25 05:45:48,992]\u001b[0m Trial 64 finished with value: 0.49777558082056356 and parameters: {'threshold': 0.5492200988656751}. Best is trial 63 with value: 0.49835401367434795.\u001b[0m\n",
            "\u001b[32m[I 2022-07-25 05:45:49,014]\u001b[0m Trial 65 finished with value: 0.4827320084892919 and parameters: {'threshold': 0.44660811982187276}. Best is trial 63 with value: 0.49835401367434795.\u001b[0m\n",
            "\u001b[32m[I 2022-07-25 05:45:49,051]\u001b[0m Trial 66 finished with value: 0.49701686121919586 and parameters: {'threshold': 0.5683642676351647}. Best is trial 63 with value: 0.49835401367434795.\u001b[0m\n",
            "\u001b[32m[I 2022-07-25 05:45:49,084]\u001b[0m Trial 67 finished with value: 0.3832288401253919 and parameters: {'threshold': 0.7415713044499307}. Best is trial 63 with value: 0.49835401367434795.\u001b[0m\n",
            "\u001b[32m[I 2022-07-25 05:45:49,130]\u001b[0m Trial 68 finished with value: 0.49810366624525915 and parameters: {'threshold': 0.5589015260169968}. Best is trial 63 with value: 0.49835401367434795.\u001b[0m\n",
            "\u001b[32m[I 2022-07-25 05:45:49,147]\u001b[0m Trial 69 finished with value: 0.48784672576494137 and parameters: {'threshold': 0.6087517529847533}. Best is trial 63 with value: 0.49835401367434795.\u001b[0m\n",
            "\u001b[32m[I 2022-07-25 05:45:49,177]\u001b[0m Trial 70 finished with value: 0.29814814814814816 and parameters: {'threshold': 0.8076229870128513}. Best is trial 63 with value: 0.49835401367434795.\u001b[0m\n",
            "\u001b[32m[I 2022-07-25 05:45:49,217]\u001b[0m Trial 71 finished with value: 0.48577680525164113 and parameters: {'threshold': 0.4996841935087773}. Best is trial 63 with value: 0.49835401367434795.\u001b[0m\n",
            "\u001b[32m[I 2022-07-25 05:45:49,269]\u001b[0m Trial 72 finished with value: 0.4987555998008959 and parameters: {'threshold': 0.5521846157628345}. Best is trial 72 with value: 0.4987555998008959.\u001b[0m\n",
            "\u001b[32m[I 2022-07-25 05:45:49,287]\u001b[0m Trial 73 finished with value: 0.49607945635128076 and parameters: {'threshold': 0.5712698557818809}. Best is trial 72 with value: 0.4987555998008959.\u001b[0m\n",
            "\u001b[32m[I 2022-07-25 05:45:49,322]\u001b[0m Trial 74 finished with value: 0.48665172202975343 and parameters: {'threshold': 0.4703019554610801}. Best is trial 72 with value: 0.4987555998008959.\u001b[0m\n"
          ]
        }
      ],
      "source": [
        "study = optuna.create_study(\n",
        "    direction=\"maximize\", study_name=\"lr_tresh\", sampler=sampler\n",
        ")\n",
        "func = lambda trial: objective(trial, models[11], X_train_s, y_train)\n",
        "# n_trials - кол-во итераций\n",
        "study.optimize(func, n_trials=75, show_progress_bar=True)"
      ]
    },
    {
      "cell_type": "code",
      "execution_count": 94,
      "metadata": {
        "colab": {
          "base_uri": "https://localhost:8080/"
        },
        "id": "a3ncvgX3fcS0",
        "outputId": "ce1ba2be-98b4-43c8-d4de-44b22f881cc3"
      },
      "outputs": [
        {
          "output_type": "stream",
          "name": "stdout",
          "text": [
            "Лучший показатель f1 на тренировочной выборке: 0.49876\n",
            "\n",
            "Лучший порог:\n",
            "threshold: 0.5521846157628345\n"
          ]
        }
      ],
      "source": [
        "print(f\"Лучший показатель f1 на тренировочной выборке: {study.best_value:.5f}\")\n",
        "print(\"\")\n",
        "print(f\"Лучший порог:\")\n",
        "\n",
        "for key, value in study.best_params.items():\n",
        "    print(f\"{key}: {value}\")\n",
        "    best_tresh = value"
      ]
    },
    {
      "cell_type": "code",
      "execution_count": 95,
      "metadata": {
        "id": "gyUhvg1UfcS1"
      },
      "outputs": [],
      "source": [
        "model = models[11]\n",
        "df_report.loc[\"LogisticRegression_opt_scaled_tresh\", \"f1\"] = f1_score(\n",
        "    y_test, (model.predict_proba(X_test_s)[:, 1] > best_tresh) * 1\n",
        ")\n",
        "df_report.loc[\"LogisticRegression_opt_scaled_tresh\", \"roc_auc\"] = roc_auc_score(\n",
        "    y_test, model.predict_proba(X_test_s)[:, 1]\n",
        ")\n",
        "df_report.loc[\"LogisticRegression_opt_scaled_tresh\", \"accuracy\"] = accuracy_score(\n",
        "    y_test, (model.predict_proba(X_test_s)[:, 1] > best_tresh) * 1\n",
        ")"
      ]
    },
    {
      "cell_type": "code",
      "execution_count": 96,
      "metadata": {
        "colab": {
          "base_uri": "https://localhost:8080/",
          "height": 582
        },
        "id": "CMDRgaLxEUuU",
        "outputId": "ff96fa8a-7e0b-4c7e-d1be-fdad93186cae"
      },
      "outputs": [
        {
          "output_type": "execute_result",
          "data": {
            "text/plain": [
              "                                        f1  roc_auc  accuracy\n",
              "model                                                        \n",
              "CatBoostClassifier                  0.6070   0.8707    0.8660\n",
              "CatBoostClassifier_opt              0.6318   0.8662    0.8555\n",
              "CatBoostClassifier_opt_scaled       0.6318   0.8662    0.8555\n",
              "CatBoostClassifier_opt_tresh        0.6393   0.8662    0.8550\n",
              "LGBMClassifier                      0.6088   0.8675    0.8670\n",
              "LGBMClassifier_opt                  0.6213   0.8689    0.8080\n",
              "LGBMClassifier_opt_scaled           0.5824   0.8673    0.8580\n",
              "LGBMClassifier_opt_tresh            0.6302   0.8689    0.8480\n",
              "LogisticRegression                  0.0688   0.6815    0.7835\n",
              "LogisticRegression_opt              0.4596   0.7223    0.6625\n",
              "LogisticRegression_opt_scaled       0.5099   0.7831    0.7145\n",
              "LogisticRegression_opt_scaled_tresh 0.5204   0.7831    0.7530\n",
              "RandomForest                        0.5776   0.8606    0.8625\n",
              "RandomForest_opt                    0.6405   0.8692    0.8350\n",
              "RandomForest_opt_scaled             0.6248   0.8664    0.8120\n",
              "RandomForest_opt_tresh              0.6355   0.8692    0.8520"
            ],
            "text/html": [
              "\n",
              "  <div id=\"df-83f2dbdb-9b64-4b36-9428-0738da468539\">\n",
              "    <div class=\"colab-df-container\">\n",
              "      <div>\n",
              "<style scoped>\n",
              "    .dataframe tbody tr th:only-of-type {\n",
              "        vertical-align: middle;\n",
              "    }\n",
              "\n",
              "    .dataframe tbody tr th {\n",
              "        vertical-align: top;\n",
              "    }\n",
              "\n",
              "    .dataframe thead th {\n",
              "        text-align: right;\n",
              "    }\n",
              "</style>\n",
              "<table border=\"1\" class=\"dataframe\">\n",
              "  <thead>\n",
              "    <tr style=\"text-align: right;\">\n",
              "      <th></th>\n",
              "      <th>f1</th>\n",
              "      <th>roc_auc</th>\n",
              "      <th>accuracy</th>\n",
              "    </tr>\n",
              "    <tr>\n",
              "      <th>model</th>\n",
              "      <th></th>\n",
              "      <th></th>\n",
              "      <th></th>\n",
              "    </tr>\n",
              "  </thead>\n",
              "  <tbody>\n",
              "    <tr>\n",
              "      <th>CatBoostClassifier</th>\n",
              "      <td>0.6070</td>\n",
              "      <td>0.8707</td>\n",
              "      <td>0.8660</td>\n",
              "    </tr>\n",
              "    <tr>\n",
              "      <th>CatBoostClassifier_opt</th>\n",
              "      <td>0.6318</td>\n",
              "      <td>0.8662</td>\n",
              "      <td>0.8555</td>\n",
              "    </tr>\n",
              "    <tr>\n",
              "      <th>CatBoostClassifier_opt_scaled</th>\n",
              "      <td>0.6318</td>\n",
              "      <td>0.8662</td>\n",
              "      <td>0.8555</td>\n",
              "    </tr>\n",
              "    <tr>\n",
              "      <th>CatBoostClassifier_opt_tresh</th>\n",
              "      <td>0.6393</td>\n",
              "      <td>0.8662</td>\n",
              "      <td>0.8550</td>\n",
              "    </tr>\n",
              "    <tr>\n",
              "      <th>LGBMClassifier</th>\n",
              "      <td>0.6088</td>\n",
              "      <td>0.8675</td>\n",
              "      <td>0.8670</td>\n",
              "    </tr>\n",
              "    <tr>\n",
              "      <th>LGBMClassifier_opt</th>\n",
              "      <td>0.6213</td>\n",
              "      <td>0.8689</td>\n",
              "      <td>0.8080</td>\n",
              "    </tr>\n",
              "    <tr>\n",
              "      <th>LGBMClassifier_opt_scaled</th>\n",
              "      <td>0.5824</td>\n",
              "      <td>0.8673</td>\n",
              "      <td>0.8580</td>\n",
              "    </tr>\n",
              "    <tr>\n",
              "      <th>LGBMClassifier_opt_tresh</th>\n",
              "      <td>0.6302</td>\n",
              "      <td>0.8689</td>\n",
              "      <td>0.8480</td>\n",
              "    </tr>\n",
              "    <tr>\n",
              "      <th>LogisticRegression</th>\n",
              "      <td>0.0688</td>\n",
              "      <td>0.6815</td>\n",
              "      <td>0.7835</td>\n",
              "    </tr>\n",
              "    <tr>\n",
              "      <th>LogisticRegression_opt</th>\n",
              "      <td>0.4596</td>\n",
              "      <td>0.7223</td>\n",
              "      <td>0.6625</td>\n",
              "    </tr>\n",
              "    <tr>\n",
              "      <th>LogisticRegression_opt_scaled</th>\n",
              "      <td>0.5099</td>\n",
              "      <td>0.7831</td>\n",
              "      <td>0.7145</td>\n",
              "    </tr>\n",
              "    <tr>\n",
              "      <th>LogisticRegression_opt_scaled_tresh</th>\n",
              "      <td>0.5204</td>\n",
              "      <td>0.7831</td>\n",
              "      <td>0.7530</td>\n",
              "    </tr>\n",
              "    <tr>\n",
              "      <th>RandomForest</th>\n",
              "      <td>0.5776</td>\n",
              "      <td>0.8606</td>\n",
              "      <td>0.8625</td>\n",
              "    </tr>\n",
              "    <tr>\n",
              "      <th>RandomForest_opt</th>\n",
              "      <td>0.6405</td>\n",
              "      <td>0.8692</td>\n",
              "      <td>0.8350</td>\n",
              "    </tr>\n",
              "    <tr>\n",
              "      <th>RandomForest_opt_scaled</th>\n",
              "      <td>0.6248</td>\n",
              "      <td>0.8664</td>\n",
              "      <td>0.8120</td>\n",
              "    </tr>\n",
              "    <tr>\n",
              "      <th>RandomForest_opt_tresh</th>\n",
              "      <td>0.6355</td>\n",
              "      <td>0.8692</td>\n",
              "      <td>0.8520</td>\n",
              "    </tr>\n",
              "  </tbody>\n",
              "</table>\n",
              "</div>\n",
              "      <button class=\"colab-df-convert\" onclick=\"convertToInteractive('df-83f2dbdb-9b64-4b36-9428-0738da468539')\"\n",
              "              title=\"Convert this dataframe to an interactive table.\"\n",
              "              style=\"display:none;\">\n",
              "        \n",
              "  <svg xmlns=\"http://www.w3.org/2000/svg\" height=\"24px\"viewBox=\"0 0 24 24\"\n",
              "       width=\"24px\">\n",
              "    <path d=\"M0 0h24v24H0V0z\" fill=\"none\"/>\n",
              "    <path d=\"M18.56 5.44l.94 2.06.94-2.06 2.06-.94-2.06-.94-.94-2.06-.94 2.06-2.06.94zm-11 1L8.5 8.5l.94-2.06 2.06-.94-2.06-.94L8.5 2.5l-.94 2.06-2.06.94zm10 10l.94 2.06.94-2.06 2.06-.94-2.06-.94-.94-2.06-.94 2.06-2.06.94z\"/><path d=\"M17.41 7.96l-1.37-1.37c-.4-.4-.92-.59-1.43-.59-.52 0-1.04.2-1.43.59L10.3 9.45l-7.72 7.72c-.78.78-.78 2.05 0 2.83L4 21.41c.39.39.9.59 1.41.59.51 0 1.02-.2 1.41-.59l7.78-7.78 2.81-2.81c.8-.78.8-2.07 0-2.86zM5.41 20L4 18.59l7.72-7.72 1.47 1.35L5.41 20z\"/>\n",
              "  </svg>\n",
              "      </button>\n",
              "      \n",
              "  <style>\n",
              "    .colab-df-container {\n",
              "      display:flex;\n",
              "      flex-wrap:wrap;\n",
              "      gap: 12px;\n",
              "    }\n",
              "\n",
              "    .colab-df-convert {\n",
              "      background-color: #E8F0FE;\n",
              "      border: none;\n",
              "      border-radius: 50%;\n",
              "      cursor: pointer;\n",
              "      display: none;\n",
              "      fill: #1967D2;\n",
              "      height: 32px;\n",
              "      padding: 0 0 0 0;\n",
              "      width: 32px;\n",
              "    }\n",
              "\n",
              "    .colab-df-convert:hover {\n",
              "      background-color: #E2EBFA;\n",
              "      box-shadow: 0px 1px 2px rgba(60, 64, 67, 0.3), 0px 1px 3px 1px rgba(60, 64, 67, 0.15);\n",
              "      fill: #174EA6;\n",
              "    }\n",
              "\n",
              "    [theme=dark] .colab-df-convert {\n",
              "      background-color: #3B4455;\n",
              "      fill: #D2E3FC;\n",
              "    }\n",
              "\n",
              "    [theme=dark] .colab-df-convert:hover {\n",
              "      background-color: #434B5C;\n",
              "      box-shadow: 0px 1px 3px 1px rgba(0, 0, 0, 0.15);\n",
              "      filter: drop-shadow(0px 1px 2px rgba(0, 0, 0, 0.3));\n",
              "      fill: #FFFFFF;\n",
              "    }\n",
              "  </style>\n",
              "\n",
              "      <script>\n",
              "        const buttonEl =\n",
              "          document.querySelector('#df-83f2dbdb-9b64-4b36-9428-0738da468539 button.colab-df-convert');\n",
              "        buttonEl.style.display =\n",
              "          google.colab.kernel.accessAllowed ? 'block' : 'none';\n",
              "\n",
              "        async function convertToInteractive(key) {\n",
              "          const element = document.querySelector('#df-83f2dbdb-9b64-4b36-9428-0738da468539');\n",
              "          const dataTable =\n",
              "            await google.colab.kernel.invokeFunction('convertToInteractive',\n",
              "                                                     [key], {});\n",
              "          if (!dataTable) return;\n",
              "\n",
              "          const docLinkHtml = 'Like what you see? Visit the ' +\n",
              "            '<a target=\"_blank\" href=https://colab.research.google.com/notebooks/data_table.ipynb>data table notebook</a>'\n",
              "            + ' to learn more about interactive tables.';\n",
              "          element.innerHTML = '';\n",
              "          dataTable['output_type'] = 'display_data';\n",
              "          await google.colab.output.renderOutput(dataTable, element);\n",
              "          const docLink = document.createElement('div');\n",
              "          docLink.innerHTML = docLinkHtml;\n",
              "          element.appendChild(docLink);\n",
              "        }\n",
              "      </script>\n",
              "    </div>\n",
              "  </div>\n",
              "  "
            ]
          },
          "metadata": {},
          "execution_count": 96
        }
      ],
      "source": [
        "df_report.sort_index()"
      ]
    },
    {
      "cell_type": "markdown",
      "metadata": {
        "id": "tHbIPX2OxvOW"
      },
      "source": [
        "Изменение порога никак не сказалось на улучшении результатов по f1 для нашей оптимизированной модели случайного леса, но помогло остальным моделям. И конечно, никак не повлияло на метрику roc_auc."
      ]
    },
    {
      "cell_type": "markdown",
      "metadata": {
        "id": "P0R03kOAf05H"
      },
      "source": [
        "### Проверка моделей на адекватность"
      ]
    },
    {
      "cell_type": "markdown",
      "metadata": {
        "id": "sXcw0HQNrf7s"
      },
      "source": [
        "Проверим наши модели на адекватность, сранивая полученные результаты с наилучшими результатами классификатора,который делает прогнозы, используя простые правила."
      ]
    },
    {
      "cell_type": "code",
      "execution_count": 97,
      "metadata": {
        "id": "ZMq6Y8Gnf05H"
      },
      "outputs": [],
      "source": [
        "best_model_dummy = None\n",
        "best_result = 0\n",
        "strategies = [\"most_frequent\", \"prior\", \"stratified\", \"uniform\"]\n",
        "for strat in strategies:\n",
        "    model = DummyClassifier(random_state=rstate, strategy=strat,)\n",
        "    model.fit(X_train, y_train)\n",
        "    result = f1_score(y_test, model.predict(X_test))\n",
        "    if result > best_result:\n",
        "        best_model_dummy = model\n",
        "        best_result = result"
      ]
    },
    {
      "cell_type": "code",
      "execution_count": 98,
      "metadata": {
        "colab": {
          "base_uri": "https://localhost:8080/"
        },
        "id": "hziZ1Vv4riXs",
        "outputId": "ef66d4ba-46b8-420a-8c40-15152b157e14"
      },
      "outputs": [
        {
          "output_type": "execute_result",
          "data": {
            "text/plain": [
              "{'constant': None, 'random_state': 12345, 'strategy': 'uniform'}"
            ]
          },
          "metadata": {},
          "execution_count": 98
        }
      ],
      "source": [
        "best_model_dummy.get_params()"
      ]
    },
    {
      "cell_type": "code",
      "execution_count": 99,
      "metadata": {
        "id": "cme3hzHuwBF_"
      },
      "outputs": [],
      "source": [
        "df_report.loc[\"dummy\", \"f1\"] = f1_score(y_test, best_model_dummy.predict(X_test))\n",
        "df_report.loc[\"dummy\", \"roc_auc\"] = roc_auc_score(\n",
        "    y_test, best_model_dummy.predict_proba(X_test)[:, 1]\n",
        ")\n",
        "df_report.loc[\"dummy\", \"accuracy\"] = best_model_dummy.score(X_test, y_test)"
      ]
    },
    {
      "cell_type": "code",
      "execution_count": 100,
      "metadata": {
        "colab": {
          "base_uri": "https://localhost:8080/",
          "height": 614
        },
        "id": "ssHjJMfwFo1G",
        "outputId": "a9a2a00f-0752-48ae-e8b4-46bacbd5ca96"
      },
      "outputs": [
        {
          "output_type": "execute_result",
          "data": {
            "text/plain": [
              "                                        f1  roc_auc  accuracy\n",
              "model                                                        \n",
              "RandomForest_opt                    0.6405   0.8692    0.8350\n",
              "CatBoostClassifier_opt_tresh        0.6393   0.8662    0.8550\n",
              "RandomForest_opt_tresh              0.6355   0.8692    0.8520\n",
              "CatBoostClassifier_opt              0.6318   0.8662    0.8555\n",
              "CatBoostClassifier_opt_scaled       0.6318   0.8662    0.8555\n",
              "LGBMClassifier_opt_tresh            0.6302   0.8689    0.8480\n",
              "RandomForest_opt_scaled             0.6248   0.8664    0.8120\n",
              "LGBMClassifier_opt                  0.6213   0.8689    0.8080\n",
              "LGBMClassifier                      0.6088   0.8675    0.8670\n",
              "CatBoostClassifier                  0.6070   0.8707    0.8660\n",
              "LGBMClassifier_opt_scaled           0.5824   0.8673    0.8580\n",
              "RandomForest                        0.5776   0.8606    0.8625\n",
              "LogisticRegression_opt_scaled_tresh 0.5204   0.7831    0.7530\n",
              "LogisticRegression_opt_scaled       0.5099   0.7831    0.7145\n",
              "LogisticRegression_opt              0.4596   0.7223    0.6625\n",
              "dummy                               0.3202   0.5000    0.5180\n",
              "LogisticRegression                  0.0688   0.6815    0.7835"
            ],
            "text/html": [
              "\n",
              "  <div id=\"df-8dff4ef1-5feb-463b-8e9f-629a5a221897\">\n",
              "    <div class=\"colab-df-container\">\n",
              "      <div>\n",
              "<style scoped>\n",
              "    .dataframe tbody tr th:only-of-type {\n",
              "        vertical-align: middle;\n",
              "    }\n",
              "\n",
              "    .dataframe tbody tr th {\n",
              "        vertical-align: top;\n",
              "    }\n",
              "\n",
              "    .dataframe thead th {\n",
              "        text-align: right;\n",
              "    }\n",
              "</style>\n",
              "<table border=\"1\" class=\"dataframe\">\n",
              "  <thead>\n",
              "    <tr style=\"text-align: right;\">\n",
              "      <th></th>\n",
              "      <th>f1</th>\n",
              "      <th>roc_auc</th>\n",
              "      <th>accuracy</th>\n",
              "    </tr>\n",
              "    <tr>\n",
              "      <th>model</th>\n",
              "      <th></th>\n",
              "      <th></th>\n",
              "      <th></th>\n",
              "    </tr>\n",
              "  </thead>\n",
              "  <tbody>\n",
              "    <tr>\n",
              "      <th>RandomForest_opt</th>\n",
              "      <td>0.6405</td>\n",
              "      <td>0.8692</td>\n",
              "      <td>0.8350</td>\n",
              "    </tr>\n",
              "    <tr>\n",
              "      <th>CatBoostClassifier_opt_tresh</th>\n",
              "      <td>0.6393</td>\n",
              "      <td>0.8662</td>\n",
              "      <td>0.8550</td>\n",
              "    </tr>\n",
              "    <tr>\n",
              "      <th>RandomForest_opt_tresh</th>\n",
              "      <td>0.6355</td>\n",
              "      <td>0.8692</td>\n",
              "      <td>0.8520</td>\n",
              "    </tr>\n",
              "    <tr>\n",
              "      <th>CatBoostClassifier_opt</th>\n",
              "      <td>0.6318</td>\n",
              "      <td>0.8662</td>\n",
              "      <td>0.8555</td>\n",
              "    </tr>\n",
              "    <tr>\n",
              "      <th>CatBoostClassifier_opt_scaled</th>\n",
              "      <td>0.6318</td>\n",
              "      <td>0.8662</td>\n",
              "      <td>0.8555</td>\n",
              "    </tr>\n",
              "    <tr>\n",
              "      <th>LGBMClassifier_opt_tresh</th>\n",
              "      <td>0.6302</td>\n",
              "      <td>0.8689</td>\n",
              "      <td>0.8480</td>\n",
              "    </tr>\n",
              "    <tr>\n",
              "      <th>RandomForest_opt_scaled</th>\n",
              "      <td>0.6248</td>\n",
              "      <td>0.8664</td>\n",
              "      <td>0.8120</td>\n",
              "    </tr>\n",
              "    <tr>\n",
              "      <th>LGBMClassifier_opt</th>\n",
              "      <td>0.6213</td>\n",
              "      <td>0.8689</td>\n",
              "      <td>0.8080</td>\n",
              "    </tr>\n",
              "    <tr>\n",
              "      <th>LGBMClassifier</th>\n",
              "      <td>0.6088</td>\n",
              "      <td>0.8675</td>\n",
              "      <td>0.8670</td>\n",
              "    </tr>\n",
              "    <tr>\n",
              "      <th>CatBoostClassifier</th>\n",
              "      <td>0.6070</td>\n",
              "      <td>0.8707</td>\n",
              "      <td>0.8660</td>\n",
              "    </tr>\n",
              "    <tr>\n",
              "      <th>LGBMClassifier_opt_scaled</th>\n",
              "      <td>0.5824</td>\n",
              "      <td>0.8673</td>\n",
              "      <td>0.8580</td>\n",
              "    </tr>\n",
              "    <tr>\n",
              "      <th>RandomForest</th>\n",
              "      <td>0.5776</td>\n",
              "      <td>0.8606</td>\n",
              "      <td>0.8625</td>\n",
              "    </tr>\n",
              "    <tr>\n",
              "      <th>LogisticRegression_opt_scaled_tresh</th>\n",
              "      <td>0.5204</td>\n",
              "      <td>0.7831</td>\n",
              "      <td>0.7530</td>\n",
              "    </tr>\n",
              "    <tr>\n",
              "      <th>LogisticRegression_opt_scaled</th>\n",
              "      <td>0.5099</td>\n",
              "      <td>0.7831</td>\n",
              "      <td>0.7145</td>\n",
              "    </tr>\n",
              "    <tr>\n",
              "      <th>LogisticRegression_opt</th>\n",
              "      <td>0.4596</td>\n",
              "      <td>0.7223</td>\n",
              "      <td>0.6625</td>\n",
              "    </tr>\n",
              "    <tr>\n",
              "      <th>dummy</th>\n",
              "      <td>0.3202</td>\n",
              "      <td>0.5000</td>\n",
              "      <td>0.5180</td>\n",
              "    </tr>\n",
              "    <tr>\n",
              "      <th>LogisticRegression</th>\n",
              "      <td>0.0688</td>\n",
              "      <td>0.6815</td>\n",
              "      <td>0.7835</td>\n",
              "    </tr>\n",
              "  </tbody>\n",
              "</table>\n",
              "</div>\n",
              "      <button class=\"colab-df-convert\" onclick=\"convertToInteractive('df-8dff4ef1-5feb-463b-8e9f-629a5a221897')\"\n",
              "              title=\"Convert this dataframe to an interactive table.\"\n",
              "              style=\"display:none;\">\n",
              "        \n",
              "  <svg xmlns=\"http://www.w3.org/2000/svg\" height=\"24px\"viewBox=\"0 0 24 24\"\n",
              "       width=\"24px\">\n",
              "    <path d=\"M0 0h24v24H0V0z\" fill=\"none\"/>\n",
              "    <path d=\"M18.56 5.44l.94 2.06.94-2.06 2.06-.94-2.06-.94-.94-2.06-.94 2.06-2.06.94zm-11 1L8.5 8.5l.94-2.06 2.06-.94-2.06-.94L8.5 2.5l-.94 2.06-2.06.94zm10 10l.94 2.06.94-2.06 2.06-.94-2.06-.94-.94-2.06-.94 2.06-2.06.94z\"/><path d=\"M17.41 7.96l-1.37-1.37c-.4-.4-.92-.59-1.43-.59-.52 0-1.04.2-1.43.59L10.3 9.45l-7.72 7.72c-.78.78-.78 2.05 0 2.83L4 21.41c.39.39.9.59 1.41.59.51 0 1.02-.2 1.41-.59l7.78-7.78 2.81-2.81c.8-.78.8-2.07 0-2.86zM5.41 20L4 18.59l7.72-7.72 1.47 1.35L5.41 20z\"/>\n",
              "  </svg>\n",
              "      </button>\n",
              "      \n",
              "  <style>\n",
              "    .colab-df-container {\n",
              "      display:flex;\n",
              "      flex-wrap:wrap;\n",
              "      gap: 12px;\n",
              "    }\n",
              "\n",
              "    .colab-df-convert {\n",
              "      background-color: #E8F0FE;\n",
              "      border: none;\n",
              "      border-radius: 50%;\n",
              "      cursor: pointer;\n",
              "      display: none;\n",
              "      fill: #1967D2;\n",
              "      height: 32px;\n",
              "      padding: 0 0 0 0;\n",
              "      width: 32px;\n",
              "    }\n",
              "\n",
              "    .colab-df-convert:hover {\n",
              "      background-color: #E2EBFA;\n",
              "      box-shadow: 0px 1px 2px rgba(60, 64, 67, 0.3), 0px 1px 3px 1px rgba(60, 64, 67, 0.15);\n",
              "      fill: #174EA6;\n",
              "    }\n",
              "\n",
              "    [theme=dark] .colab-df-convert {\n",
              "      background-color: #3B4455;\n",
              "      fill: #D2E3FC;\n",
              "    }\n",
              "\n",
              "    [theme=dark] .colab-df-convert:hover {\n",
              "      background-color: #434B5C;\n",
              "      box-shadow: 0px 1px 3px 1px rgba(0, 0, 0, 0.15);\n",
              "      filter: drop-shadow(0px 1px 2px rgba(0, 0, 0, 0.3));\n",
              "      fill: #FFFFFF;\n",
              "    }\n",
              "  </style>\n",
              "\n",
              "      <script>\n",
              "        const buttonEl =\n",
              "          document.querySelector('#df-8dff4ef1-5feb-463b-8e9f-629a5a221897 button.colab-df-convert');\n",
              "        buttonEl.style.display =\n",
              "          google.colab.kernel.accessAllowed ? 'block' : 'none';\n",
              "\n",
              "        async function convertToInteractive(key) {\n",
              "          const element = document.querySelector('#df-8dff4ef1-5feb-463b-8e9f-629a5a221897');\n",
              "          const dataTable =\n",
              "            await google.colab.kernel.invokeFunction('convertToInteractive',\n",
              "                                                     [key], {});\n",
              "          if (!dataTable) return;\n",
              "\n",
              "          const docLinkHtml = 'Like what you see? Visit the ' +\n",
              "            '<a target=\"_blank\" href=https://colab.research.google.com/notebooks/data_table.ipynb>data table notebook</a>'\n",
              "            + ' to learn more about interactive tables.';\n",
              "          element.innerHTML = '';\n",
              "          dataTable['output_type'] = 'display_data';\n",
              "          await google.colab.output.renderOutput(dataTable, element);\n",
              "          const docLink = document.createElement('div');\n",
              "          docLink.innerHTML = docLinkHtml;\n",
              "          element.appendChild(docLink);\n",
              "        }\n",
              "      </script>\n",
              "    </div>\n",
              "  </div>\n",
              "  "
            ]
          },
          "metadata": {},
          "execution_count": 100
        }
      ],
      "source": [
        "df_report.sort_values(\"f1\", ascending=False)"
      ]
    },
    {
      "cell_type": "markdown",
      "metadata": {
        "id": "oWruydVbrqjd"
      },
      "source": [
        "Наивысшее значение f1 получилось у простой модели, которая генерирует прогнозы равномерно случайным образом из списка уникальных классов, наблюдаемых в тестовой выборке целевого показателя, т. е. каждый класс имеет равную вероятность. Но все наши ранее натренированные модели(кроме обученной по умолчанию логистической регрессии) превосходят эту простейшую модель классификатора по целевому показателю, что значит, модели не выдают случайные результаты, а вполне годны к применению. \n"
      ]
    },
    {
      "cell_type": "markdown",
      "metadata": {
        "id": "Ci9vq1uKF9g0"
      },
      "source": [
        "Оптимизированная модель случайного леса показывает отличные показатели метрик f1 и roc_auc."
      ]
    },
    {
      "cell_type": "code",
      "execution_count": 101,
      "metadata": {
        "colab": {
          "base_uri": "https://localhost:8080/",
          "height": 626
        },
        "id": "NIwjjv6uO6K4",
        "outputId": "69ef6585-a451-4033-a815-9c9ed6eef8bf"
      },
      "outputs": [
        {
          "output_type": "display_data",
          "data": {
            "text/plain": [
              "<Figure size 720x720 with 1 Axes>"
            ],
            "image/png": "[encoded data removed]"
          },
          "metadata": {}
        }
      ],
      "source": [
        "probabilities_test = models[4].predict_proba(X_test)\n",
        "probabilities_one_test = probabilities_test[:, 1]\n",
        "\n",
        "fpr, tpr, thresholds = roc_curve(y_test, probabilities_one_test)\n",
        "\n",
        "plt.figure(figsize=(10, 10))\n",
        "plt.plot(fpr, tpr, linestyle=\"-\")\n",
        "plt.plot([0, 1], [0, 1], linestyle=\"--\")\n",
        "plt.xlim([0.0, 1.0])\n",
        "plt.ylim([0.0, 1.0])\n",
        "plt.xlabel(\"False Positive Rate\")\n",
        "plt.ylabel(\"True Positive Rate\")\n",
        "plt.title(\"ROC-кривая\")\n",
        "plt.show()\n",
        "\n",
        "auc_roc = roc_auc_score(y_test, probabilities_one_test)"
      ]
    },
    {
      "cell_type": "markdown",
      "metadata": {
        "id": "yB7HpG6AHXn1"
      },
      "source": [
        "Посмотрим, какие признаки для нее важны:"
      ]
    },
    {
      "cell_type": "code",
      "execution_count": 102,
      "metadata": {
        "colab": {
          "base_uri": "https://localhost:8080/",
          "height": 143
        },
        "id": "_4IXqF0SGxgd",
        "outputId": "5b1832eb-a1bc-4823-efef-a5e56dceaf0a"
      },
      "outputs": [
        {
          "output_type": "execute_result",
          "data": {
            "text/plain": [
              "         feature  importance\n",
              "0            age      0.3164\n",
              "1  numofproducts      0.2259\n",
              "2        balance      0.1156"
            ],
            "text/html": [
              "\n",
              "  <div id=\"df-2c111df5-39f7-49de-9ef0-0a0ce610bd1a\">\n",
              "    <div class=\"colab-df-container\">\n",
              "      <div>\n",
              "<style scoped>\n",
              "    .dataframe tbody tr th:only-of-type {\n",
              "        vertical-align: middle;\n",
              "    }\n",
              "\n",
              "    .dataframe tbody tr th {\n",
              "        vertical-align: top;\n",
              "    }\n",
              "\n",
              "    .dataframe thead th {\n",
              "        text-align: right;\n",
              "    }\n",
              "</style>\n",
              "<table border=\"1\" class=\"dataframe\">\n",
              "  <thead>\n",
              "    <tr style=\"text-align: right;\">\n",
              "      <th></th>\n",
              "      <th>feature</th>\n",
              "      <th>importance</th>\n",
              "    </tr>\n",
              "  </thead>\n",
              "  <tbody>\n",
              "    <tr>\n",
              "      <th>0</th>\n",
              "      <td>age</td>\n",
              "      <td>0.3164</td>\n",
              "    </tr>\n",
              "    <tr>\n",
              "      <th>1</th>\n",
              "      <td>numofproducts</td>\n",
              "      <td>0.2259</td>\n",
              "    </tr>\n",
              "    <tr>\n",
              "      <th>2</th>\n",
              "      <td>balance</td>\n",
              "      <td>0.1156</td>\n",
              "    </tr>\n",
              "  </tbody>\n",
              "</table>\n",
              "</div>\n",
              "      <button class=\"colab-df-convert\" onclick=\"convertToInteractive('df-2c111df5-39f7-49de-9ef0-0a0ce610bd1a')\"\n",
              "              title=\"Convert this dataframe to an interactive table.\"\n",
              "              style=\"display:none;\">\n",
              "        \n",
              "  <svg xmlns=\"http://www.w3.org/2000/svg\" height=\"24px\"viewBox=\"0 0 24 24\"\n",
              "       width=\"24px\">\n",
              "    <path d=\"M0 0h24v24H0V0z\" fill=\"none\"/>\n",
              "    <path d=\"M18.56 5.44l.94 2.06.94-2.06 2.06-.94-2.06-.94-.94-2.06-.94 2.06-2.06.94zm-11 1L8.5 8.5l.94-2.06 2.06-.94-2.06-.94L8.5 2.5l-.94 2.06-2.06.94zm10 10l.94 2.06.94-2.06 2.06-.94-2.06-.94-.94-2.06-.94 2.06-2.06.94z\"/><path d=\"M17.41 7.96l-1.37-1.37c-.4-.4-.92-.59-1.43-.59-.52 0-1.04.2-1.43.59L10.3 9.45l-7.72 7.72c-.78.78-.78 2.05 0 2.83L4 21.41c.39.39.9.59 1.41.59.51 0 1.02-.2 1.41-.59l7.78-7.78 2.81-2.81c.8-.78.8-2.07 0-2.86zM5.41 20L4 18.59l7.72-7.72 1.47 1.35L5.41 20z\"/>\n",
              "  </svg>\n",
              "      </button>\n",
              "      \n",
              "  <style>\n",
              "    .colab-df-container {\n",
              "      display:flex;\n",
              "      flex-wrap:wrap;\n",
              "      gap: 12px;\n",
              "    }\n",
              "\n",
              "    .colab-df-convert {\n",
              "      background-color: #E8F0FE;\n",
              "      border: none;\n",
              "      border-radius: 50%;\n",
              "      cursor: pointer;\n",
              "      display: none;\n",
              "      fill: #1967D2;\n",
              "      height: 32px;\n",
              "      padding: 0 0 0 0;\n",
              "      width: 32px;\n",
              "    }\n",
              "\n",
              "    .colab-df-convert:hover {\n",
              "      background-color: #E2EBFA;\n",
              "      box-shadow: 0px 1px 2px rgba(60, 64, 67, 0.3), 0px 1px 3px 1px rgba(60, 64, 67, 0.15);\n",
              "      fill: #174EA6;\n",
              "    }\n",
              "\n",
              "    [theme=dark] .colab-df-convert {\n",
              "      background-color: #3B4455;\n",
              "      fill: #D2E3FC;\n",
              "    }\n",
              "\n",
              "    [theme=dark] .colab-df-convert:hover {\n",
              "      background-color: #434B5C;\n",
              "      box-shadow: 0px 1px 3px 1px rgba(0, 0, 0, 0.15);\n",
              "      filter: drop-shadow(0px 1px 2px rgba(0, 0, 0, 0.3));\n",
              "      fill: #FFFFFF;\n",
              "    }\n",
              "  </style>\n",
              "\n",
              "      <script>\n",
              "        const buttonEl =\n",
              "          document.querySelector('#df-2c111df5-39f7-49de-9ef0-0a0ce610bd1a button.colab-df-convert');\n",
              "        buttonEl.style.display =\n",
              "          google.colab.kernel.accessAllowed ? 'block' : 'none';\n",
              "\n",
              "        async function convertToInteractive(key) {\n",
              "          const element = document.querySelector('#df-2c111df5-39f7-49de-9ef0-0a0ce610bd1a');\n",
              "          const dataTable =\n",
              "            await google.colab.kernel.invokeFunction('convertToInteractive',\n",
              "                                                     [key], {});\n",
              "          if (!dataTable) return;\n",
              "\n",
              "          const docLinkHtml = 'Like what you see? Visit the ' +\n",
              "            '<a target=\"_blank\" href=https://colab.research.google.com/notebooks/data_table.ipynb>data table notebook</a>'\n",
              "            + ' to learn more about interactive tables.';\n",
              "          element.innerHTML = '';\n",
              "          dataTable['output_type'] = 'display_data';\n",
              "          await google.colab.output.renderOutput(dataTable, element);\n",
              "          const docLink = document.createElement('div');\n",
              "          docLink.innerHTML = docLinkHtml;\n",
              "          element.appendChild(docLink);\n",
              "        }\n",
              "      </script>\n",
              "    </div>\n",
              "  </div>\n",
              "  "
            ]
          },
          "metadata": {},
          "execution_count": 102
        }
      ],
      "source": [
        "f_imp = pd.DataFrame(\n",
        "    {\"feature\": X_test.columns, \"importance\": models[4].feature_importances_}\n",
        ")\n",
        "f_imp.sort_values(\"importance\", ascending=False).reset_index(drop=True).head(3)"
      ]
    },
    {
      "cell_type": "markdown",
      "metadata": {
        "id": "FBJL5MHguMq1"
      },
      "source": [
        "## Вывод"
      ]
    },
    {
      "cell_type": "markdown",
      "metadata": {
        "id": "KDzxuuX1LWAd"
      },
      "source": [
        "Обучение различных по своим алгоритмам моделей на тренировочных данных и дальнейшая их проверка на тестовых данных позволяет подыскать наиболее подходящую по эффективности модель. Мы убедились в этом, использовав данные клиентов банка и решения об их уходе.  \n",
        "\n",
        "С помощью этих данных мы получили признаки для обучения модели с целью прогнозирования оттока клиентов. \n",
        "\n",
        "Проведя исследование и обучая модели, было установлено, что модель случайного леса из выбранных алгоритмов лучше остальных подходит для решения нашей конкретной задачи. Энерго- и времязатратна по оптимизации, но довольно эффективна."
      ]
    },
    {
      "cell_type": "markdown",
      "metadata": {
        "id": "cYYGlIfwHN2t"
      },
      "source": [
        "При этом, для этой модели наибольший вес для прогнозирования имеют: возраст  клиента, количество продуктов банка, используемых клиентом и баланс счета."
      ]
    }
  ],
  "metadata": {
    "colab": {
      "collapsed_sections": [],
      "name": "7th_proj_nikitin_port",
      "provenance": [],
      "toc_visible": true
    },
    "kernelspec": {
      "display_name": "Python 3 (ipykernel)",
      "language": "python",
      "name": "python3"
    },
    "language_info": {
      "codemirror_mode": {
        "name": "ipython",
        "version": 3
      },
      "file_extension": ".py",
      "mimetype": "text/x-python",
      "name": "python",
      "nbconvert_exporter": "python",
      "pygments_lexer": "ipython3",
      "version": "3.9.7"
    },
    "toc": {
      "base_numbering": 1,
      "nav_menu": {},
      "number_sections": true,
      "sideBar": true,
      "skip_h1_title": true,
      "title_cell": "Table of Contents",
      "title_sidebar": "Contents",
      "toc_cell": false,
      "toc_position": {},
      "toc_section_display": true,
      "toc_window_display": false
    },
    "widgets": {
      "application/vnd.jupyter.widget-state+json": {
        "0d1c19095e7e493ea61a7c4f264928a5": {
          "model_module": "@jupyter-widgets/controls",
          "model_name": "HBoxModel",
          "model_module_version": "1.5.0",
          "state": {
            "_dom_classes": [],
            "_model_module": "@jupyter-widgets/controls",
            "_model_module_version": "1.5.0",
            "_model_name": "HBoxModel",
            "_view_count": null,
            "_view_module": "@jupyter-widgets/controls",
            "_view_module_version": "1.5.0",
            "_view_name": "HBoxView",
            "box_style": "",
            "children": [
              "IPY_MODEL_e4dc2f4afab044e8948ec8491a2a59da",
              "IPY_MODEL_e6624422cb904f799448f6bf44264b3f",
              "IPY_MODEL_3db0bbabd68042a9a677ea80c5c7703f"
            ],
            "layout": "IPY_MODEL_69e427e024274bb6b70b4db31928093b"
          }
        },
        "e4dc2f4afab044e8948ec8491a2a59da": {
          "model_module": "@jupyter-widgets/controls",
          "model_name": "HTMLModel",
          "model_module_version": "1.5.0",
          "state": {
            "_dom_classes": [],
            "_model_module": "@jupyter-widgets/controls",
            "_model_module_version": "1.5.0",
            "_model_name": "HTMLModel",
            "_view_count": null,
            "_view_module": "@jupyter-widgets/controls",
            "_view_module_version": "1.5.0",
            "_view_name": "HTMLView",
            "description": "",
            "description_tooltip": null,
            "layout": "IPY_MODEL_02a93457c62340499a921d5dc32aed6a",
            "placeholder": "​",
            "style": "IPY_MODEL_785339a7a1e3459eb938300ded92d7b8",
            "value": "100%"
          }
        },
        "e6624422cb904f799448f6bf44264b3f": {
          "model_module": "@jupyter-widgets/controls",
          "model_name": "FloatProgressModel",
          "model_module_version": "1.5.0",
          "state": {
            "_dom_classes": [],
            "_model_module": "@jupyter-widgets/controls",
            "_model_module_version": "1.5.0",
            "_model_name": "FloatProgressModel",
            "_view_count": null,
            "_view_module": "@jupyter-widgets/controls",
            "_view_module_version": "1.5.0",
            "_view_name": "ProgressView",
            "bar_style": "success",
            "description": "",
            "description_tooltip": null,
            "layout": "IPY_MODEL_2c56d5784b2e498486fb846c5836d12d",
            "max": 15,
            "min": 0,
            "orientation": "horizontal",
            "style": "IPY_MODEL_a73faa9199b0493db1a335fe0c2c7d10",
            "value": 15
          }
        },
        "3db0bbabd68042a9a677ea80c5c7703f": {
          "model_module": "@jupyter-widgets/controls",
          "model_name": "HTMLModel",
          "model_module_version": "1.5.0",
          "state": {
            "_dom_classes": [],
            "_model_module": "@jupyter-widgets/controls",
            "_model_module_version": "1.5.0",
            "_model_name": "HTMLModel",
            "_view_count": null,
            "_view_module": "@jupyter-widgets/controls",
            "_view_module_version": "1.5.0",
            "_view_name": "HTMLView",
            "description": "",
            "description_tooltip": null,
            "layout": "IPY_MODEL_0721bf0205ea4857a3b42e8f876e29f3",
            "placeholder": "​",
            "style": "IPY_MODEL_26b5f6a5b4694a00b723326daf56dc38",
            "value": " 15/15 [00:36&lt;00:00,  1.64s/it]"
          }
        },
        "69e427e024274bb6b70b4db31928093b": {
          "model_module": "@jupyter-widgets/base",
          "model_name": "LayoutModel",
          "model_module_version": "1.2.0",
          "state": {
            "_model_module": "@jupyter-widgets/base",
            "_model_module_version": "1.2.0",
            "_model_name": "LayoutModel",
            "_view_count": null,
            "_view_module": "@jupyter-widgets/base",
            "_view_module_version": "1.2.0",
            "_view_name": "LayoutView",
            "align_content": null,
            "align_items": null,
            "align_self": null,
            "border": null,
            "bottom": null,
            "display": null,
            "flex": null,
            "flex_flow": null,
            "grid_area": null,
            "grid_auto_columns": null,
            "grid_auto_flow": null,
            "grid_auto_rows": null,
            "grid_column": null,
            "grid_gap": null,
            "grid_row": null,
            "grid_template_areas": null,
            "grid_template_columns": null,
            "grid_template_rows": null,
            "height": null,
            "justify_content": null,
            "justify_items": null,
            "left": null,
            "margin": null,
            "max_height": null,
            "max_width": null,
            "min_height": null,
            "min_width": null,
            "object_fit": null,
            "object_position": null,
            "order": null,
            "overflow": null,
            "overflow_x": null,
            "overflow_y": null,
            "padding": null,
            "right": null,
            "top": null,
            "visibility": null,
            "width": null
          }
        },
        "02a93457c62340499a921d5dc32aed6a": {
          "model_module": "@jupyter-widgets/base",
          "model_name": "LayoutModel",
          "model_module_version": "1.2.0",
          "state": {
            "_model_module": "@jupyter-widgets/base",
            "_model_module_version": "1.2.0",
            "_model_name": "LayoutModel",
            "_view_count": null,
            "_view_module": "@jupyter-widgets/base",
            "_view_module_version": "1.2.0",
            "_view_name": "LayoutView",
            "align_content": null,
            "align_items": null,
            "align_self": null,
            "border": null,
            "bottom": null,
            "display": null,
            "flex": null,
            "flex_flow": null,
            "grid_area": null,
            "grid_auto_columns": null,
            "grid_auto_flow": null,
            "grid_auto_rows": null,
            "grid_column": null,
            "grid_gap": null,
            "grid_row": null,
            "grid_template_areas": null,
            "grid_template_columns": null,
            "grid_template_rows": null,
            "height": null,
            "justify_content": null,
            "justify_items": null,
            "left": null,
            "margin": null,
            "max_height": null,
            "max_width": null,
            "min_height": null,
            "min_width": null,
            "object_fit": null,
            "object_position": null,
            "order": null,
            "overflow": null,
            "overflow_x": null,
            "overflow_y": null,
            "padding": null,
            "right": null,
            "top": null,
            "visibility": null,
            "width": null
          }
        },
        "785339a7a1e3459eb938300ded92d7b8": {
          "model_module": "@jupyter-widgets/controls",
          "model_name": "DescriptionStyleModel",
          "model_module_version": "1.5.0",
          "state": {
            "_model_module": "@jupyter-widgets/controls",
            "_model_module_version": "1.5.0",
            "_model_name": "DescriptionStyleModel",
            "_view_count": null,
            "_view_module": "@jupyter-widgets/base",
            "_view_module_version": "1.2.0",
            "_view_name": "StyleView",
            "description_width": ""
          }
        },
        "2c56d5784b2e498486fb846c5836d12d": {
          "model_module": "@jupyter-widgets/base",
          "model_name": "LayoutModel",
          "model_module_version": "1.2.0",
          "state": {
            "_model_module": "@jupyter-widgets/base",
            "_model_module_version": "1.2.0",
            "_model_name": "LayoutModel",
            "_view_count": null,
            "_view_module": "@jupyter-widgets/base",
            "_view_module_version": "1.2.0",
            "_view_name": "LayoutView",
            "align_content": null,
            "align_items": null,
            "align_self": null,
            "border": null,
            "bottom": null,
            "display": null,
            "flex": null,
            "flex_flow": null,
            "grid_area": null,
            "grid_auto_columns": null,
            "grid_auto_flow": null,
            "grid_auto_rows": null,
            "grid_column": null,
            "grid_gap": null,
            "grid_row": null,
            "grid_template_areas": null,
            "grid_template_columns": null,
            "grid_template_rows": null,
            "height": null,
            "justify_content": null,
            "justify_items": null,
            "left": null,
            "margin": null,
            "max_height": null,
            "max_width": null,
            "min_height": null,
            "min_width": null,
            "object_fit": null,
            "object_position": null,
            "order": null,
            "overflow": null,
            "overflow_x": null,
            "overflow_y": null,
            "padding": null,
            "right": null,
            "top": null,
            "visibility": null,
            "width": null
          }
        },
        "a73faa9199b0493db1a335fe0c2c7d10": {
          "model_module": "@jupyter-widgets/controls",
          "model_name": "ProgressStyleModel",
          "model_module_version": "1.5.0",
          "state": {
            "_model_module": "@jupyter-widgets/controls",
            "_model_module_version": "1.5.0",
            "_model_name": "ProgressStyleModel",
            "_view_count": null,
            "_view_module": "@jupyter-widgets/base",
            "_view_module_version": "1.2.0",
            "_view_name": "StyleView",
            "bar_color": null,
            "description_width": ""
          }
        },
        "0721bf0205ea4857a3b42e8f876e29f3": {
          "model_module": "@jupyter-widgets/base",
          "model_name": "LayoutModel",
          "model_module_version": "1.2.0",
          "state": {
            "_model_module": "@jupyter-widgets/base",
            "_model_module_version": "1.2.0",
            "_model_name": "LayoutModel",
            "_view_count": null,
            "_view_module": "@jupyter-widgets/base",
            "_view_module_version": "1.2.0",
            "_view_name": "LayoutView",
            "align_content": null,
            "align_items": null,
            "align_self": null,
            "border": null,
            "bottom": null,
            "display": null,
            "flex": null,
            "flex_flow": null,
            "grid_area": null,
            "grid_auto_columns": null,
            "grid_auto_flow": null,
            "grid_auto_rows": null,
            "grid_column": null,
            "grid_gap": null,
            "grid_row": null,
            "grid_template_areas": null,
            "grid_template_columns": null,
            "grid_template_rows": null,
            "height": null,
            "justify_content": null,
            "justify_items": null,
            "left": null,
            "margin": null,
            "max_height": null,
            "max_width": null,
            "min_height": null,
            "min_width": null,
            "object_fit": null,
            "object_position": null,
            "order": null,
            "overflow": null,
            "overflow_x": null,
            "overflow_y": null,
            "padding": null,
            "right": null,
            "top": null,
            "visibility": null,
            "width": null
          }
        },
        "26b5f6a5b4694a00b723326daf56dc38": {
          "model_module": "@jupyter-widgets/controls",
          "model_name": "DescriptionStyleModel",
          "model_module_version": "1.5.0",
          "state": {
            "_model_module": "@jupyter-widgets/controls",
            "_model_module_version": "1.5.0",
            "_model_name": "DescriptionStyleModel",
            "_view_count": null,
            "_view_module": "@jupyter-widgets/base",
            "_view_module_version": "1.2.0",
            "_view_name": "StyleView",
            "description_width": ""
          }
        },
        "04cb649048cf458ca362224dc5deb459": {
          "model_module": "@jupyter-widgets/controls",
          "model_name": "HBoxModel",
          "model_module_version": "1.5.0",
          "state": {
            "_dom_classes": [],
            "_model_module": "@jupyter-widgets/controls",
            "_model_module_version": "1.5.0",
            "_model_name": "HBoxModel",
            "_view_count": null,
            "_view_module": "@jupyter-widgets/controls",
            "_view_module_version": "1.5.0",
            "_view_name": "HBoxView",
            "box_style": "",
            "children": [
              "IPY_MODEL_87d414a665e744f9a7796e69b8adf1d5",
              "IPY_MODEL_5592b3fab91f40ee9d6b0d082db1ab34",
              "IPY_MODEL_c11ec48abbbd4e7fa7071aea457d7c5f"
            ],
            "layout": "IPY_MODEL_c85802f007ad4c0990db2b5cd83b5abb"
          }
        },
        "87d414a665e744f9a7796e69b8adf1d5": {
          "model_module": "@jupyter-widgets/controls",
          "model_name": "HTMLModel",
          "model_module_version": "1.5.0",
          "state": {
            "_dom_classes": [],
            "_model_module": "@jupyter-widgets/controls",
            "_model_module_version": "1.5.0",
            "_model_name": "HTMLModel",
            "_view_count": null,
            "_view_module": "@jupyter-widgets/controls",
            "_view_module_version": "1.5.0",
            "_view_name": "HTMLView",
            "description": "",
            "description_tooltip": null,
            "layout": "IPY_MODEL_801d03e6f7254332bd59787bcf7affee",
            "placeholder": "​",
            "style": "IPY_MODEL_98af915853a041e8b1fbf619b76be067",
            "value": "100%"
          }
        },
        "5592b3fab91f40ee9d6b0d082db1ab34": {
          "model_module": "@jupyter-widgets/controls",
          "model_name": "FloatProgressModel",
          "model_module_version": "1.5.0",
          "state": {
            "_dom_classes": [],
            "_model_module": "@jupyter-widgets/controls",
            "_model_module_version": "1.5.0",
            "_model_name": "FloatProgressModel",
            "_view_count": null,
            "_view_module": "@jupyter-widgets/controls",
            "_view_module_version": "1.5.0",
            "_view_name": "ProgressView",
            "bar_style": "success",
            "description": "",
            "description_tooltip": null,
            "layout": "IPY_MODEL_f2663883eeb4499f9b7c5b4dbf45f7d9",
            "max": 7,
            "min": 0,
            "orientation": "horizontal",
            "style": "IPY_MODEL_3232d097b74b4da5a9ee11d419864055",
            "value": 7
          }
        },
        "c11ec48abbbd4e7fa7071aea457d7c5f": {
          "model_module": "@jupyter-widgets/controls",
          "model_name": "HTMLModel",
          "model_module_version": "1.5.0",
          "state": {
            "_dom_classes": [],
            "_model_module": "@jupyter-widgets/controls",
            "_model_module_version": "1.5.0",
            "_model_name": "HTMLModel",
            "_view_count": null,
            "_view_module": "@jupyter-widgets/controls",
            "_view_module_version": "1.5.0",
            "_view_name": "HTMLView",
            "description": "",
            "description_tooltip": null,
            "layout": "IPY_MODEL_96aa019544cc4b15a93f1ba069097675",
            "placeholder": "​",
            "style": "IPY_MODEL_2e8c185cc47645a7845316ec9dd87a47",
            "value": " 7/7 [00:19&lt;00:00,  2.41s/it]"
          }
        },
        "c85802f007ad4c0990db2b5cd83b5abb": {
          "model_module": "@jupyter-widgets/base",
          "model_name": "LayoutModel",
          "model_module_version": "1.2.0",
          "state": {
            "_model_module": "@jupyter-widgets/base",
            "_model_module_version": "1.2.0",
            "_model_name": "LayoutModel",
            "_view_count": null,
            "_view_module": "@jupyter-widgets/base",
            "_view_module_version": "1.2.0",
            "_view_name": "LayoutView",
            "align_content": null,
            "align_items": null,
            "align_self": null,
            "border": null,
            "bottom": null,
            "display": null,
            "flex": null,
            "flex_flow": null,
            "grid_area": null,
            "grid_auto_columns": null,
            "grid_auto_flow": null,
            "grid_auto_rows": null,
            "grid_column": null,
            "grid_gap": null,
            "grid_row": null,
            "grid_template_areas": null,
            "grid_template_columns": null,
            "grid_template_rows": null,
            "height": null,
            "justify_content": null,
            "justify_items": null,
            "left": null,
            "margin": null,
            "max_height": null,
            "max_width": null,
            "min_height": null,
            "min_width": null,
            "object_fit": null,
            "object_position": null,
            "order": null,
            "overflow": null,
            "overflow_x": null,
            "overflow_y": null,
            "padding": null,
            "right": null,
            "top": null,
            "visibility": null,
            "width": null
          }
        },
        "801d03e6f7254332bd59787bcf7affee": {
          "model_module": "@jupyter-widgets/base",
          "model_name": "LayoutModel",
          "model_module_version": "1.2.0",
          "state": {
            "_model_module": "@jupyter-widgets/base",
            "_model_module_version": "1.2.0",
            "_model_name": "LayoutModel",
            "_view_count": null,
            "_view_module": "@jupyter-widgets/base",
            "_view_module_version": "1.2.0",
            "_view_name": "LayoutView",
            "align_content": null,
            "align_items": null,
            "align_self": null,
            "border": null,
            "bottom": null,
            "display": null,
            "flex": null,
            "flex_flow": null,
            "grid_area": null,
            "grid_auto_columns": null,
            "grid_auto_flow": null,
            "grid_auto_rows": null,
            "grid_column": null,
            "grid_gap": null,
            "grid_row": null,
            "grid_template_areas": null,
            "grid_template_columns": null,
            "grid_template_rows": null,
            "height": null,
            "justify_content": null,
            "justify_items": null,
            "left": null,
            "margin": null,
            "max_height": null,
            "max_width": null,
            "min_height": null,
            "min_width": null,
            "object_fit": null,
            "object_position": null,
            "order": null,
            "overflow": null,
            "overflow_x": null,
            "overflow_y": null,
            "padding": null,
            "right": null,
            "top": null,
            "visibility": null,
            "width": null
          }
        },
        "98af915853a041e8b1fbf619b76be067": {
          "model_module": "@jupyter-widgets/controls",
          "model_name": "DescriptionStyleModel",
          "model_module_version": "1.5.0",
          "state": {
            "_model_module": "@jupyter-widgets/controls",
            "_model_module_version": "1.5.0",
            "_model_name": "DescriptionStyleModel",
            "_view_count": null,
            "_view_module": "@jupyter-widgets/base",
            "_view_module_version": "1.2.0",
            "_view_name": "StyleView",
            "description_width": ""
          }
        },
        "f2663883eeb4499f9b7c5b4dbf45f7d9": {
          "model_module": "@jupyter-widgets/base",
          "model_name": "LayoutModel",
          "model_module_version": "1.2.0",
          "state": {
            "_model_module": "@jupyter-widgets/base",
            "_model_module_version": "1.2.0",
            "_model_name": "LayoutModel",
            "_view_count": null,
            "_view_module": "@jupyter-widgets/base",
            "_view_module_version": "1.2.0",
            "_view_name": "LayoutView",
            "align_content": null,
            "align_items": null,
            "align_self": null,
            "border": null,
            "bottom": null,
            "display": null,
            "flex": null,
            "flex_flow": null,
            "grid_area": null,
            "grid_auto_columns": null,
            "grid_auto_flow": null,
            "grid_auto_rows": null,
            "grid_column": null,
            "grid_gap": null,
            "grid_row": null,
            "grid_template_areas": null,
            "grid_template_columns": null,
            "grid_template_rows": null,
            "height": null,
            "justify_content": null,
            "justify_items": null,
            "left": null,
            "margin": null,
            "max_height": null,
            "max_width": null,
            "min_height": null,
            "min_width": null,
            "object_fit": null,
            "object_position": null,
            "order": null,
            "overflow": null,
            "overflow_x": null,
            "overflow_y": null,
            "padding": null,
            "right": null,
            "top": null,
            "visibility": null,
            "width": null
          }
        },
        "3232d097b74b4da5a9ee11d419864055": {
          "model_module": "@jupyter-widgets/controls",
          "model_name": "ProgressStyleModel",
          "model_module_version": "1.5.0",
          "state": {
            "_model_module": "@jupyter-widgets/controls",
            "_model_module_version": "1.5.0",
            "_model_name": "ProgressStyleModel",
            "_view_count": null,
            "_view_module": "@jupyter-widgets/base",
            "_view_module_version": "1.2.0",
            "_view_name": "StyleView",
            "bar_color": null,
            "description_width": ""
          }
        },
        "96aa019544cc4b15a93f1ba069097675": {
          "model_module": "@jupyter-widgets/base",
          "model_name": "LayoutModel",
          "model_module_version": "1.2.0",
          "state": {
            "_model_module": "@jupyter-widgets/base",
            "_model_module_version": "1.2.0",
            "_model_name": "LayoutModel",
            "_view_count": null,
            "_view_module": "@jupyter-widgets/base",
            "_view_module_version": "1.2.0",
            "_view_name": "LayoutView",
            "align_content": null,
            "align_items": null,
            "align_self": null,
            "border": null,
            "bottom": null,
            "display": null,
            "flex": null,
            "flex_flow": null,
            "grid_area": null,
            "grid_auto_columns": null,
            "grid_auto_flow": null,
            "grid_auto_rows": null,
            "grid_column": null,
            "grid_gap": null,
            "grid_row": null,
            "grid_template_areas": null,
            "grid_template_columns": null,
            "grid_template_rows": null,
            "height": null,
            "justify_content": null,
            "justify_items": null,
            "left": null,
            "margin": null,
            "max_height": null,
            "max_width": null,
            "min_height": null,
            "min_width": null,
            "object_fit": null,
            "object_position": null,
            "order": null,
            "overflow": null,
            "overflow_x": null,
            "overflow_y": null,
            "padding": null,
            "right": null,
            "top": null,
            "visibility": null,
            "width": null
          }
        },
        "2e8c185cc47645a7845316ec9dd87a47": {
          "model_module": "@jupyter-widgets/controls",
          "model_name": "DescriptionStyleModel",
          "model_module_version": "1.5.0",
          "state": {
            "_model_module": "@jupyter-widgets/controls",
            "_model_module_version": "1.5.0",
            "_model_name": "DescriptionStyleModel",
            "_view_count": null,
            "_view_module": "@jupyter-widgets/base",
            "_view_module_version": "1.2.0",
            "_view_name": "StyleView",
            "description_width": ""
          }
        },
        "c2f1b7e5da334e809c00aa07d33e8630": {
          "model_module": "@jupyter-widgets/controls",
          "model_name": "HBoxModel",
          "model_module_version": "1.5.0",
          "state": {
            "_dom_classes": [],
            "_model_module": "@jupyter-widgets/controls",
            "_model_module_version": "1.5.0",
            "_model_name": "HBoxModel",
            "_view_count": null,
            "_view_module": "@jupyter-widgets/controls",
            "_view_module_version": "1.5.0",
            "_view_name": "HBoxView",
            "box_style": "",
            "children": [
              "IPY_MODEL_6a8a0350c19f43a296e095ce6a3fe804",
              "IPY_MODEL_0697a561a8bf491faa5291686ceec48d",
              "IPY_MODEL_c938b182dbd9430bb4b198c5d89a3415"
            ],
            "layout": "IPY_MODEL_8a65e915dc764fbcab763917744061c9"
          }
        },
        "6a8a0350c19f43a296e095ce6a3fe804": {
          "model_module": "@jupyter-widgets/controls",
          "model_name": "HTMLModel",
          "model_module_version": "1.5.0",
          "state": {
            "_dom_classes": [],
            "_model_module": "@jupyter-widgets/controls",
            "_model_module_version": "1.5.0",
            "_model_name": "HTMLModel",
            "_view_count": null,
            "_view_module": "@jupyter-widgets/controls",
            "_view_module_version": "1.5.0",
            "_view_name": "HTMLView",
            "description": "",
            "description_tooltip": null,
            "layout": "IPY_MODEL_1d847b25f65749deb1c7bd6addd98c7f",
            "placeholder": "​",
            "style": "IPY_MODEL_84c2c3ff87dc4764a60607dc60e1e879",
            "value": "100%"
          }
        },
        "0697a561a8bf491faa5291686ceec48d": {
          "model_module": "@jupyter-widgets/controls",
          "model_name": "FloatProgressModel",
          "model_module_version": "1.5.0",
          "state": {
            "_dom_classes": [],
            "_model_module": "@jupyter-widgets/controls",
            "_model_module_version": "1.5.0",
            "_model_name": "FloatProgressModel",
            "_view_count": null,
            "_view_module": "@jupyter-widgets/controls",
            "_view_module_version": "1.5.0",
            "_view_name": "ProgressView",
            "bar_style": "success",
            "description": "",
            "description_tooltip": null,
            "layout": "IPY_MODEL_a24fdc7776f544928e36d46e817922ee",
            "max": 7,
            "min": 0,
            "orientation": "horizontal",
            "style": "IPY_MODEL_6ba20c3590524a689cce45886ef42899",
            "value": 7
          }
        },
        "c938b182dbd9430bb4b198c5d89a3415": {
          "model_module": "@jupyter-widgets/controls",
          "model_name": "HTMLModel",
          "model_module_version": "1.5.0",
          "state": {
            "_dom_classes": [],
            "_model_module": "@jupyter-widgets/controls",
            "_model_module_version": "1.5.0",
            "_model_name": "HTMLModel",
            "_view_count": null,
            "_view_module": "@jupyter-widgets/controls",
            "_view_module_version": "1.5.0",
            "_view_name": "HTMLView",
            "description": "",
            "description_tooltip": null,
            "layout": "IPY_MODEL_44553acc44e3430ab01868cc57e4164f",
            "placeholder": "​",
            "style": "IPY_MODEL_da6b77d4ef614656bd363ab45a3f22fb",
            "value": " 7/7 [00:13&lt;00:00,  1.57s/it]"
          }
        },
        "8a65e915dc764fbcab763917744061c9": {
          "model_module": "@jupyter-widgets/base",
          "model_name": "LayoutModel",
          "model_module_version": "1.2.0",
          "state": {
            "_model_module": "@jupyter-widgets/base",
            "_model_module_version": "1.2.0",
            "_model_name": "LayoutModel",
            "_view_count": null,
            "_view_module": "@jupyter-widgets/base",
            "_view_module_version": "1.2.0",
            "_view_name": "LayoutView",
            "align_content": null,
            "align_items": null,
            "align_self": null,
            "border": null,
            "bottom": null,
            "display": null,
            "flex": null,
            "flex_flow": null,
            "grid_area": null,
            "grid_auto_columns": null,
            "grid_auto_flow": null,
            "grid_auto_rows": null,
            "grid_column": null,
            "grid_gap": null,
            "grid_row": null,
            "grid_template_areas": null,
            "grid_template_columns": null,
            "grid_template_rows": null,
            "height": null,
            "justify_content": null,
            "justify_items": null,
            "left": null,
            "margin": null,
            "max_height": null,
            "max_width": null,
            "min_height": null,
            "min_width": null,
            "object_fit": null,
            "object_position": null,
            "order": null,
            "overflow": null,
            "overflow_x": null,
            "overflow_y": null,
            "padding": null,
            "right": null,
            "top": null,
            "visibility": null,
            "width": null
          }
        },
        "1d847b25f65749deb1c7bd6addd98c7f": {
          "model_module": "@jupyter-widgets/base",
          "model_name": "LayoutModel",
          "model_module_version": "1.2.0",
          "state": {
            "_model_module": "@jupyter-widgets/base",
            "_model_module_version": "1.2.0",
            "_model_name": "LayoutModel",
            "_view_count": null,
            "_view_module": "@jupyter-widgets/base",
            "_view_module_version": "1.2.0",
            "_view_name": "LayoutView",
            "align_content": null,
            "align_items": null,
            "align_self": null,
            "border": null,
            "bottom": null,
            "display": null,
            "flex": null,
            "flex_flow": null,
            "grid_area": null,
            "grid_auto_columns": null,
            "grid_auto_flow": null,
            "grid_auto_rows": null,
            "grid_column": null,
            "grid_gap": null,
            "grid_row": null,
            "grid_template_areas": null,
            "grid_template_columns": null,
            "grid_template_rows": null,
            "height": null,
            "justify_content": null,
            "justify_items": null,
            "left": null,
            "margin": null,
            "max_height": null,
            "max_width": null,
            "min_height": null,
            "min_width": null,
            "object_fit": null,
            "object_position": null,
            "order": null,
            "overflow": null,
            "overflow_x": null,
            "overflow_y": null,
            "padding": null,
            "right": null,
            "top": null,
            "visibility": null,
            "width": null
          }
        },
        "84c2c3ff87dc4764a60607dc60e1e879": {
          "model_module": "@jupyter-widgets/controls",
          "model_name": "DescriptionStyleModel",
          "model_module_version": "1.5.0",
          "state": {
            "_model_module": "@jupyter-widgets/controls",
            "_model_module_version": "1.5.0",
            "_model_name": "DescriptionStyleModel",
            "_view_count": null,
            "_view_module": "@jupyter-widgets/base",
            "_view_module_version": "1.2.0",
            "_view_name": "StyleView",
            "description_width": ""
          }
        },
        "a24fdc7776f544928e36d46e817922ee": {
          "model_module": "@jupyter-widgets/base",
          "model_name": "LayoutModel",
          "model_module_version": "1.2.0",
          "state": {
            "_model_module": "@jupyter-widgets/base",
            "_model_module_version": "1.2.0",
            "_model_name": "LayoutModel",
            "_view_count": null,
            "_view_module": "@jupyter-widgets/base",
            "_view_module_version": "1.2.0",
            "_view_name": "LayoutView",
            "align_content": null,
            "align_items": null,
            "align_self": null,
            "border": null,
            "bottom": null,
            "display": null,
            "flex": null,
            "flex_flow": null,
            "grid_area": null,
            "grid_auto_columns": null,
            "grid_auto_flow": null,
            "grid_auto_rows": null,
            "grid_column": null,
            "grid_gap": null,
            "grid_row": null,
            "grid_template_areas": null,
            "grid_template_columns": null,
            "grid_template_rows": null,
            "height": null,
            "justify_content": null,
            "justify_items": null,
            "left": null,
            "margin": null,
            "max_height": null,
            "max_width": null,
            "min_height": null,
            "min_width": null,
            "object_fit": null,
            "object_position": null,
            "order": null,
            "overflow": null,
            "overflow_x": null,
            "overflow_y": null,
            "padding": null,
            "right": null,
            "top": null,
            "visibility": null,
            "width": null
          }
        },
        "6ba20c3590524a689cce45886ef42899": {
          "model_module": "@jupyter-widgets/controls",
          "model_name": "ProgressStyleModel",
          "model_module_version": "1.5.0",
          "state": {
            "_model_module": "@jupyter-widgets/controls",
            "_model_module_version": "1.5.0",
            "_model_name": "ProgressStyleModel",
            "_view_count": null,
            "_view_module": "@jupyter-widgets/base",
            "_view_module_version": "1.2.0",
            "_view_name": "StyleView",
            "bar_color": null,
            "description_width": ""
          }
        },
        "44553acc44e3430ab01868cc57e4164f": {
          "model_module": "@jupyter-widgets/base",
          "model_name": "LayoutModel",
          "model_module_version": "1.2.0",
          "state": {
            "_model_module": "@jupyter-widgets/base",
            "_model_module_version": "1.2.0",
            "_model_name": "LayoutModel",
            "_view_count": null,
            "_view_module": "@jupyter-widgets/base",
            "_view_module_version": "1.2.0",
            "_view_name": "LayoutView",
            "align_content": null,
            "align_items": null,
            "align_self": null,
            "border": null,
            "bottom": null,
            "display": null,
            "flex": null,
            "flex_flow": null,
            "grid_area": null,
            "grid_auto_columns": null,
            "grid_auto_flow": null,
            "grid_auto_rows": null,
            "grid_column": null,
            "grid_gap": null,
            "grid_row": null,
            "grid_template_areas": null,
            "grid_template_columns": null,
            "grid_template_rows": null,
            "height": null,
            "justify_content": null,
            "justify_items": null,
            "left": null,
            "margin": null,
            "max_height": null,
            "max_width": null,
            "min_height": null,
            "min_width": null,
            "object_fit": null,
            "object_position": null,
            "order": null,
            "overflow": null,
            "overflow_x": null,
            "overflow_y": null,
            "padding": null,
            "right": null,
            "top": null,
            "visibility": null,
            "width": null
          }
        },
        "da6b77d4ef614656bd363ab45a3f22fb": {
          "model_module": "@jupyter-widgets/controls",
          "model_name": "DescriptionStyleModel",
          "model_module_version": "1.5.0",
          "state": {
            "_model_module": "@jupyter-widgets/controls",
            "_model_module_version": "1.5.0",
            "_model_name": "DescriptionStyleModel",
            "_view_count": null,
            "_view_module": "@jupyter-widgets/base",
            "_view_module_version": "1.2.0",
            "_view_name": "StyleView",
            "description_width": ""
          }
        },
        "9d020e31ba124bc5814d4b1fc3d76d11": {
          "model_module": "@jupyter-widgets/controls",
          "model_name": "HBoxModel",
          "model_module_version": "1.5.0",
          "state": {
            "_dom_classes": [],
            "_model_module": "@jupyter-widgets/controls",
            "_model_module_version": "1.5.0",
            "_model_name": "HBoxModel",
            "_view_count": null,
            "_view_module": "@jupyter-widgets/controls",
            "_view_module_version": "1.5.0",
            "_view_name": "HBoxView",
            "box_style": "",
            "children": [
              "IPY_MODEL_4fddc10595f448b58df80022bd54220a",
              "IPY_MODEL_c481775346294a78926363882575f4a3",
              "IPY_MODEL_88513a3dea9e45b0ab270e04660439ff"
            ],
            "layout": "IPY_MODEL_469df189b4914220b19026a533044c6c"
          }
        },
        "4fddc10595f448b58df80022bd54220a": {
          "model_module": "@jupyter-widgets/controls",
          "model_name": "HTMLModel",
          "model_module_version": "1.5.0",
          "state": {
            "_dom_classes": [],
            "_model_module": "@jupyter-widgets/controls",
            "_model_module_version": "1.5.0",
            "_model_name": "HTMLModel",
            "_view_count": null,
            "_view_module": "@jupyter-widgets/controls",
            "_view_module_version": "1.5.0",
            "_view_name": "HTMLView",
            "description": "",
            "description_tooltip": null,
            "layout": "IPY_MODEL_bfbe70d3ceea48228d8f2d7ad35e6b22",
            "placeholder": "​",
            "style": "IPY_MODEL_02cd31cf934d4aac91abea8c35366a97",
            "value": "100%"
          }
        },
        "c481775346294a78926363882575f4a3": {
          "model_module": "@jupyter-widgets/controls",
          "model_name": "FloatProgressModel",
          "model_module_version": "1.5.0",
          "state": {
            "_dom_classes": [],
            "_model_module": "@jupyter-widgets/controls",
            "_model_module_version": "1.5.0",
            "_model_name": "FloatProgressModel",
            "_view_count": null,
            "_view_module": "@jupyter-widgets/controls",
            "_view_module_version": "1.5.0",
            "_view_name": "ProgressView",
            "bar_style": "success",
            "description": "",
            "description_tooltip": null,
            "layout": "IPY_MODEL_9dbbf116e32f4e278e1cdbdd861da878",
            "max": 75,
            "min": 0,
            "orientation": "horizontal",
            "style": "IPY_MODEL_dd6a16bf4ddf4cb39a2f3088bdcd9ab0",
            "value": 75
          }
        },
        "88513a3dea9e45b0ab270e04660439ff": {
          "model_module": "@jupyter-widgets/controls",
          "model_name": "HTMLModel",
          "model_module_version": "1.5.0",
          "state": {
            "_dom_classes": [],
            "_model_module": "@jupyter-widgets/controls",
            "_model_module_version": "1.5.0",
            "_model_name": "HTMLModel",
            "_view_count": null,
            "_view_module": "@jupyter-widgets/controls",
            "_view_module_version": "1.5.0",
            "_view_name": "HTMLView",
            "description": "",
            "description_tooltip": null,
            "layout": "IPY_MODEL_4689a6033a664b6eab2642f6e8879f88",
            "placeholder": "​",
            "style": "IPY_MODEL_baccf8d255fd47ad8ee156bc73b21cf4",
            "value": " 75/75 [00:09&lt;00:00,  7.91it/s]"
          }
        },
        "469df189b4914220b19026a533044c6c": {
          "model_module": "@jupyter-widgets/base",
          "model_name": "LayoutModel",
          "model_module_version": "1.2.0",
          "state": {
            "_model_module": "@jupyter-widgets/base",
            "_model_module_version": "1.2.0",
            "_model_name": "LayoutModel",
            "_view_count": null,
            "_view_module": "@jupyter-widgets/base",
            "_view_module_version": "1.2.0",
            "_view_name": "LayoutView",
            "align_content": null,
            "align_items": null,
            "align_self": null,
            "border": null,
            "bottom": null,
            "display": null,
            "flex": null,
            "flex_flow": null,
            "grid_area": null,
            "grid_auto_columns": null,
            "grid_auto_flow": null,
            "grid_auto_rows": null,
            "grid_column": null,
            "grid_gap": null,
            "grid_row": null,
            "grid_template_areas": null,
            "grid_template_columns": null,
            "grid_template_rows": null,
            "height": null,
            "justify_content": null,
            "justify_items": null,
            "left": null,
            "margin": null,
            "max_height": null,
            "max_width": null,
            "min_height": null,
            "min_width": null,
            "object_fit": null,
            "object_position": null,
            "order": null,
            "overflow": null,
            "overflow_x": null,
            "overflow_y": null,
            "padding": null,
            "right": null,
            "top": null,
            "visibility": null,
            "width": null
          }
        },
        "bfbe70d3ceea48228d8f2d7ad35e6b22": {
          "model_module": "@jupyter-widgets/base",
          "model_name": "LayoutModel",
          "model_module_version": "1.2.0",
          "state": {
            "_model_module": "@jupyter-widgets/base",
            "_model_module_version": "1.2.0",
            "_model_name": "LayoutModel",
            "_view_count": null,
            "_view_module": "@jupyter-widgets/base",
            "_view_module_version": "1.2.0",
            "_view_name": "LayoutView",
            "align_content": null,
            "align_items": null,
            "align_self": null,
            "border": null,
            "bottom": null,
            "display": null,
            "flex": null,
            "flex_flow": null,
            "grid_area": null,
            "grid_auto_columns": null,
            "grid_auto_flow": null,
            "grid_auto_rows": null,
            "grid_column": null,
            "grid_gap": null,
            "grid_row": null,
            "grid_template_areas": null,
            "grid_template_columns": null,
            "grid_template_rows": null,
            "height": null,
            "justify_content": null,
            "justify_items": null,
            "left": null,
            "margin": null,
            "max_height": null,
            "max_width": null,
            "min_height": null,
            "min_width": null,
            "object_fit": null,
            "object_position": null,
            "order": null,
            "overflow": null,
            "overflow_x": null,
            "overflow_y": null,
            "padding": null,
            "right": null,
            "top": null,
            "visibility": null,
            "width": null
          }
        },
        "02cd31cf934d4aac91abea8c35366a97": {
          "model_module": "@jupyter-widgets/controls",
          "model_name": "DescriptionStyleModel",
          "model_module_version": "1.5.0",
          "state": {
            "_model_module": "@jupyter-widgets/controls",
            "_model_module_version": "1.5.0",
            "_model_name": "DescriptionStyleModel",
            "_view_count": null,
            "_view_module": "@jupyter-widgets/base",
            "_view_module_version": "1.2.0",
            "_view_name": "StyleView",
            "description_width": ""
          }
        },
        "9dbbf116e32f4e278e1cdbdd861da878": {
          "model_module": "@jupyter-widgets/base",
          "model_name": "LayoutModel",
          "model_module_version": "1.2.0",
          "state": {
            "_model_module": "@jupyter-widgets/base",
            "_model_module_version": "1.2.0",
            "_model_name": "LayoutModel",
            "_view_count": null,
            "_view_module": "@jupyter-widgets/base",
            "_view_module_version": "1.2.0",
            "_view_name": "LayoutView",
            "align_content": null,
            "align_items": null,
            "align_self": null,
            "border": null,
            "bottom": null,
            "display": null,
            "flex": null,
            "flex_flow": null,
            "grid_area": null,
            "grid_auto_columns": null,
            "grid_auto_flow": null,
            "grid_auto_rows": null,
            "grid_column": null,
            "grid_gap": null,
            "grid_row": null,
            "grid_template_areas": null,
            "grid_template_columns": null,
            "grid_template_rows": null,
            "height": null,
            "justify_content": null,
            "justify_items": null,
            "left": null,
            "margin": null,
            "max_height": null,
            "max_width": null,
            "min_height": null,
            "min_width": null,
            "object_fit": null,
            "object_position": null,
            "order": null,
            "overflow": null,
            "overflow_x": null,
            "overflow_y": null,
            "padding": null,
            "right": null,
            "top": null,
            "visibility": null,
            "width": null
          }
        },
        "dd6a16bf4ddf4cb39a2f3088bdcd9ab0": {
          "model_module": "@jupyter-widgets/controls",
          "model_name": "ProgressStyleModel",
          "model_module_version": "1.5.0",
          "state": {
            "_model_module": "@jupyter-widgets/controls",
            "_model_module_version": "1.5.0",
            "_model_name": "ProgressStyleModel",
            "_view_count": null,
            "_view_module": "@jupyter-widgets/base",
            "_view_module_version": "1.2.0",
            "_view_name": "StyleView",
            "bar_color": null,
            "description_width": ""
          }
        },
        "4689a6033a664b6eab2642f6e8879f88": {
          "model_module": "@jupyter-widgets/base",
          "model_name": "LayoutModel",
          "model_module_version": "1.2.0",
          "state": {
            "_model_module": "@jupyter-widgets/base",
            "_model_module_version": "1.2.0",
            "_model_name": "LayoutModel",
            "_view_count": null,
            "_view_module": "@jupyter-widgets/base",
            "_view_module_version": "1.2.0",
            "_view_name": "LayoutView",
            "align_content": null,
            "align_items": null,
            "align_self": null,
            "border": null,
            "bottom": null,
            "display": null,
            "flex": null,
            "flex_flow": null,
            "grid_area": null,
            "grid_auto_columns": null,
            "grid_auto_flow": null,
            "grid_auto_rows": null,
            "grid_column": null,
            "grid_gap": null,
            "grid_row": null,
            "grid_template_areas": null,
            "grid_template_columns": null,
            "grid_template_rows": null,
            "height": null,
            "justify_content": null,
            "justify_items": null,
            "left": null,
            "margin": null,
            "max_height": null,
            "max_width": null,
            "min_height": null,
            "min_width": null,
            "object_fit": null,
            "object_position": null,
            "order": null,
            "overflow": null,
            "overflow_x": null,
            "overflow_y": null,
            "padding": null,
            "right": null,
            "top": null,
            "visibility": null,
            "width": null
          }
        },
        "baccf8d255fd47ad8ee156bc73b21cf4": {
          "model_module": "@jupyter-widgets/controls",
          "model_name": "DescriptionStyleModel",
          "model_module_version": "1.5.0",
          "state": {
            "_model_module": "@jupyter-widgets/controls",
            "_model_module_version": "1.5.0",
            "_model_name": "DescriptionStyleModel",
            "_view_count": null,
            "_view_module": "@jupyter-widgets/base",
            "_view_module_version": "1.2.0",
            "_view_name": "StyleView",
            "description_width": ""
          }
        },
        "4d11f6b06ca5423baa484ce3a9ba0080": {
          "model_module": "@jupyter-widgets/controls",
          "model_name": "HBoxModel",
          "model_module_version": "1.5.0",
          "state": {
            "_dom_classes": [],
            "_model_module": "@jupyter-widgets/controls",
            "_model_module_version": "1.5.0",
            "_model_name": "HBoxModel",
            "_view_count": null,
            "_view_module": "@jupyter-widgets/controls",
            "_view_module_version": "1.5.0",
            "_view_name": "HBoxView",
            "box_style": "",
            "children": [
              "IPY_MODEL_55653e440aed4e47a30812699b0bd089",
              "IPY_MODEL_d073168d6f1743e0a04d0a238935cc1c",
              "IPY_MODEL_f294a76528d044f08968c324a6d5697c"
            ],
            "layout": "IPY_MODEL_fca847a187624d1aab56c72bd146858e"
          }
        },
        "55653e440aed4e47a30812699b0bd089": {
          "model_module": "@jupyter-widgets/controls",
          "model_name": "HTMLModel",
          "model_module_version": "1.5.0",
          "state": {
            "_dom_classes": [],
            "_model_module": "@jupyter-widgets/controls",
            "_model_module_version": "1.5.0",
            "_model_name": "HTMLModel",
            "_view_count": null,
            "_view_module": "@jupyter-widgets/controls",
            "_view_module_version": "1.5.0",
            "_view_name": "HTMLView",
            "description": "",
            "description_tooltip": null,
            "layout": "IPY_MODEL_3b73080120564ceaa817a7e24a6a79b6",
            "placeholder": "​",
            "style": "IPY_MODEL_d3be41a606bc40d899bb0c3e71209313",
            "value": "100%"
          }
        },
        "d073168d6f1743e0a04d0a238935cc1c": {
          "model_module": "@jupyter-widgets/controls",
          "model_name": "FloatProgressModel",
          "model_module_version": "1.5.0",
          "state": {
            "_dom_classes": [],
            "_model_module": "@jupyter-widgets/controls",
            "_model_module_version": "1.5.0",
            "_model_name": "FloatProgressModel",
            "_view_count": null,
            "_view_module": "@jupyter-widgets/controls",
            "_view_module_version": "1.5.0",
            "_view_name": "ProgressView",
            "bar_style": "success",
            "description": "",
            "description_tooltip": null,
            "layout": "IPY_MODEL_99c3a4558f95492282168ce86b4b909a",
            "max": 50,
            "min": 0,
            "orientation": "horizontal",
            "style": "IPY_MODEL_06fdb2831bdc49a8919cd1ed9b10dcc1",
            "value": 50
          }
        },
        "f294a76528d044f08968c324a6d5697c": {
          "model_module": "@jupyter-widgets/controls",
          "model_name": "HTMLModel",
          "model_module_version": "1.5.0",
          "state": {
            "_dom_classes": [],
            "_model_module": "@jupyter-widgets/controls",
            "_model_module_version": "1.5.0",
            "_model_name": "HTMLModel",
            "_view_count": null,
            "_view_module": "@jupyter-widgets/controls",
            "_view_module_version": "1.5.0",
            "_view_name": "HTMLView",
            "description": "",
            "description_tooltip": null,
            "layout": "IPY_MODEL_c2965a4c14d241628026fa1a8f7d0e49",
            "placeholder": "​",
            "style": "IPY_MODEL_08b29d9825e64685a2a942456a9b6dd6",
            "value": " 50/50 [00:09&lt;00:00,  5.10it/s]"
          }
        },
        "fca847a187624d1aab56c72bd146858e": {
          "model_module": "@jupyter-widgets/base",
          "model_name": "LayoutModel",
          "model_module_version": "1.2.0",
          "state": {
            "_model_module": "@jupyter-widgets/base",
            "_model_module_version": "1.2.0",
            "_model_name": "LayoutModel",
            "_view_count": null,
            "_view_module": "@jupyter-widgets/base",
            "_view_module_version": "1.2.0",
            "_view_name": "LayoutView",
            "align_content": null,
            "align_items": null,
            "align_self": null,
            "border": null,
            "bottom": null,
            "display": null,
            "flex": null,
            "flex_flow": null,
            "grid_area": null,
            "grid_auto_columns": null,
            "grid_auto_flow": null,
            "grid_auto_rows": null,
            "grid_column": null,
            "grid_gap": null,
            "grid_row": null,
            "grid_template_areas": null,
            "grid_template_columns": null,
            "grid_template_rows": null,
            "height": null,
            "justify_content": null,
            "justify_items": null,
            "left": null,
            "margin": null,
            "max_height": null,
            "max_width": null,
            "min_height": null,
            "min_width": null,
            "object_fit": null,
            "object_position": null,
            "order": null,
            "overflow": null,
            "overflow_x": null,
            "overflow_y": null,
            "padding": null,
            "right": null,
            "top": null,
            "visibility": null,
            "width": null
          }
        },
        "3b73080120564ceaa817a7e24a6a79b6": {
          "model_module": "@jupyter-widgets/base",
          "model_name": "LayoutModel",
          "model_module_version": "1.2.0",
          "state": {
            "_model_module": "@jupyter-widgets/base",
            "_model_module_version": "1.2.0",
            "_model_name": "LayoutModel",
            "_view_count": null,
            "_view_module": "@jupyter-widgets/base",
            "_view_module_version": "1.2.0",
            "_view_name": "LayoutView",
            "align_content": null,
            "align_items": null,
            "align_self": null,
            "border": null,
            "bottom": null,
            "display": null,
            "flex": null,
            "flex_flow": null,
            "grid_area": null,
            "grid_auto_columns": null,
            "grid_auto_flow": null,
            "grid_auto_rows": null,
            "grid_column": null,
            "grid_gap": null,
            "grid_row": null,
            "grid_template_areas": null,
            "grid_template_columns": null,
            "grid_template_rows": null,
            "height": null,
            "justify_content": null,
            "justify_items": null,
            "left": null,
            "margin": null,
            "max_height": null,
            "max_width": null,
            "min_height": null,
            "min_width": null,
            "object_fit": null,
            "object_position": null,
            "order": null,
            "overflow": null,
            "overflow_x": null,
            "overflow_y": null,
            "padding": null,
            "right": null,
            "top": null,
            "visibility": null,
            "width": null
          }
        },
        "d3be41a606bc40d899bb0c3e71209313": {
          "model_module": "@jupyter-widgets/controls",
          "model_name": "DescriptionStyleModel",
          "model_module_version": "1.5.0",
          "state": {
            "_model_module": "@jupyter-widgets/controls",
            "_model_module_version": "1.5.0",
            "_model_name": "DescriptionStyleModel",
            "_view_count": null,
            "_view_module": "@jupyter-widgets/base",
            "_view_module_version": "1.2.0",
            "_view_name": "StyleView",
            "description_width": ""
          }
        },
        "99c3a4558f95492282168ce86b4b909a": {
          "model_module": "@jupyter-widgets/base",
          "model_name": "LayoutModel",
          "model_module_version": "1.2.0",
          "state": {
            "_model_module": "@jupyter-widgets/base",
            "_model_module_version": "1.2.0",
            "_model_name": "LayoutModel",
            "_view_count": null,
            "_view_module": "@jupyter-widgets/base",
            "_view_module_version": "1.2.0",
            "_view_name": "LayoutView",
            "align_content": null,
            "align_items": null,
            "align_self": null,
            "border": null,
            "bottom": null,
            "display": null,
            "flex": null,
            "flex_flow": null,
            "grid_area": null,
            "grid_auto_columns": null,
            "grid_auto_flow": null,
            "grid_auto_rows": null,
            "grid_column": null,
            "grid_gap": null,
            "grid_row": null,
            "grid_template_areas": null,
            "grid_template_columns": null,
            "grid_template_rows": null,
            "height": null,
            "justify_content": null,
            "justify_items": null,
            "left": null,
            "margin": null,
            "max_height": null,
            "max_width": null,
            "min_height": null,
            "min_width": null,
            "object_fit": null,
            "object_position": null,
            "order": null,
            "overflow": null,
            "overflow_x": null,
            "overflow_y": null,
            "padding": null,
            "right": null,
            "top": null,
            "visibility": null,
            "width": null
          }
        },
        "06fdb2831bdc49a8919cd1ed9b10dcc1": {
          "model_module": "@jupyter-widgets/controls",
          "model_name": "ProgressStyleModel",
          "model_module_version": "1.5.0",
          "state": {
            "_model_module": "@jupyter-widgets/controls",
            "_model_module_version": "1.5.0",
            "_model_name": "ProgressStyleModel",
            "_view_count": null,
            "_view_module": "@jupyter-widgets/base",
            "_view_module_version": "1.2.0",
            "_view_name": "StyleView",
            "bar_color": null,
            "description_width": ""
          }
        },
        "c2965a4c14d241628026fa1a8f7d0e49": {
          "model_module": "@jupyter-widgets/base",
          "model_name": "LayoutModel",
          "model_module_version": "1.2.0",
          "state": {
            "_model_module": "@jupyter-widgets/base",
            "_model_module_version": "1.2.0",
            "_model_name": "LayoutModel",
            "_view_count": null,
            "_view_module": "@jupyter-widgets/base",
            "_view_module_version": "1.2.0",
            "_view_name": "LayoutView",
            "align_content": null,
            "align_items": null,
            "align_self": null,
            "border": null,
            "bottom": null,
            "display": null,
            "flex": null,
            "flex_flow": null,
            "grid_area": null,
            "grid_auto_columns": null,
            "grid_auto_flow": null,
            "grid_auto_rows": null,
            "grid_column": null,
            "grid_gap": null,
            "grid_row": null,
            "grid_template_areas": null,
            "grid_template_columns": null,
            "grid_template_rows": null,
            "height": null,
            "justify_content": null,
            "justify_items": null,
            "left": null,
            "margin": null,
            "max_height": null,
            "max_width": null,
            "min_height": null,
            "min_width": null,
            "object_fit": null,
            "object_position": null,
            "order": null,
            "overflow": null,
            "overflow_x": null,
            "overflow_y": null,
            "padding": null,
            "right": null,
            "top": null,
            "visibility": null,
            "width": null
          }
        },
        "08b29d9825e64685a2a942456a9b6dd6": {
          "model_module": "@jupyter-widgets/controls",
          "model_name": "DescriptionStyleModel",
          "model_module_version": "1.5.0",
          "state": {
            "_model_module": "@jupyter-widgets/controls",
            "_model_module_version": "1.5.0",
            "_model_name": "DescriptionStyleModel",
            "_view_count": null,
            "_view_module": "@jupyter-widgets/base",
            "_view_module_version": "1.2.0",
            "_view_name": "StyleView",
            "description_width": ""
          }
        },
        "410e9a6f7e77493d9a344f0037ed2ffd": {
          "model_module": "@jupyter-widgets/controls",
          "model_name": "HBoxModel",
          "model_module_version": "1.5.0",
          "state": {
            "_dom_classes": [],
            "_model_module": "@jupyter-widgets/controls",
            "_model_module_version": "1.5.0",
            "_model_name": "HBoxModel",
            "_view_count": null,
            "_view_module": "@jupyter-widgets/controls",
            "_view_module_version": "1.5.0",
            "_view_name": "HBoxView",
            "box_style": "",
            "children": [
              "IPY_MODEL_d85f36db802a4ff5b4b8ff185534531b",
              "IPY_MODEL_df5314af155e44b8a779be8a6ed53809",
              "IPY_MODEL_cd38b500a2784f999798337fa40d8bfb"
            ],
            "layout": "IPY_MODEL_8ee3e217301345bcac5cc69451e23f6a"
          }
        },
        "d85f36db802a4ff5b4b8ff185534531b": {
          "model_module": "@jupyter-widgets/controls",
          "model_name": "HTMLModel",
          "model_module_version": "1.5.0",
          "state": {
            "_dom_classes": [],
            "_model_module": "@jupyter-widgets/controls",
            "_model_module_version": "1.5.0",
            "_model_name": "HTMLModel",
            "_view_count": null,
            "_view_module": "@jupyter-widgets/controls",
            "_view_module_version": "1.5.0",
            "_view_name": "HTMLView",
            "description": "",
            "description_tooltip": null,
            "layout": "IPY_MODEL_f53985f52b304aeeaef20740801471a6",
            "placeholder": "​",
            "style": "IPY_MODEL_1548cd545b4d47b8814bdb4c046325f7",
            "value": "100%"
          }
        },
        "df5314af155e44b8a779be8a6ed53809": {
          "model_module": "@jupyter-widgets/controls",
          "model_name": "FloatProgressModel",
          "model_module_version": "1.5.0",
          "state": {
            "_dom_classes": [],
            "_model_module": "@jupyter-widgets/controls",
            "_model_module_version": "1.5.0",
            "_model_name": "FloatProgressModel",
            "_view_count": null,
            "_view_module": "@jupyter-widgets/controls",
            "_view_module_version": "1.5.0",
            "_view_name": "ProgressView",
            "bar_style": "success",
            "description": "",
            "description_tooltip": null,
            "layout": "IPY_MODEL_754e390e17c44851bd1927aaba0b72ba",
            "max": 75,
            "min": 0,
            "orientation": "horizontal",
            "style": "IPY_MODEL_da1609b634744f1e96477cd9da77e2a1",
            "value": 75
          }
        },
        "cd38b500a2784f999798337fa40d8bfb": {
          "model_module": "@jupyter-widgets/controls",
          "model_name": "HTMLModel",
          "model_module_version": "1.5.0",
          "state": {
            "_dom_classes": [],
            "_model_module": "@jupyter-widgets/controls",
            "_model_module_version": "1.5.0",
            "_model_name": "HTMLModel",
            "_view_count": null,
            "_view_module": "@jupyter-widgets/controls",
            "_view_module_version": "1.5.0",
            "_view_name": "HTMLView",
            "description": "",
            "description_tooltip": null,
            "layout": "IPY_MODEL_d71d8411f61f41a4b81694c5a006f61f",
            "placeholder": "​",
            "style": "IPY_MODEL_1f1e20a6091b454aa00dd82fb34037d5",
            "value": " 75/75 [00:02&lt;00:00, 28.87it/s]"
          }
        },
        "8ee3e217301345bcac5cc69451e23f6a": {
          "model_module": "@jupyter-widgets/base",
          "model_name": "LayoutModel",
          "model_module_version": "1.2.0",
          "state": {
            "_model_module": "@jupyter-widgets/base",
            "_model_module_version": "1.2.0",
            "_model_name": "LayoutModel",
            "_view_count": null,
            "_view_module": "@jupyter-widgets/base",
            "_view_module_version": "1.2.0",
            "_view_name": "LayoutView",
            "align_content": null,
            "align_items": null,
            "align_self": null,
            "border": null,
            "bottom": null,
            "display": null,
            "flex": null,
            "flex_flow": null,
            "grid_area": null,
            "grid_auto_columns": null,
            "grid_auto_flow": null,
            "grid_auto_rows": null,
            "grid_column": null,
            "grid_gap": null,
            "grid_row": null,
            "grid_template_areas": null,
            "grid_template_columns": null,
            "grid_template_rows": null,
            "height": null,
            "justify_content": null,
            "justify_items": null,
            "left": null,
            "margin": null,
            "max_height": null,
            "max_width": null,
            "min_height": null,
            "min_width": null,
            "object_fit": null,
            "object_position": null,
            "order": null,
            "overflow": null,
            "overflow_x": null,
            "overflow_y": null,
            "padding": null,
            "right": null,
            "top": null,
            "visibility": null,
            "width": null
          }
        },
        "f53985f52b304aeeaef20740801471a6": {
          "model_module": "@jupyter-widgets/base",
          "model_name": "LayoutModel",
          "model_module_version": "1.2.0",
          "state": {
            "_model_module": "@jupyter-widgets/base",
            "_model_module_version": "1.2.0",
            "_model_name": "LayoutModel",
            "_view_count": null,
            "_view_module": "@jupyter-widgets/base",
            "_view_module_version": "1.2.0",
            "_view_name": "LayoutView",
            "align_content": null,
            "align_items": null,
            "align_self": null,
            "border": null,
            "bottom": null,
            "display": null,
            "flex": null,
            "flex_flow": null,
            "grid_area": null,
            "grid_auto_columns": null,
            "grid_auto_flow": null,
            "grid_auto_rows": null,
            "grid_column": null,
            "grid_gap": null,
            "grid_row": null,
            "grid_template_areas": null,
            "grid_template_columns": null,
            "grid_template_rows": null,
            "height": null,
            "justify_content": null,
            "justify_items": null,
            "left": null,
            "margin": null,
            "max_height": null,
            "max_width": null,
            "min_height": null,
            "min_width": null,
            "object_fit": null,
            "object_position": null,
            "order": null,
            "overflow": null,
            "overflow_x": null,
            "overflow_y": null,
            "padding": null,
            "right": null,
            "top": null,
            "visibility": null,
            "width": null
          }
        },
        "1548cd545b4d47b8814bdb4c046325f7": {
          "model_module": "@jupyter-widgets/controls",
          "model_name": "DescriptionStyleModel",
          "model_module_version": "1.5.0",
          "state": {
            "_model_module": "@jupyter-widgets/controls",
            "_model_module_version": "1.5.0",
            "_model_name": "DescriptionStyleModel",
            "_view_count": null,
            "_view_module": "@jupyter-widgets/base",
            "_view_module_version": "1.2.0",
            "_view_name": "StyleView",
            "description_width": ""
          }
        },
        "754e390e17c44851bd1927aaba0b72ba": {
          "model_module": "@jupyter-widgets/base",
          "model_name": "LayoutModel",
          "model_module_version": "1.2.0",
          "state": {
            "_model_module": "@jupyter-widgets/base",
            "_model_module_version": "1.2.0",
            "_model_name": "LayoutModel",
            "_view_count": null,
            "_view_module": "@jupyter-widgets/base",
            "_view_module_version": "1.2.0",
            "_view_name": "LayoutView",
            "align_content": null,
            "align_items": null,
            "align_self": null,
            "border": null,
            "bottom": null,
            "display": null,
            "flex": null,
            "flex_flow": null,
            "grid_area": null,
            "grid_auto_columns": null,
            "grid_auto_flow": null,
            "grid_auto_rows": null,
            "grid_column": null,
            "grid_gap": null,
            "grid_row": null,
            "grid_template_areas": null,
            "grid_template_columns": null,
            "grid_template_rows": null,
            "height": null,
            "justify_content": null,
            "justify_items": null,
            "left": null,
            "margin": null,
            "max_height": null,
            "max_width": null,
            "min_height": null,
            "min_width": null,
            "object_fit": null,
            "object_position": null,
            "order": null,
            "overflow": null,
            "overflow_x": null,
            "overflow_y": null,
            "padding": null,
            "right": null,
            "top": null,
            "visibility": null,
            "width": null
          }
        },
        "da1609b634744f1e96477cd9da77e2a1": {
          "model_module": "@jupyter-widgets/controls",
          "model_name": "ProgressStyleModel",
          "model_module_version": "1.5.0",
          "state": {
            "_model_module": "@jupyter-widgets/controls",
            "_model_module_version": "1.5.0",
            "_model_name": "ProgressStyleModel",
            "_view_count": null,
            "_view_module": "@jupyter-widgets/base",
            "_view_module_version": "1.2.0",
            "_view_name": "StyleView",
            "bar_color": null,
            "description_width": ""
          }
        },
        "d71d8411f61f41a4b81694c5a006f61f": {
          "model_module": "@jupyter-widgets/base",
          "model_name": "LayoutModel",
          "model_module_version": "1.2.0",
          "state": {
            "_model_module": "@jupyter-widgets/base",
            "_model_module_version": "1.2.0",
            "_model_name": "LayoutModel",
            "_view_count": null,
            "_view_module": "@jupyter-widgets/base",
            "_view_module_version": "1.2.0",
            "_view_name": "LayoutView",
            "align_content": null,
            "align_items": null,
            "align_self": null,
            "border": null,
            "bottom": null,
            "display": null,
            "flex": null,
            "flex_flow": null,
            "grid_area": null,
            "grid_auto_columns": null,
            "grid_auto_flow": null,
            "grid_auto_rows": null,
            "grid_column": null,
            "grid_gap": null,
            "grid_row": null,
            "grid_template_areas": null,
            "grid_template_columns": null,
            "grid_template_rows": null,
            "height": null,
            "justify_content": null,
            "justify_items": null,
            "left": null,
            "margin": null,
            "max_height": null,
            "max_width": null,
            "min_height": null,
            "min_width": null,
            "object_fit": null,
            "object_position": null,
            "order": null,
            "overflow": null,
            "overflow_x": null,
            "overflow_y": null,
            "padding": null,
            "right": null,
            "top": null,
            "visibility": null,
            "width": null
          }
        },
        "1f1e20a6091b454aa00dd82fb34037d5": {
          "model_module": "@jupyter-widgets/controls",
          "model_name": "DescriptionStyleModel",
          "model_module_version": "1.5.0",
          "state": {
            "_model_module": "@jupyter-widgets/controls",
            "_model_module_version": "1.5.0",
            "_model_name": "DescriptionStyleModel",
            "_view_count": null,
            "_view_module": "@jupyter-widgets/base",
            "_view_module_version": "1.2.0",
            "_view_name": "StyleView",
            "description_width": ""
          }
        },
        "c22c67ed507b4329861c978858430c97": {
          "model_module": "@jupyter-widgets/controls",
          "model_name": "HBoxModel",
          "model_module_version": "1.5.0",
          "state": {
            "_dom_classes": [],
            "_model_module": "@jupyter-widgets/controls",
            "_model_module_version": "1.5.0",
            "_model_name": "HBoxModel",
            "_view_count": null,
            "_view_module": "@jupyter-widgets/controls",
            "_view_module_version": "1.5.0",
            "_view_name": "HBoxView",
            "box_style": "",
            "children": [
              "IPY_MODEL_ca209efea0504ff298f2dbb5e5359b99",
              "IPY_MODEL_53a30a69c7734ad1ba51c3012bd15e99",
              "IPY_MODEL_906dba6ed83540a3a77a3439f6249f9a"
            ],
            "layout": "IPY_MODEL_108bcbc6ad234cfba76805368e686fef"
          }
        },
        "ca209efea0504ff298f2dbb5e5359b99": {
          "model_module": "@jupyter-widgets/controls",
          "model_name": "HTMLModel",
          "model_module_version": "1.5.0",
          "state": {
            "_dom_classes": [],
            "_model_module": "@jupyter-widgets/controls",
            "_model_module_version": "1.5.0",
            "_model_name": "HTMLModel",
            "_view_count": null,
            "_view_module": "@jupyter-widgets/controls",
            "_view_module_version": "1.5.0",
            "_view_name": "HTMLView",
            "description": "",
            "description_tooltip": null,
            "layout": "IPY_MODEL_ee2b79bcbed8458cb315da3c5e8fc51a",
            "placeholder": "​",
            "style": "IPY_MODEL_17a989854a6b4bcaada4dd6b139cd3b7",
            "value": "100%"
          }
        },
        "53a30a69c7734ad1ba51c3012bd15e99": {
          "model_module": "@jupyter-widgets/controls",
          "model_name": "FloatProgressModel",
          "model_module_version": "1.5.0",
          "state": {
            "_dom_classes": [],
            "_model_module": "@jupyter-widgets/controls",
            "_model_module_version": "1.5.0",
            "_model_name": "FloatProgressModel",
            "_view_count": null,
            "_view_module": "@jupyter-widgets/controls",
            "_view_module_version": "1.5.0",
            "_view_name": "ProgressView",
            "bar_style": "success",
            "description": "",
            "description_tooltip": null,
            "layout": "IPY_MODEL_f85e0766c55947738e2534a7afb862f5",
            "max": 75,
            "min": 0,
            "orientation": "horizontal",
            "style": "IPY_MODEL_115f5b013e1148b38badd80b44803dc2",
            "value": 75
          }
        },
        "906dba6ed83540a3a77a3439f6249f9a": {
          "model_module": "@jupyter-widgets/controls",
          "model_name": "HTMLModel",
          "model_module_version": "1.5.0",
          "state": {
            "_dom_classes": [],
            "_model_module": "@jupyter-widgets/controls",
            "_model_module_version": "1.5.0",
            "_model_name": "HTMLModel",
            "_view_count": null,
            "_view_module": "@jupyter-widgets/controls",
            "_view_module_version": "1.5.0",
            "_view_name": "HTMLView",
            "description": "",
            "description_tooltip": null,
            "layout": "IPY_MODEL_c0920611992a48ad87ed1537361828da",
            "placeholder": "​",
            "style": "IPY_MODEL_433178ba00df48798734aaefe3804b12",
            "value": " 75/75 [00:02&lt;00:00, 31.55it/s]"
          }
        },
        "108bcbc6ad234cfba76805368e686fef": {
          "model_module": "@jupyter-widgets/base",
          "model_name": "LayoutModel",
          "model_module_version": "1.2.0",
          "state": {
            "_model_module": "@jupyter-widgets/base",
            "_model_module_version": "1.2.0",
            "_model_name": "LayoutModel",
            "_view_count": null,
            "_view_module": "@jupyter-widgets/base",
            "_view_module_version": "1.2.0",
            "_view_name": "LayoutView",
            "align_content": null,
            "align_items": null,
            "align_self": null,
            "border": null,
            "bottom": null,
            "display": null,
            "flex": null,
            "flex_flow": null,
            "grid_area": null,
            "grid_auto_columns": null,
            "grid_auto_flow": null,
            "grid_auto_rows": null,
            "grid_column": null,
            "grid_gap": null,
            "grid_row": null,
            "grid_template_areas": null,
            "grid_template_columns": null,
            "grid_template_rows": null,
            "height": null,
            "justify_content": null,
            "justify_items": null,
            "left": null,
            "margin": null,
            "max_height": null,
            "max_width": null,
            "min_height": null,
            "min_width": null,
            "object_fit": null,
            "object_position": null,
            "order": null,
            "overflow": null,
            "overflow_x": null,
            "overflow_y": null,
            "padding": null,
            "right": null,
            "top": null,
            "visibility": null,
            "width": null
          }
        },
        "ee2b79bcbed8458cb315da3c5e8fc51a": {
          "model_module": "@jupyter-widgets/base",
          "model_name": "LayoutModel",
          "model_module_version": "1.2.0",
          "state": {
            "_model_module": "@jupyter-widgets/base",
            "_model_module_version": "1.2.0",
            "_model_name": "LayoutModel",
            "_view_count": null,
            "_view_module": "@jupyter-widgets/base",
            "_view_module_version": "1.2.0",
            "_view_name": "LayoutView",
            "align_content": null,
            "align_items": null,
            "align_self": null,
            "border": null,
            "bottom": null,
            "display": null,
            "flex": null,
            "flex_flow": null,
            "grid_area": null,
            "grid_auto_columns": null,
            "grid_auto_flow": null,
            "grid_auto_rows": null,
            "grid_column": null,
            "grid_gap": null,
            "grid_row": null,
            "grid_template_areas": null,
            "grid_template_columns": null,
            "grid_template_rows": null,
            "height": null,
            "justify_content": null,
            "justify_items": null,
            "left": null,
            "margin": null,
            "max_height": null,
            "max_width": null,
            "min_height": null,
            "min_width": null,
            "object_fit": null,
            "object_position": null,
            "order": null,
            "overflow": null,
            "overflow_x": null,
            "overflow_y": null,
            "padding": null,
            "right": null,
            "top": null,
            "visibility": null,
            "width": null
          }
        },
        "17a989854a6b4bcaada4dd6b139cd3b7": {
          "model_module": "@jupyter-widgets/controls",
          "model_name": "DescriptionStyleModel",
          "model_module_version": "1.5.0",
          "state": {
            "_model_module": "@jupyter-widgets/controls",
            "_model_module_version": "1.5.0",
            "_model_name": "DescriptionStyleModel",
            "_view_count": null,
            "_view_module": "@jupyter-widgets/base",
            "_view_module_version": "1.2.0",
            "_view_name": "StyleView",
            "description_width": ""
          }
        },
        "f85e0766c55947738e2534a7afb862f5": {
          "model_module": "@jupyter-widgets/base",
          "model_name": "LayoutModel",
          "model_module_version": "1.2.0",
          "state": {
            "_model_module": "@jupyter-widgets/base",
            "_model_module_version": "1.2.0",
            "_model_name": "LayoutModel",
            "_view_count": null,
            "_view_module": "@jupyter-widgets/base",
            "_view_module_version": "1.2.0",
            "_view_name": "LayoutView",
            "align_content": null,
            "align_items": null,
            "align_self": null,
            "border": null,
            "bottom": null,
            "display": null,
            "flex": null,
            "flex_flow": null,
            "grid_area": null,
            "grid_auto_columns": null,
            "grid_auto_flow": null,
            "grid_auto_rows": null,
            "grid_column": null,
            "grid_gap": null,
            "grid_row": null,
            "grid_template_areas": null,
            "grid_template_columns": null,
            "grid_template_rows": null,
            "height": null,
            "justify_content": null,
            "justify_items": null,
            "left": null,
            "margin": null,
            "max_height": null,
            "max_width": null,
            "min_height": null,
            "min_width": null,
            "object_fit": null,
            "object_position": null,
            "order": null,
            "overflow": null,
            "overflow_x": null,
            "overflow_y": null,
            "padding": null,
            "right": null,
            "top": null,
            "visibility": null,
            "width": null
          }
        },
        "115f5b013e1148b38badd80b44803dc2": {
          "model_module": "@jupyter-widgets/controls",
          "model_name": "ProgressStyleModel",
          "model_module_version": "1.5.0",
          "state": {
            "_model_module": "@jupyter-widgets/controls",
            "_model_module_version": "1.5.0",
            "_model_name": "ProgressStyleModel",
            "_view_count": null,
            "_view_module": "@jupyter-widgets/base",
            "_view_module_version": "1.2.0",
            "_view_name": "StyleView",
            "bar_color": null,
            "description_width": ""
          }
        },
        "c0920611992a48ad87ed1537361828da": {
          "model_module": "@jupyter-widgets/base",
          "model_name": "LayoutModel",
          "model_module_version": "1.2.0",
          "state": {
            "_model_module": "@jupyter-widgets/base",
            "_model_module_version": "1.2.0",
            "_model_name": "LayoutModel",
            "_view_count": null,
            "_view_module": "@jupyter-widgets/base",
            "_view_module_version": "1.2.0",
            "_view_name": "LayoutView",
            "align_content": null,
            "align_items": null,
            "align_self": null,
            "border": null,
            "bottom": null,
            "display": null,
            "flex": null,
            "flex_flow": null,
            "grid_area": null,
            "grid_auto_columns": null,
            "grid_auto_flow": null,
            "grid_auto_rows": null,
            "grid_column": null,
            "grid_gap": null,
            "grid_row": null,
            "grid_template_areas": null,
            "grid_template_columns": null,
            "grid_template_rows": null,
            "height": null,
            "justify_content": null,
            "justify_items": null,
            "left": null,
            "margin": null,
            "max_height": null,
            "max_width": null,
            "min_height": null,
            "min_width": null,
            "object_fit": null,
            "object_position": null,
            "order": null,
            "overflow": null,
            "overflow_x": null,
            "overflow_y": null,
            "padding": null,
            "right": null,
            "top": null,
            "visibility": null,
            "width": null
          }
        },
        "433178ba00df48798734aaefe3804b12": {
          "model_module": "@jupyter-widgets/controls",
          "model_name": "DescriptionStyleModel",
          "model_module_version": "1.5.0",
          "state": {
            "_model_module": "@jupyter-widgets/controls",
            "_model_module_version": "1.5.0",
            "_model_name": "DescriptionStyleModel",
            "_view_count": null,
            "_view_module": "@jupyter-widgets/base",
            "_view_module_version": "1.2.0",
            "_view_name": "StyleView",
            "description_width": ""
          }
        }
      }
    }
  },
  "nbformat": 4,
  "nbformat_minor": 0
}